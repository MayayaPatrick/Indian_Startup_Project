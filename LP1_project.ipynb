{
 "cells": [
  {
   "cell_type": "markdown",
   "metadata": {},
   "source": [
    "BUSINESS UNDERSTANDING Our team is exploring the indian startup ecosystem to understand trends and identify promising opportunities. the goal is to analyze fundig data from 2018 to 2021, focusing on key factors such as the amount of funding received, sectors, stages of investiment, and geographic location\n",
    "\n",
    "HYPOTHESIS TESTING \n",
    "\n",
    "Null Hypothesis(H0): There is no significant difference in the amount of funding received by startups accross different sectors and stages.\n",
    "\n",
    "Alternative Hypothesis(H1): There is a significant difference in the amount of funding received by startups accross different sectors and stages.\n",
    "\n",
    "DATA UNDERSTANDING COLUMNS \n",
    "\n",
    "Campany_Brand: Name of the startup.\n",
    "\n",
    "founded: year the startup was founded.\n",
    "\n",
    "HeadQuarter:city where the startup is headquarted.Sector, industry sector of the startup . \n",
    "\n",
    "What it does: Brief description of the startup's business.\n",
    "\n",
    "Founders: Names of the founders.\n",
    "\n",
    "Investors: investors or invest firls that funded the startup.\n",
    "\n",
    "Amount: Amount of funding received (in dollars).\n",
    "\n",
    "Stage: Stage of investment(eg., Pre-seed,Seed, SeriesA)\n"
   ]
  },
  {
   "cell_type": "markdown",
   "metadata": {},
   "source": [
    "ANALYTICAL QUESTIONS\n",
    "   \n",
    "1.Funding Trends: How has the total  funding amount changed over the year from 2018 to 2021?\n",
    "   How has the average funding amount ineach sector changed over the years(2018-2021)\n",
    "\n",
    "2.Sector Analysis: Which Sectors have received the most funding, and how does the funding distribution vary across Sectors?\n",
    "\n",
    "3.Stage Analysis: What is the distribution of funding accross different investment stages(e.g., Pre_Sees, Seed, Series A)?\n",
    "\n",
    "4.Geographical Analysis: Which cities or regions have the highest concetration of funded startup?\n",
    "\n",
    "5.Investor influence: Who are the top investors in the indian startup ecosystem, and what is their funding pattern?\n",
    "\n",
    "6.Founder impact: Is there a correlation between number of funders and the amount of funding Received?\n",
    "\n",
    "7.What are the characteristics of startup in the heighest funded sectors(e.g., number of funders, location)?\n",
    "\n",
    "8.Which Business is more vaible to set_ The best performing business? \n"
   ]
  },
  {
   "cell_type": "markdown",
   "metadata": {},
   "source": [
    "INSTALLING ALL PACKAGES NECESSARY"
   ]
  },
  {
   "cell_type": "code",
   "execution_count": 1,
   "metadata": {},
   "outputs": [
    {
     "name": "stdout",
     "output_type": "stream",
     "text": [
      "Requirement already satisfied: plotly in c:\\users\\patrick\\appdata\\local\\packages\\pythonsoftwarefoundation.python.3.10_qbz5n2kfra8p0\\localcache\\local-packages\\python310\\site-packages (5.22.0)\n",
      "Requirement already satisfied: tenacity>=6.2.0 in c:\\users\\patrick\\appdata\\local\\packages\\pythonsoftwarefoundation.python.3.10_qbz5n2kfra8p0\\localcache\\local-packages\\python310\\site-packages (from plotly) (8.3.0)\n",
      "Requirement already satisfied: packaging in c:\\users\\patrick\\appdata\\local\\packages\\pythonsoftwarefoundation.python.3.10_qbz5n2kfra8p0\\localcache\\local-packages\\python310\\site-packages (from plotly) (24.0)\n",
      "Note: you may need to restart the kernel to use updated packages.\n"
     ]
    }
   ],
   "source": [
    "# # install packages that would help to pass through the project\n",
    "# %pip install pandas\n",
    "# %pip install pyodbc \n",
    "# %pip install python-dotenv \n",
    "# %pip install openpyxl\n",
    "# %pip install seaborn\n",
    "# %pip install statsmodels\n",
    "# %pip install fuzzywuzzy\n",
    "# %pip install python-Levenshtein\n",
    "# %pip install scikit-learn\n",
    "%pip install plotly\n"
   ]
  },
  {
   "cell_type": "markdown",
   "metadata": {},
   "source": [
    "LOADING PACKAGES"
   ]
  },
  {
   "cell_type": "code",
   "execution_count": 116,
   "metadata": {},
   "outputs": [],
   "source": [
    "import pyodbc #just installed with pip\n",
    "from dotenv import dotenv_values #import the dotenv_values function from the dotenv package\n",
    "import pandas as pd\n",
    "import warnings\n",
    "import matplotlib as plt\n",
    "import seaborn as sns\n",
    "warnings.filterwarnings('ignore')\n",
    "import numpy as np\n",
    "import statsmodels.api as sm\n",
    "from fuzzywuzzy import process\n",
    "import plotly.express as px"
   ]
  },
  {
   "cell_type": "markdown",
   "metadata": {},
   "source": [
    "CONNECTING DATABASE AND DIRECTORY"
   ]
  },
  {
   "cell_type": "code",
   "execution_count": 3,
   "metadata": {},
   "outputs": [],
   "source": [
    "# Load environment variables from .env file into a dictionary\n",
    "environment_variables = dotenv_values(\"G:\\\\python\\\\python project\\\\project\\\\Indian_Startup_Project\\\\.env\")\n",
    "\n",
    "# Get the values for the credentials you set in the '.env' file\n",
    "server = environment_variables.get(\"server\")\n",
    "database = environment_variables.get(\"database\")\n",
    "username = environment_variables.get(\"username\")\n",
    "password = environment_variables.get(\"password\")"
   ]
  },
  {
   "cell_type": "code",
   "execution_count": 4,
   "metadata": {},
   "outputs": [],
   "source": [
    "# Create a connection string\n",
    "connection_string = f\"DRIVER={{SQL Server}};SERVER={server};DATABASE={database};UID={username};PWD={password};MARS_Connection=yes;MinProtocolVersion=TLSv1.2;\""
   ]
  },
  {
   "cell_type": "code",
   "execution_count": 5,
   "metadata": {},
   "outputs": [],
   "source": [
    "# Use the connect method of the pyodbc library and pass in the connection string.\n",
    "# This will connect to the server and might take a few seconds to be complete. \n",
    "# Check your internet connection if it takes more time than necessary\n",
    "\n",
    "connection = pyodbc.connect(connection_string)"
   ]
  },
  {
   "cell_type": "markdown",
   "metadata": {},
   "source": [
    "Data Understanding"
   ]
  },
  {
   "cell_type": "markdown",
   "metadata": {},
   "source": [
    "We have been provided with various datasets located at 3 different locations ie Database, OneDrive and GitHub Repository. In them we will find the start-ups details, the funding amounts recieved and the investors information from 2018-2021. To provide a smooth flow of project, in this phase we will be loading the data then clean the data. In the next phase, data preparation phase, we will then concatenate the data."
   ]
  },
  {
   "cell_type": "markdown",
   "metadata": {},
   "source": [
    "LOADING DATA"
   ]
  },
  {
   "cell_type": "code",
   "execution_count": 6,
   "metadata": {},
   "outputs": [],
   "source": [
    "# Query the tabeles as per the given instructions\n",
    "query = '''SELECT *\n",
    "FROM dbo.LP1_startup_funding2020'''\n",
    "\n",
    "query = '''SELECT * FROM dbo.LP1_startup_funding2021'''\n",
    "\n",
    "data3= pd.read_csv(r\"G:\\python\\python project\\project\\startup_funding2019.csv\")\n",
    " \n",
    "data4= pd.read_csv(r\"G:\\python\\python project\\project\\startup_funding2018.csv\")"
   ]
  },
  {
   "cell_type": "code",
   "execution_count": 7,
   "metadata": {},
   "outputs": [
    {
     "data": {
      "text/html": [
       "<div>\n",
       "<style scoped>\n",
       "    .dataframe tbody tr th:only-of-type {\n",
       "        vertical-align: middle;\n",
       "    }\n",
       "\n",
       "    .dataframe tbody tr th {\n",
       "        vertical-align: top;\n",
       "    }\n",
       "\n",
       "    .dataframe thead th {\n",
       "        text-align: right;\n",
       "    }\n",
       "</style>\n",
       "<table border=\"1\" class=\"dataframe\">\n",
       "  <thead>\n",
       "    <tr style=\"text-align: right;\">\n",
       "      <th></th>\n",
       "      <th>Company_Brand</th>\n",
       "      <th>Founded</th>\n",
       "      <th>HeadQuarter</th>\n",
       "      <th>Sector</th>\n",
       "      <th>What_it_does</th>\n",
       "      <th>Founders</th>\n",
       "      <th>Investor</th>\n",
       "      <th>Amount</th>\n",
       "      <th>Stage</th>\n",
       "      <th>column10</th>\n",
       "    </tr>\n",
       "  </thead>\n",
       "  <tbody>\n",
       "    <tr>\n",
       "      <th>0</th>\n",
       "      <td>Aqgromalin</td>\n",
       "      <td>2019.0</td>\n",
       "      <td>Chennai</td>\n",
       "      <td>AgriTech</td>\n",
       "      <td>Cultivating Ideas for Profit</td>\n",
       "      <td>Prasanna Manogaran, Bharani C L</td>\n",
       "      <td>Angel investors</td>\n",
       "      <td>200000.0</td>\n",
       "      <td>None</td>\n",
       "      <td>None</td>\n",
       "    </tr>\n",
       "    <tr>\n",
       "      <th>1</th>\n",
       "      <td>Krayonnz</td>\n",
       "      <td>2019.0</td>\n",
       "      <td>Bangalore</td>\n",
       "      <td>EdTech</td>\n",
       "      <td>An academy-guardian-scholar centric ecosystem ...</td>\n",
       "      <td>Saurabh Dixit, Gurudutt Upadhyay</td>\n",
       "      <td>GSF Accelerator</td>\n",
       "      <td>100000.0</td>\n",
       "      <td>Pre-seed</td>\n",
       "      <td>None</td>\n",
       "    </tr>\n",
       "    <tr>\n",
       "      <th>2</th>\n",
       "      <td>PadCare Labs</td>\n",
       "      <td>2018.0</td>\n",
       "      <td>Pune</td>\n",
       "      <td>Hygiene management</td>\n",
       "      <td>Converting bio-hazardous waste to harmless waste</td>\n",
       "      <td>Ajinkya Dhariya</td>\n",
       "      <td>Venture Center</td>\n",
       "      <td>NaN</td>\n",
       "      <td>Pre-seed</td>\n",
       "      <td>None</td>\n",
       "    </tr>\n",
       "    <tr>\n",
       "      <th>3</th>\n",
       "      <td>NCOME</td>\n",
       "      <td>2020.0</td>\n",
       "      <td>New Delhi</td>\n",
       "      <td>Escrow</td>\n",
       "      <td>Escrow-as-a-service platform</td>\n",
       "      <td>Ritesh Tiwari</td>\n",
       "      <td>Venture Catalysts, PointOne Capital</td>\n",
       "      <td>400000.0</td>\n",
       "      <td>None</td>\n",
       "      <td>None</td>\n",
       "    </tr>\n",
       "    <tr>\n",
       "      <th>4</th>\n",
       "      <td>Gramophone</td>\n",
       "      <td>2016.0</td>\n",
       "      <td>Indore</td>\n",
       "      <td>AgriTech</td>\n",
       "      <td>Gramophone is an AgTech platform enabling acce...</td>\n",
       "      <td>Ashish Rajan Singh, Harshit Gupta, Nishant Mah...</td>\n",
       "      <td>Siana Capital Management, Info Edge</td>\n",
       "      <td>340000.0</td>\n",
       "      <td>None</td>\n",
       "      <td>None</td>\n",
       "    </tr>\n",
       "  </tbody>\n",
       "</table>\n",
       "</div>"
      ],
      "text/plain": [
       "  Company_Brand  Founded HeadQuarter              Sector  \\\n",
       "0    Aqgromalin   2019.0     Chennai            AgriTech   \n",
       "1      Krayonnz   2019.0   Bangalore              EdTech   \n",
       "2  PadCare Labs   2018.0        Pune  Hygiene management   \n",
       "3         NCOME   2020.0   New Delhi              Escrow   \n",
       "4    Gramophone   2016.0      Indore            AgriTech   \n",
       "\n",
       "                                        What_it_does  \\\n",
       "0                       Cultivating Ideas for Profit   \n",
       "1  An academy-guardian-scholar centric ecosystem ...   \n",
       "2   Converting bio-hazardous waste to harmless waste   \n",
       "3                       Escrow-as-a-service platform   \n",
       "4  Gramophone is an AgTech platform enabling acce...   \n",
       "\n",
       "                                            Founders  \\\n",
       "0                    Prasanna Manogaran, Bharani C L   \n",
       "1                   Saurabh Dixit, Gurudutt Upadhyay   \n",
       "2                                    Ajinkya Dhariya   \n",
       "3                                      Ritesh Tiwari   \n",
       "4  Ashish Rajan Singh, Harshit Gupta, Nishant Mah...   \n",
       "\n",
       "                              Investor    Amount     Stage column10  \n",
       "0                      Angel investors  200000.0      None     None  \n",
       "1                      GSF Accelerator  100000.0  Pre-seed     None  \n",
       "2                       Venture Center       NaN  Pre-seed     None  \n",
       "3  Venture Catalysts, PointOne Capital  400000.0      None     None  \n",
       "4  Siana Capital Management, Info Edge  340000.0      None     None  "
      ]
     },
     "execution_count": 7,
     "metadata": {},
     "output_type": "execute_result"
    }
   ],
   "source": [
    "# Query the tabeles as per the given instructions\n",
    "query = '''SELECT *\n",
    "FROM dbo.LP1_startup_funding2020'''\n",
    "data =pd.read_sql(query, connection)\n",
    "data.head()"
   ]
  },
  {
   "cell_type": "code",
   "execution_count": 8,
   "metadata": {},
   "outputs": [
    {
     "data": {
      "text/html": [
       "<div>\n",
       "<style scoped>\n",
       "    .dataframe tbody tr th:only-of-type {\n",
       "        vertical-align: middle;\n",
       "    }\n",
       "\n",
       "    .dataframe tbody tr th {\n",
       "        vertical-align: top;\n",
       "    }\n",
       "\n",
       "    .dataframe thead th {\n",
       "        text-align: right;\n",
       "    }\n",
       "</style>\n",
       "<table border=\"1\" class=\"dataframe\">\n",
       "  <thead>\n",
       "    <tr style=\"text-align: right;\">\n",
       "      <th></th>\n",
       "      <th>count</th>\n",
       "      <th>mean</th>\n",
       "      <th>std</th>\n",
       "      <th>min</th>\n",
       "      <th>25%</th>\n",
       "      <th>50%</th>\n",
       "      <th>75%</th>\n",
       "      <th>max</th>\n",
       "    </tr>\n",
       "  </thead>\n",
       "  <tbody>\n",
       "    <tr>\n",
       "      <th>Founded</th>\n",
       "      <td>842.0</td>\n",
       "      <td>2.015363e+03</td>\n",
       "      <td>4.097909e+00</td>\n",
       "      <td>1973.0</td>\n",
       "      <td>2014.0</td>\n",
       "      <td>2016.0</td>\n",
       "      <td>2018.0</td>\n",
       "      <td>2.020000e+03</td>\n",
       "    </tr>\n",
       "    <tr>\n",
       "      <th>Amount</th>\n",
       "      <td>801.0</td>\n",
       "      <td>1.130430e+08</td>\n",
       "      <td>2.476635e+09</td>\n",
       "      <td>12700.0</td>\n",
       "      <td>1000000.0</td>\n",
       "      <td>3000000.0</td>\n",
       "      <td>11000000.0</td>\n",
       "      <td>7.000000e+10</td>\n",
       "    </tr>\n",
       "  </tbody>\n",
       "</table>\n",
       "</div>"
      ],
      "text/plain": [
       "         count          mean           std      min        25%        50%  \\\n",
       "Founded  842.0  2.015363e+03  4.097909e+00   1973.0     2014.0     2016.0   \n",
       "Amount   801.0  1.130430e+08  2.476635e+09  12700.0  1000000.0  3000000.0   \n",
       "\n",
       "                75%           max  \n",
       "Founded      2018.0  2.020000e+03  \n",
       "Amount   11000000.0  7.000000e+10  "
      ]
     },
     "execution_count": 8,
     "metadata": {},
     "output_type": "execute_result"
    }
   ],
   "source": [
    "# get sumary statistics \n",
    "data.describe().T\n"
   ]
  },
  {
   "cell_type": "code",
   "execution_count": 9,
   "metadata": {},
   "outputs": [
    {
     "data": {
      "text/plain": [
       "(1055, 10)"
      ]
     },
     "execution_count": 9,
     "metadata": {},
     "output_type": "execute_result"
    }
   ],
   "source": [
    "data.shape"
   ]
  },
  {
   "cell_type": "code",
   "execution_count": 10,
   "metadata": {},
   "outputs": [
    {
     "name": "stdout",
     "output_type": "stream",
     "text": [
      "<class 'pandas.core.frame.DataFrame'>\n",
      "RangeIndex: 1055 entries, 0 to 1054\n",
      "Data columns (total 10 columns):\n",
      " #   Column         Non-Null Count  Dtype  \n",
      "---  ------         --------------  -----  \n",
      " 0   Company_Brand  1055 non-null   object \n",
      " 1   Founded        842 non-null    float64\n",
      " 2   HeadQuarter    961 non-null    object \n",
      " 3   Sector         1042 non-null   object \n",
      " 4   What_it_does   1055 non-null   object \n",
      " 5   Founders       1043 non-null   object \n",
      " 6   Investor       1017 non-null   object \n",
      " 7   Amount         801 non-null    float64\n",
      " 8   Stage          591 non-null    object \n",
      " 9   column10       2 non-null      object \n",
      "dtypes: float64(2), object(8)\n",
      "memory usage: 82.5+ KB\n"
     ]
    }
   ],
   "source": [
    "data.info()"
   ]
  },
  {
   "cell_type": "markdown",
   "metadata": {},
   "source": [
    "DATA CLEANING FIRST DATA SET 2020(Data) "
   ]
  },
  {
   "cell_type": "code",
   "execution_count": 11,
   "metadata": {},
   "outputs": [],
   "source": [
    "data= data.drop(columns= 'column10')"
   ]
  },
  {
   "cell_type": "code",
   "execution_count": 12,
   "metadata": {},
   "outputs": [
    {
     "data": {
      "text/plain": [
       "3"
      ]
     },
     "execution_count": 12,
     "metadata": {},
     "output_type": "execute_result"
    }
   ],
   "source": [
    "data.duplicated().sum()"
   ]
  },
  {
   "cell_type": "code",
   "execution_count": 13,
   "metadata": {},
   "outputs": [],
   "source": [
    "data= data.drop_duplicates()"
   ]
  },
  {
   "cell_type": "code",
   "execution_count": 14,
   "metadata": {},
   "outputs": [],
   "source": [
    " # Handling Company_Brand ensure all values start with upper case\n",
    "\n",
    "# Convert all enries to title\n",
    "data['Company_Brand'] = data['Company_Brand'].str.title()"
   ]
  },
  {
   "cell_type": "code",
   "execution_count": 15,
   "metadata": {},
   "outputs": [],
   "source": [
    "# Handling Headquarter Column \n",
    "\n",
    "# Find top HeadQuarters to be used randomnly in filling missing values \n",
    "top_HeadQuarter= ['Bangalore','Mumbai','Gurugram','Delhi','Chennai','Pune','New Delhi','Noida','Hyderabad','Gurgaon',\n",
    "'Ahmedabad','Kolkata','Haryana','Indore','Jaipur','Thane','Kochi','Gujarat','California','Singapore']\n",
    "\n",
    "# Fill missing value with random values from top 20 Hedquarter\n",
    "\n",
    "def  fill_missing_HeadQuarter (HeadQuarter):\n",
    "    if pd.isna(HeadQuarter):\n",
    "        return np.random.choice(top_HeadQuarter)\n",
    "    return HeadQuarter\n",
    "\n",
    "\n",
    "data['HeadQuarter']=data['HeadQuarter'].apply(fill_missing_HeadQuarter)\n",
    "\n",
    "\n",
    "# Convert all enries to title\n",
    "data['HeadQuarter'] = data['HeadQuarter'].str.title()"
   ]
  },
  {
   "cell_type": "code",
   "execution_count": 16,
   "metadata": {},
   "outputs": [],
   "source": [
    "# Handling Founded Column \n",
    "\n",
    "# Fill missing values with the median\n",
    "data['Founded'] = data['Founded'].fillna(data['Founded'].median())\n",
    "\n",
    "\n",
    "# Convert 'Founded'  to integer datatype \n",
    "data['Founded'] = data ['Founded'].astype(int)"
   ]
  },
  {
   "cell_type": "code",
   "execution_count": 17,
   "metadata": {},
   "outputs": [
    {
     "data": {
      "text/plain": [
       "0                 Agritech\n",
       "1                   Edtech\n",
       "2       Hygiene Management\n",
       "3                   Escrow\n",
       "4                 Agritech\n",
       "               ...        \n",
       "1050                Edtech\n",
       "1051               Fintech\n",
       "1052             Cosmetics\n",
       "1053             Transport\n",
       "1054              Logitech\n",
       "Name: Sector, Length: 1052, dtype: object"
      ]
     },
     "execution_count": 17,
     "metadata": {},
     "output_type": "execute_result"
    }
   ],
   "source": [
    "# Handling the Sector Column \n",
    "\n",
    "top_Sector =['Fintech','EdTech','Healthtech','SaaS','Ecommerce','AgriTech','Ai',\n",
    "             'Gaming', 'Logistics', 'Foodtech', 'Food', 'Entertainment', 'Tech Company', 'Iot', 'Cosmetics', 'Automobile']\n",
    "\n",
    "# Fill missing value with random values from top 16 Sector\n",
    "\n",
    "def  fill_missing_Sector (Sector):\n",
    "    if pd.isna(Sector):\n",
    "        return np.random.choice(top_Sector)\n",
    "    return Sector\n",
    "\n",
    "data['Sector']=data['Sector'].apply(fill_missing_Sector)\n",
    "\n",
    "# Convert all values to lower case\n",
    "data['Sector'] = data['Sector'].str.lower()\n",
    "\n",
    "import re\n",
    " \n",
    "def sector_redistribution(Sector):\n",
    "    if re.search('bank|fintech|finance|credit|mobile Payments|lending|crypto|financial services|account|credit|venture|crowd|blockchain|mutual funds|virtual banking|banking|', Sector):\n",
    "        return 'Finance'\n",
    "    elif re.search(r'automotive|air transport|transport|ticketing|logistics|vehicle|transportation|developer platform|app|', Sector):\n",
    "        return 'Transport'\n",
    "    elif re.search(r'agriTech|agri|farming|agriculture|agtech|', Sector):  \n",
    "        return 'Agriculture'\n",
    "    elif re.search(r'legal tech|automotive tech|automation|analytics|big data|cybersecurity|cloud infrastructure|automobile|infratech|biotechnology|automobile & technology|robotics & ai|e-marketplace|iot|ai|ecommerce|technology|saas|ai & tech|e-commerce|e-commerce|ar|fintech|hr tech|safety tech|', Sector):\n",
    "        return 'Technology'\n",
    "    elif re.search (r'marketing|customer loyalty|product research|advertising|brand marketing|event promotion|market research|', Sector):\n",
    "        return 'Marketing'\n",
    "    elif re.search (r'insurance technology|insurance|', Sector):\n",
    "        return 'Insurance '\n",
    "    elif re.search (r'food tech|food|food & nutrition|food & tech|snack food|food processing|nutrition|food & beverage|food delivery|', Sector):\n",
    "        return 'Food'\n",
    "    elif re.search (r'pharmaceutical|healthtech|personal health|peer to peer|health diagnostic|health|' , Sector):\n",
    "        return 'Health & Wellness'\n",
    "    elif re.search (r'yoga|sports|yoga & wellness|', Sector):\n",
    "        return 'Fitness'\n",
    "    elif re.search (r'manufacturing', Sector):\n",
    "        return 'Manufacturing'\n",
    "    elif re.search (r'cosmetics|beauty|', Sector):\n",
    "        return 'Beauty'\n",
    "    elif re.search(r'social media|broadcasting|video chat|messaging|online portals|media and entertainmwent|audio|e-sports|games|internet|gaming|', Sector):\n",
    "        return 'Info-media'\n",
    "    elif re.search(r'interior design|accomodation|home renovation|service industry|laundry and dry cleaning|home decor|home improvement|hospitality|hotel|leisure|', Sector):\n",
    "        return 'Sevice Industry'\n",
    "    elif re.search (r'edtech|education|learning|', Sector):\n",
    "        return 'Education'\n",
    "    elif re.search(r'fashion|eyewear|jewellery|lifestyle|', Sector):\n",
    "        return 'Fashion'\n",
    "    elif re.search(r' b2b|b2B|supply chain|marketplace|retail|entreprise software|retail|consumer goods|trading platform|consumer|', Sector):\n",
    "        return 'Entreprising'\n",
    "    elif re.search(r'waste management|', Sector):\n",
    "        return 'Environment'\n",
    "    elif re.search(r'rental|property|real estate|smart building', Sector):\n",
    "        return 'Real Estate'\n",
    "    elif re.search(r'fraud detection|security|intelligence|cyber security|public safety|', Sector):\n",
    "        return 'Security'\n",
    "    \n",
    "    else:\n",
    "        return Sector\n",
    "    \n",
    "    \n",
    "# Convert all entries to title case \n",
    "data['Sector'] = data['Sector'].str.title()\n",
    "    \n",
    "data['Sector'] \n",
    "\n",
    "\n",
    " "
   ]
  },
  {
   "cell_type": "code",
   "execution_count": 18,
   "metadata": {},
   "outputs": [],
   "source": [
    "#Handling Founders Column with the top Founders \n",
    "\n",
    "top_Founders =[ 'Falguni Nayar','Byju Raveendran','Mukesh Ambani','Saurabh Saxena',\n",
    "                'Pulkit Jain', 'Anand Prakash', 'Vamsi Krishna','Sreevathsa Prabhakar']\n",
    "\n",
    "# Fill missing value with random values from top 8 Founders\n",
    "\n",
    "def  fill_missing_Founders (Founders):\n",
    "    if pd.isna(Founders):\n",
    "        return np.random.choice(top_Founders)\n",
    "    return Founders\n",
    "\n",
    "data['Founders']=data['Founders'].apply(fill_missing_Founders)\n",
    "\n",
    "# Convert all entries to title case \n",
    "data['Founders'] = data['Founders'].str.title()"
   ]
  },
  {
   "cell_type": "code",
   "execution_count": 19,
   "metadata": {},
   "outputs": [],
   "source": [
    "# Handling the Investors Column ith the most appearing Investor\n",
    "\n",
    "top_Investor= ['Venture Catalysts','Angel Investors','Mumbai Angels Network','Inflection Point Ventures',\n",
    "               'Unicorn India Ventures','Sequoia','India', 'Chiratae Ventures','Better Capital','Trifecta Capital','Titan Capital']\n",
    "\n",
    "# Fill missing values \n",
    "def  fill_missing_Investor (Investor):\n",
    "    if pd.isna(Investor):\n",
    "        return np.random.choice(top_Investor)\n",
    "    return Investor\n",
    "\n",
    "data['Investor']=data['Investor'].apply(fill_missing_Investor)\n",
    "\n",
    "# Convert all entries to title\n",
    "data['Investor'] = data['Investor'].str.title()"
   ]
  },
  {
   "cell_type": "code",
   "execution_count": 20,
   "metadata": {},
   "outputs": [],
   "source": [
    "# Handling the Amount Column\n",
    "\n",
    "# For 'Amount', fill missing values with the median funding amount\n",
    "data['Amount'].fillna(data['Amount'].median(), inplace=True)"
   ]
  },
  {
   "cell_type": "code",
   "execution_count": 21,
   "metadata": {},
   "outputs": [],
   "source": [
    "# Fill missing value with random values from top 8 Founders\n",
    "\n",
    "top_Stage = ['Series A','Seed','Seed Round','Series B','Pre series A','Series C' ]\n",
    "\n",
    "def  fill_missing_Stage (Stage):\n",
    "    if pd.isna(Stage):\n",
    "        return np.random.choice(top_Stage)\n",
    "    return Stage\n",
    "\n",
    "data['Stage']=data['Stage'].apply(fill_missing_Stage)\n",
    "\n",
    "# Convert the stage column from object to category \n",
    "\n",
    "data['Stage'] = data['Stage'].astype('category')"
   ]
  },
  {
   "cell_type": "code",
   "execution_count": 22,
   "metadata": {},
   "outputs": [],
   "source": [
    "# Add 'Year' Column 2020\n",
    "data['Year']= 2020\n",
    "\n",
    "# Convert year Column to a dataetime format\n",
    "data['Year'] = pd.to_datetime(data['Year'], format='%Y') "
   ]
  },
  {
   "cell_type": "code",
   "execution_count": 23,
   "metadata": {},
   "outputs": [
    {
     "data": {
      "text/plain": [
       "Company_Brand    0\n",
       "Founded          0\n",
       "HeadQuarter      0\n",
       "Sector           0\n",
       "What_it_does     0\n",
       "Founders         0\n",
       "Investor         0\n",
       "Amount           0\n",
       "Stage            0\n",
       "Year             0\n",
       "dtype: int64"
      ]
     },
     "execution_count": 23,
     "metadata": {},
     "output_type": "execute_result"
    }
   ],
   "source": [
    "data.isna().sum()"
   ]
  },
  {
   "cell_type": "code",
   "execution_count": 24,
   "metadata": {},
   "outputs": [
    {
     "name": "stdout",
     "output_type": "stream",
     "text": [
      "<class 'pandas.core.frame.DataFrame'>\n",
      "Index: 1052 entries, 0 to 1054\n",
      "Data columns (total 10 columns):\n",
      " #   Column         Non-Null Count  Dtype         \n",
      "---  ------         --------------  -----         \n",
      " 0   Company_Brand  1052 non-null   object        \n",
      " 1   Founded        1052 non-null   int32         \n",
      " 2   HeadQuarter    1052 non-null   object        \n",
      " 3   Sector         1052 non-null   object        \n",
      " 4   What_it_does   1052 non-null   object        \n",
      " 5   Founders       1052 non-null   object        \n",
      " 6   Investor       1052 non-null   object        \n",
      " 7   Amount         1052 non-null   float64       \n",
      " 8   Stage          1052 non-null   category      \n",
      " 9   Year           1052 non-null   datetime64[ns]\n",
      "dtypes: category(1), datetime64[ns](1), float64(1), int32(1), object(6)\n",
      "memory usage: 80.5+ KB\n"
     ]
    }
   ],
   "source": [
    "data.info()"
   ]
  },
  {
   "cell_type": "code",
   "execution_count": 25,
   "metadata": {},
   "outputs": [
    {
     "data": {
      "text/html": [
       "<div>\n",
       "<style scoped>\n",
       "    .dataframe tbody tr th:only-of-type {\n",
       "        vertical-align: middle;\n",
       "    }\n",
       "\n",
       "    .dataframe tbody tr th {\n",
       "        vertical-align: top;\n",
       "    }\n",
       "\n",
       "    .dataframe thead th {\n",
       "        text-align: right;\n",
       "    }\n",
       "</style>\n",
       "<table border=\"1\" class=\"dataframe\">\n",
       "  <thead>\n",
       "    <tr style=\"text-align: right;\">\n",
       "      <th></th>\n",
       "      <th>Company_Brand</th>\n",
       "      <th>Founded</th>\n",
       "      <th>HeadQuarter</th>\n",
       "      <th>Sector</th>\n",
       "      <th>What_it_does</th>\n",
       "      <th>Founders</th>\n",
       "      <th>Investor</th>\n",
       "      <th>Amount</th>\n",
       "      <th>Stage</th>\n",
       "    </tr>\n",
       "  </thead>\n",
       "  <tbody>\n",
       "    <tr>\n",
       "      <th>0</th>\n",
       "      <td>Unbox Robotics</td>\n",
       "      <td>2019.0</td>\n",
       "      <td>Bangalore</td>\n",
       "      <td>AI startup</td>\n",
       "      <td>Unbox Robotics builds on-demand AI-driven ware...</td>\n",
       "      <td>Pramod Ghadge, Shahid Memon</td>\n",
       "      <td>BEENEXT, Entrepreneur First</td>\n",
       "      <td>$1,200,000</td>\n",
       "      <td>Pre-series A</td>\n",
       "    </tr>\n",
       "    <tr>\n",
       "      <th>1</th>\n",
       "      <td>upGrad</td>\n",
       "      <td>2015.0</td>\n",
       "      <td>Mumbai</td>\n",
       "      <td>EdTech</td>\n",
       "      <td>UpGrad is an online higher education platform.</td>\n",
       "      <td>Mayank Kumar, Phalgun Kompalli, Ravijot Chugh,...</td>\n",
       "      <td>Unilazer Ventures, IIFL Asset Management</td>\n",
       "      <td>$120,000,000</td>\n",
       "      <td>None</td>\n",
       "    </tr>\n",
       "    <tr>\n",
       "      <th>2</th>\n",
       "      <td>Lead School</td>\n",
       "      <td>2012.0</td>\n",
       "      <td>Mumbai</td>\n",
       "      <td>EdTech</td>\n",
       "      <td>LEAD School offers technology based school tra...</td>\n",
       "      <td>Smita Deorah, Sumeet Mehta</td>\n",
       "      <td>GSV Ventures, Westbridge Capital</td>\n",
       "      <td>$30,000,000</td>\n",
       "      <td>Series D</td>\n",
       "    </tr>\n",
       "    <tr>\n",
       "      <th>3</th>\n",
       "      <td>Bizongo</td>\n",
       "      <td>2015.0</td>\n",
       "      <td>Mumbai</td>\n",
       "      <td>B2B E-commerce</td>\n",
       "      <td>Bizongo is a business-to-business online marke...</td>\n",
       "      <td>Aniket Deb, Ankit Tomar, Sachin Agrawal</td>\n",
       "      <td>CDC Group, IDG Capital</td>\n",
       "      <td>$51,000,000</td>\n",
       "      <td>Series C</td>\n",
       "    </tr>\n",
       "    <tr>\n",
       "      <th>4</th>\n",
       "      <td>FypMoney</td>\n",
       "      <td>2021.0</td>\n",
       "      <td>Gurugram</td>\n",
       "      <td>FinTech</td>\n",
       "      <td>FypMoney is Digital NEO Bank for Teenagers, em...</td>\n",
       "      <td>Kapil Banwari</td>\n",
       "      <td>Liberatha Kallat, Mukesh Yadav, Dinesh Nagpal</td>\n",
       "      <td>$2,000,000</td>\n",
       "      <td>Seed</td>\n",
       "    </tr>\n",
       "  </tbody>\n",
       "</table>\n",
       "</div>"
      ],
      "text/plain": [
       "    Company_Brand  Founded HeadQuarter          Sector  \\\n",
       "0  Unbox Robotics   2019.0   Bangalore      AI startup   \n",
       "1          upGrad   2015.0      Mumbai          EdTech   \n",
       "2     Lead School   2012.0      Mumbai          EdTech   \n",
       "3         Bizongo   2015.0      Mumbai  B2B E-commerce   \n",
       "4        FypMoney   2021.0    Gurugram         FinTech   \n",
       "\n",
       "                                        What_it_does  \\\n",
       "0  Unbox Robotics builds on-demand AI-driven ware...   \n",
       "1     UpGrad is an online higher education platform.   \n",
       "2  LEAD School offers technology based school tra...   \n",
       "3  Bizongo is a business-to-business online marke...   \n",
       "4  FypMoney is Digital NEO Bank for Teenagers, em...   \n",
       "\n",
       "                                            Founders  \\\n",
       "0                        Pramod Ghadge, Shahid Memon   \n",
       "1  Mayank Kumar, Phalgun Kompalli, Ravijot Chugh,...   \n",
       "2                         Smita Deorah, Sumeet Mehta   \n",
       "3            Aniket Deb, Ankit Tomar, Sachin Agrawal   \n",
       "4                                      Kapil Banwari   \n",
       "\n",
       "                                        Investor        Amount         Stage  \n",
       "0                    BEENEXT, Entrepreneur First    $1,200,000  Pre-series A  \n",
       "1       Unilazer Ventures, IIFL Asset Management  $120,000,000          None  \n",
       "2               GSV Ventures, Westbridge Capital   $30,000,000      Series D  \n",
       "3                         CDC Group, IDG Capital   $51,000,000      Series C  \n",
       "4  Liberatha Kallat, Mukesh Yadav, Dinesh Nagpal    $2,000,000          Seed  "
      ]
     },
     "execution_count": 25,
     "metadata": {},
     "output_type": "execute_result"
    }
   ],
   "source": [
    "\n",
    "#Loading the second data\n",
    "query = '''SELECT * \n",
    "FROM dbo.LP1_startup_funding2021'''\n",
    "data2 =pd.read_sql(query, connection)\n",
    "data2.head()"
   ]
  },
  {
   "cell_type": "code",
   "execution_count": 26,
   "metadata": {},
   "outputs": [
    {
     "data": {
      "text/html": [
       "<div>\n",
       "<style scoped>\n",
       "    .dataframe tbody tr th:only-of-type {\n",
       "        vertical-align: middle;\n",
       "    }\n",
       "\n",
       "    .dataframe tbody tr th {\n",
       "        vertical-align: top;\n",
       "    }\n",
       "\n",
       "    .dataframe thead th {\n",
       "        text-align: right;\n",
       "    }\n",
       "</style>\n",
       "<table border=\"1\" class=\"dataframe\">\n",
       "  <thead>\n",
       "    <tr style=\"text-align: right;\">\n",
       "      <th></th>\n",
       "      <th>Company_Brand</th>\n",
       "      <th>Founded</th>\n",
       "      <th>HeadQuarter</th>\n",
       "      <th>Sector</th>\n",
       "      <th>What_it_does</th>\n",
       "      <th>Founders</th>\n",
       "      <th>Investor</th>\n",
       "      <th>Amount</th>\n",
       "      <th>Stage</th>\n",
       "      <th>Year</th>\n",
       "    </tr>\n",
       "  </thead>\n",
       "  <tbody>\n",
       "    <tr>\n",
       "      <th>1050</th>\n",
       "      <td>Leverage Edu</td>\n",
       "      <td>2016</td>\n",
       "      <td>Delhi</td>\n",
       "      <td>Edtech</td>\n",
       "      <td>AI enabled marketplace that provides career gu...</td>\n",
       "      <td>Akshay Chaturvedi</td>\n",
       "      <td>Dsg Consumer Partners, Blume Ventures</td>\n",
       "      <td>1500000.0</td>\n",
       "      <td>Seed</td>\n",
       "      <td>2020-01-01</td>\n",
       "    </tr>\n",
       "    <tr>\n",
       "      <th>1051</th>\n",
       "      <td>Epifi</td>\n",
       "      <td>2016</td>\n",
       "      <td>Kochi</td>\n",
       "      <td>Fintech</td>\n",
       "      <td>It offers customers with a single interface fo...</td>\n",
       "      <td>Sujith Narayanan, Sumit Gwalani</td>\n",
       "      <td>Sequoia India, Ribbit Capital</td>\n",
       "      <td>13200000.0</td>\n",
       "      <td>Seed Round</td>\n",
       "      <td>2020-01-01</td>\n",
       "    </tr>\n",
       "    <tr>\n",
       "      <th>1052</th>\n",
       "      <td>Purplle</td>\n",
       "      <td>2012</td>\n",
       "      <td>Mumbai</td>\n",
       "      <td>Cosmetics</td>\n",
       "      <td>Online makeup and beauty products retailer</td>\n",
       "      <td>Manish Taneja, Rahul Dash</td>\n",
       "      <td>Verlinvest</td>\n",
       "      <td>8000000.0</td>\n",
       "      <td>Series B</td>\n",
       "      <td>2020-01-01</td>\n",
       "    </tr>\n",
       "    <tr>\n",
       "      <th>1053</th>\n",
       "      <td>Shuttl</td>\n",
       "      <td>2015</td>\n",
       "      <td>Delhi</td>\n",
       "      <td>Transport</td>\n",
       "      <td>App based bus aggregator serice</td>\n",
       "      <td>Amit Singh, Deepanshu Malviya</td>\n",
       "      <td>Sig Global India Fund Llp.</td>\n",
       "      <td>8043000.0</td>\n",
       "      <td>Series C</td>\n",
       "      <td>2020-01-01</td>\n",
       "    </tr>\n",
       "    <tr>\n",
       "      <th>1054</th>\n",
       "      <td>Pando</td>\n",
       "      <td>2017</td>\n",
       "      <td>Chennai</td>\n",
       "      <td>Logitech</td>\n",
       "      <td>Networked logistics management software</td>\n",
       "      <td>Jayakrishnan, Abhijeet Manohar</td>\n",
       "      <td>Chiratae Ventures</td>\n",
       "      <td>9000000.0</td>\n",
       "      <td>Series A</td>\n",
       "      <td>2020-01-01</td>\n",
       "    </tr>\n",
       "  </tbody>\n",
       "</table>\n",
       "</div>"
      ],
      "text/plain": [
       "     Company_Brand  Founded HeadQuarter     Sector  \\\n",
       "1050  Leverage Edu     2016       Delhi     Edtech   \n",
       "1051         Epifi     2016       Kochi    Fintech   \n",
       "1052       Purplle     2012      Mumbai  Cosmetics   \n",
       "1053        Shuttl     2015       Delhi  Transport   \n",
       "1054         Pando     2017     Chennai   Logitech   \n",
       "\n",
       "                                           What_it_does  \\\n",
       "1050  AI enabled marketplace that provides career gu...   \n",
       "1051  It offers customers with a single interface fo...   \n",
       "1052         Online makeup and beauty products retailer   \n",
       "1053                    App based bus aggregator serice   \n",
       "1054            Networked logistics management software   \n",
       "\n",
       "                             Founders                               Investor  \\\n",
       "1050                Akshay Chaturvedi  Dsg Consumer Partners, Blume Ventures   \n",
       "1051  Sujith Narayanan, Sumit Gwalani          Sequoia India, Ribbit Capital   \n",
       "1052        Manish Taneja, Rahul Dash                             Verlinvest   \n",
       "1053    Amit Singh, Deepanshu Malviya             Sig Global India Fund Llp.   \n",
       "1054   Jayakrishnan, Abhijeet Manohar                      Chiratae Ventures   \n",
       "\n",
       "          Amount       Stage       Year  \n",
       "1050   1500000.0        Seed 2020-01-01  \n",
       "1051  13200000.0  Seed Round 2020-01-01  \n",
       "1052   8000000.0    Series B 2020-01-01  \n",
       "1053   8043000.0    Series C 2020-01-01  \n",
       "1054   9000000.0    Series A 2020-01-01  "
      ]
     },
     "execution_count": 26,
     "metadata": {},
     "output_type": "execute_result"
    }
   ],
   "source": [
    "data.tail()"
   ]
  },
  {
   "cell_type": "code",
   "execution_count": 27,
   "metadata": {},
   "outputs": [
    {
     "data": {
      "text/html": [
       "<div>\n",
       "<style scoped>\n",
       "    .dataframe tbody tr th:only-of-type {\n",
       "        vertical-align: middle;\n",
       "    }\n",
       "\n",
       "    .dataframe tbody tr th {\n",
       "        vertical-align: top;\n",
       "    }\n",
       "\n",
       "    .dataframe thead th {\n",
       "        text-align: right;\n",
       "    }\n",
       "</style>\n",
       "<table border=\"1\" class=\"dataframe\">\n",
       "  <thead>\n",
       "    <tr style=\"text-align: right;\">\n",
       "      <th></th>\n",
       "      <th>count</th>\n",
       "      <th>mean</th>\n",
       "      <th>std</th>\n",
       "      <th>min</th>\n",
       "      <th>25%</th>\n",
       "      <th>50%</th>\n",
       "      <th>75%</th>\n",
       "      <th>max</th>\n",
       "    </tr>\n",
       "  </thead>\n",
       "  <tbody>\n",
       "    <tr>\n",
       "      <th>Founded</th>\n",
       "      <td>1208.0</td>\n",
       "      <td>2016.655629</td>\n",
       "      <td>4.517364</td>\n",
       "      <td>1963.0</td>\n",
       "      <td>2015.0</td>\n",
       "      <td>2018.0</td>\n",
       "      <td>2020.0</td>\n",
       "      <td>2021.0</td>\n",
       "    </tr>\n",
       "  </tbody>\n",
       "</table>\n",
       "</div>"
      ],
      "text/plain": [
       "          count         mean       std     min     25%     50%     75%     max\n",
       "Founded  1208.0  2016.655629  4.517364  1963.0  2015.0  2018.0  2020.0  2021.0"
      ]
     },
     "execution_count": 27,
     "metadata": {},
     "output_type": "execute_result"
    }
   ],
   "source": [
    "data2.describe().T"
   ]
  },
  {
   "cell_type": "code",
   "execution_count": 28,
   "metadata": {},
   "outputs": [
    {
     "name": "stdout",
     "output_type": "stream",
     "text": [
      "<class 'pandas.core.frame.DataFrame'>\n",
      "RangeIndex: 1209 entries, 0 to 1208\n",
      "Data columns (total 9 columns):\n",
      " #   Column         Non-Null Count  Dtype  \n",
      "---  ------         --------------  -----  \n",
      " 0   Company_Brand  1209 non-null   object \n",
      " 1   Founded        1208 non-null   float64\n",
      " 2   HeadQuarter    1208 non-null   object \n",
      " 3   Sector         1209 non-null   object \n",
      " 4   What_it_does   1209 non-null   object \n",
      " 5   Founders       1205 non-null   object \n",
      " 6   Investor       1147 non-null   object \n",
      " 7   Amount         1206 non-null   object \n",
      " 8   Stage          781 non-null    object \n",
      "dtypes: float64(1), object(8)\n",
      "memory usage: 85.1+ KB\n"
     ]
    }
   ],
   "source": [
    "data2.info()"
   ]
  },
  {
   "cell_type": "markdown",
   "metadata": {},
   "source": [
    "DATASET 2021 CLEANING(data2)"
   ]
  },
  {
   "cell_type": "code",
   "execution_count": 29,
   "metadata": {},
   "outputs": [],
   "source": [
    "# add year column\n",
    "#Add 'Year' Column 2021\n",
    "data2['Year']=2021\n",
    "\n",
    "# Convert year Column to a dataetime format\n",
    "data2['Year'] = pd.to_datetime(data2['Year'], format='%Y')"
   ]
  },
  {
   "cell_type": "code",
   "execution_count": 30,
   "metadata": {},
   "outputs": [
    {
     "data": {
      "text/plain": [
       "19"
      ]
     },
     "execution_count": 30,
     "metadata": {},
     "output_type": "execute_result"
    }
   ],
   "source": [
    "data2.duplicated().sum()"
   ]
  },
  {
   "cell_type": "code",
   "execution_count": 31,
   "metadata": {},
   "outputs": [],
   "source": [
    "data2= data2.drop_duplicates()"
   ]
  },
  {
   "cell_type": "code",
   "execution_count": 32,
   "metadata": {},
   "outputs": [
    {
     "data": {
      "text/plain": [
       "0"
      ]
     },
     "execution_count": 32,
     "metadata": {},
     "output_type": "execute_result"
    }
   ],
   "source": [
    "data2.duplicated().sum()"
   ]
  },
  {
   "cell_type": "code",
   "execution_count": 33,
   "metadata": {},
   "outputs": [
    {
     "data": {
      "text/html": [
       "<div>\n",
       "<style scoped>\n",
       "    .dataframe tbody tr th:only-of-type {\n",
       "        vertical-align: middle;\n",
       "    }\n",
       "\n",
       "    .dataframe tbody tr th {\n",
       "        vertical-align: top;\n",
       "    }\n",
       "\n",
       "    .dataframe thead th {\n",
       "        text-align: right;\n",
       "    }\n",
       "</style>\n",
       "<table border=\"1\" class=\"dataframe\">\n",
       "  <thead>\n",
       "    <tr style=\"text-align: right;\">\n",
       "      <th></th>\n",
       "      <th>Null Count</th>\n",
       "      <th>Percentage</th>\n",
       "    </tr>\n",
       "  </thead>\n",
       "  <tbody>\n",
       "    <tr>\n",
       "      <th>Company_Brand</th>\n",
       "      <td>0</td>\n",
       "      <td>0.000000</td>\n",
       "    </tr>\n",
       "    <tr>\n",
       "      <th>Founded</th>\n",
       "      <td>1</td>\n",
       "      <td>0.095057</td>\n",
       "    </tr>\n",
       "    <tr>\n",
       "      <th>HeadQuarter</th>\n",
       "      <td>1</td>\n",
       "      <td>0.095057</td>\n",
       "    </tr>\n",
       "    <tr>\n",
       "      <th>Sector</th>\n",
       "      <td>0</td>\n",
       "      <td>0.000000</td>\n",
       "    </tr>\n",
       "    <tr>\n",
       "      <th>What_it_does</th>\n",
       "      <td>0</td>\n",
       "      <td>0.000000</td>\n",
       "    </tr>\n",
       "    <tr>\n",
       "      <th>Founders</th>\n",
       "      <td>4</td>\n",
       "      <td>0.380228</td>\n",
       "    </tr>\n",
       "    <tr>\n",
       "      <th>Investor</th>\n",
       "      <td>61</td>\n",
       "      <td>5.798479</td>\n",
       "    </tr>\n",
       "    <tr>\n",
       "      <th>Amount</th>\n",
       "      <td>3</td>\n",
       "      <td>0.285171</td>\n",
       "    </tr>\n",
       "    <tr>\n",
       "      <th>Stage</th>\n",
       "      <td>421</td>\n",
       "      <td>40.019011</td>\n",
       "    </tr>\n",
       "    <tr>\n",
       "      <th>Year</th>\n",
       "      <td>0</td>\n",
       "      <td>0.000000</td>\n",
       "    </tr>\n",
       "  </tbody>\n",
       "</table>\n",
       "</div>"
      ],
      "text/plain": [
       "               Null Count  Percentage\n",
       "Company_Brand           0    0.000000\n",
       "Founded                 1    0.095057\n",
       "HeadQuarter             1    0.095057\n",
       "Sector                  0    0.000000\n",
       "What_it_does            0    0.000000\n",
       "Founders                4    0.380228\n",
       "Investor               61    5.798479\n",
       "Amount                  3    0.285171\n",
       "Stage                 421   40.019011\n",
       "Year                    0    0.000000"
      ]
     },
     "execution_count": 33,
     "metadata": {},
     "output_type": "execute_result"
    }
   ],
   "source": [
    "# Missing values with their percentages \n",
    "data2.isnull().sum().to_frame('Null Count').assign(Percentage=lambda x: (x['Null Count'] / len(data)) * 100)"
   ]
  },
  {
   "cell_type": "code",
   "execution_count": 34,
   "metadata": {},
   "outputs": [
    {
     "data": {
      "text/plain": [
       "Founders\n",
       "Ashneer Grover, Shashvat Nakrani                   7\n",
       "Byju Raveendran, Divya Gokulnath                   5\n",
       "Ritesh Agarwal                                     4\n",
       "Bhavish Aggarwal                                   4\n",
       "Kunal Shah                                         3\n",
       "Kshama Fernandes                                   3\n",
       "Ashish Singhal, Govind Soni, Vimal Sagar Tiwari    3\n",
       "Name: count, dtype: int64"
      ]
     },
     "execution_count": 34,
     "metadata": {},
     "output_type": "execute_result"
    }
   ],
   "source": [
    "Founders_counts = data2['Founders'].value_counts()\n",
    "\n",
    "Founders_counts.head(7)"
   ]
  },
  {
   "cell_type": "code",
   "execution_count": 35,
   "metadata": {},
   "outputs": [
    {
     "data": {
      "text/plain": [
       "Investor\n",
       "Inflection Point Ventures    23\n",
       "Venture Catalysts            11\n",
       "Tiger Global                 11\n",
       "Elevation Capital             7\n",
       "We Founder Circle             6\n",
       "Titan Capital                 6\n",
       "Sequoia Capital India         5\n",
       "Sixth Sense Ventures          5\n",
       "Kalaari Capital               5\n",
       "Anicut Angel Fund             4\n",
       "Y Combinator                  4\n",
       "Name: count, dtype: int64"
      ]
     },
     "execution_count": 35,
     "metadata": {},
     "output_type": "execute_result"
    }
   ],
   "source": [
    "Investor_counts = data2['Investor'].value_counts()\n",
    "\n",
    "Investor_counts.head(11)"
   ]
  },
  {
   "cell_type": "code",
   "execution_count": 36,
   "metadata": {},
   "outputs": [
    {
     "data": {
      "text/plain": [
       "Sector\n",
       "FinTech               121\n",
       "EdTech                102\n",
       "Financial Services     59\n",
       "E-commerce             37\n",
       "Food & Beverages       36\n",
       "Name: count, dtype: int64"
      ]
     },
     "execution_count": 36,
     "metadata": {},
     "output_type": "execute_result"
    }
   ],
   "source": [
    "Sector_counts = data2['Sector'].value_counts()\n",
    "\n",
    "Sector_counts.head()"
   ]
  },
  {
   "cell_type": "code",
   "execution_count": 37,
   "metadata": {},
   "outputs": [
    {
     "data": {
      "text/plain": [
       "Sector\n",
       "Professional Training & Coaching                                                                               2\n",
       "Real Estate                                                                                                    7\n",
       "Real estate                                                                                                    1\n",
       "Recruitment                                                                                                    5\n",
       "Renewable Energy                                                                                               6\n",
       "Renewables & Environment                                                                                       3\n",
       "Rental                                                                                                         2\n",
       "Rental space                                                                                                   2\n",
       "Retail                                                                                                        18\n",
       "Robotics                                                                                                       1\n",
       "SaaS                                                                                                           2\n",
       "SaaS startup                                                                                                  13\n",
       "Sales and Distribution                                                                                         1\n",
       "Skill development                                                                                              1\n",
       "Sochcast is an Audio experiences company that give the listener and creators an Immersive Audio experience     1\n",
       "Social Media                                                                                                   3\n",
       "Social audio                                                                                                   1\n",
       "Social commerce                                                                                                4\n",
       "Social community                                                                                               1\n",
       "Social media                                                                                                   1\n",
       "Social network                                                                                                 2\n",
       "Social platform                                                                                                1\n",
       "Software                                                                                                       2\n",
       "Software Startup                                                                                               2\n",
       "Software company                                                                                               1\n",
       "Solar                                                                                                          4\n",
       "SpaceTech                                                                                                      4\n",
       "Spiritual                                                                                                      1\n",
       "Sports                                                                                                         2\n",
       "Sports startup                                                                                                 2\n",
       "SportsTech                                                                                                     3\n",
       "Staffing & Recruiting                                                                                          1\n",
       "Supply chain platform                                                                                          1\n",
       "TaaS startup                                                                                                   1\n",
       "Tech Startup                                                                                                  11\n",
       "Tech startup                                                                                                   3\n",
       "Telecommuncation                                                                                               1\n",
       "Telecommunications                                                                                             2\n",
       "Textiles                                                                                                       2\n",
       "Tobacco                                                                                                        1\n",
       "Tourism                                                                                                        1\n",
       "Trading platform                                                                                               1\n",
       "Translation & Localization                                                                                     1\n",
       "Transportation                                                                                                 6\n",
       "Vehicle repair startup                                                                                         1\n",
       "Venture Capital                                                                                                1\n",
       "Venture Capital & Private Equity                                                                               2\n",
       "Venture capitalist                                                                                             1\n",
       "Veterinary                                                                                                     1\n",
       "Video communication                                                                                            1\n",
       "Name: count, dtype: int64"
      ]
     },
     "execution_count": 37,
     "metadata": {},
     "output_type": "execute_result"
    }
   ],
   "source": [
    "# Get the value counts in Sector column sorted alphabetically\n",
    "Sector_counts = data2['Sector'].value_counts().sort_index()\n",
    "\n",
    "Sector_counts[200:250]"
   ]
  },
  {
   "cell_type": "markdown",
   "metadata": {},
   "source": [
    "STEPS FOLLOWED TO EXTRACT DATA AND GETTING INSIGHT Through  Checking for unique values by exploring columns by columns with filter\n",
    "\n",
    "NB. for avoiding more code ,I will use one code but changing  the column name wich will help to filter the column wanted to be filtered. but also based on the number you want to print , this may be applicable."
   ]
  },
  {
   "cell_type": "code",
   "execution_count": 38,
   "metadata": {},
   "outputs": [
    {
     "name": "stdout",
     "output_type": "stream",
     "text": [
      "['Unbox Robotics' 'upGrad' 'Lead School' 'Bizongo' 'FypMoney']\n"
     ]
    }
   ],
   "source": [
    "# Get all unique values in the \"Company_Brand\" column\n",
    "data2= pd.DataFrame(data2)\n",
    "unique_brands= data2['Company_Brand'].unique()\n",
    "print(unique_brands [:5])\n",
    "# # if you want to get more readable result use the code below\n",
    "# nique_Company_Brand_values = data['Company_Brand'].unique()\n",
    "# print(\"Unique values in the 'Stage' column:\")\n",
    "# for value in nique_Company_Brand_values:\n",
    "#     print(value)"
   ]
  },
  {
   "cell_type": "code",
   "execution_count": 39,
   "metadata": {},
   "outputs": [
    {
     "name": "stdout",
     "output_type": "stream",
     "text": [
      "[2019. 2015. 2012. 2021. 2014. 2018. 2016. 2020. 2010. 2017.]\n"
     ]
    }
   ],
   "source": [
    "# Get all unique values in the \"unique_Founded\" column\n",
    "data2= pd.DataFrame(data2)\n",
    "unique_Founded= data2['Founded'].unique()\n",
    "print(unique_Founded [:10])"
   ]
  },
  {
   "cell_type": "code",
   "execution_count": 40,
   "metadata": {},
   "outputs": [
    {
     "name": "stdout",
     "output_type": "stream",
     "text": [
      "['Bangalore' 'Mumbai' 'Gurugram' 'New Delhi' 'Hyderabad' 'Jaipur'\n",
      " 'Ahmadabad' 'Chennai' None 'Small Towns, Andhra Pradesh']\n"
     ]
    }
   ],
   "source": [
    "data2= pd.DataFrame(data2)\n",
    "unique_Founded= data2['HeadQuarter'].unique()\n",
    "print(unique_Founded [:10])"
   ]
  },
  {
   "cell_type": "code",
   "execution_count": 41,
   "metadata": {},
   "outputs": [],
   "source": [
    "# Handling Hedquarter Column \n",
    "\n",
    "# Replace this values 'Food & Beverages', 'Online Media\\t#Ref!', 'Information Technology & Services'- with Bangalore\n",
    "\n",
    "data2['HeadQuarter']= data2['HeadQuarter'].replace('Food & Beverages','Bangalore' )\n",
    "data2['HeadQuarter']= data2['HeadQuarter'].replace('Online Media\\t#Ref!','Bangalore')\n",
    "data2['HeadQuarter']= data2['HeadQuarter'].replace('Online Media\\t#Ref!', 'Bangalore')\n",
    "data2['HeadQuarter']= data2['HeadQuarter'].replace('Information Technology & Services', 'Bangalore')\n",
    "data2['HeadQuarter']= data2['HeadQuarter'].replace('Pharmaceuticals\\t#REF!', 'Bangalore')\n",
    "data2['HeadQuarter']= data2['HeadQuarter'].replace('Gurugram\\t#REF!', 'Gurugram')\n",
    "data2['HeadQuarter']= data2['HeadQuarter'].replace('Computer Games', 'Bangalore')\n",
    "\n",
    "top_HeadQuarter= ['Bangalore','Mumbai','Gurugram','Delhi','Chennai','Pune','New Delhi','Noida','Hyderabad','Gurgaon',\n",
    "'Ahmedabad','Kolkata','Haryana','Indore','Jaipur','Thane','Kochi','Gujarat','California','Singapore']\n",
    "\n",
    "# Fill missing value with random values from top 20 Headquarter\n",
    "\n",
    "def  fill_missing_HeadQuarter (HeadQuarter):\n",
    "    if pd.isna(HeadQuarter):\n",
    "        return np.random.choice(top_HeadQuarter)\n",
    "    return HeadQuarter\n",
    "\n",
    "\n",
    "data2['HeadQuarter']=data2['HeadQuarter'].apply(fill_missing_HeadQuarter)\n",
    "\n",
    "# Convert all enries to title\n",
    "data2['HeadQuarter'] = data2['HeadQuarter'].str.title()"
   ]
  },
  {
   "cell_type": "code",
   "execution_count": 42,
   "metadata": {},
   "outputs": [
    {
     "name": "stdout",
     "output_type": "stream",
     "text": [
      "['AI startup' 'EdTech' 'B2B E-commerce' 'FinTech' 'Home services'\n",
      " 'HealthTech' 'Tech Startup' 'E-commerce' 'B2B service' 'Helathcare']\n"
     ]
    }
   ],
   "source": [
    "data2= pd.DataFrame(data2)\n",
    "unique_Founded= data2['Sector'].unique()\n",
    "print(unique_Founded [:10])"
   ]
  },
  {
   "cell_type": "code",
   "execution_count": 43,
   "metadata": {},
   "outputs": [
    {
     "data": {
      "text/plain": [
       "0                  Ai Startup\n",
       "1                      Edtech\n",
       "2                      Edtech\n",
       "3              B2B E-Commerce\n",
       "4                     Fintech\n",
       "                ...          \n",
       "1204    Staffing & Recruiting\n",
       "1205         Food & Beverages\n",
       "1206       Financial Services\n",
       "1207                   Edtech\n",
       "1208       Financial Services\n",
       "Name: Sector, Length: 1190, dtype: object"
      ]
     },
     "execution_count": 43,
     "metadata": {},
     "output_type": "execute_result"
    }
   ],
   "source": [
    "# Handling Sector Column\n",
    "\n",
    "# Convert all values to lower case\n",
    "data2['Sector'] = data2['Sector'].str.lower()\n",
    "\n",
    "import re\n",
    " \n",
    "def sector_redistribution(Sector):\n",
    "    if re.search('bank|fintech|finance|credit|mobile Payments|lending|crypto|financial services|account|credit|venture|crowd|blockchain|mutual funds|virtual banking|banking|', Sector):\n",
    "        return 'Finance'\n",
    "    elif re.search(r'automotive|air transport|transport|ticketing|logistics|vehicle|transportation|developer platform|app|', Sector):\n",
    "        return 'Transport'\n",
    "    elif re.search(r'agriTech|agri|farming|agriculture|agtech|', Sector):  \n",
    "        return 'Agriculture'\n",
    "    elif re.search(r'legal tech|automotive tech|automation|analytics|big data|cybersecurity|cloud infrastructure|automobile|infratech|biotechnology|automobile & technology|robotics & ai|e-marketplace|iot|ai|ecommerce|technology|saas|ai & tech|e-commerce|e-commerce|ar|fintech|hr tech|safety tech|', Sector):\n",
    "        return 'Technology'\n",
    "    elif re.search (r'marketing|customer loyalty|product research|advertising|brand marketing|event promotion|market research|', Sector):\n",
    "        return 'Marketing'\n",
    "    elif re.search (r'insurance technology|insurance|', Sector):\n",
    "        return 'Insurance '\n",
    "    elif re.search (r'food tech|food|food & nutrition|food & tech|snack food|food processing|nutrition|food & beverage|food delivery|', Sector):\n",
    "        return 'Food'\n",
    "    elif re.search (r'pharmaceutical|healthtech|personal health|peer to peer|health diagnostic|health|' , Sector):\n",
    "        return 'Health & Wellness'\n",
    "    elif re.search (r'yoga|sports|yoga & wellness|', Sector):\n",
    "        return 'Fitness'\n",
    "    elif re.search (r'manufacturing', Sector):\n",
    "        return 'Manufacturing'\n",
    "    elif re.search (r'cosmetics|beauty|', Sector):\n",
    "        return 'Beauty'\n",
    "    elif re.search(r'social media|broadcasting|video chat|messaging|online portals|media and entertainmwent|audio|e-sports|games|internet|gaming|', Sector):\n",
    "        return 'Info-media'\n",
    "    elif re.search(r'interior design|accomodation|home renovation|service industry|laundry and dry cleaning|home decor|home improvement|hospitality|hotel|leisure|', Sector):\n",
    "        return 'Sevice Industry'\n",
    "    elif re.search (r'edtech|education|learning|', Sector):\n",
    "        return 'Education'\n",
    "    elif re.search(r'fashion|eyewear|jewellery|lifestyle|', Sector):\n",
    "        return 'Fashion'\n",
    "    elif re.search(r' b2b|b2B|supply chain|marketplace|retail|entreprise software|retail|consumer goods|trading platform|consumer|', Sector):\n",
    "        return 'Entreprising'\n",
    "    elif re.search(r'waste management|', Sector):\n",
    "        return 'Environment'\n",
    "    elif re.search(r'rental|property|real estate|smart building', Sector):\n",
    "        return 'Real Estate'\n",
    "    elif re.search(r'fraud detection|security|intelligence|cyber security|public safety|', Sector):\n",
    "        return 'Security'\n",
    "    \n",
    "    else:\n",
    "        return Sector\n",
    "    \n",
    "    \n",
    "# Convert all entries to title case \n",
    "data2['Sector'] = data2['Sector'].str.title()\n",
    "    \n",
    "data2['Sector']"
   ]
  },
  {
   "cell_type": "code",
   "execution_count": 44,
   "metadata": {},
   "outputs": [
    {
     "data": {
      "text/plain": [
       "Sector\n",
       "Fintech               121\n",
       "Edtech                102\n",
       "Financial Services     59\n",
       "Healthcare             52\n",
       "E-Commerce             37\n",
       "Name: count, dtype: int64"
      ]
     },
     "execution_count": 44,
     "metadata": {},
     "output_type": "execute_result"
    }
   ],
   "source": [
    "Sector_counts = data2['Sector'].value_counts()\n",
    "\n",
    "Sector_counts.head()"
   ]
  },
  {
   "cell_type": "code",
   "execution_count": 45,
   "metadata": {},
   "outputs": [],
   "source": [
    "#Handling Founders Column \n",
    "\n",
    "# Fill missing value with random values from top 8 Founders\n",
    "\n",
    "top_Founders = ['Ashneer Grover & Shashvat Nakrani','Byju Raveendran & Divya Gokulnath','Ashneer Grover & Shashvat Nakrani', \n",
    "                'Bhavish Aggarwal', 'Ritesh Agarwal','Kunal Shah', 'Ashish Singhal & Govind Soni & Vimal Sagar Tiwari']\n",
    "\n",
    "def  fill_missing_Founders (Founders):\n",
    "    if pd.isna(Founders):\n",
    "        return np.random.choice(top_Founders)\n",
    "    return Founders\n",
    "\n",
    "data2['Founders']=data2['Founders'].apply(fill_missing_Founders)\n",
    "\n",
    "# Convert all entries to title case \n",
    "data2['Founders'] = data2['Founders'].str.title()"
   ]
  },
  {
   "cell_type": "code",
   "execution_count": 46,
   "metadata": {},
   "outputs": [],
   "source": [
    "#Handling Investor Column with the most appearing investor \n",
    "\n",
    "\n",
    "top_Investor= ['Venture Catalysts','Elevation Capital','Anicut Angel Fund','Inflection Point Ventures','We Founder Circle',\n",
    "               'Sequoia Capital','Kalaari Capital ', 'Sixth Sense Ventures','Blue Ashva Capital','Titan Capital']\n",
    "# Fill missing values \n",
    "def  fill_missing_Investor (Investor):\n",
    "    if pd.isna(Investor):\n",
    "        return np.random.choice(top_Investor)\n",
    "    return Investor\n",
    "\n",
    "data2['Investor']=data2['Investor'].apply(fill_missing_Investor)\n",
    "\n",
    "\n",
    "# Convert all entries to title case \n",
    "data2['Investor'] = data2['Investor'].str.title()"
   ]
  },
  {
   "cell_type": "code",
   "execution_count": 47,
   "metadata": {},
   "outputs": [
    {
     "data": {
      "text/html": [
       "<div>\n",
       "<style scoped>\n",
       "    .dataframe tbody tr th:only-of-type {\n",
       "        vertical-align: middle;\n",
       "    }\n",
       "\n",
       "    .dataframe tbody tr th {\n",
       "        vertical-align: top;\n",
       "    }\n",
       "\n",
       "    .dataframe thead th {\n",
       "        text-align: right;\n",
       "    }\n",
       "</style>\n",
       "<table border=\"1\" class=\"dataframe\">\n",
       "  <thead>\n",
       "    <tr style=\"text-align: right;\">\n",
       "      <th></th>\n",
       "      <th>Company_Brand</th>\n",
       "      <th>Founded</th>\n",
       "      <th>HeadQuarter</th>\n",
       "      <th>Sector</th>\n",
       "      <th>What_it_does</th>\n",
       "      <th>Founders</th>\n",
       "      <th>Investor</th>\n",
       "      <th>Amount</th>\n",
       "      <th>Stage</th>\n",
       "      <th>Year</th>\n",
       "    </tr>\n",
       "  </thead>\n",
       "  <tbody>\n",
       "    <tr>\n",
       "      <th>242</th>\n",
       "      <td>Fullife Healthcare</td>\n",
       "      <td>2009.0</td>\n",
       "      <td>Bangalore</td>\n",
       "      <td>Primary Business Is Development And Manufactur...</td>\n",
       "      <td>Varun Khanna</td>\n",
       "      <td>Morgan Stanley Private Equity Asia</td>\n",
       "      <td>$22000000</td>\n",
       "      <td>Series C</td>\n",
       "      <td>None</td>\n",
       "      <td>2021-01-01</td>\n",
       "    </tr>\n",
       "    <tr>\n",
       "      <th>257</th>\n",
       "      <td>MoEVing</td>\n",
       "      <td>2021.0</td>\n",
       "      <td>Gurugram</td>\n",
       "      <td>Moeving Is India'S Only Electric Mobility Focu...</td>\n",
       "      <td>Vikash Mishra, Mragank Jain</td>\n",
       "      <td>Anshuman Maheshwary, Dr Srihari Raju Kalidindi</td>\n",
       "      <td>$5000000</td>\n",
       "      <td>Seed</td>\n",
       "      <td>None</td>\n",
       "      <td>2021-01-01</td>\n",
       "    </tr>\n",
       "    <tr>\n",
       "      <th>545</th>\n",
       "      <td>AdmitKard</td>\n",
       "      <td>2016.0</td>\n",
       "      <td>Noida</td>\n",
       "      <td>Edtech</td>\n",
       "      <td>A tech solution for end to end career advisory...</td>\n",
       "      <td>Vamsi Krishna, Pulkit Jain, Gaurav Munjal\\t#Ref!</td>\n",
       "      <td>$1000000</td>\n",
       "      <td>Pre-series A</td>\n",
       "      <td>None</td>\n",
       "      <td>2021-01-01</td>\n",
       "    </tr>\n",
       "    <tr>\n",
       "      <th>1100</th>\n",
       "      <td>Sochcast</td>\n",
       "      <td>2020.0</td>\n",
       "      <td>Online Media\\t#Ref!</td>\n",
       "      <td>Sochcast Is An Audio Experiences Company That ...</td>\n",
       "      <td>CA Harvinderjit Singh Bhatia, Garima Surana, A...</td>\n",
       "      <td>Vinners, Raj Nayak, Amritaanshu Agrawal</td>\n",
       "      <td>$Undisclosed</td>\n",
       "      <td>None</td>\n",
       "      <td>None</td>\n",
       "      <td>2021-01-01</td>\n",
       "    </tr>\n",
       "  </tbody>\n",
       "</table>\n",
       "</div>"
      ],
      "text/plain": [
       "           Company_Brand  Founded          HeadQuarter  \\\n",
       "242   Fullife Healthcare   2009.0            Bangalore   \n",
       "257              MoEVing   2021.0             Gurugram   \n",
       "545            AdmitKard   2016.0                Noida   \n",
       "1100            Sochcast   2020.0  Online Media\\t#Ref!   \n",
       "\n",
       "                                                 Sector  \\\n",
       "242   Primary Business Is Development And Manufactur...   \n",
       "257   Moeving Is India'S Only Electric Mobility Focu...   \n",
       "545                                              Edtech   \n",
       "1100  Sochcast Is An Audio Experiences Company That ...   \n",
       "\n",
       "                                           What_it_does  \\\n",
       "242                                        Varun Khanna   \n",
       "257                         Vikash Mishra, Mragank Jain   \n",
       "545   A tech solution for end to end career advisory...   \n",
       "1100  CA Harvinderjit Singh Bhatia, Garima Surana, A...   \n",
       "\n",
       "                                              Founders      Investor  \\\n",
       "242                 Morgan Stanley Private Equity Asia     $22000000   \n",
       "257     Anshuman Maheshwary, Dr Srihari Raju Kalidindi      $5000000   \n",
       "545   Vamsi Krishna, Pulkit Jain, Gaurav Munjal\\t#Ref!      $1000000   \n",
       "1100           Vinners, Raj Nayak, Amritaanshu Agrawal  $Undisclosed   \n",
       "\n",
       "            Amount Stage       Year  \n",
       "242       Series C  None 2021-01-01  \n",
       "257           Seed  None 2021-01-01  \n",
       "545   Pre-series A  None 2021-01-01  \n",
       "1100          None  None 2021-01-01  "
      ]
     },
     "execution_count": 47,
     "metadata": {},
     "output_type": "execute_result"
    }
   ],
   "source": [
    "data2[data2['Investor'].str.startswith('$', na=False)]"
   ]
  },
  {
   "cell_type": "code",
   "execution_count": 48,
   "metadata": {},
   "outputs": [
    {
     "data": {
      "text/html": [
       "<div>\n",
       "<style scoped>\n",
       "    .dataframe tbody tr th:only-of-type {\n",
       "        vertical-align: middle;\n",
       "    }\n",
       "\n",
       "    .dataframe tbody tr th {\n",
       "        vertical-align: top;\n",
       "    }\n",
       "\n",
       "    .dataframe thead th {\n",
       "        text-align: right;\n",
       "    }\n",
       "</style>\n",
       "<table border=\"1\" class=\"dataframe\">\n",
       "  <thead>\n",
       "    <tr style=\"text-align: right;\">\n",
       "      <th></th>\n",
       "      <th>Company_Brand</th>\n",
       "      <th>Founded</th>\n",
       "      <th>HeadQuarter</th>\n",
       "      <th>Sector</th>\n",
       "      <th>What_it_does</th>\n",
       "      <th>Founders</th>\n",
       "      <th>Investor</th>\n",
       "      <th>Amount</th>\n",
       "      <th>Stage</th>\n",
       "      <th>Year</th>\n",
       "    </tr>\n",
       "  </thead>\n",
       "  <tbody>\n",
       "    <tr>\n",
       "      <th>98</th>\n",
       "      <td>FanPlay</td>\n",
       "      <td>2020.0</td>\n",
       "      <td>Bangalore</td>\n",
       "      <td>Computer Games</td>\n",
       "      <td>A real money game app specializing in trivia g...</td>\n",
       "      <td>Yc W21</td>\n",
       "      <td>Pritesh Kumar, Bharat Gupta</td>\n",
       "      <td>Upsparks</td>\n",
       "      <td>$1200000</td>\n",
       "      <td>2021-01-01</td>\n",
       "    </tr>\n",
       "    <tr>\n",
       "      <th>538</th>\n",
       "      <td>Little Leap</td>\n",
       "      <td>2020.0</td>\n",
       "      <td>New Delhi</td>\n",
       "      <td>Edtech</td>\n",
       "      <td>Soft Skills that make Smart Leaders</td>\n",
       "      <td>Holistic Development Programs For Children In ...</td>\n",
       "      <td>Vishal Gupta</td>\n",
       "      <td>ah! Ventures</td>\n",
       "      <td>$300000</td>\n",
       "      <td>2021-01-01</td>\n",
       "    </tr>\n",
       "    <tr>\n",
       "      <th>551</th>\n",
       "      <td>BHyve</td>\n",
       "      <td>2020.0</td>\n",
       "      <td>Mumbai</td>\n",
       "      <td>Human Resources</td>\n",
       "      <td>A Future of Work Platform for diffusing Employ...</td>\n",
       "      <td>Backed By 100X.Vc</td>\n",
       "      <td>Omkar Pandharkame, Ketaki Ogale</td>\n",
       "      <td>ITO Angel Network, LetsVenture</td>\n",
       "      <td>$300000</td>\n",
       "      <td>2021-01-01</td>\n",
       "    </tr>\n",
       "    <tr>\n",
       "      <th>674</th>\n",
       "      <td>MYRE Capital</td>\n",
       "      <td>2020.0</td>\n",
       "      <td>Mumbai</td>\n",
       "      <td>Commercial Real Estate</td>\n",
       "      <td>Democratising Real Estate Ownership</td>\n",
       "      <td>Own Rent Yielding Commercial Properties</td>\n",
       "      <td>Aryaman Vir</td>\n",
       "      <td>None</td>\n",
       "      <td>$6000000</td>\n",
       "      <td>2021-01-01</td>\n",
       "    </tr>\n",
       "    <tr>\n",
       "      <th>677</th>\n",
       "      <td>Saarthi Pedagogy</td>\n",
       "      <td>2015.0</td>\n",
       "      <td>Ahmadabad</td>\n",
       "      <td>Edtech</td>\n",
       "      <td>India's fastest growing Pedagogy company, serv...</td>\n",
       "      <td>Pedagogy</td>\n",
       "      <td>Sushil Agarwal</td>\n",
       "      <td>JITO Angel Network, LetsVenture</td>\n",
       "      <td>$1000000</td>\n",
       "      <td>2021-01-01</td>\n",
       "    </tr>\n",
       "  </tbody>\n",
       "</table>\n",
       "</div>"
      ],
      "text/plain": [
       "        Company_Brand  Founded HeadQuarter                  Sector  \\\n",
       "98            FanPlay   2020.0   Bangalore          Computer Games   \n",
       "538       Little Leap   2020.0   New Delhi                  Edtech   \n",
       "551             BHyve   2020.0      Mumbai         Human Resources   \n",
       "674      MYRE Capital   2020.0      Mumbai  Commercial Real Estate   \n",
       "677  Saarthi Pedagogy   2015.0   Ahmadabad                  Edtech   \n",
       "\n",
       "                                          What_it_does  \\\n",
       "98   A real money game app specializing in trivia g...   \n",
       "538                Soft Skills that make Smart Leaders   \n",
       "551  A Future of Work Platform for diffusing Employ...   \n",
       "674                Democratising Real Estate Ownership   \n",
       "677  India's fastest growing Pedagogy company, serv...   \n",
       "\n",
       "                                              Founders  \\\n",
       "98                                              Yc W21   \n",
       "538  Holistic Development Programs For Children In ...   \n",
       "551                                  Backed By 100X.Vc   \n",
       "674            Own Rent Yielding Commercial Properties   \n",
       "677                                           Pedagogy   \n",
       "\n",
       "                            Investor                           Amount  \\\n",
       "98       Pritesh Kumar, Bharat Gupta                         Upsparks   \n",
       "538                     Vishal Gupta                     ah! Ventures   \n",
       "551  Omkar Pandharkame, Ketaki Ogale   ITO Angel Network, LetsVenture   \n",
       "674                      Aryaman Vir                             None   \n",
       "677                   Sushil Agarwal  JITO Angel Network, LetsVenture   \n",
       "\n",
       "        Stage       Year  \n",
       "98   $1200000 2021-01-01  \n",
       "538   $300000 2021-01-01  \n",
       "551   $300000 2021-01-01  \n",
       "674  $6000000 2021-01-01  \n",
       "677  $1000000 2021-01-01  "
      ]
     },
     "execution_count": 48,
     "metadata": {},
     "output_type": "execute_result"
    }
   ],
   "source": [
    "data2[data2['Stage'].str.startswith('$', na=False)]"
   ]
  },
  {
   "cell_type": "markdown",
   "metadata": {},
   "source": [
    " EXTRACTING NUMERIC VALUES INTO COLUMN WITH STRING  AND NONUMERIC VALUES WITH NON NUMERIC VALUES"
   ]
  },
  {
   "cell_type": "code",
   "execution_count": 49,
   "metadata": {},
   "outputs": [
    {
     "name": "stdout",
     "output_type": "stream",
     "text": [
      "['Undisclosed' 'None' '$Undisclosed' 'Upsparks' 'Series C' 'Seed'\n",
      " '$undisclosed' 'ah! Ventures' 'Pre-series A'\n",
      " 'ITO Angel Network, LetsVenture' 'JITO Angel Network, LetsVenture' '$']\n"
     ]
    }
   ],
   "source": [
    "# Ensure all values in the 'Amount' column are strings\n",
    "data2['Amount'] = data2['Amount'].astype(str)\n",
    "\n",
    "# Function to check if the value is non-numeric\n",
    "def is_non_numeric(value):\n",
    "    try:\n",
    "        # Attempt to convert the cleaned value to a float\n",
    "        float(value.replace(',', '').replace('₹', '').replace('$', '').replace('—', ''))\n",
    "        return False\n",
    "    except ValueError:\n",
    "        return True\n",
    "\n",
    "# Apply the function to filter out rows with non-numeric values in the 'Amount' column\n",
    "non_numeric_values = data2[data2['Amount'].apply(is_non_numeric)]\n",
    "\n",
    "# Display only the non-numeric values in the 'Amount' column\n",
    "print(non_numeric_values['Amount'].unique()[:30])\n"
   ]
  },
  {
   "cell_type": "code",
   "execution_count": 50,
   "metadata": {},
   "outputs": [],
   "source": [
    "# update all misplaced values to their corresponding\n",
    "data2.loc[98,['Amount', 'Stage']]= ['$1200000', 'Series C']\n",
    "# data2.loc[111,['Amount','Investor', 'Stage']]= ['$1200000', 'upsparks', '']\n",
    "data2.loc[538,['Amount', 'Stage']]= ['$3000000', 'Seed']\n",
    "data2.loc[551,['Amount', 'Stage']]= ['$300000', 'Pre-Series A']\n",
    "data2.loc[674,['Amount', 'Stage']]= ['$600000', 'None']\n",
    "data2.loc[677,['Amount', 'Stage']]= ['$1000000', 'None']\n",
    "\n",
    "data2.loc[242,['Amount','Stage','Investor' ]]= ['$22000000', 'Series C','upsparks']\n",
    "# data2.loc[256,['Amount','Stage','Investor']]= ['$22000000', 'Series C','None']\n",
    "data2.loc[257,['Amount','Stage','Investor']]= ['$5000000', 'Seed ','ah!venture']\n",
    "data2.loc[545,['Amount','Stage','Investor']]= ['$1000000', 'Pre-Series A ','ITO Angel Network,LetsVenture']\n",
    "data2.loc[1100,['Amount','Stage','Investor']]= ['$undisclosed', 'None', 'None']\n",
    "data2.loc[1148,['Amount','Stage', 'Investor']]= ['$1000000','Seed', 'JITO Angel Network,LetVenture']\n",
    "# data2.loc[256]"
   ]
  },
  {
   "cell_type": "code",
   "execution_count": 51,
   "metadata": {},
   "outputs": [],
   "source": [
    "# Handling stage column with the most appearing-'Seed ' \n",
    "\n",
    "top_Stage= ['Seed','Pre-series A','Series A','Series B','Pre-seed','Series C', 'Debt']\n",
    "\n",
    "# Fill missing values \n",
    "def  fill_missing_Stage (Stage):\n",
    "    if pd.isna(Stage):\n",
    "        return np.random.choice(top_Stage)\n",
    "    return Stage\n",
    "\n",
    "data2['Stage']=data2['Stage'].apply(fill_missing_Stage)\n",
    "\n",
    "\n",
    "# Convert the stage column from object to category \n",
    "data2['Stage'] = data2['Stage'].astype('category')\n",
    "#"
   ]
  },
  {
   "cell_type": "markdown",
   "metadata": {},
   "source": [
    "Checking for Sumarry statistic of missing non_numeric_values"
   ]
  },
  {
   "cell_type": "code",
   "execution_count": 52,
   "metadata": {},
   "outputs": [
    {
     "data": {
      "text/plain": [
       "Company_Brand    0.00000\n",
       "Founded          0.00084\n",
       "HeadQuarter      0.00000\n",
       "Sector           0.00000\n",
       "What_it_does     0.00000\n",
       "Founders         0.00000\n",
       "Investor         0.00000\n",
       "Amount           0.00000\n",
       "Stage            0.00000\n",
       "Year             0.00000\n",
       "dtype: float64"
      ]
     },
     "execution_count": 52,
     "metadata": {},
     "output_type": "execute_result"
    }
   ],
   "source": [
    "# Checking for Sumarry statistic of missing non_numeric_values\n",
    "(data2\n",
    " .isna()\n",
    " .mean()\n",
    ")"
   ]
  },
  {
   "cell_type": "markdown",
   "metadata": {},
   "source": [
    "print all msing values using specified column."
   ]
  },
  {
   "cell_type": "markdown",
   "metadata": {},
   "source": [
    "Fill the missing values using backward fill "
   ]
  },
  {
   "cell_type": "code",
   "execution_count": 53,
   "metadata": {},
   "outputs": [
    {
     "name": "stdout",
     "output_type": "stream",
     "text": [
      "<class 'pandas.core.frame.DataFrame'>\n",
      "Index: 1190 entries, 0 to 1208\n",
      "Data columns (total 10 columns):\n",
      " #   Column         Non-Null Count  Dtype         \n",
      "---  ------         --------------  -----         \n",
      " 0   Company_Brand  1190 non-null   object        \n",
      " 1   Founded        1189 non-null   float64       \n",
      " 2   HeadQuarter    1190 non-null   object        \n",
      " 3   Sector         1190 non-null   object        \n",
      " 4   What_it_does   1190 non-null   object        \n",
      " 5   Founders       1190 non-null   object        \n",
      " 6   Investor       1190 non-null   object        \n",
      " 7   Amount         1190 non-null   object        \n",
      " 8   Stage          1190 non-null   category      \n",
      " 9   Year           1190 non-null   datetime64[ns]\n",
      "dtypes: category(1), datetime64[ns](1), float64(1), object(7)\n",
      "memory usage: 127.7+ KB\n"
     ]
    }
   ],
   "source": [
    "data2.info()"
   ]
  },
  {
   "cell_type": "code",
   "execution_count": 54,
   "metadata": {},
   "outputs": [
    {
     "name": "stdout",
     "output_type": "stream",
     "text": [
      "<class 'pandas.core.frame.DataFrame'>\n",
      "Index: 1190 entries, 0 to 1208\n",
      "Data columns (total 10 columns):\n",
      " #   Column         Non-Null Count  Dtype         \n",
      "---  ------         --------------  -----         \n",
      " 0   Company_Brand  1190 non-null   object        \n",
      " 1   Founded        1189 non-null   float64       \n",
      " 2   HeadQuarter    1190 non-null   object        \n",
      " 3   Sector         1190 non-null   object        \n",
      " 4   What_it_does   1190 non-null   object        \n",
      " 5   Founders       1190 non-null   object        \n",
      " 6   Investor       1190 non-null   object        \n",
      " 7   Amount         1190 non-null   object        \n",
      " 8   Stage          1190 non-null   category      \n",
      " 9   Year           1190 non-null   datetime64[ns]\n",
      "dtypes: category(1), datetime64[ns](1), float64(1), object(7)\n",
      "memory usage: 127.7+ KB\n"
     ]
    }
   ],
   "source": [
    "data2.info()"
   ]
  },
  {
   "cell_type": "markdown",
   "metadata": {},
   "source": [
    "LODING DATASET NUMBER THREE "
   ]
  },
  {
   "cell_type": "code",
   "execution_count": 55,
   "metadata": {},
   "outputs": [
    {
     "data": {
      "text/html": [
       "<div>\n",
       "<style scoped>\n",
       "    .dataframe tbody tr th:only-of-type {\n",
       "        vertical-align: middle;\n",
       "    }\n",
       "\n",
       "    .dataframe tbody tr th {\n",
       "        vertical-align: top;\n",
       "    }\n",
       "\n",
       "    .dataframe thead th {\n",
       "        text-align: right;\n",
       "    }\n",
       "</style>\n",
       "<table border=\"1\" class=\"dataframe\">\n",
       "  <thead>\n",
       "    <tr style=\"text-align: right;\">\n",
       "      <th></th>\n",
       "      <th>Company/Brand</th>\n",
       "      <th>Founded</th>\n",
       "      <th>HeadQuarter</th>\n",
       "      <th>Sector</th>\n",
       "      <th>What it does</th>\n",
       "      <th>Founders</th>\n",
       "      <th>Investor</th>\n",
       "      <th>Amount($)</th>\n",
       "      <th>Stage</th>\n",
       "    </tr>\n",
       "  </thead>\n",
       "  <tbody>\n",
       "    <tr>\n",
       "      <th>0</th>\n",
       "      <td>Bombay Shaving</td>\n",
       "      <td>NaN</td>\n",
       "      <td>NaN</td>\n",
       "      <td>Ecommerce</td>\n",
       "      <td>Provides a range of male grooming products</td>\n",
       "      <td>Shantanu Deshpande</td>\n",
       "      <td>Sixth Sense Ventures</td>\n",
       "      <td>$6,300,000</td>\n",
       "      <td>NaN</td>\n",
       "    </tr>\n",
       "    <tr>\n",
       "      <th>1</th>\n",
       "      <td>Ruangguru</td>\n",
       "      <td>2014.0</td>\n",
       "      <td>Mumbai</td>\n",
       "      <td>Edtech</td>\n",
       "      <td>A learning platform that provides topic-based ...</td>\n",
       "      <td>Adamas Belva Syah Devara, Iman Usman.</td>\n",
       "      <td>General Atlantic</td>\n",
       "      <td>$150,000,000</td>\n",
       "      <td>Series C</td>\n",
       "    </tr>\n",
       "    <tr>\n",
       "      <th>2</th>\n",
       "      <td>Eduisfun</td>\n",
       "      <td>NaN</td>\n",
       "      <td>Mumbai</td>\n",
       "      <td>Edtech</td>\n",
       "      <td>It aims to make learning fun via games.</td>\n",
       "      <td>Jatin Solanki</td>\n",
       "      <td>Deepak Parekh, Amitabh Bachchan, Piyush Pandey</td>\n",
       "      <td>$28,000,000</td>\n",
       "      <td>Fresh funding</td>\n",
       "    </tr>\n",
       "    <tr>\n",
       "      <th>3</th>\n",
       "      <td>HomeLane</td>\n",
       "      <td>2014.0</td>\n",
       "      <td>Chennai</td>\n",
       "      <td>Interior design</td>\n",
       "      <td>Provides interior designing solutions</td>\n",
       "      <td>Srikanth Iyer, Rama Harinath</td>\n",
       "      <td>Evolvence India Fund (EIF), Pidilite Group, FJ...</td>\n",
       "      <td>$30,000,000</td>\n",
       "      <td>Series D</td>\n",
       "    </tr>\n",
       "    <tr>\n",
       "      <th>4</th>\n",
       "      <td>Nu Genes</td>\n",
       "      <td>2004.0</td>\n",
       "      <td>Telangana</td>\n",
       "      <td>AgriTech</td>\n",
       "      <td>It is a seed company engaged in production, pr...</td>\n",
       "      <td>Narayana Reddy Punyala</td>\n",
       "      <td>Innovation in Food and Agriculture (IFA)</td>\n",
       "      <td>$6,000,000</td>\n",
       "      <td>NaN</td>\n",
       "    </tr>\n",
       "  </tbody>\n",
       "</table>\n",
       "</div>"
      ],
      "text/plain": [
       "    Company/Brand  Founded HeadQuarter           Sector  \\\n",
       "0  Bombay Shaving      NaN         NaN        Ecommerce   \n",
       "1       Ruangguru   2014.0      Mumbai           Edtech   \n",
       "2        Eduisfun      NaN      Mumbai           Edtech   \n",
       "3        HomeLane   2014.0     Chennai  Interior design   \n",
       "4        Nu Genes   2004.0   Telangana         AgriTech   \n",
       "\n",
       "                                        What it does  \\\n",
       "0         Provides a range of male grooming products   \n",
       "1  A learning platform that provides topic-based ...   \n",
       "2            It aims to make learning fun via games.   \n",
       "3              Provides interior designing solutions   \n",
       "4  It is a seed company engaged in production, pr...   \n",
       "\n",
       "                                Founders  \\\n",
       "0                     Shantanu Deshpande   \n",
       "1  Adamas Belva Syah Devara, Iman Usman.   \n",
       "2                          Jatin Solanki   \n",
       "3           Srikanth Iyer, Rama Harinath   \n",
       "4                 Narayana Reddy Punyala   \n",
       "\n",
       "                                            Investor     Amount($)  \\\n",
       "0                               Sixth Sense Ventures    $6,300,000   \n",
       "1                                   General Atlantic  $150,000,000   \n",
       "2     Deepak Parekh, Amitabh Bachchan, Piyush Pandey   $28,000,000   \n",
       "3  Evolvence India Fund (EIF), Pidilite Group, FJ...   $30,000,000   \n",
       "4           Innovation in Food and Agriculture (IFA)    $6,000,000   \n",
       "\n",
       "           Stage  \n",
       "0            NaN  \n",
       "1       Series C  \n",
       "2  Fresh funding  \n",
       "3       Series D  \n",
       "4            NaN  "
      ]
     },
     "execution_count": 55,
     "metadata": {},
     "output_type": "execute_result"
    }
   ],
   "source": [
    "data3.head()"
   ]
  },
  {
   "cell_type": "code",
   "execution_count": 56,
   "metadata": {},
   "outputs": [
    {
     "data": {
      "text/html": [
       "<div>\n",
       "<style scoped>\n",
       "    .dataframe tbody tr th:only-of-type {\n",
       "        vertical-align: middle;\n",
       "    }\n",
       "\n",
       "    .dataframe tbody tr th {\n",
       "        vertical-align: top;\n",
       "    }\n",
       "\n",
       "    .dataframe thead th {\n",
       "        text-align: right;\n",
       "    }\n",
       "</style>\n",
       "<table border=\"1\" class=\"dataframe\">\n",
       "  <thead>\n",
       "    <tr style=\"text-align: right;\">\n",
       "      <th></th>\n",
       "      <th>count</th>\n",
       "      <th>mean</th>\n",
       "      <th>std</th>\n",
       "      <th>min</th>\n",
       "      <th>25%</th>\n",
       "      <th>50%</th>\n",
       "      <th>75%</th>\n",
       "      <th>max</th>\n",
       "    </tr>\n",
       "  </thead>\n",
       "  <tbody>\n",
       "    <tr>\n",
       "      <th>Founded</th>\n",
       "      <td>60.0</td>\n",
       "      <td>2014.533333</td>\n",
       "      <td>2.937003</td>\n",
       "      <td>2004.0</td>\n",
       "      <td>2013.0</td>\n",
       "      <td>2015.0</td>\n",
       "      <td>2016.25</td>\n",
       "      <td>2019.0</td>\n",
       "    </tr>\n",
       "  </tbody>\n",
       "</table>\n",
       "</div>"
      ],
      "text/plain": [
       "         count         mean       std     min     25%     50%      75%     max\n",
       "Founded   60.0  2014.533333  2.937003  2004.0  2013.0  2015.0  2016.25  2019.0"
      ]
     },
     "execution_count": 56,
     "metadata": {},
     "output_type": "execute_result"
    }
   ],
   "source": [
    "data3.describe().T"
   ]
  },
  {
   "cell_type": "code",
   "execution_count": 57,
   "metadata": {},
   "outputs": [
    {
     "name": "stdout",
     "output_type": "stream",
     "text": [
      "<class 'pandas.core.frame.DataFrame'>\n",
      "RangeIndex: 89 entries, 0 to 88\n",
      "Data columns (total 9 columns):\n",
      " #   Column         Non-Null Count  Dtype  \n",
      "---  ------         --------------  -----  \n",
      " 0   Company/Brand  89 non-null     object \n",
      " 1   Founded        60 non-null     float64\n",
      " 2   HeadQuarter    70 non-null     object \n",
      " 3   Sector         84 non-null     object \n",
      " 4   What it does   89 non-null     object \n",
      " 5   Founders       86 non-null     object \n",
      " 6   Investor       89 non-null     object \n",
      " 7   Amount($)      89 non-null     object \n",
      " 8   Stage          43 non-null     object \n",
      "dtypes: float64(1), object(8)\n",
      "memory usage: 6.4+ KB\n"
     ]
    }
   ],
   "source": [
    "data3.info()"
   ]
  },
  {
   "cell_type": "markdown",
   "metadata": {},
   "source": [
    "DATA THREE CLEANING"
   ]
  },
  {
   "cell_type": "code",
   "execution_count": 58,
   "metadata": {},
   "outputs": [
    {
     "data": {
      "text/plain": [
       "0"
      ]
     },
     "execution_count": 58,
     "metadata": {},
     "output_type": "execute_result"
    }
   ],
   "source": [
    "data3.duplicated().sum()"
   ]
  },
  {
   "cell_type": "code",
   "execution_count": 59,
   "metadata": {},
   "outputs": [
    {
     "data": {
      "text/html": [
       "<div>\n",
       "<style scoped>\n",
       "    .dataframe tbody tr th:only-of-type {\n",
       "        vertical-align: middle;\n",
       "    }\n",
       "\n",
       "    .dataframe tbody tr th {\n",
       "        vertical-align: top;\n",
       "    }\n",
       "\n",
       "    .dataframe thead th {\n",
       "        text-align: right;\n",
       "    }\n",
       "</style>\n",
       "<table border=\"1\" class=\"dataframe\">\n",
       "  <thead>\n",
       "    <tr style=\"text-align: right;\">\n",
       "      <th></th>\n",
       "      <th>Null Count</th>\n",
       "      <th>Percentage</th>\n",
       "    </tr>\n",
       "  </thead>\n",
       "  <tbody>\n",
       "    <tr>\n",
       "      <th>Company/Brand</th>\n",
       "      <td>0</td>\n",
       "      <td>0.000000</td>\n",
       "    </tr>\n",
       "    <tr>\n",
       "      <th>Founded</th>\n",
       "      <td>29</td>\n",
       "      <td>2.756654</td>\n",
       "    </tr>\n",
       "    <tr>\n",
       "      <th>HeadQuarter</th>\n",
       "      <td>19</td>\n",
       "      <td>1.806084</td>\n",
       "    </tr>\n",
       "    <tr>\n",
       "      <th>Sector</th>\n",
       "      <td>5</td>\n",
       "      <td>0.475285</td>\n",
       "    </tr>\n",
       "    <tr>\n",
       "      <th>What it does</th>\n",
       "      <td>0</td>\n",
       "      <td>0.000000</td>\n",
       "    </tr>\n",
       "    <tr>\n",
       "      <th>Founders</th>\n",
       "      <td>3</td>\n",
       "      <td>0.285171</td>\n",
       "    </tr>\n",
       "    <tr>\n",
       "      <th>Investor</th>\n",
       "      <td>0</td>\n",
       "      <td>0.000000</td>\n",
       "    </tr>\n",
       "    <tr>\n",
       "      <th>Amount($)</th>\n",
       "      <td>0</td>\n",
       "      <td>0.000000</td>\n",
       "    </tr>\n",
       "    <tr>\n",
       "      <th>Stage</th>\n",
       "      <td>46</td>\n",
       "      <td>4.372624</td>\n",
       "    </tr>\n",
       "  </tbody>\n",
       "</table>\n",
       "</div>"
      ],
      "text/plain": [
       "               Null Count  Percentage\n",
       "Company/Brand           0    0.000000\n",
       "Founded                29    2.756654\n",
       "HeadQuarter            19    1.806084\n",
       "Sector                  5    0.475285\n",
       "What it does            0    0.000000\n",
       "Founders                3    0.285171\n",
       "Investor                0    0.000000\n",
       "Amount($)               0    0.000000\n",
       "Stage                  46    4.372624"
      ]
     },
     "execution_count": 59,
     "metadata": {},
     "output_type": "execute_result"
    }
   ],
   "source": [
    "# Missing values with their percentages \n",
    "data3.isnull().sum().to_frame('Null Count').assign(Percentage=lambda x: (x['Null Count'] / len(data)) * 100)"
   ]
  },
  {
   "cell_type": "code",
   "execution_count": 60,
   "metadata": {},
   "outputs": [
    {
     "name": "stdout",
     "output_type": "stream",
     "text": [
      "[nan 'Series C' 'Fresh funding' 'Series D' 'Pre series A' 'Series A'\n",
      " 'Series G' 'Series B' 'Post series A' 'Seed funding' 'Seed fund'\n",
      " 'Series E' 'Series F' 'Series B+' 'Seed round' 'Pre-series A']\n"
     ]
    }
   ],
   "source": [
    "# Get all unique values in the \"Company_Brand\" column\n",
    "data3= pd.DataFrame(data3)\n",
    "unique_brands = data3['Stage'].unique()\n",
    "# Print the first 50 unique values\n",
    "print(unique_brands[:200])"
   ]
  },
  {
   "cell_type": "markdown",
   "metadata": {},
   "source": [
    " EXTRACTING NUMERIC VALUES INTO COLUMN WITH STRING  AND NONUMERIC VALUES WITH"
   ]
  },
  {
   "cell_type": "code",
   "execution_count": 61,
   "metadata": {},
   "outputs": [
    {
     "name": "stdout",
     "output_type": "stream",
     "text": [
      "['Undisclosed']\n"
     ]
    }
   ],
   "source": [
    "# Ensure all values in the 'Amount' column are strings\n",
    "data3['Amount($)'] = data3['Amount($)'].astype(str)\n",
    "\n",
    "# Function to check if the value is non-numeric\n",
    "def is_non_numeric(value):\n",
    "    try:\n",
    "        # Attempt to convert the cleaned value to a float\n",
    "        float(value.replace(',', '').replace('₹', '').replace('$', '').replace('—', ''))\n",
    "        return False\n",
    "    except ValueError:\n",
    "        return True\n",
    "\n",
    "# Apply the function to filter out rows with non-numeric values in the 'Amount' column\n",
    "non_numeric_values = data3[data3['Amount($)'].apply(is_non_numeric)]\n",
    "\n",
    "# Display the filtered rows\n",
    "# Display only the non-numeric values in the 'Amount' column\n",
    "print(non_numeric_values['Amount($)'].unique()[:5])"
   ]
  },
  {
   "cell_type": "markdown",
   "metadata": {},
   "source": [
    "Check Whether there was misplaced value of Amount"
   ]
  },
  {
   "cell_type": "code",
   "execution_count": 62,
   "metadata": {},
   "outputs": [
    {
     "data": {
      "text/html": [
       "<div>\n",
       "<style scoped>\n",
       "    .dataframe tbody tr th:only-of-type {\n",
       "        vertical-align: middle;\n",
       "    }\n",
       "\n",
       "    .dataframe tbody tr th {\n",
       "        vertical-align: top;\n",
       "    }\n",
       "\n",
       "    .dataframe thead th {\n",
       "        text-align: right;\n",
       "    }\n",
       "</style>\n",
       "<table border=\"1\" class=\"dataframe\">\n",
       "  <thead>\n",
       "    <tr style=\"text-align: right;\">\n",
       "      <th></th>\n",
       "      <th>Company/Brand</th>\n",
       "      <th>Founded</th>\n",
       "      <th>HeadQuarter</th>\n",
       "      <th>Sector</th>\n",
       "      <th>What it does</th>\n",
       "      <th>Founders</th>\n",
       "      <th>Investor</th>\n",
       "      <th>Amount($)</th>\n",
       "      <th>Stage</th>\n",
       "    </tr>\n",
       "  </thead>\n",
       "  <tbody>\n",
       "    <tr>\n",
       "      <th>0</th>\n",
       "      <td>Bombay Shaving</td>\n",
       "      <td>NaN</td>\n",
       "      <td>NaN</td>\n",
       "      <td>Ecommerce</td>\n",
       "      <td>Provides a range of male grooming products</td>\n",
       "      <td>Shantanu Deshpande</td>\n",
       "      <td>Sixth Sense Ventures</td>\n",
       "      <td>$6,300,000</td>\n",
       "      <td>NaN</td>\n",
       "    </tr>\n",
       "    <tr>\n",
       "      <th>1</th>\n",
       "      <td>Ruangguru</td>\n",
       "      <td>2014.0</td>\n",
       "      <td>Mumbai</td>\n",
       "      <td>Edtech</td>\n",
       "      <td>A learning platform that provides topic-based ...</td>\n",
       "      <td>Adamas Belva Syah Devara, Iman Usman.</td>\n",
       "      <td>General Atlantic</td>\n",
       "      <td>$150,000,000</td>\n",
       "      <td>Series C</td>\n",
       "    </tr>\n",
       "    <tr>\n",
       "      <th>2</th>\n",
       "      <td>Eduisfun</td>\n",
       "      <td>NaN</td>\n",
       "      <td>Mumbai</td>\n",
       "      <td>Edtech</td>\n",
       "      <td>It aims to make learning fun via games.</td>\n",
       "      <td>Jatin Solanki</td>\n",
       "      <td>Deepak Parekh, Amitabh Bachchan, Piyush Pandey</td>\n",
       "      <td>$28,000,000</td>\n",
       "      <td>Fresh funding</td>\n",
       "    </tr>\n",
       "    <tr>\n",
       "      <th>3</th>\n",
       "      <td>HomeLane</td>\n",
       "      <td>2014.0</td>\n",
       "      <td>Chennai</td>\n",
       "      <td>Interior design</td>\n",
       "      <td>Provides interior designing solutions</td>\n",
       "      <td>Srikanth Iyer, Rama Harinath</td>\n",
       "      <td>Evolvence India Fund (EIF), Pidilite Group, FJ...</td>\n",
       "      <td>$30,000,000</td>\n",
       "      <td>Series D</td>\n",
       "    </tr>\n",
       "    <tr>\n",
       "      <th>4</th>\n",
       "      <td>Nu Genes</td>\n",
       "      <td>2004.0</td>\n",
       "      <td>Telangana</td>\n",
       "      <td>AgriTech</td>\n",
       "      <td>It is a seed company engaged in production, pr...</td>\n",
       "      <td>Narayana Reddy Punyala</td>\n",
       "      <td>Innovation in Food and Agriculture (IFA)</td>\n",
       "      <td>$6,000,000</td>\n",
       "      <td>NaN</td>\n",
       "    </tr>\n",
       "    <tr>\n",
       "      <th>...</th>\n",
       "      <td>...</td>\n",
       "      <td>...</td>\n",
       "      <td>...</td>\n",
       "      <td>...</td>\n",
       "      <td>...</td>\n",
       "      <td>...</td>\n",
       "      <td>...</td>\n",
       "      <td>...</td>\n",
       "      <td>...</td>\n",
       "    </tr>\n",
       "    <tr>\n",
       "      <th>84</th>\n",
       "      <td>Infra.Market</td>\n",
       "      <td>NaN</td>\n",
       "      <td>Mumbai</td>\n",
       "      <td>Infratech</td>\n",
       "      <td>It connects client requirements to their suppl...</td>\n",
       "      <td>Aaditya Sharda, Souvik Sengupta</td>\n",
       "      <td>Tiger Global, Nexus Venture Partners, Accel Pa...</td>\n",
       "      <td>$20,000,000</td>\n",
       "      <td>Series A</td>\n",
       "    </tr>\n",
       "    <tr>\n",
       "      <th>85</th>\n",
       "      <td>Oyo</td>\n",
       "      <td>2013.0</td>\n",
       "      <td>Gurugram</td>\n",
       "      <td>Hospitality</td>\n",
       "      <td>Provides rooms for comfortable stay</td>\n",
       "      <td>Ritesh Agarwal</td>\n",
       "      <td>MyPreferred Transformation, Avendus Finance, S...</td>\n",
       "      <td>$693,000,000</td>\n",
       "      <td>NaN</td>\n",
       "    </tr>\n",
       "    <tr>\n",
       "      <th>86</th>\n",
       "      <td>GoMechanic</td>\n",
       "      <td>2016.0</td>\n",
       "      <td>Delhi</td>\n",
       "      <td>Automobile &amp; Technology</td>\n",
       "      <td>Find automobile repair and maintenance service...</td>\n",
       "      <td>Amit Bhasin, Kushal Karwa, Nitin Rana, Rishabh...</td>\n",
       "      <td>Sequoia Capital</td>\n",
       "      <td>$5,000,000</td>\n",
       "      <td>Series B</td>\n",
       "    </tr>\n",
       "    <tr>\n",
       "      <th>87</th>\n",
       "      <td>Spinny</td>\n",
       "      <td>2015.0</td>\n",
       "      <td>Delhi</td>\n",
       "      <td>Automobile</td>\n",
       "      <td>Online car retailer</td>\n",
       "      <td>Niraj Singh, Ramanshu Mahaur, Ganesh Pawar, Mo...</td>\n",
       "      <td>Norwest Venture Partners, General Catalyst, Fu...</td>\n",
       "      <td>$50,000,000</td>\n",
       "      <td>NaN</td>\n",
       "    </tr>\n",
       "    <tr>\n",
       "      <th>88</th>\n",
       "      <td>Ess Kay Fincorp</td>\n",
       "      <td>NaN</td>\n",
       "      <td>Rajasthan</td>\n",
       "      <td>Banking</td>\n",
       "      <td>Organised Non-Banking Finance Company</td>\n",
       "      <td>Rajendra Setia</td>\n",
       "      <td>TPG, Norwest Venture Partners, Evolvence India</td>\n",
       "      <td>$33,000,000</td>\n",
       "      <td>NaN</td>\n",
       "    </tr>\n",
       "  </tbody>\n",
       "</table>\n",
       "<p>89 rows × 9 columns</p>\n",
       "</div>"
      ],
      "text/plain": [
       "      Company/Brand  Founded HeadQuarter                   Sector  \\\n",
       "0    Bombay Shaving      NaN         NaN                Ecommerce   \n",
       "1         Ruangguru   2014.0      Mumbai                   Edtech   \n",
       "2          Eduisfun      NaN      Mumbai                   Edtech   \n",
       "3          HomeLane   2014.0     Chennai          Interior design   \n",
       "4          Nu Genes   2004.0   Telangana                 AgriTech   \n",
       "..              ...      ...         ...                      ...   \n",
       "84     Infra.Market      NaN      Mumbai                Infratech   \n",
       "85              Oyo   2013.0    Gurugram              Hospitality   \n",
       "86       GoMechanic   2016.0       Delhi  Automobile & Technology   \n",
       "87           Spinny   2015.0       Delhi               Automobile   \n",
       "88  Ess Kay Fincorp      NaN   Rajasthan                  Banking   \n",
       "\n",
       "                                         What it does  \\\n",
       "0          Provides a range of male grooming products   \n",
       "1   A learning platform that provides topic-based ...   \n",
       "2             It aims to make learning fun via games.   \n",
       "3               Provides interior designing solutions   \n",
       "4   It is a seed company engaged in production, pr...   \n",
       "..                                                ...   \n",
       "84  It connects client requirements to their suppl...   \n",
       "85                Provides rooms for comfortable stay   \n",
       "86  Find automobile repair and maintenance service...   \n",
       "87                                Online car retailer   \n",
       "88              Organised Non-Banking Finance Company   \n",
       "\n",
       "                                             Founders  \\\n",
       "0                                  Shantanu Deshpande   \n",
       "1               Adamas Belva Syah Devara, Iman Usman.   \n",
       "2                                       Jatin Solanki   \n",
       "3                        Srikanth Iyer, Rama Harinath   \n",
       "4                              Narayana Reddy Punyala   \n",
       "..                                                ...   \n",
       "84                    Aaditya Sharda, Souvik Sengupta   \n",
       "85                                     Ritesh Agarwal   \n",
       "86  Amit Bhasin, Kushal Karwa, Nitin Rana, Rishabh...   \n",
       "87  Niraj Singh, Ramanshu Mahaur, Ganesh Pawar, Mo...   \n",
       "88                                     Rajendra Setia   \n",
       "\n",
       "                                             Investor     Amount($)  \\\n",
       "0                                Sixth Sense Ventures    $6,300,000   \n",
       "1                                    General Atlantic  $150,000,000   \n",
       "2      Deepak Parekh, Amitabh Bachchan, Piyush Pandey   $28,000,000   \n",
       "3   Evolvence India Fund (EIF), Pidilite Group, FJ...   $30,000,000   \n",
       "4            Innovation in Food and Agriculture (IFA)    $6,000,000   \n",
       "..                                                ...           ...   \n",
       "84  Tiger Global, Nexus Venture Partners, Accel Pa...   $20,000,000   \n",
       "85  MyPreferred Transformation, Avendus Finance, S...  $693,000,000   \n",
       "86                                    Sequoia Capital    $5,000,000   \n",
       "87  Norwest Venture Partners, General Catalyst, Fu...   $50,000,000   \n",
       "88     TPG, Norwest Venture Partners, Evolvence India   $33,000,000   \n",
       "\n",
       "            Stage  \n",
       "0             NaN  \n",
       "1        Series C  \n",
       "2   Fresh funding  \n",
       "3        Series D  \n",
       "4             NaN  \n",
       "..            ...  \n",
       "84       Series A  \n",
       "85            NaN  \n",
       "86       Series B  \n",
       "87            NaN  \n",
       "88            NaN  \n",
       "\n",
       "[89 rows x 9 columns]"
      ]
     },
     "execution_count": 62,
     "metadata": {},
     "output_type": "execute_result"
    }
   ],
   "source": [
    "# Convert 'Founded' column to string type\n",
    "data3['Amount($)'] = data3['Amount($)'].astype(str)\n",
    "\n",
    "# Define the pattern\n",
    "pattern = r'^[\\$\\₹]|\\b\\d'\n",
    "\n",
    "# Filter the DataFrame where 'Founded' values start with $, ₹, or an integer\n",
    "filtered_data3 = data3[data3['Amount($)'].str.match(pattern, na=False)]\n",
    "data3"
   ]
  },
  {
   "cell_type": "code",
   "execution_count": 63,
   "metadata": {},
   "outputs": [
    {
     "data": {
      "text/plain": [
       "Company/Brand     0\n",
       "Founded          29\n",
       "HeadQuarter      19\n",
       "Sector            5\n",
       "What it does      0\n",
       "Founders          3\n",
       "Investor          0\n",
       "Amount($)         0\n",
       "Stage            46\n",
       "dtype: int64"
      ]
     },
     "execution_count": 63,
     "metadata": {},
     "output_type": "execute_result"
    }
   ],
   "source": [
    "data3.isna().sum()"
   ]
  },
  {
   "cell_type": "markdown",
   "metadata": {},
   "source": [
    "DATA3 CLEANING"
   ]
  },
  {
   "cell_type": "code",
   "execution_count": 64,
   "metadata": {},
   "outputs": [],
   "source": [
    "#Add 'Year' Column 2021\n",
    "data3['Year']=2019\n",
    "\n",
    "# Convert year Column to a dataetime format\n",
    "data3['Year'] = pd.to_datetime(data3['Year'], format='%Y')"
   ]
  },
  {
   "cell_type": "code",
   "execution_count": 65,
   "metadata": {},
   "outputs": [],
   "source": [
    "\n",
    "# Handling the Company/Brand Colum\n",
    "\n",
    "#Change column name to Company_Brand\n",
    "\n",
    "data3.rename(columns={'Company/Brand': 'Company_Brand'}, inplace=True)\n",
    "\n",
    "# Convert all entries to title\n",
    "data3['Company_Brand'] = data3['Company_Brand'].str.title()"
   ]
  },
  {
   "cell_type": "code",
   "execution_count": 66,
   "metadata": {},
   "outputs": [],
   "source": [
    "# Handling Founded Column\n",
    "\n",
    "# Fill missing values with the median\n",
    "data3['Founded'] = data3['Founded'].fillna(data3['Founded'].median())\n",
    "\n",
    "\n",
    "# Convert 'Founded'  to integer datatype \n",
    "data3['Founded'] = data3 ['Founded'].astype(int)"
   ]
  },
  {
   "cell_type": "code",
   "execution_count": 67,
   "metadata": {},
   "outputs": [],
   "source": [
    "# Handling the HeadQuarter Colum fill with the most appearing HeadQuarter\n",
    "\n",
    "#Fill missing Values \n",
    "\n",
    "top_HeadQuarter = ['Bangalore','Mumbai','Delhi','Noida','Gurugram','Chennai','Pune', 'Jaipur', 'Telangana', 'Ahmedabad', 'Haryana']\n",
    "\n",
    "def  fill_missing_HeadQuarter (HeadQuarter):\n",
    "    if pd.isna(HeadQuarter):\n",
    "        return np.random.choice(top_HeadQuarter)\n",
    "    return HeadQuarter\n",
    "\n",
    "\n",
    "data3['HeadQuarter']=data3['HeadQuarter'].apply(fill_missing_HeadQuarter)"
   ]
  },
  {
   "cell_type": "code",
   "execution_count": 68,
   "metadata": {},
   "outputs": [
    {
     "data": {
      "text/plain": [
       "0                   Ecommerce\n",
       "1                      Edtech\n",
       "2                      Edtech\n",
       "3             Interior Design\n",
       "4                    Agritech\n",
       "               ...           \n",
       "84                  Infratech\n",
       "85                Hospitality\n",
       "86    Automobile & Technology\n",
       "87                 Automobile\n",
       "88                    Banking\n",
       "Name: Sector, Length: 89, dtype: object"
      ]
     },
     "execution_count": 68,
     "metadata": {},
     "output_type": "execute_result"
    }
   ],
   "source": [
    "# Handling the Sector column Fill with the most appearing sector\n",
    "\n",
    "top_Sector =['Fintech','EdTech','Healthtech','SaaS','Ecommerce','AgriTech','Ai',\n",
    "             'Gaming', 'Logistics', 'Foodtech', 'Food', 'Entertainment', 'Tech Company', 'Iot', 'Cosmetics', 'Automobile']\n",
    "\n",
    "# Fill missing value with random values from top 16 Sector\n",
    "\n",
    "def  fill_missing_Sector (Sector):\n",
    "    if pd.isna(Sector):\n",
    "        return np.random.choice(top_Sector)\n",
    "    return Sector\n",
    "\n",
    "data3['Sector']=data3['Sector'].apply(fill_missing_Sector)\n",
    "\n",
    "# Convert all values to lower case\n",
    "data3['Sector'] = data3['Sector'].str.lower()\n",
    "\n",
    "import re\n",
    " \n",
    "def sector_redistribution(Sector):\n",
    "    if re.search('bank|fintech|finance|credit|mobile Payments|lending|crypto|financial services|account|credit|venture|crowd|blockchain|mutual funds|virtual banking|banking|', Sector):\n",
    "        return 'Finance'\n",
    "    elif re.search(r'automotive|air transport|transport|ticketing|logistics|vehicle|transportation|developer platform|app|', Sector):\n",
    "        return 'Transport'\n",
    "    elif re.search(r'agriTech|agri|farming|agriculture|agtech|', Sector):  \n",
    "        return 'Agriculture'\n",
    "    elif re.search(r'legal tech|automotive tech|automation|analytics|big data|cybersecurity|cloud infrastructure|automobile|infratech|biotechnology|automobile & technology|robotics & ai|e-marketplace|iot|ai|ecommerce|technology|saas|ai & tech|e-commerce|e-commerce|ar|fintech|hr tech|safety tech|', Sector):\n",
    "        return 'Technology'\n",
    "    elif re.search (r'marketing|customer loyalty|product research|advertising|brand marketing|event promotion|market research|', Sector):\n",
    "        return 'Marketing'\n",
    "    elif re.search (r'insurance technology|insurance|', Sector):\n",
    "        return 'Insurance '\n",
    "    elif re.search (r'food tech|food|food & nutrition|food & tech|snack food|food processing|nutrition|food & beverage|food delivery|', Sector):\n",
    "        return 'Food'\n",
    "    elif re.search (r'pharmaceutical|healthtech|personal health|peer to peer|health diagnostic|health|' , Sector):\n",
    "        return 'Health & Wellness'\n",
    "    elif re.search (r'yoga|sports|yoga & wellness|', Sector):\n",
    "        return 'Fitness'\n",
    "    elif re.search (r'manufacturing', Sector):\n",
    "        return 'Manufacturing'\n",
    "    elif re.search (r'cosmetics|beauty|', Sector):\n",
    "        return 'Beauty'\n",
    "    elif re.search(r'social media|broadcasting|video chat|messaging|online portals|media and entertainmwent|audio|e-sports|games|internet|gaming|', Sector):\n",
    "        return 'Info-media'\n",
    "    elif re.search(r'interior design|accomodation|home renovation|service industry|laundry and dry cleaning|home decor|home improvement|hospitality|hotel|leisure|', Sector):\n",
    "        return 'Sevice Industry'\n",
    "    elif re.search (r'edtech|education|learning|', Sector):\n",
    "        return 'Education'\n",
    "    elif re.search(r'fashion|eyewear|jewellery|lifestyle|', Sector):\n",
    "        return 'Fashion'\n",
    "    elif re.search(r' b2b|b2B|supply chain|marketplace|retail|entreprise software|retail|consumer goods|trading platform|consumer|', Sector):\n",
    "        return 'Entreprising'\n",
    "    elif re.search(r'waste management|', Sector):\n",
    "        return 'Environment'\n",
    "    elif re.search(r'rental|property|real estate|smart building', Sector):\n",
    "        return 'Real Estate'\n",
    "    elif re.search(r'fraud detection|security|intelligence|cyber security|public safety|', Sector):\n",
    "        return 'Security'\n",
    "    \n",
    "    else:\n",
    "        return Sector\n",
    "    \n",
    "    \n",
    "# Convert all entries to title case \n",
    "data3['Sector'] = data3['Sector'].str.title()\n",
    "    \n",
    "data3['Sector'] \n"
   ]
  },
  {
   "cell_type": "code",
   "execution_count": 69,
   "metadata": {},
   "outputs": [],
   "source": [
    "# Handling the  What it does  Column\n",
    "\n",
    "#Change column name to What_it_does\n",
    "\n",
    "data3.rename(columns={'What it does': 'What_it_does'}, inplace=True)"
   ]
  },
  {
   "cell_type": "code",
   "execution_count": 70,
   "metadata": {},
   "outputs": [],
   "source": [
    "#Handling Founders Column\n",
    "\n",
    "\n",
    "# Fill missing value with random values from top 8 Founders\n",
    "\n",
    "top_Founders =[ 'Vivek Gupta & Abhay Hanjura','Shantanu Deshpande','Manish Kumar','Saurav Kumar',\n",
    "               'Visakh Sasikumar', 'Sandeep Dalmia & Anindya Dutta',\n",
    "                'Krishnan & Manju Dhawan & K Satyanarayana & Sanjeev Saxena','Sawan Kumar & Bhavya Bhambhani',\n",
    "                'Mayank Dhanuka & Sunoor Kaul','Akanksha Hazari']                      \n",
    "                \n",
    "def  fill_missing_Founders (Founders):\n",
    "    if pd.isna(Founders):\n",
    "        return np.random.choice(top_Founders)\n",
    "    return Founders\n",
    "\n",
    "data3['Founders']=data3['Founders'].apply(fill_missing_Founders)\n",
    "\n",
    "# Convert all entries to title case \n",
    "data3['Founders'] = data3['Founders'].str.title()"
   ]
  },
  {
   "cell_type": "code",
   "execution_count": 71,
   "metadata": {},
   "outputs": [],
   "source": [
    "# Handling the Amount Column\n",
    "\n",
    "#Change column name to Amount \n",
    "data3.rename(columns={'Amount($)': 'Amount'}, inplace=True)\n",
    "\n",
    "\n",
    "data3['Amount'] = data3['Amount'].str.replace(',','').str.replace('$','')\n",
    "\n",
    "# Convert all undisclosed to \n",
    "\n",
    "data3['Amount'].replace('Undisclosed','0', inplace=True)\n",
    "\n",
    "# Convertt to a float type \n",
    "data3['Amount']= data3['Amount'].astype('float')"
   ]
  },
  {
   "cell_type": "code",
   "execution_count": 72,
   "metadata": {},
   "outputs": [
    {
     "data": {
      "text/html": [
       "<div>\n",
       "<style scoped>\n",
       "    .dataframe tbody tr th:only-of-type {\n",
       "        vertical-align: middle;\n",
       "    }\n",
       "\n",
       "    .dataframe tbody tr th {\n",
       "        vertical-align: top;\n",
       "    }\n",
       "\n",
       "    .dataframe thead th {\n",
       "        text-align: right;\n",
       "    }\n",
       "</style>\n",
       "<table border=\"1\" class=\"dataframe\">\n",
       "  <thead>\n",
       "    <tr style=\"text-align: right;\">\n",
       "      <th></th>\n",
       "      <th>Company_Brand</th>\n",
       "      <th>Founded</th>\n",
       "      <th>HeadQuarter</th>\n",
       "      <th>Sector</th>\n",
       "      <th>What_it_does</th>\n",
       "      <th>Founders</th>\n",
       "      <th>Investor</th>\n",
       "      <th>Amount</th>\n",
       "      <th>Stage</th>\n",
       "      <th>Year</th>\n",
       "    </tr>\n",
       "  </thead>\n",
       "  <tbody>\n",
       "    <tr>\n",
       "      <th>0</th>\n",
       "      <td>Bombay Shaving</td>\n",
       "      <td>2015</td>\n",
       "      <td>Jaipur</td>\n",
       "      <td>Ecommerce</td>\n",
       "      <td>Provides a range of male grooming products</td>\n",
       "      <td>Shantanu Deshpande</td>\n",
       "      <td>Sixth Sense Ventures</td>\n",
       "      <td>6300000.0</td>\n",
       "      <td>NaN</td>\n",
       "      <td>2019-01-01</td>\n",
       "    </tr>\n",
       "    <tr>\n",
       "      <th>4</th>\n",
       "      <td>Nu Genes</td>\n",
       "      <td>2004</td>\n",
       "      <td>Telangana</td>\n",
       "      <td>Agritech</td>\n",
       "      <td>It is a seed company engaged in production, pr...</td>\n",
       "      <td>Narayana Reddy Punyala</td>\n",
       "      <td>Innovation in Food and Agriculture (IFA)</td>\n",
       "      <td>6000000.0</td>\n",
       "      <td>NaN</td>\n",
       "      <td>2019-01-01</td>\n",
       "    </tr>\n",
       "    <tr>\n",
       "      <th>5</th>\n",
       "      <td>Flytbase</td>\n",
       "      <td>2015</td>\n",
       "      <td>Pune</td>\n",
       "      <td>Technology</td>\n",
       "      <td>A drone automation platform</td>\n",
       "      <td>Nitin Gupta</td>\n",
       "      <td>Undisclosed</td>\n",
       "      <td>0.0</td>\n",
       "      <td>NaN</td>\n",
       "      <td>2019-01-01</td>\n",
       "    </tr>\n",
       "    <tr>\n",
       "      <th>6</th>\n",
       "      <td>Finly</td>\n",
       "      <td>2015</td>\n",
       "      <td>Bangalore</td>\n",
       "      <td>Saas</td>\n",
       "      <td>It builds software products that makes work si...</td>\n",
       "      <td>Vivek Ag, Veekshith C Rai</td>\n",
       "      <td>Social Capital, AngelList India, Gemba Capital...</td>\n",
       "      <td>0.0</td>\n",
       "      <td>NaN</td>\n",
       "      <td>2019-01-01</td>\n",
       "    </tr>\n",
       "    <tr>\n",
       "      <th>10</th>\n",
       "      <td>Cub Mcpaws</td>\n",
       "      <td>2010</td>\n",
       "      <td>Mumbai</td>\n",
       "      <td>E-Commerce &amp; Ar</td>\n",
       "      <td>A B2C  brand that focusses on premium and comf...</td>\n",
       "      <td>Abhay Bhat, Kinnar Shah</td>\n",
       "      <td>Venture Catalysts</td>\n",
       "      <td>0.0</td>\n",
       "      <td>NaN</td>\n",
       "      <td>2019-01-01</td>\n",
       "    </tr>\n",
       "    <tr>\n",
       "      <th>11</th>\n",
       "      <td>Appnomic</td>\n",
       "      <td>2015</td>\n",
       "      <td>Bangalore</td>\n",
       "      <td>Saas</td>\n",
       "      <td>It is a self-healing enterprise, the IT operat...</td>\n",
       "      <td>D Padmanabhan</td>\n",
       "      <td>Avataar Ventures</td>\n",
       "      <td>22000000.0</td>\n",
       "      <td>NaN</td>\n",
       "      <td>2019-01-01</td>\n",
       "    </tr>\n",
       "    <tr>\n",
       "      <th>13</th>\n",
       "      <td>Jobsquare</td>\n",
       "      <td>2019</td>\n",
       "      <td>Ahmedabad</td>\n",
       "      <td>Hr Tech</td>\n",
       "      <td>Technology-based platform that is connecting s...</td>\n",
       "      <td>Ishit Jethwa</td>\n",
       "      <td>Titan Capital</td>\n",
       "      <td>140500.0</td>\n",
       "      <td>NaN</td>\n",
       "      <td>2019-01-01</td>\n",
       "    </tr>\n",
       "    <tr>\n",
       "      <th>14</th>\n",
       "      <td>Open Secret</td>\n",
       "      <td>2015</td>\n",
       "      <td>Pune</td>\n",
       "      <td>Food Tech</td>\n",
       "      <td>It produces and sells top quality snacks</td>\n",
       "      <td>Ahana Gautam, Udit Kejriwal</td>\n",
       "      <td>Matrix Partners</td>\n",
       "      <td>0.0</td>\n",
       "      <td>NaN</td>\n",
       "      <td>2019-01-01</td>\n",
       "    </tr>\n",
       "    <tr>\n",
       "      <th>15</th>\n",
       "      <td>Livfin</td>\n",
       "      <td>2017</td>\n",
       "      <td>Delhi</td>\n",
       "      <td>Fintech</td>\n",
       "      <td>Grants small business loans, supply chain fina...</td>\n",
       "      <td>Rakesh Malhotra</td>\n",
       "      <td>German development finance institution DEG</td>\n",
       "      <td>5000000.0</td>\n",
       "      <td>NaN</td>\n",
       "      <td>2019-01-01</td>\n",
       "    </tr>\n",
       "    <tr>\n",
       "      <th>16</th>\n",
       "      <td>Byju'S</td>\n",
       "      <td>2011</td>\n",
       "      <td>Delhi</td>\n",
       "      <td>Edtech</td>\n",
       "      <td>Provides online learning classes</td>\n",
       "      <td>Byju Raveendran</td>\n",
       "      <td>South Africa’s Naspers Ventures, the CPP Inves...</td>\n",
       "      <td>540000000.0</td>\n",
       "      <td>NaN</td>\n",
       "      <td>2019-01-01</td>\n",
       "    </tr>\n",
       "    <tr>\n",
       "      <th>18</th>\n",
       "      <td>Witblox</td>\n",
       "      <td>2014</td>\n",
       "      <td>Noida</td>\n",
       "      <td>Edtech</td>\n",
       "      <td>Offers a range of robotics learning tools</td>\n",
       "      <td>Amit Modi</td>\n",
       "      <td>Mumbai Angels Network</td>\n",
       "      <td>182700.0</td>\n",
       "      <td>NaN</td>\n",
       "      <td>2019-01-01</td>\n",
       "    </tr>\n",
       "    <tr>\n",
       "      <th>20</th>\n",
       "      <td>Salaryfits</td>\n",
       "      <td>2015</td>\n",
       "      <td>Haryana</td>\n",
       "      <td>Fintech</td>\n",
       "      <td>A platform that promotes financial well-being ...</td>\n",
       "      <td>Renato Araujo</td>\n",
       "      <td>Brazilian VC Fund Confrapar</td>\n",
       "      <td>5000000.0</td>\n",
       "      <td>NaN</td>\n",
       "      <td>2019-01-01</td>\n",
       "    </tr>\n",
       "    <tr>\n",
       "      <th>23</th>\n",
       "      <td>Dror Labs Pvt. Ltd</td>\n",
       "      <td>2018</td>\n",
       "      <td>Delhi</td>\n",
       "      <td>Safety Tech</td>\n",
       "      <td>It uses technology to create a trust-based net...</td>\n",
       "      <td>Dhiraj Naubhar, Dheeraj Bansal</td>\n",
       "      <td>Inflection Point Ventures</td>\n",
       "      <td>0.0</td>\n",
       "      <td>NaN</td>\n",
       "      <td>2019-01-01</td>\n",
       "    </tr>\n",
       "    <tr>\n",
       "      <th>24</th>\n",
       "      <td>Medlife</td>\n",
       "      <td>2014</td>\n",
       "      <td>Bangalore</td>\n",
       "      <td>Pharmaceutical</td>\n",
       "      <td>It solves inadequacies in the healthcare deliv...</td>\n",
       "      <td>Tushar Kumar, Prashant Singh</td>\n",
       "      <td>Wilson Global Opportunities Fund</td>\n",
       "      <td>15500000.0</td>\n",
       "      <td>NaN</td>\n",
       "      <td>2019-01-01</td>\n",
       "    </tr>\n",
       "    <tr>\n",
       "      <th>27</th>\n",
       "      <td>Fireflies .Ai</td>\n",
       "      <td>2015</td>\n",
       "      <td>Pune</td>\n",
       "      <td>Ai</td>\n",
       "      <td>Developer of an artificial intelligence-powere...</td>\n",
       "      <td>Sam Udotong</td>\n",
       "      <td>Canaan Partners</td>\n",
       "      <td>5000000.0</td>\n",
       "      <td>NaN</td>\n",
       "      <td>2019-01-01</td>\n",
       "    </tr>\n",
       "    <tr>\n",
       "      <th>31</th>\n",
       "      <td>Trume</td>\n",
       "      <td>2015</td>\n",
       "      <td>Noida</td>\n",
       "      <td>Iot</td>\n",
       "      <td>A global platform for Identity and Access Mana...</td>\n",
       "      <td>Babu Dayal, Pramod Uniyal, Lalit Mehta</td>\n",
       "      <td>Rajan Kaistha</td>\n",
       "      <td>140000.0</td>\n",
       "      <td>NaN</td>\n",
       "      <td>2019-01-01</td>\n",
       "    </tr>\n",
       "    <tr>\n",
       "      <th>32</th>\n",
       "      <td>Pumpkart</td>\n",
       "      <td>2014</td>\n",
       "      <td>Chandigarh</td>\n",
       "      <td>E-Marketplace</td>\n",
       "      <td>B2B model for appliances and electrical products</td>\n",
       "      <td>Ks Bhatia</td>\n",
       "      <td>Dinesh Dua</td>\n",
       "      <td>0.0</td>\n",
       "      <td>NaN</td>\n",
       "      <td>2019-01-01</td>\n",
       "    </tr>\n",
       "    <tr>\n",
       "      <th>33</th>\n",
       "      <td>Asteria Aerospace</td>\n",
       "      <td>2011</td>\n",
       "      <td>Bangalore</td>\n",
       "      <td>Robotics &amp; Ai</td>\n",
       "      <td>Develops drones that are used by the military,...</td>\n",
       "      <td>Neel Mehta, Nihar Vartak</td>\n",
       "      <td>Reliance Industries</td>\n",
       "      <td>230000000.0</td>\n",
       "      <td>NaN</td>\n",
       "      <td>2019-01-01</td>\n",
       "    </tr>\n",
       "    <tr>\n",
       "      <th>39</th>\n",
       "      <td>Lil’ Goodness And Scool Meal</td>\n",
       "      <td>2015</td>\n",
       "      <td>Bangalore</td>\n",
       "      <td>Food &amp; Nutrition</td>\n",
       "      <td>It empowers moms to provide the best of foods ...</td>\n",
       "      <td>Vivek Gupta &amp; Abhay Hanjura</td>\n",
       "      <td>Sajan Pillai, Muthu Krishnan,</td>\n",
       "      <td>400000.0</td>\n",
       "      <td>NaN</td>\n",
       "      <td>2019-01-01</td>\n",
       "    </tr>\n",
       "    <tr>\n",
       "      <th>41</th>\n",
       "      <td>Vmate</td>\n",
       "      <td>2015</td>\n",
       "      <td>Delhi</td>\n",
       "      <td>Healthtech</td>\n",
       "      <td>A short video platform</td>\n",
       "      <td>Mayank Dhanuka &amp; Sunoor Kaul</td>\n",
       "      <td>Alibaba</td>\n",
       "      <td>100000000.0</td>\n",
       "      <td>NaN</td>\n",
       "      <td>2019-01-01</td>\n",
       "    </tr>\n",
       "    <tr>\n",
       "      <th>42</th>\n",
       "      <td>Bombay Shirt Company</td>\n",
       "      <td>2012</td>\n",
       "      <td>Mumbai</td>\n",
       "      <td>E-Commerce</td>\n",
       "      <td>Online custom shirt brand</td>\n",
       "      <td>Akshay Narvekar</td>\n",
       "      <td>Lightbox Ventures</td>\n",
       "      <td>8000000.0</td>\n",
       "      <td>NaN</td>\n",
       "      <td>2019-01-01</td>\n",
       "    </tr>\n",
       "    <tr>\n",
       "      <th>43</th>\n",
       "      <td>Slintel</td>\n",
       "      <td>2016</td>\n",
       "      <td>Delhi</td>\n",
       "      <td>Saas</td>\n",
       "      <td>It helps sales and marketing teams understand ...</td>\n",
       "      <td>Deepak Anchala</td>\n",
       "      <td>Stellaris Ventures</td>\n",
       "      <td>1500000.0</td>\n",
       "      <td>NaN</td>\n",
       "      <td>2019-01-01</td>\n",
       "    </tr>\n",
       "    <tr>\n",
       "      <th>44</th>\n",
       "      <td>Mygamemate</td>\n",
       "      <td>2015</td>\n",
       "      <td>Bangalore</td>\n",
       "      <td>E-Sports</td>\n",
       "      <td>eSports platform where players can access vari...</td>\n",
       "      <td>Parshavv Jain&amp; Raju Kushwaha</td>\n",
       "      <td>Jindagi Live Angels,</td>\n",
       "      <td>100000.0</td>\n",
       "      <td>NaN</td>\n",
       "      <td>2019-01-01</td>\n",
       "    </tr>\n",
       "    <tr>\n",
       "      <th>45</th>\n",
       "      <td>Afinoz</td>\n",
       "      <td>2015</td>\n",
       "      <td>Noida</td>\n",
       "      <td>Fintech</td>\n",
       "      <td>Online financial marketplace for customized ra...</td>\n",
       "      <td>Rachna Suneja</td>\n",
       "      <td>Fintech innovation lab</td>\n",
       "      <td>0.0</td>\n",
       "      <td>NaN</td>\n",
       "      <td>2019-01-01</td>\n",
       "    </tr>\n",
       "    <tr>\n",
       "      <th>48</th>\n",
       "      <td>Box8</td>\n",
       "      <td>2011</td>\n",
       "      <td>Mumbai</td>\n",
       "      <td>Foodtech</td>\n",
       "      <td>Enables to order food online</td>\n",
       "      <td>Amit Raj, Anshul Gupta</td>\n",
       "      <td>Trifecta Capital</td>\n",
       "      <td>120000000.0</td>\n",
       "      <td>NaN</td>\n",
       "      <td>2019-01-01</td>\n",
       "    </tr>\n",
       "    <tr>\n",
       "      <th>54</th>\n",
       "      <td>Ninjacart</td>\n",
       "      <td>2015</td>\n",
       "      <td>Delhi</td>\n",
       "      <td>B2B Supply Chain</td>\n",
       "      <td>It connects producers of food directly to reta...</td>\n",
       "      <td>Thirukumaran Nagarajanin, Vasudevan Chinnathambi</td>\n",
       "      <td>Walmart, Flipkart</td>\n",
       "      <td>0.0</td>\n",
       "      <td>NaN</td>\n",
       "      <td>2019-01-01</td>\n",
       "    </tr>\n",
       "    <tr>\n",
       "      <th>55</th>\n",
       "      <td>Binca Games</td>\n",
       "      <td>2014</td>\n",
       "      <td>Mumbai</td>\n",
       "      <td>Games</td>\n",
       "      <td>It offers games that are available across Indi...</td>\n",
       "      <td>Rubianca Wadhwa, Sahil Wadhwa</td>\n",
       "      <td>Sunil Gavaskar</td>\n",
       "      <td>0.0</td>\n",
       "      <td>NaN</td>\n",
       "      <td>2019-01-01</td>\n",
       "    </tr>\n",
       "    <tr>\n",
       "      <th>58</th>\n",
       "      <td>Origo</td>\n",
       "      <td>2010</td>\n",
       "      <td>Gurugram</td>\n",
       "      <td>Agritech</td>\n",
       "      <td>It provides post-harvest management services f...</td>\n",
       "      <td>Mayank Dhanuka, Sunoor Kaul</td>\n",
       "      <td>Oikocredit, Caspian SME Impact Fund IV,  Triod...</td>\n",
       "      <td>6800000.0</td>\n",
       "      <td>NaN</td>\n",
       "      <td>2019-01-01</td>\n",
       "    </tr>\n",
       "    <tr>\n",
       "      <th>59</th>\n",
       "      <td>Wishadish</td>\n",
       "      <td>2015</td>\n",
       "      <td>Delhi</td>\n",
       "      <td>Food &amp; Tech</td>\n",
       "      <td>Provides management solution for restaurants</td>\n",
       "      <td>Sawan Kumar, Bhavya Bhambhani</td>\n",
       "      <td>Undisclosed</td>\n",
       "      <td>6000000.0</td>\n",
       "      <td>NaN</td>\n",
       "      <td>2019-01-01</td>\n",
       "    </tr>\n",
       "    <tr>\n",
       "      <th>60</th>\n",
       "      <td>Ecom Express</td>\n",
       "      <td>2012</td>\n",
       "      <td>Gurugram</td>\n",
       "      <td>Logistics</td>\n",
       "      <td>It is a technology enabled logistics solutions...</td>\n",
       "      <td>Krishnan, Manju Dhawan, K Satyanarayana, Sanje...</td>\n",
       "      <td>CDC Group</td>\n",
       "      <td>36000000.0</td>\n",
       "      <td>NaN</td>\n",
       "      <td>2019-01-01</td>\n",
       "    </tr>\n",
       "    <tr>\n",
       "      <th>61</th>\n",
       "      <td>Stanza Living</td>\n",
       "      <td>2017</td>\n",
       "      <td>Delhi</td>\n",
       "      <td>Accomodation</td>\n",
       "      <td>Provides comfortable and secure accomodation f...</td>\n",
       "      <td>Sandeep Dalmia, Anindya Dutta</td>\n",
       "      <td>Alteria Capital</td>\n",
       "      <td>5700000.0</td>\n",
       "      <td>NaN</td>\n",
       "      <td>2019-01-01</td>\n",
       "    </tr>\n",
       "    <tr>\n",
       "      <th>62</th>\n",
       "      <td>Pibeam</td>\n",
       "      <td>2015</td>\n",
       "      <td>Chennai</td>\n",
       "      <td>Automotive Tech</td>\n",
       "      <td>It is engaged in building sustainable and affo...</td>\n",
       "      <td>Visakh Sasikumar</td>\n",
       "      <td>GAIL (India) Ltd</td>\n",
       "      <td>50000000.0</td>\n",
       "      <td>NaN</td>\n",
       "      <td>2019-01-01</td>\n",
       "    </tr>\n",
       "    <tr>\n",
       "      <th>63</th>\n",
       "      <td>Euler Motors</td>\n",
       "      <td>2015</td>\n",
       "      <td>Delhi</td>\n",
       "      <td>Automotive Tech</td>\n",
       "      <td>It is offering mobility as a service</td>\n",
       "      <td>Saurav Kumar</td>\n",
       "      <td>Blume Ventures, Emergent Ventures</td>\n",
       "      <td>2000000.0</td>\n",
       "      <td>NaN</td>\n",
       "      <td>2019-01-01</td>\n",
       "    </tr>\n",
       "    <tr>\n",
       "      <th>66</th>\n",
       "      <td>Lawyered</td>\n",
       "      <td>2015</td>\n",
       "      <td>Delhi</td>\n",
       "      <td>Legal Tech</td>\n",
       "      <td>It helps to connect to legal advise online</td>\n",
       "      <td>Ashish Bhatia, Himanshu Gupta</td>\n",
       "      <td>Pramendra Tomar, Ratish Pandey, Munish Bhatia,...</td>\n",
       "      <td>100000.0</td>\n",
       "      <td>NaN</td>\n",
       "      <td>2019-01-01</td>\n",
       "    </tr>\n",
       "    <tr>\n",
       "      <th>67</th>\n",
       "      <td>Cuemath</td>\n",
       "      <td>2013</td>\n",
       "      <td>Bangalore</td>\n",
       "      <td>Edtech</td>\n",
       "      <td>It helps students to learn math online</td>\n",
       "      <td>Manan Khurma</td>\n",
       "      <td>Manta Ray Ventures Limited, Google’s Capital G...</td>\n",
       "      <td>5500000.0</td>\n",
       "      <td>NaN</td>\n",
       "      <td>2019-01-01</td>\n",
       "    </tr>\n",
       "    <tr>\n",
       "      <th>69</th>\n",
       "      <td>Nivesh.Com</td>\n",
       "      <td>2016</td>\n",
       "      <td>Noida</td>\n",
       "      <td>Mutual Funds</td>\n",
       "      <td>The platform simplifies the process of investment</td>\n",
       "      <td>Anurag Garg, Sridhar Srinivasan</td>\n",
       "      <td>Windrose Capital</td>\n",
       "      <td>600000.0</td>\n",
       "      <td>NaN</td>\n",
       "      <td>2019-01-01</td>\n",
       "    </tr>\n",
       "    <tr>\n",
       "      <th>71</th>\n",
       "      <td>Smart Institute</td>\n",
       "      <td>2015</td>\n",
       "      <td>Surat</td>\n",
       "      <td>Edtech</td>\n",
       "      <td>A platform to learn online</td>\n",
       "      <td>Shantanu Deshpande</td>\n",
       "      <td>HNI investors</td>\n",
       "      <td>1500000.0</td>\n",
       "      <td>NaN</td>\n",
       "      <td>2019-01-01</td>\n",
       "    </tr>\n",
       "    <tr>\n",
       "      <th>74</th>\n",
       "      <td>Credr</td>\n",
       "      <td>2014</td>\n",
       "      <td>Mumbai</td>\n",
       "      <td>Automobile</td>\n",
       "      <td>A marketplace to buy and sell used bikes and s...</td>\n",
       "      <td>Mittal</td>\n",
       "      <td>Omidyar Network, Eight Roads Ventures, GrowthS...</td>\n",
       "      <td>6000000.0</td>\n",
       "      <td>NaN</td>\n",
       "      <td>2019-01-01</td>\n",
       "    </tr>\n",
       "    <tr>\n",
       "      <th>76</th>\n",
       "      <td>Phable</td>\n",
       "      <td>2018</td>\n",
       "      <td>Pune</td>\n",
       "      <td>Healthtech</td>\n",
       "      <td>It creates an engagement loop between doctors,...</td>\n",
       "      <td>Sumit Sinha</td>\n",
       "      <td>LetsVenture, 91 Springboard, IKP Knowledge, An...</td>\n",
       "      <td>220000.0</td>\n",
       "      <td>NaN</td>\n",
       "      <td>2019-01-01</td>\n",
       "    </tr>\n",
       "    <tr>\n",
       "      <th>77</th>\n",
       "      <td>Sarva</td>\n",
       "      <td>2015</td>\n",
       "      <td>Chennai</td>\n",
       "      <td>Yoga &amp; Wellness</td>\n",
       "      <td>It drives a cultural change in making yoga-bas...</td>\n",
       "      <td>Sarvesh Shashi</td>\n",
       "      <td>Venture fund, Fireside Ventures.</td>\n",
       "      <td>2800000.0</td>\n",
       "      <td>NaN</td>\n",
       "      <td>2019-01-01</td>\n",
       "    </tr>\n",
       "    <tr>\n",
       "      <th>79</th>\n",
       "      <td>Zolostays</td>\n",
       "      <td>2015</td>\n",
       "      <td>Gurugram</td>\n",
       "      <td>Accomodation</td>\n",
       "      <td>It offers affordable housing apartments to you...</td>\n",
       "      <td>Akhil Sikri, Nikhil Sikri, Sneha Choudhry</td>\n",
       "      <td>Trifecta Capital</td>\n",
       "      <td>7000000.0</td>\n",
       "      <td>NaN</td>\n",
       "      <td>2019-01-01</td>\n",
       "    </tr>\n",
       "    <tr>\n",
       "      <th>80</th>\n",
       "      <td>Ola</td>\n",
       "      <td>2010</td>\n",
       "      <td>Bangalore</td>\n",
       "      <td>Transportation</td>\n",
       "      <td>It enables one to book cab online</td>\n",
       "      <td>Bhavish Aggarwal, Ankit Bhati</td>\n",
       "      <td>Kia Motors, Hyundai</td>\n",
       "      <td>311000000.0</td>\n",
       "      <td>NaN</td>\n",
       "      <td>2019-01-01</td>\n",
       "    </tr>\n",
       "    <tr>\n",
       "      <th>81</th>\n",
       "      <td>Zoomcar</td>\n",
       "      <td>2013</td>\n",
       "      <td>Bangalore</td>\n",
       "      <td>Transport &amp; Rentals</td>\n",
       "      <td>A car rental service platform</td>\n",
       "      <td>Greg Moran, David Back</td>\n",
       "      <td>Zoomcar Inc</td>\n",
       "      <td>4800000.0</td>\n",
       "      <td>NaN</td>\n",
       "      <td>2019-01-01</td>\n",
       "    </tr>\n",
       "    <tr>\n",
       "      <th>85</th>\n",
       "      <td>Oyo</td>\n",
       "      <td>2013</td>\n",
       "      <td>Gurugram</td>\n",
       "      <td>Hospitality</td>\n",
       "      <td>Provides rooms for comfortable stay</td>\n",
       "      <td>Ritesh Agarwal</td>\n",
       "      <td>MyPreferred Transformation, Avendus Finance, S...</td>\n",
       "      <td>693000000.0</td>\n",
       "      <td>NaN</td>\n",
       "      <td>2019-01-01</td>\n",
       "    </tr>\n",
       "    <tr>\n",
       "      <th>87</th>\n",
       "      <td>Spinny</td>\n",
       "      <td>2015</td>\n",
       "      <td>Delhi</td>\n",
       "      <td>Automobile</td>\n",
       "      <td>Online car retailer</td>\n",
       "      <td>Niraj Singh, Ramanshu Mahaur, Ganesh Pawar, Mo...</td>\n",
       "      <td>Norwest Venture Partners, General Catalyst, Fu...</td>\n",
       "      <td>50000000.0</td>\n",
       "      <td>NaN</td>\n",
       "      <td>2019-01-01</td>\n",
       "    </tr>\n",
       "    <tr>\n",
       "      <th>88</th>\n",
       "      <td>Ess Kay Fincorp</td>\n",
       "      <td>2015</td>\n",
       "      <td>Rajasthan</td>\n",
       "      <td>Banking</td>\n",
       "      <td>Organised Non-Banking Finance Company</td>\n",
       "      <td>Rajendra Setia</td>\n",
       "      <td>TPG, Norwest Venture Partners, Evolvence India</td>\n",
       "      <td>33000000.0</td>\n",
       "      <td>NaN</td>\n",
       "      <td>2019-01-01</td>\n",
       "    </tr>\n",
       "  </tbody>\n",
       "</table>\n",
       "</div>"
      ],
      "text/plain": [
       "                   Company_Brand  Founded HeadQuarter               Sector  \\\n",
       "0                 Bombay Shaving     2015      Jaipur            Ecommerce   \n",
       "4                       Nu Genes     2004   Telangana             Agritech   \n",
       "5                       Flytbase     2015        Pune           Technology   \n",
       "6                          Finly     2015   Bangalore                 Saas   \n",
       "10                    Cub Mcpaws     2010      Mumbai      E-Commerce & Ar   \n",
       "11                      Appnomic     2015   Bangalore                 Saas   \n",
       "13                     Jobsquare     2019   Ahmedabad              Hr Tech   \n",
       "14                   Open Secret     2015        Pune            Food Tech   \n",
       "15                        Livfin     2017       Delhi              Fintech   \n",
       "16                        Byju'S     2011       Delhi               Edtech   \n",
       "18                       Witblox     2014       Noida               Edtech   \n",
       "20                    Salaryfits     2015     Haryana              Fintech   \n",
       "23            Dror Labs Pvt. Ltd     2018       Delhi          Safety Tech   \n",
       "24                       Medlife     2014   Bangalore       Pharmaceutical   \n",
       "27                 Fireflies .Ai     2015        Pune                   Ai   \n",
       "31                         Trume     2015       Noida                  Iot   \n",
       "32                      Pumpkart     2014  Chandigarh        E-Marketplace   \n",
       "33             Asteria Aerospace     2011   Bangalore        Robotics & Ai   \n",
       "39  Lil’ Goodness And Scool Meal     2015   Bangalore     Food & Nutrition   \n",
       "41                         Vmate     2015       Delhi           Healthtech   \n",
       "42          Bombay Shirt Company     2012      Mumbai           E-Commerce   \n",
       "43                       Slintel     2016       Delhi                 Saas   \n",
       "44                    Mygamemate     2015   Bangalore             E-Sports   \n",
       "45                        Afinoz     2015       Noida              Fintech   \n",
       "48                          Box8     2011      Mumbai             Foodtech   \n",
       "54                     Ninjacart     2015       Delhi     B2B Supply Chain   \n",
       "55                   Binca Games     2014      Mumbai                Games   \n",
       "58                         Origo     2010    Gurugram             Agritech   \n",
       "59                     Wishadish     2015       Delhi          Food & Tech   \n",
       "60                  Ecom Express     2012    Gurugram            Logistics   \n",
       "61                 Stanza Living     2017       Delhi         Accomodation   \n",
       "62                        Pibeam     2015     Chennai      Automotive Tech   \n",
       "63                  Euler Motors     2015       Delhi      Automotive Tech   \n",
       "66                      Lawyered     2015       Delhi           Legal Tech   \n",
       "67                       Cuemath     2013   Bangalore               Edtech   \n",
       "69                    Nivesh.Com     2016       Noida         Mutual Funds   \n",
       "71               Smart Institute     2015       Surat               Edtech   \n",
       "74                         Credr     2014      Mumbai           Automobile   \n",
       "76                        Phable     2018        Pune           Healthtech   \n",
       "77                         Sarva     2015     Chennai      Yoga & Wellness   \n",
       "79                     Zolostays     2015    Gurugram         Accomodation   \n",
       "80                           Ola     2010   Bangalore       Transportation   \n",
       "81                       Zoomcar     2013   Bangalore  Transport & Rentals   \n",
       "85                           Oyo     2013    Gurugram          Hospitality   \n",
       "87                        Spinny     2015       Delhi           Automobile   \n",
       "88               Ess Kay Fincorp     2015   Rajasthan              Banking   \n",
       "\n",
       "                                         What_it_does  \\\n",
       "0          Provides a range of male grooming products   \n",
       "4   It is a seed company engaged in production, pr...   \n",
       "5                         A drone automation platform   \n",
       "6   It builds software products that makes work si...   \n",
       "10  A B2C  brand that focusses on premium and comf...   \n",
       "11  It is a self-healing enterprise, the IT operat...   \n",
       "13  Technology-based platform that is connecting s...   \n",
       "14           It produces and sells top quality snacks   \n",
       "15  Grants small business loans, supply chain fina...   \n",
       "16                   Provides online learning classes   \n",
       "18          Offers a range of robotics learning tools   \n",
       "20  A platform that promotes financial well-being ...   \n",
       "23  It uses technology to create a trust-based net...   \n",
       "24  It solves inadequacies in the healthcare deliv...   \n",
       "27  Developer of an artificial intelligence-powere...   \n",
       "31  A global platform for Identity and Access Mana...   \n",
       "32   B2B model for appliances and electrical products   \n",
       "33  Develops drones that are used by the military,...   \n",
       "39  It empowers moms to provide the best of foods ...   \n",
       "41                             A short video platform   \n",
       "42                          Online custom shirt brand   \n",
       "43  It helps sales and marketing teams understand ...   \n",
       "44  eSports platform where players can access vari...   \n",
       "45  Online financial marketplace for customized ra...   \n",
       "48                       Enables to order food online   \n",
       "54  It connects producers of food directly to reta...   \n",
       "55  It offers games that are available across Indi...   \n",
       "58  It provides post-harvest management services f...   \n",
       "59       Provides management solution for restaurants   \n",
       "60  It is a technology enabled logistics solutions...   \n",
       "61  Provides comfortable and secure accomodation f...   \n",
       "62  It is engaged in building sustainable and affo...   \n",
       "63               It is offering mobility as a service   \n",
       "66         It helps to connect to legal advise online   \n",
       "67             It helps students to learn math online   \n",
       "69  The platform simplifies the process of investment   \n",
       "71                         A platform to learn online   \n",
       "74  A marketplace to buy and sell used bikes and s...   \n",
       "76  It creates an engagement loop between doctors,...   \n",
       "77  It drives a cultural change in making yoga-bas...   \n",
       "79  It offers affordable housing apartments to you...   \n",
       "80                  It enables one to book cab online   \n",
       "81                      A car rental service platform   \n",
       "85                Provides rooms for comfortable stay   \n",
       "87                                Online car retailer   \n",
       "88              Organised Non-Banking Finance Company   \n",
       "\n",
       "                                             Founders  \\\n",
       "0                                  Shantanu Deshpande   \n",
       "4                              Narayana Reddy Punyala   \n",
       "5                                         Nitin Gupta   \n",
       "6                           Vivek Ag, Veekshith C Rai   \n",
       "10                            Abhay Bhat, Kinnar Shah   \n",
       "11                                      D Padmanabhan   \n",
       "13                                       Ishit Jethwa   \n",
       "14                        Ahana Gautam, Udit Kejriwal   \n",
       "15                                    Rakesh Malhotra   \n",
       "16                                    Byju Raveendran   \n",
       "18                                          Amit Modi   \n",
       "20                                      Renato Araujo   \n",
       "23                     Dhiraj Naubhar, Dheeraj Bansal   \n",
       "24                       Tushar Kumar, Prashant Singh   \n",
       "27                                        Sam Udotong   \n",
       "31             Babu Dayal, Pramod Uniyal, Lalit Mehta   \n",
       "32                                          Ks Bhatia   \n",
       "33                           Neel Mehta, Nihar Vartak   \n",
       "39                        Vivek Gupta & Abhay Hanjura   \n",
       "41                       Mayank Dhanuka & Sunoor Kaul   \n",
       "42                                    Akshay Narvekar   \n",
       "43                                     Deepak Anchala   \n",
       "44                       Parshavv Jain& Raju Kushwaha   \n",
       "45                                      Rachna Suneja   \n",
       "48                             Amit Raj, Anshul Gupta   \n",
       "54   Thirukumaran Nagarajanin, Vasudevan Chinnathambi   \n",
       "55                      Rubianca Wadhwa, Sahil Wadhwa   \n",
       "58                        Mayank Dhanuka, Sunoor Kaul   \n",
       "59                      Sawan Kumar, Bhavya Bhambhani   \n",
       "60  Krishnan, Manju Dhawan, K Satyanarayana, Sanje...   \n",
       "61                      Sandeep Dalmia, Anindya Dutta   \n",
       "62                                   Visakh Sasikumar   \n",
       "63                                       Saurav Kumar   \n",
       "66                      Ashish Bhatia, Himanshu Gupta   \n",
       "67                                       Manan Khurma   \n",
       "69                    Anurag Garg, Sridhar Srinivasan   \n",
       "71                                 Shantanu Deshpande   \n",
       "74                                             Mittal   \n",
       "76                                        Sumit Sinha   \n",
       "77                                     Sarvesh Shashi   \n",
       "79          Akhil Sikri, Nikhil Sikri, Sneha Choudhry   \n",
       "80                      Bhavish Aggarwal, Ankit Bhati   \n",
       "81                             Greg Moran, David Back   \n",
       "85                                     Ritesh Agarwal   \n",
       "87  Niraj Singh, Ramanshu Mahaur, Ganesh Pawar, Mo...   \n",
       "88                                     Rajendra Setia   \n",
       "\n",
       "                                             Investor       Amount Stage  \\\n",
       "0                                Sixth Sense Ventures    6300000.0   NaN   \n",
       "4            Innovation in Food and Agriculture (IFA)    6000000.0   NaN   \n",
       "5                                         Undisclosed          0.0   NaN   \n",
       "6   Social Capital, AngelList India, Gemba Capital...          0.0   NaN   \n",
       "10                                  Venture Catalysts          0.0   NaN   \n",
       "11                                   Avataar Ventures   22000000.0   NaN   \n",
       "13                                      Titan Capital     140500.0   NaN   \n",
       "14                                    Matrix Partners          0.0   NaN   \n",
       "15         German development finance institution DEG    5000000.0   NaN   \n",
       "16  South Africa’s Naspers Ventures, the CPP Inves...  540000000.0   NaN   \n",
       "18                              Mumbai Angels Network     182700.0   NaN   \n",
       "20                        Brazilian VC Fund Confrapar    5000000.0   NaN   \n",
       "23                          Inflection Point Ventures          0.0   NaN   \n",
       "24                   Wilson Global Opportunities Fund   15500000.0   NaN   \n",
       "27                                    Canaan Partners    5000000.0   NaN   \n",
       "31                                      Rajan Kaistha     140000.0   NaN   \n",
       "32                                         Dinesh Dua          0.0   NaN   \n",
       "33                                Reliance Industries  230000000.0   NaN   \n",
       "39                      Sajan Pillai, Muthu Krishnan,     400000.0   NaN   \n",
       "41                                            Alibaba  100000000.0   NaN   \n",
       "42                                  Lightbox Ventures    8000000.0   NaN   \n",
       "43                                 Stellaris Ventures    1500000.0   NaN   \n",
       "44                               Jindagi Live Angels,     100000.0   NaN   \n",
       "45                             Fintech innovation lab          0.0   NaN   \n",
       "48                                   Trifecta Capital  120000000.0   NaN   \n",
       "54                                  Walmart, Flipkart          0.0   NaN   \n",
       "55                                     Sunil Gavaskar          0.0   NaN   \n",
       "58  Oikocredit, Caspian SME Impact Fund IV,  Triod...    6800000.0   NaN   \n",
       "59                                        Undisclosed    6000000.0   NaN   \n",
       "60                                          CDC Group   36000000.0   NaN   \n",
       "61                                    Alteria Capital    5700000.0   NaN   \n",
       "62                                   GAIL (India) Ltd   50000000.0   NaN   \n",
       "63                  Blume Ventures, Emergent Ventures    2000000.0   NaN   \n",
       "66  Pramendra Tomar, Ratish Pandey, Munish Bhatia,...     100000.0   NaN   \n",
       "67  Manta Ray Ventures Limited, Google’s Capital G...    5500000.0   NaN   \n",
       "69                                   Windrose Capital     600000.0   NaN   \n",
       "71                                      HNI investors    1500000.0   NaN   \n",
       "74  Omidyar Network, Eight Roads Ventures, GrowthS...    6000000.0   NaN   \n",
       "76  LetsVenture, 91 Springboard, IKP Knowledge, An...     220000.0   NaN   \n",
       "77                   Venture fund, Fireside Ventures.    2800000.0   NaN   \n",
       "79                                   Trifecta Capital    7000000.0   NaN   \n",
       "80                                Kia Motors, Hyundai  311000000.0   NaN   \n",
       "81                                        Zoomcar Inc    4800000.0   NaN   \n",
       "85  MyPreferred Transformation, Avendus Finance, S...  693000000.0   NaN   \n",
       "87  Norwest Venture Partners, General Catalyst, Fu...   50000000.0   NaN   \n",
       "88     TPG, Norwest Venture Partners, Evolvence India   33000000.0   NaN   \n",
       "\n",
       "         Year  \n",
       "0  2019-01-01  \n",
       "4  2019-01-01  \n",
       "5  2019-01-01  \n",
       "6  2019-01-01  \n",
       "10 2019-01-01  \n",
       "11 2019-01-01  \n",
       "13 2019-01-01  \n",
       "14 2019-01-01  \n",
       "15 2019-01-01  \n",
       "16 2019-01-01  \n",
       "18 2019-01-01  \n",
       "20 2019-01-01  \n",
       "23 2019-01-01  \n",
       "24 2019-01-01  \n",
       "27 2019-01-01  \n",
       "31 2019-01-01  \n",
       "32 2019-01-01  \n",
       "33 2019-01-01  \n",
       "39 2019-01-01  \n",
       "41 2019-01-01  \n",
       "42 2019-01-01  \n",
       "43 2019-01-01  \n",
       "44 2019-01-01  \n",
       "45 2019-01-01  \n",
       "48 2019-01-01  \n",
       "54 2019-01-01  \n",
       "55 2019-01-01  \n",
       "58 2019-01-01  \n",
       "59 2019-01-01  \n",
       "60 2019-01-01  \n",
       "61 2019-01-01  \n",
       "62 2019-01-01  \n",
       "63 2019-01-01  \n",
       "66 2019-01-01  \n",
       "67 2019-01-01  \n",
       "69 2019-01-01  \n",
       "71 2019-01-01  \n",
       "74 2019-01-01  \n",
       "76 2019-01-01  \n",
       "77 2019-01-01  \n",
       "79 2019-01-01  \n",
       "80 2019-01-01  \n",
       "81 2019-01-01  \n",
       "85 2019-01-01  \n",
       "87 2019-01-01  \n",
       "88 2019-01-01  "
      ]
     },
     "execution_count": 72,
     "metadata": {},
     "output_type": "execute_result"
    }
   ],
   "source": [
    "# Filtering all rows with missing values in a specified column\n",
    "(data3\n",
    " [data3\n",
    "  .Stage\n",
    "  .isna()\n",
    "  ]\n",
    " )"
   ]
  },
  {
   "cell_type": "code",
   "execution_count": 73,
   "metadata": {},
   "outputs": [],
   "source": [
    "# Handlling Stage Column\n",
    "\n",
    "top_Stage= ['Pre-series A','Series A','Series B','Pre-seed','Series C', 'Series D',\n",
    "            'Fresh funding','Series G ','Post series A','Seed funding','Seed fund ']\n",
    "\n",
    "# Fill missing values \n",
    "def  fill_missing_Stage (Stage):\n",
    "    if pd.isna(Stage):\n",
    "        return np.random.choice(top_Stage)\n",
    "    return Stage\n",
    "\n",
    "data3['Stage']=data3['Stage'].apply(fill_missing_Stage)\n",
    "\n",
    "\n",
    "# Convert the stage column from object to category \n",
    "data3['Stage'] = data3['Stage'].astype('category')"
   ]
  },
  {
   "cell_type": "code",
   "execution_count": 74,
   "metadata": {},
   "outputs": [
    {
     "data": {
      "text/plain": [
       "0"
      ]
     },
     "execution_count": 74,
     "metadata": {},
     "output_type": "execute_result"
    }
   ],
   "source": [
    "pd.isnull(data3).sum().sum()"
   ]
  },
  {
   "cell_type": "code",
   "execution_count": 75,
   "metadata": {},
   "outputs": [],
   "source": [
    "# data3[['Company_Brand', 'HeadQuarter','Sector', 'What_it_does','Founders','Investor', 'Stage']]= data3[['Company_Brand', 'HeadQuarter','Sector', 'What_it_does','Founders','Investor', 'Stage']].astype('category')"
   ]
  },
  {
   "cell_type": "code",
   "execution_count": 76,
   "metadata": {},
   "outputs": [
    {
     "name": "stdout",
     "output_type": "stream",
     "text": [
      "<class 'pandas.core.frame.DataFrame'>\n",
      "RangeIndex: 89 entries, 0 to 88\n",
      "Data columns (total 10 columns):\n",
      " #   Column         Non-Null Count  Dtype         \n",
      "---  ------         --------------  -----         \n",
      " 0   Company_Brand  89 non-null     object        \n",
      " 1   Founded        89 non-null     int32         \n",
      " 2   HeadQuarter    89 non-null     object        \n",
      " 3   Sector         89 non-null     object        \n",
      " 4   What_it_does   89 non-null     object        \n",
      " 5   Founders       89 non-null     object        \n",
      " 6   Investor       89 non-null     object        \n",
      " 7   Amount         89 non-null     float64       \n",
      " 8   Stage          89 non-null     category      \n",
      " 9   Year           89 non-null     datetime64[ns]\n",
      "dtypes: category(1), datetime64[ns](1), float64(1), int32(1), object(6)\n",
      "memory usage: 6.8+ KB\n"
     ]
    }
   ],
   "source": [
    "data3.info()"
   ]
  },
  {
   "cell_type": "code",
   "execution_count": 77,
   "metadata": {},
   "outputs": [
    {
     "name": "stdout",
     "output_type": "stream",
     "text": [
      "Non-numeric values in 'Amount' column:\n",
      "Series([], Name: Amount, dtype: float64)\n"
     ]
    }
   ],
   "source": [
    "# Function to check if a value is numeric\n",
    "def is_numeric(value):\n",
    "    value = str(value).replace(',', '').replace('$', '').replace('₹', '').strip()\n",
    "    return value.replace('.', '', 1).isdigit()\n",
    "\n",
    "# Identify non-numeric values\n",
    "non_numeric_values = data3[~data3['Amount'].apply(is_numeric)]['Amount']\n",
    "\n",
    "# Display non-numeric values\n",
    "print(\"Non-numeric values in 'Amount' column:\")\n",
    "print(non_numeric_values)"
   ]
  },
  {
   "cell_type": "code",
   "execution_count": 78,
   "metadata": {},
   "outputs": [
    {
     "data": {
      "text/plain": [
       "Company_Brand    0\n",
       "Founded          0\n",
       "HeadQuarter      0\n",
       "Sector           0\n",
       "What_it_does     0\n",
       "Founders         0\n",
       "Investor         0\n",
       "Amount           0\n",
       "Stage            0\n",
       "Year             0\n",
       "dtype: int64"
      ]
     },
     "execution_count": 78,
     "metadata": {},
     "output_type": "execute_result"
    }
   ],
   "source": [
    "(data3\n",
    " .isna()\n",
    " .sum()\n",
    " )"
   ]
  },
  {
   "cell_type": "code",
   "execution_count": 79,
   "metadata": {},
   "outputs": [],
   "source": [
    "# Handlling Stage Column\n",
    "\n",
    "top_Stage= ['Pre-series A','Series A','Series B','Pre-seed','Series C', 'Series D',\n",
    "            'Fresh funding','Series G ','Post series A','Seed funding','Seed fund ']\n",
    "\n",
    "# Fill missing values \n",
    "def  fill_missing_Stage (Stage):\n",
    "    if pd.isna(Stage):\n",
    "        return np.random.choice(top_Stage)\n",
    "    return Stage\n",
    "\n",
    "data3['Stage']=data3['Stage'].apply(fill_missing_Stage)\n",
    "\n",
    "\n",
    "# Convert the stage column from object to category \n",
    "data3['Stage'] = data3['Stage'].astype('category')"
   ]
  },
  {
   "cell_type": "code",
   "execution_count": 80,
   "metadata": {},
   "outputs": [
    {
     "data": {
      "text/plain": [
       "Company_Brand    0\n",
       "Founded          0\n",
       "HeadQuarter      0\n",
       "Sector           0\n",
       "What_it_does     0\n",
       "Founders         0\n",
       "Investor         0\n",
       "Amount           0\n",
       "Stage            0\n",
       "Year             0\n",
       "dtype: int64"
      ]
     },
     "execution_count": 80,
     "metadata": {},
     "output_type": "execute_result"
    }
   ],
   "source": [
    "(data3\n",
    " .isna()\n",
    " .sum()\n",
    " )"
   ]
  },
  {
   "cell_type": "code",
   "execution_count": 81,
   "metadata": {},
   "outputs": [
    {
     "name": "stdout",
     "output_type": "stream",
     "text": [
      "<class 'pandas.core.frame.DataFrame'>\n",
      "RangeIndex: 89 entries, 0 to 88\n",
      "Data columns (total 10 columns):\n",
      " #   Column         Non-Null Count  Dtype         \n",
      "---  ------         --------------  -----         \n",
      " 0   Company_Brand  89 non-null     object        \n",
      " 1   Founded        89 non-null     int32         \n",
      " 2   HeadQuarter    89 non-null     object        \n",
      " 3   Sector         89 non-null     object        \n",
      " 4   What_it_does   89 non-null     object        \n",
      " 5   Founders       89 non-null     object        \n",
      " 6   Investor       89 non-null     object        \n",
      " 7   Amount         89 non-null     float64       \n",
      " 8   Stage          89 non-null     category      \n",
      " 9   Year           89 non-null     datetime64[ns]\n",
      "dtypes: category(1), datetime64[ns](1), float64(1), int32(1), object(6)\n",
      "memory usage: 6.8+ KB\n"
     ]
    }
   ],
   "source": [
    "data3.info()"
   ]
  },
  {
   "cell_type": "markdown",
   "metadata": {},
   "source": [
    "LOAD DATA FOUR"
   ]
  },
  {
   "cell_type": "code",
   "execution_count": 82,
   "metadata": {},
   "outputs": [
    {
     "data": {
      "text/html": [
       "<div>\n",
       "<style scoped>\n",
       "    .dataframe tbody tr th:only-of-type {\n",
       "        vertical-align: middle;\n",
       "    }\n",
       "\n",
       "    .dataframe tbody tr th {\n",
       "        vertical-align: top;\n",
       "    }\n",
       "\n",
       "    .dataframe thead th {\n",
       "        text-align: right;\n",
       "    }\n",
       "</style>\n",
       "<table border=\"1\" class=\"dataframe\">\n",
       "  <thead>\n",
       "    <tr style=\"text-align: right;\">\n",
       "      <th></th>\n",
       "      <th>Company Name</th>\n",
       "      <th>Industry</th>\n",
       "      <th>Round/Series</th>\n",
       "      <th>Amount</th>\n",
       "      <th>Location</th>\n",
       "      <th>About Company</th>\n",
       "    </tr>\n",
       "  </thead>\n",
       "  <tbody>\n",
       "    <tr>\n",
       "      <th>0</th>\n",
       "      <td>TheCollegeFever</td>\n",
       "      <td>Brand Marketing, Event Promotion, Marketing, S...</td>\n",
       "      <td>Seed</td>\n",
       "      <td>250000</td>\n",
       "      <td>Bangalore, Karnataka, India</td>\n",
       "      <td>TheCollegeFever is a hub for fun, fiesta and f...</td>\n",
       "    </tr>\n",
       "    <tr>\n",
       "      <th>1</th>\n",
       "      <td>Happy Cow Dairy</td>\n",
       "      <td>Agriculture, Farming</td>\n",
       "      <td>Seed</td>\n",
       "      <td>₹40,000,000</td>\n",
       "      <td>Mumbai, Maharashtra, India</td>\n",
       "      <td>A startup which aggregates milk from dairy far...</td>\n",
       "    </tr>\n",
       "    <tr>\n",
       "      <th>2</th>\n",
       "      <td>MyLoanCare</td>\n",
       "      <td>Credit, Financial Services, Lending, Marketplace</td>\n",
       "      <td>Series A</td>\n",
       "      <td>₹65,000,000</td>\n",
       "      <td>Gurgaon, Haryana, India</td>\n",
       "      <td>Leading Online Loans Marketplace in India</td>\n",
       "    </tr>\n",
       "    <tr>\n",
       "      <th>3</th>\n",
       "      <td>PayMe India</td>\n",
       "      <td>Financial Services, FinTech</td>\n",
       "      <td>Angel</td>\n",
       "      <td>2000000</td>\n",
       "      <td>Noida, Uttar Pradesh, India</td>\n",
       "      <td>PayMe India is an innovative FinTech organizat...</td>\n",
       "    </tr>\n",
       "    <tr>\n",
       "      <th>4</th>\n",
       "      <td>Eunimart</td>\n",
       "      <td>E-Commerce Platforms, Retail, SaaS</td>\n",
       "      <td>Seed</td>\n",
       "      <td>—</td>\n",
       "      <td>Hyderabad, Andhra Pradesh, India</td>\n",
       "      <td>Eunimart is a one stop solution for merchants ...</td>\n",
       "    </tr>\n",
       "  </tbody>\n",
       "</table>\n",
       "</div>"
      ],
      "text/plain": [
       "      Company Name                                           Industry  \\\n",
       "0  TheCollegeFever  Brand Marketing, Event Promotion, Marketing, S...   \n",
       "1  Happy Cow Dairy                               Agriculture, Farming   \n",
       "2       MyLoanCare   Credit, Financial Services, Lending, Marketplace   \n",
       "3      PayMe India                        Financial Services, FinTech   \n",
       "4         Eunimart                 E-Commerce Platforms, Retail, SaaS   \n",
       "\n",
       "  Round/Series       Amount                          Location  \\\n",
       "0         Seed       250000       Bangalore, Karnataka, India   \n",
       "1         Seed  ₹40,000,000        Mumbai, Maharashtra, India   \n",
       "2     Series A  ₹65,000,000           Gurgaon, Haryana, India   \n",
       "3        Angel      2000000       Noida, Uttar Pradesh, India   \n",
       "4         Seed            —  Hyderabad, Andhra Pradesh, India   \n",
       "\n",
       "                                       About Company  \n",
       "0  TheCollegeFever is a hub for fun, fiesta and f...  \n",
       "1  A startup which aggregates milk from dairy far...  \n",
       "2          Leading Online Loans Marketplace in India  \n",
       "3  PayMe India is an innovative FinTech organizat...  \n",
       "4  Eunimart is a one stop solution for merchants ...  "
      ]
     },
     "execution_count": 82,
     "metadata": {},
     "output_type": "execute_result"
    }
   ],
   "source": [
    "data4.head()"
   ]
  },
  {
   "cell_type": "code",
   "execution_count": 83,
   "metadata": {},
   "outputs": [
    {
     "data": {
      "text/html": [
       "<div>\n",
       "<style scoped>\n",
       "    .dataframe tbody tr th:only-of-type {\n",
       "        vertical-align: middle;\n",
       "    }\n",
       "\n",
       "    .dataframe tbody tr th {\n",
       "        vertical-align: top;\n",
       "    }\n",
       "\n",
       "    .dataframe thead th {\n",
       "        text-align: right;\n",
       "    }\n",
       "</style>\n",
       "<table border=\"1\" class=\"dataframe\">\n",
       "  <thead>\n",
       "    <tr style=\"text-align: right;\">\n",
       "      <th></th>\n",
       "      <th>count</th>\n",
       "      <th>unique</th>\n",
       "      <th>top</th>\n",
       "      <th>freq</th>\n",
       "    </tr>\n",
       "  </thead>\n",
       "  <tbody>\n",
       "    <tr>\n",
       "      <th>Company Name</th>\n",
       "      <td>526</td>\n",
       "      <td>525</td>\n",
       "      <td>TheCollegeFever</td>\n",
       "      <td>2</td>\n",
       "    </tr>\n",
       "    <tr>\n",
       "      <th>Industry</th>\n",
       "      <td>526</td>\n",
       "      <td>405</td>\n",
       "      <td>—</td>\n",
       "      <td>30</td>\n",
       "    </tr>\n",
       "    <tr>\n",
       "      <th>Round/Series</th>\n",
       "      <td>526</td>\n",
       "      <td>21</td>\n",
       "      <td>Seed</td>\n",
       "      <td>280</td>\n",
       "    </tr>\n",
       "    <tr>\n",
       "      <th>Amount</th>\n",
       "      <td>526</td>\n",
       "      <td>198</td>\n",
       "      <td>—</td>\n",
       "      <td>148</td>\n",
       "    </tr>\n",
       "    <tr>\n",
       "      <th>Location</th>\n",
       "      <td>526</td>\n",
       "      <td>50</td>\n",
       "      <td>Bangalore, Karnataka, India</td>\n",
       "      <td>102</td>\n",
       "    </tr>\n",
       "    <tr>\n",
       "      <th>About Company</th>\n",
       "      <td>526</td>\n",
       "      <td>524</td>\n",
       "      <td>TheCollegeFever is a hub for fun, fiesta and f...</td>\n",
       "      <td>2</td>\n",
       "    </tr>\n",
       "  </tbody>\n",
       "</table>\n",
       "</div>"
      ],
      "text/plain": [
       "              count unique                                                top  \\\n",
       "Company Name    526    525                                    TheCollegeFever   \n",
       "Industry        526    405                                                  —   \n",
       "Round/Series    526     21                                               Seed   \n",
       "Amount          526    198                                                  —   \n",
       "Location        526     50                        Bangalore, Karnataka, India   \n",
       "About Company   526    524  TheCollegeFever is a hub for fun, fiesta and f...   \n",
       "\n",
       "              freq  \n",
       "Company Name     2  \n",
       "Industry        30  \n",
       "Round/Series   280  \n",
       "Amount         148  \n",
       "Location       102  \n",
       "About Company    2  "
      ]
     },
     "execution_count": 83,
     "metadata": {},
     "output_type": "execute_result"
    }
   ],
   "source": [
    "data4.describe().T"
   ]
  },
  {
   "cell_type": "code",
   "execution_count": 84,
   "metadata": {},
   "outputs": [
    {
     "name": "stdout",
     "output_type": "stream",
     "text": [
      "<class 'pandas.core.frame.DataFrame'>\n",
      "RangeIndex: 526 entries, 0 to 525\n",
      "Data columns (total 6 columns):\n",
      " #   Column         Non-Null Count  Dtype \n",
      "---  ------         --------------  ----- \n",
      " 0   Company Name   526 non-null    object\n",
      " 1   Industry       526 non-null    object\n",
      " 2   Round/Series   526 non-null    object\n",
      " 3   Amount         526 non-null    object\n",
      " 4   Location       526 non-null    object\n",
      " 5   About Company  526 non-null    object\n",
      "dtypes: object(6)\n",
      "memory usage: 24.8+ KB\n"
     ]
    }
   ],
   "source": [
    "data4.info()"
   ]
  },
  {
   "cell_type": "code",
   "execution_count": 85,
   "metadata": {},
   "outputs": [
    {
     "data": {
      "text/plain": [
       "Company Name     0\n",
       "Industry         0\n",
       "Round/Series     0\n",
       "Amount           0\n",
       "Location         0\n",
       "About Company    0\n",
       "dtype: int64"
      ]
     },
     "execution_count": 85,
     "metadata": {},
     "output_type": "execute_result"
    }
   ],
   "source": [
    "data4.isna().sum()"
   ]
  },
  {
   "cell_type": "markdown",
   "metadata": {},
   "source": [
    "DATA FOUR CLEANING"
   ]
  },
  {
   "cell_type": "code",
   "execution_count": 86,
   "metadata": {},
   "outputs": [],
   "source": [
    "#Add 'Year' Column 2021\n",
    "data4['Year']=2018\n",
    "\n",
    "# Convert year Column to a dataetime format\n",
    "data4['Year'] = pd.to_datetime(data4['Year'], format='%Y')"
   ]
  },
  {
   "cell_type": "code",
   "execution_count": 87,
   "metadata": {},
   "outputs": [],
   "source": [
    "data4= data4.rename(columns={'Company Name':'Company_Brand',\n",
    "                    'Industry':'Sector',\n",
    "                   'Round/Series':'Stage',\n",
    "                   'Location':'HeadQuarter',\n",
    "                   'About Company':\"What_it_does\"})"
   ]
  },
  {
   "cell_type": "markdown",
   "metadata": {},
   "source": [
    "EXTRACTING EACH COLUMN TO UNDERSTAND WHAT WE MUST DO IN CLEANING PROCESS "
   ]
  },
  {
   "cell_type": "code",
   "execution_count": 88,
   "metadata": {},
   "outputs": [
    {
     "name": "stdout",
     "output_type": "stream",
     "text": [
      "['TheCollegeFever' 'Happy Cow Dairy' 'MyLoanCare' 'PayMe India' 'Eunimart'\n",
      " 'Hasura' 'Tripshelf' 'Hyperdata.IO' 'Freightwalla' 'Microchip Payments'\n",
      " 'BizCrum Infotech Pvt. Ltd.' 'Emojifi' 'Flock' 'Freshboxx'\n",
      " 'Wide Mobility Mechatronics' 'Pitstop' 'Mihuru' 'Fyle' 'AppWharf'\n",
      " 'Antariksh Waste Ventures Pvt ltd' 'Cogoport' 'PaisaDukan'\n",
      " 'Sleepy Owl Coffee' 'BlueJack' 'PregBuddy' 'AgNext Technologies' 'Pando'\n",
      " 'Mintifi' 'Carcrew' 'NicheAI' 'Chariot Tech'\n",
      " 'Ideal Insurance Brokers/ 121Policy.com' 'Loanzen' 'Mojro Technologies'\n",
      " 'Elemential' 'Loadshare' 'Yumlane' 'Kriger Campus' 'Pipa+Bella'\n",
      " 'Kaleidofin' 'Chakr Innovation' 'IndigoLearn' 'UClean' 'Coutloot'\n",
      " 'Letstrack' 'Pooltoo' 'Finzy' 'Fitternity' 'Keito' 'Tolet for Students'\n",
      " 'Chai Kings' 'Dainik Jagran' 'Playtoome' 'ONGO Framework' 'Notesgen'\n",
      " 'Arogya MedTech' 'Propshop24' 'myUpchar' 'MissMalini Entertainment'\n",
      " 'Rooter' 'ZestMoney' 'alphaics Corporation' 'MyDentistChoice' 'Sattviko'\n",
      " 'Sensibull' 'Bombay Shaving Company' 'MedCords' 'University Living' '&ME'\n",
      " 'Enakshi' 'Ultraviolette Automotive' 'Inthree Access'\n",
      " 'BUGWORKS Research India' 'Guardian.in' 'PrestLoans' 'Wimoxez'\n",
      " 'India Accelerator' 'HappyEMI' 'Wishup' 'Hansel.io' 'Propelld'\n",
      " 'PivotRoots' 'ZiffyHomes' 'Carmesi' 'OckyPocky' 'Racetrack' 'WHR'\n",
      " 'Asteria Aerospace' 'FabAlley' 'Tranzmeo' 'SBI Life' 'Studds Accessories'\n",
      " 'Design Cafe' 'NoPaperForms Solutions Pvt. Ltd.' 'Rays Power Infra'\n",
      " 'AuthMetrik' 'Khidki' 'LetsTransport' 'Next Digital Solutions'\n",
      " 'Portea Medical']\n"
     ]
    }
   ],
   "source": [
    "# Get all unique values in the \"Company_Brand\" column\n",
    "data4= pd.DataFrame(data4)\n",
    "unique_brands = data4['Company_Brand'].unique()\n",
    "# Print the first 50 unique values\n",
    "print(unique_brands[:100])"
   ]
  },
  {
   "cell_type": "code",
   "execution_count": 89,
   "metadata": {},
   "outputs": [
    {
     "name": "stdout",
     "output_type": "stream",
     "text": [
      "['Brand Marketing, Event Promotion, Marketing, Sponsorship, Ticketing'\n",
      " 'Agriculture, Farming' 'Credit, Financial Services, Lending, Marketplace'\n",
      " 'Financial Services, FinTech' 'E-Commerce Platforms, Retail, SaaS'\n",
      " 'Cloud Infrastructure, PaaS, SaaS' 'Internet, Leisure, Marketplace'\n",
      " 'Market Research' 'Information Services, Information Technology'\n",
      " 'Mobile Payments' 'B2B, Shoes' 'Internet'\n",
      " 'Apps, Collaboration, Developer Platform, Enterprise Software, Messaging, Productivity Tools, Video Chat'\n",
      " 'Food Delivery' 'Industrial Automation'\n",
      " 'Automotive, Search Engine, Service Industry' 'Finance, Internet, Travel'\n",
      " 'Accounting, Business Information Systems, Business Travel, Finance, SaaS'\n",
      " 'Artificial Intelligence, Product Search, SaaS, Service Industry, Software'\n",
      " 'Internet of Things, Waste Management'\n",
      " 'Air Transportation, Freight Service, Logistics, Marine Transportation'\n",
      " 'Financial Services' 'Food and Beverage' 'Autonomous Vehicles'\n",
      " 'Enterprise Software, Health Care, Hospital, Parenting, Personal Health, SaaS'\n",
      " 'Agriculture, Analytics, Big Data, Farming'\n",
      " 'Logistics, Supply Chain Management' 'Financial Services, Lending'\n",
      " 'Automotive, Marketplace, Online Portals' 'Artificial Intelligence'\n",
      " 'Internet of Things, Telecommunications' 'Insurance'\n",
      " 'Information Technology, Logistics, Supply Chain Management'\n",
      " 'Blockchain, Developer Tools, Enterprise Software'\n",
      " 'Industrial Automation, Logistics, Supply Chain Management'\n",
      " 'Food and Beverage, Food Delivery, Snack Food' 'Education'\n",
      " 'E-Commerce, Fashion, Jewelry, Retail' 'Renewable Energy'\n",
      " 'E-Learning, Education'\n",
      " 'Clean Energy, CleanTech, Laundry and Dry-cleaning'\n",
      " 'E-Commerce, Fashion, Mobile'\n",
      " 'Apps, Messaging, Navigation, Public Safety' 'Transportation'\n",
      " 'Fitness, Health Care, Wellness'\n",
      " 'Artificial Intelligence, Machine Learning, SaaS, Virtual Assistant'\n",
      " 'Hospitality' 'Food and Beverage, Tea'\n",
      " 'Media and Entertainment, News, Outdoors'\n",
      " 'Broadcasting, Media and Entertainment, Music, Music Streaming, Video, Video Streaming'\n",
      " 'B2B, Information Services, Information Technology'\n",
      " 'EdTech, Education, Enterprise Software, Peer to Peer'\n",
      " 'Health Care, Medical' 'E-Commerce' 'Health Care, Hospital, Wellness' '—'\n",
      " 'Sports' 'Big Data, Consumer Lending, FinTech'\n",
      " 'Cloud Computing, Computer, Semiconductor'\n",
      " 'Health Care, Medical, Pharmaceutical' 'Food Processing, Retail'\n",
      " 'Trading Platform' \"Consumer Goods, Lifestyle, Men's\" 'Wellness'\n",
      " 'Food and Beverage, Food Processing, Nutrition' 'Fashion'\n",
      " 'Automotive, Electric Vehicle, Energy Storage'\n",
      " 'Consulting, Retail, Social'\n",
      " 'Biotechnology, Life Science, Pharmaceutical, Product Research'\n",
      " 'Health Care' 'Credit, Financial Services, FinTech, Personal Finance'\n",
      " 'Communities, Coworking, Incubators'\n",
      " 'Consumer, Financial Services, FinTech'\n",
      " 'Consumer Applications, Information Services, Location Based Services, Virtual Assistant'\n",
      " 'Mobile, Mobile Apps, Personalization, Test and Measurement, Web Apps'\n",
      " 'Education, Financial Services, FinTech'\n",
      " 'Advertising, Consulting, Digital Marketing'\n",
      " 'Marketplace, Real Estate, Rental Property'\n",
      " 'E-Learning, Internet, Video Games'\n",
      " 'Artificial Intelligence, Cloud Computing, Video'\n",
      " 'Health Care, Information Technology' 'Aerospace'\n",
      " 'E-Commerce, Fashion, Lifestyle'\n",
      " 'Artificial Intelligence, Business Intelligence, Industrial Automation, Machine Learning'\n",
      " 'Home Decor, Home Improvement, Home Renovation, Home Services, Interior Design, Smart Home'\n",
      " 'EdTech, Education, Information Services, SaaS' 'Energy, Solar'\n",
      " 'B2B, Biometrics, Cyber Security, Fraud Detection, SaaS, Security'\n",
      " 'Artificial Intelligence, Social' 'Logistics, Transportation, Travel'\n",
      " 'Digital Marketing, SEM, SEO, Web Development'\n",
      " 'Health Care, Hospital, Medical' 'Finance, Financial Services'\n",
      " 'Food Delivery, Food Processing, Internet'\n",
      " 'E-Commerce, Food and Beverage, Internet'\n",
      " 'Fitness, Food and Beverage, Health Care, Nutrition'\n",
      " 'EdTech, Education, Knowledge Management'\n",
      " 'Apps, Beauty, Consumer, Retail'\n",
      " 'Creative Agency, Crowdfunding, EdTech, Health Care, Internet, Medical, Non Profit, Personal Health'\n",
      " 'Consumer Lending, Financial Services, FinTech, Insurance, Lending, Mobile Payments, Payments, Wealth Management']\n"
     ]
    }
   ],
   "source": [
    "# Get all unique values in the \"Company_Brand\" column\n",
    "data4= pd.DataFrame(data4)\n",
    "unique_brands = data4['Sector'].unique()\n",
    "# Print the first 50 unique values\n",
    "print(unique_brands[:100])"
   ]
  },
  {
   "cell_type": "code",
   "execution_count": 90,
   "metadata": {},
   "outputs": [
    {
     "name": "stdout",
     "output_type": "stream",
     "text": [
      "['Seed' 'Series A' 'Angel' 'Series B' 'Pre-Seed' 'Private Equity'\n",
      " 'Venture - Series Unknown' 'Grant' 'Debt Financing' 'Post-IPO Debt'\n",
      " 'Series H' 'Series C' 'Series E' 'Corporate Round' 'Undisclosed'\n",
      " 'https://docs.google.com/spreadsheets/d/1x9ziNeaz6auNChIHnMI8U6kS7knTr3byy_YBGfQaoUA/edit#gid=1861303593'\n",
      " 'Series D' 'Secondary Market' 'Post-IPO Equity' 'Non-equity Assistance'\n",
      " 'Funding Round']\n"
     ]
    }
   ],
   "source": [
    "# Get all unique values in the \"Company_Brand\" column\n",
    "data4= pd.DataFrame(data4)\n",
    "unique_brands = data4['Stage'].unique()\n",
    "# Print the first 50 unique values\n",
    "print(unique_brands[:100])"
   ]
  },
  {
   "cell_type": "code",
   "execution_count": 91,
   "metadata": {},
   "outputs": [
    {
     "name": "stdout",
     "output_type": "stream",
     "text": [
      "['250000' '₹40,000,000' '₹65,000,000' '2000000' '—' '1600000'\n",
      " '₹16,000,000' '₹50,000,000' '₹100,000,000' '150000' '1100000' '₹500,000'\n",
      " '6000000' '650000' '₹35,000,000' '₹64,000,000' '₹20,000,000' '1000000'\n",
      " '5000000' '4000000' '₹30,000,000' '2800000' '1700000' '1300000'\n",
      " '₹5,000,000' '₹12,500,000' '₹15,000,000' '500000' '₹104,000,000'\n",
      " '₹45,000,000' '13400000' '₹25,000,000' '₹26,400,000' '₹8,000,000'\n",
      " '₹60,000' '9000000' '100000' '20000' '120000' '₹34,000,000'\n",
      " '₹342,000,000' '$143,145' '₹600,000,000' '$742,000,000' '₹1,000,000,000'\n",
      " '₹2,000,000,000' '$3,980,000' '$10,000' '₹100,000' '₹250,000,000'\n",
      " '$1,000,000,000' '$7,000,000' '$35,000,000' '₹550,000,000' '$28,500,000'\n",
      " '$2,000,000' '₹240,000,000' '₹120,000,000' '$2,400,000' '$30,000,000'\n",
      " '₹2,500,000,000' '$23,000,000' '$150,000' '$11,000,000' '₹44,000,000'\n",
      " '$3,240,000' '₹60,000,000' '$540,000,000' '₹650,000,000' '₹1,600,000,000'\n",
      " '$900,000' '$10,000,000' '$1,500,000' '₹70,000,000' '$1,000,000'\n",
      " '$5,000,000' '$14,000,000' '₹102,500,000' '$100,000,000' '₹1,200,000'\n",
      " '₹5,200,000,000' '$800,000' '$1,041,000' '$100,000' '$15,000' '1400000'\n",
      " '1200000' '2200000' '1800000' '3600000' '₹9,500,000' '300000' '6830000'\n",
      " '200000' '₹150,000,000' '4300000' '364846' '400000' '1500000'\n",
      " '₹7,000,000']\n"
     ]
    }
   ],
   "source": [
    "# Get all unique values in the \"Company_Brand\" column\n",
    "data4= pd.DataFrame(data4)\n",
    "unique_brands = data4['Amount'].unique()\n",
    "# Print the first 50 unique values\n",
    "print(unique_brands[:100])"
   ]
  },
  {
   "cell_type": "code",
   "execution_count": 92,
   "metadata": {},
   "outputs": [
    {
     "name": "stdout",
     "output_type": "stream",
     "text": [
      "['Bangalore, Karnataka, India' 'Mumbai, Maharashtra, India'\n",
      " 'Gurgaon, Haryana, India' 'Noida, Uttar Pradesh, India'\n",
      " 'Hyderabad, Andhra Pradesh, India' 'Bengaluru, Karnataka, India'\n",
      " 'Kalkaji, Delhi, India' 'Delhi, Delhi, India' 'India, Asia'\n",
      " 'Hubli, Karnataka, India' 'New Delhi, Delhi, India'\n",
      " 'Chennai, Tamil Nadu, India' 'Mohali, Punjab, India'\n",
      " 'Kolkata, West Bengal, India' 'Pune, Maharashtra, India'\n",
      " 'Jodhpur, Rajasthan, India' 'Kanpur, Uttar Pradesh, India'\n",
      " 'Ahmedabad, Gujarat, India' 'Azadpur, Delhi, India'\n",
      " 'Haryana, Haryana, India' 'Cochin, Kerala, India'\n",
      " 'Faridabad, Haryana, India' 'Jaipur, Rajasthan, India'\n",
      " 'Kota, Rajasthan, India' 'Anand, Gujarat, India'\n",
      " 'Bangalore City, Karnataka, India' 'Belgaum, Karnataka, India'\n",
      " 'Thane, Maharashtra, India' 'Margão, Goa, India'\n",
      " 'Indore, Madhya Pradesh, India' 'Alwar, Rajasthan, India'\n",
      " 'Kannur, Kerala, India' 'Trivandrum, Kerala, India'\n",
      " 'Ernakulam, Kerala, India' 'Kormangala, Karnataka, India'\n",
      " 'Uttar Pradesh, India, Asia' 'Andheri, Maharashtra, India'\n",
      " 'Mylapore, Tamil Nadu, India' 'Ghaziabad, Uttar Pradesh, India'\n",
      " 'Kochi, Kerala, India' 'Powai, Assam, India'\n",
      " 'Guntur, Andhra Pradesh, India' 'Kalpakkam, Tamil Nadu, India'\n",
      " 'Bhopal, Madhya Pradesh, India' 'Coimbatore, Tamil Nadu, India'\n",
      " 'Worli, Maharashtra, India' 'Alleppey, Kerala, India'\n",
      " 'Chandigarh, Chandigarh, India' 'Guindy, Tamil Nadu, India'\n",
      " 'Lucknow, Uttar Pradesh, India']\n"
     ]
    }
   ],
   "source": [
    "# Get all unique values in the \"Company_Brand\" column\n",
    "data4= pd.DataFrame(data4)\n",
    "unique_brands = data4['HeadQuarter'].unique()\n",
    "# Print the first 50 unique values\n",
    "print(unique_brands[:100])"
   ]
  },
  {
   "cell_type": "code",
   "execution_count": 93,
   "metadata": {},
   "outputs": [
    {
     "name": "stdout",
     "output_type": "stream",
     "text": [
      "['TheCollegeFever is a hub for fun, fiesta and frolic of Colleges.'\n",
      " 'A startup which aggregates milk from dairy farmers in rural Maharashtra.'\n",
      " 'Leading Online Loans Marketplace in India'\n",
      " 'PayMe India is an innovative FinTech organization which offers short term financial suport to corporate employees.'\n",
      " 'Eunimart is a one stop solution for merchants to create a difference by selling globally.'\n",
      " 'Hasura is a platform that allows developers to build, deploy, and host cloud-native applications quickly.'\n",
      " 'Tripshelf is an online market place for holiday packages.'\n",
      " 'Hyperdata combines advanced machine learning with human intelligence.'\n",
      " 'Freightwalla is an international forwarder thats helps you manage supply chain by providing online tools including instant quotations.'\n",
      " 'Microchip payments is a mobile-based payment application and point-of-sale device'\n",
      " 'Building Transactionary B2B Marketplaces'\n",
      " 'Emojifi is an app that provides live emoji, stickers & GIFs suggestions based on the typed words across chat platforms.'\n",
      " 'Flock is a real-time messaging and collaboration app for teams that speeds up and simplifies communication and boosts productivity.'\n",
      " 'Freshboxx is incubated at Sandbox Startups, a unit of the Deshpande Foundation.'\n",
      " 'Wide Mobility Mechatronics is a Private Company limited by Shares'\n",
      " 'Pitstop offers general repair and maintenance services for cars through its doorstep service vehicles.'\n",
      " 'Mihuru is an online platform which gives micro loans for air travel .'\n",
      " 'Fyle is an intelligent expense management platform for enterprises.'\n",
      " 'Appwharf is an intelligent assistant that helps find you the best-fit SaaS for your business.'\n",
      " 'Waste Management for Smart Cities'\n",
      " 'Cogoport is a platform that provides freight buying industry with spot rates and bidding process for freight buyers.'\n",
      " 'A P2P lending marketplace platform'\n",
      " \"Makers of a signature coffee that's exceptional in taste. It's super easy to brew, requires no equipment & ships to your door.\"\n",
      " 'Delhi-based online used vehicles marketplace.'\n",
      " 'PregBuddy is a smart connected care platform for expecting mothers.'\n",
      " 'AgNext is an agricultural sensing and solutions company focused on building data-driven solutions for agricultural stakeholders'\n",
      " 'A startup which digitizes logistics operations for Fortune 500 companies.'\n",
      " 'Online lending startup based in Mumbai.'\n",
      " \"India's Online Auto Repair Marketplace\"\n",
      " 'Early stage Artificial Intelligence (AI) start up.'\n",
      " 'Chariot Tech is an Internet of Things (IoT) startup based in New Delhi.'\n",
      " 'Ideal Insurance Broking is one of the leaders in insurance broking domain.'\n",
      " 'Loanzen helps small businesses get unsecured working capital loans against their their pending invoices.'\n",
      " \"Mojro envisions to be the world's largest technology-enabled logistics platform.\"\n",
      " 'Blockchain Development Platform To Design, Run & Scale Blockchain Networks.'\n",
      " 'LoadShare is India’s fastest growing logistics company'\n",
      " 'Food startup Yumlane operated by QwikPik Technology'\n",
      " 'A Education Start Up.'\n",
      " 'Pipa+Bella is an online store aimed at selling fashionable and affordable costume jewelry at par with international standards and trends'\n",
      " 'A fintech platform.'\n",
      " 'Chakr has developed the world’s first retro-fit emission control device for diesel generators.'\n",
      " \"India's the premier education destination catering to the needs of aspiring students of the CA community.\"\n",
      " 'UClean is a tech enabled laundry service provider.'\n",
      " 'The Fashion Re-commerce platform.'\n",
      " 'Letstrack GPS tracking devices to track your kids, bike, car and other vehicles. GPS trackers for Vehicle Tracking System in India.'\n",
      " 'Pooltoo offers a premium ride sharing platform.'\n",
      " 'finzy is the premier peer to peer lending solution in India.'\n",
      " \"India's largest online fitness platform that provides an integrated eco-system to help users start & sustain their fitness journey\"\n",
      " 'Building an Intelligent Digital Assistant.'\n",
      " 'Reserve your Room, Hostel or Paying Guest, while relocating for higher education.'\n",
      " 'Chai Kings is a tea retail chain'\n",
      " 'Dainik Jagran is a media and communications group.'\n",
      " 'Playtoome is a live entertainment destination'\n",
      " 'ONGO Framework is a B2B IT and digital solution provider.'\n",
      " 'A Global Peer-to-Peer and Peer-to-Group Learning Platform that helps students supplement their academic & competitive exam prep.'\n",
      " 'Arogya MedTech is a Research & Development organization in Bio-Medical industry.'\n",
      " \"Propshop24, a one-stop shop for a handpicked selection of 'fun'tastic products from around the world.\"\n",
      " 'To bring health issues to people in their language.'\n",
      " 'MissMalini Entertainment is a multi-platform new media network dedicated to Entertaining, Connecting & Empowering young Indians.'\n",
      " 'Rooter is a mobile-based platform'\n",
      " \"Zest is India's first completely automated consumer digital lending platform.\"\n",
      " 'Advancing AI compute'\n",
      " 'MyDentistChoice is a direct sales and distribution of dental equipment and accessories from top name manufacturers'\n",
      " 'Sattviko fosters wellness and shares Indianness through the Sattvik way of cooking that is wholesome and tasty!'\n",
      " 'Investment Management Platform'\n",
      " \"Bombay Shaving Company is a Men's grooming startup\"\n",
      " 'Medcords is India’s first holistic healthcare ecosystem on a cloud platform that makes health management easier'\n",
      " 'University Living is an online global student housing marketplace.'\n",
      " 'Food and Beverage startup focussing on developing products using ayurveda with modern science for women empowerment and fitness.'\n",
      " 'Enakshi is an online apparel brand for women.'\n",
      " 'Ultraviolette is a startup working on electric two-wheelers and energy infrastructure.'\n",
      " 'Inthree Access is an impact venture that connects the most inaccessible rural markets with products that can transform lives in Rural India.'\n",
      " 'BUGWORKS is a drug discovery company.'\n",
      " \"GNC is a leading global specialty retailer of health and wellness products that takes pride to be the world's largest company\"\n",
      " 'PrestLoans New age tech driven RBI regd NBFC helping businesses by providing easy, quick n hassle free loans.'\n",
      " 'Data Intelligence Publishing Platform, We bring the best resources to learn valuable technologies which will shape tomorrow.'\n",
      " 'India Accelerator runs mentorship-driven incubation and acceleration programs for start ups.'\n",
      " 'HappyEMI is a point of sale digital lending platform that helps consumers finance their purchases in-store and online'\n",
      " 'Premium Personal Assistance service'\n",
      " 'Hansel, a mobile app management platform, provides the infrastructure that companies need, in order to personalize product experiences.'\n",
      " 'Propelld is a student education financing platform.'\n",
      " 'Digital Marketing powered by Data & Technology; fueled by Design thinking'\n",
      " 'ZiffyHomes is a technology driven marketplace to find out home on rent.'\n",
      " 'Carmesi is a brand of high-end menstrual-hygiene products in India.'\n",
      " 'OckyPocky is a interactive and personalised language learning app for preschool kids.'\n",
      " 'Racetrack is a sales and support-focused AI-driven platform designed for education, real estate, and e-commerce sectors.'\n",
      " 'WHR is to make affordable healthcare a reality for all. Our vision is to make healthcare services easier, better and more accessible.'\n",
      " 'Asteria Aerospace is a robotics and artificial intelligence company.'\n",
      " 'FabAlley is the ultimate Indian fashion destination for fashion-forward, indie-chic girls. Founded in 2012, Tanvi Malik and Shivani Poddar'\n",
      " 'Tranzmeo Connect : is A Complete Comprehensive Anomaly forensic Solution with Actionable Insights.'\n",
      " 'SBI Life is one of the life insurance company that offers a range of life insurance plans and policies to protect you and your family.'\n",
      " 'Studds Accessories is a scooter accessories service provider in India'\n",
      " 'Design + Execution Organization that delivers beautiful & innovative designs for Home Interiors, in any budget.'\n",
      " 'NoPaperForms is a marketing automation, lead nurture and enrolment management platform for educational institutions'\n",
      " 'Rays Power Infra is a leading integrated Solar Power Company.'\n",
      " 'SaaS, B2B, Security, Stop account sharing, Fraud Detection'\n",
      " 'Vernacular Social Network Focused on Town Level Content and Interactions'\n",
      " 'Lets transport is a logistics solution provider.'\n",
      " 'Next Digital Solutions is website design & Digital Marketing development company.'\n",
      " 'Portea Medical is the largest and fastest growing provider of in-home medical care in India today with a 24-city network.']\n"
     ]
    }
   ],
   "source": [
    "# Get all unique values in the \"Company_Brand\" column\n",
    "data4= pd.DataFrame(data4)\n",
    "unique_brands = data4['What_it_does'].unique()\n",
    "# Print the first 50 unique values\n",
    "print(unique_brands[:100])"
   ]
  },
  {
   "cell_type": "code",
   "execution_count": 94,
   "metadata": {},
   "outputs": [],
   "source": [
    "data4 = data4[data4['Amount'] != 'https://docs.google.com/spreadsheets/d/1x9ziNeaz6auNChIHnMI8U6kS7knTr3byy_YBGfQaoUA/edit#gid=1861303593']\n"
   ]
  },
  {
   "cell_type": "code",
   "execution_count": 95,
   "metadata": {},
   "outputs": [],
   "source": [
    "\n",
    "# Define a function to clean and convert the 'Amount' values\n",
    "def clean_and_convert_amount(value):\n",
    "    # Remove any commas and extra spaces\n",
    "    value = str(value).replace(',', '').strip()\n",
    "    \n",
    "    # Replace specific terms with NaN or appropriate values\n",
    "    if value.lower() in ['$undisclosed', 'undisclosed']:\n",
    "        return float('nan')\n",
    "    elif value == '':\n",
    "        return 0\n",
    "    \n",
    "    # Check if the value starts with $ or ₹ and convert accordingly\n",
    "    if value.startswith('$'):\n",
    "        try:\n",
    "            # Remove the dollar sign and convert to float, then convert to rupees\n",
    "            return float(value[1:]) * 70.34\n",
    "        except ValueError:\n",
    "            return float('nan')\n",
    "    elif value.startswith('₹'):\n",
    "        try:\n",
    "            # Remove the rupee sign and convert to float\n",
    "            return float(value[1:])\n",
    "        except ValueError:\n",
    "            return float('nan')\n",
    "    else:\n",
    "        # Try to convert plain numeric values\n",
    "        try:\n",
    "            return float(value)\n",
    "        except ValueError:\n",
    "            return float('nan')\n",
    "\n",
    "# Apply the function to the 'Amount' column\n",
    "data4['Amount'] = data4['Amount'].apply(clean_and_convert_amount)\n"
   ]
  },
  {
   "cell_type": "code",
   "execution_count": 96,
   "metadata": {},
   "outputs": [
    {
     "name": "stdout",
     "output_type": "stream",
     "text": [
      "[  250000. 40000000. 65000000.  2000000.       nan]\n"
     ]
    }
   ],
   "source": [
    "# Get all unique values in the \"Company_Brand\" column\n",
    "data4= pd.DataFrame(data4)\n",
    "unique_brands = data4['Amount'].unique()\n",
    "# Print the first 50 unique values\n",
    "print(unique_brands[:5])"
   ]
  },
  {
   "cell_type": "code",
   "execution_count": 97,
   "metadata": {},
   "outputs": [
    {
     "data": {
      "text/html": [
       "<div>\n",
       "<style scoped>\n",
       "    .dataframe tbody tr th:only-of-type {\n",
       "        vertical-align: middle;\n",
       "    }\n",
       "\n",
       "    .dataframe tbody tr th {\n",
       "        vertical-align: top;\n",
       "    }\n",
       "\n",
       "    .dataframe thead th {\n",
       "        text-align: right;\n",
       "    }\n",
       "</style>\n",
       "<table border=\"1\" class=\"dataframe\">\n",
       "  <thead>\n",
       "    <tr style=\"text-align: right;\">\n",
       "      <th></th>\n",
       "      <th>Company_Brand</th>\n",
       "      <th>Sector</th>\n",
       "      <th>Stage</th>\n",
       "      <th>Amount</th>\n",
       "      <th>HeadQuarter</th>\n",
       "      <th>What_it_does</th>\n",
       "      <th>Year</th>\n",
       "    </tr>\n",
       "  </thead>\n",
       "  <tbody>\n",
       "    <tr>\n",
       "      <th>0</th>\n",
       "      <td>TheCollegeFever</td>\n",
       "      <td>Brand Marketing, Event Promotion, Marketing, S...</td>\n",
       "      <td>Seed</td>\n",
       "      <td>250000.0</td>\n",
       "      <td>Bangalore, Karnataka, India</td>\n",
       "      <td>TheCollegeFever is a hub for fun, fiesta and f...</td>\n",
       "      <td>2018-01-01</td>\n",
       "    </tr>\n",
       "    <tr>\n",
       "      <th>1</th>\n",
       "      <td>Happy Cow Dairy</td>\n",
       "      <td>Agriculture, Farming</td>\n",
       "      <td>Seed</td>\n",
       "      <td>40000000.0</td>\n",
       "      <td>Mumbai, Maharashtra, India</td>\n",
       "      <td>A startup which aggregates milk from dairy far...</td>\n",
       "      <td>2018-01-01</td>\n",
       "    </tr>\n",
       "  </tbody>\n",
       "</table>\n",
       "</div>"
      ],
      "text/plain": [
       "     Company_Brand                                             Sector Stage  \\\n",
       "0  TheCollegeFever  Brand Marketing, Event Promotion, Marketing, S...  Seed   \n",
       "1  Happy Cow Dairy                               Agriculture, Farming  Seed   \n",
       "\n",
       "       Amount                  HeadQuarter  \\\n",
       "0    250000.0  Bangalore, Karnataka, India   \n",
       "1  40000000.0   Mumbai, Maharashtra, India   \n",
       "\n",
       "                                        What_it_does       Year  \n",
       "0  TheCollegeFever is a hub for fun, fiesta and f... 2018-01-01  \n",
       "1  A startup which aggregates milk from dairy far... 2018-01-01  "
      ]
     },
     "execution_count": 97,
     "metadata": {},
     "output_type": "execute_result"
    }
   ],
   "source": [
    "data4.head(2)"
   ]
  },
  {
   "cell_type": "code",
   "execution_count": 98,
   "metadata": {},
   "outputs": [
    {
     "data": {
      "text/plain": [
       "Company_Brand      0\n",
       "Sector             0\n",
       "Stage              0\n",
       "Amount           148\n",
       "HeadQuarter        0\n",
       "What_it_does       0\n",
       "Year               0\n",
       "dtype: int64"
      ]
     },
     "execution_count": 98,
     "metadata": {},
     "output_type": "execute_result"
    }
   ],
   "source": [
    "(data4\n",
    " .isna()\n",
    " .sum()\n",
    " )"
   ]
  },
  {
   "cell_type": "code",
   "execution_count": 99,
   "metadata": {},
   "outputs": [],
   "source": [
    "data4['Amount']= data4['Amount'].fillna(method='bfill')"
   ]
  },
  {
   "cell_type": "code",
   "execution_count": 100,
   "metadata": {},
   "outputs": [
    {
     "data": {
      "text/plain": [
       "Company_Brand    0\n",
       "Sector           0\n",
       "Stage            0\n",
       "Amount           0\n",
       "HeadQuarter      0\n",
       "What_it_does     0\n",
       "Year             0\n",
       "dtype: int64"
      ]
     },
     "execution_count": 100,
     "metadata": {},
     "output_type": "execute_result"
    }
   ],
   "source": [
    "(data4\n",
    " .isna()\n",
    " .sum()\n",
    " )"
   ]
  },
  {
   "cell_type": "markdown",
   "metadata": {},
   "source": [
    "\n",
    "Data Preparation"
   ]
  },
  {
   "cell_type": "markdown",
   "metadata": {},
   "source": [
    "\n",
    "Cleaning of our data was done after each of the datasets. In this phase we concatenate our data"
   ]
  },
  {
   "cell_type": "code",
   "execution_count": 101,
   "metadata": {},
   "outputs": [
    {
     "data": {
      "text/html": [
       "<div>\n",
       "<style scoped>\n",
       "    .dataframe tbody tr th:only-of-type {\n",
       "        vertical-align: middle;\n",
       "    }\n",
       "\n",
       "    .dataframe tbody tr th {\n",
       "        vertical-align: top;\n",
       "    }\n",
       "\n",
       "    .dataframe thead th {\n",
       "        text-align: right;\n",
       "    }\n",
       "</style>\n",
       "<table border=\"1\" class=\"dataframe\">\n",
       "  <thead>\n",
       "    <tr style=\"text-align: right;\">\n",
       "      <th></th>\n",
       "      <th>Company_Brand</th>\n",
       "      <th>Founded</th>\n",
       "      <th>HeadQuarter</th>\n",
       "      <th>Sector</th>\n",
       "      <th>What_it_does</th>\n",
       "      <th>Founders</th>\n",
       "      <th>Investor</th>\n",
       "      <th>Amount</th>\n",
       "      <th>Stage</th>\n",
       "      <th>Year</th>\n",
       "    </tr>\n",
       "  </thead>\n",
       "  <tbody>\n",
       "    <tr>\n",
       "      <th>0</th>\n",
       "      <td>Aqgromalin</td>\n",
       "      <td>2019.0</td>\n",
       "      <td>Chennai</td>\n",
       "      <td>Agritech</td>\n",
       "      <td>Cultivating Ideas for Profit</td>\n",
       "      <td>Prasanna Manogaran, Bharani C L</td>\n",
       "      <td>Angel Investors</td>\n",
       "      <td>200000.0</td>\n",
       "      <td>Seed</td>\n",
       "      <td>2020-01-01</td>\n",
       "    </tr>\n",
       "    <tr>\n",
       "      <th>1</th>\n",
       "      <td>Krayonnz</td>\n",
       "      <td>2019.0</td>\n",
       "      <td>Bangalore</td>\n",
       "      <td>Edtech</td>\n",
       "      <td>An academy-guardian-scholar centric ecosystem ...</td>\n",
       "      <td>Saurabh Dixit, Gurudutt Upadhyay</td>\n",
       "      <td>Gsf Accelerator</td>\n",
       "      <td>100000.0</td>\n",
       "      <td>Pre-seed</td>\n",
       "      <td>2020-01-01</td>\n",
       "    </tr>\n",
       "    <tr>\n",
       "      <th>2</th>\n",
       "      <td>Padcare Labs</td>\n",
       "      <td>2018.0</td>\n",
       "      <td>Pune</td>\n",
       "      <td>Hygiene Management</td>\n",
       "      <td>Converting bio-hazardous waste to harmless waste</td>\n",
       "      <td>Ajinkya Dhariya</td>\n",
       "      <td>Venture Center</td>\n",
       "      <td>3000000.0</td>\n",
       "      <td>Pre-seed</td>\n",
       "      <td>2020-01-01</td>\n",
       "    </tr>\n",
       "    <tr>\n",
       "      <th>3</th>\n",
       "      <td>Ncome</td>\n",
       "      <td>2020.0</td>\n",
       "      <td>New Delhi</td>\n",
       "      <td>Escrow</td>\n",
       "      <td>Escrow-as-a-service platform</td>\n",
       "      <td>Ritesh Tiwari</td>\n",
       "      <td>Venture Catalysts, Pointone Capital</td>\n",
       "      <td>400000.0</td>\n",
       "      <td>Pre series A</td>\n",
       "      <td>2020-01-01</td>\n",
       "    </tr>\n",
       "    <tr>\n",
       "      <th>4</th>\n",
       "      <td>Gramophone</td>\n",
       "      <td>2016.0</td>\n",
       "      <td>Indore</td>\n",
       "      <td>Agritech</td>\n",
       "      <td>Gramophone is an AgTech platform enabling acce...</td>\n",
       "      <td>Ashish Rajan Singh, Harshit Gupta, Nishant Mah...</td>\n",
       "      <td>Siana Capital Management, Info Edge</td>\n",
       "      <td>340000.0</td>\n",
       "      <td>Series C</td>\n",
       "      <td>2020-01-01</td>\n",
       "    </tr>\n",
       "  </tbody>\n",
       "</table>\n",
       "</div>"
      ],
      "text/plain": [
       "  Company_Brand  Founded HeadQuarter              Sector  \\\n",
       "0    Aqgromalin   2019.0     Chennai            Agritech   \n",
       "1      Krayonnz   2019.0   Bangalore              Edtech   \n",
       "2  Padcare Labs   2018.0        Pune  Hygiene Management   \n",
       "3         Ncome   2020.0   New Delhi              Escrow   \n",
       "4    Gramophone   2016.0      Indore            Agritech   \n",
       "\n",
       "                                        What_it_does  \\\n",
       "0                       Cultivating Ideas for Profit   \n",
       "1  An academy-guardian-scholar centric ecosystem ...   \n",
       "2   Converting bio-hazardous waste to harmless waste   \n",
       "3                       Escrow-as-a-service platform   \n",
       "4  Gramophone is an AgTech platform enabling acce...   \n",
       "\n",
       "                                            Founders  \\\n",
       "0                    Prasanna Manogaran, Bharani C L   \n",
       "1                   Saurabh Dixit, Gurudutt Upadhyay   \n",
       "2                                    Ajinkya Dhariya   \n",
       "3                                      Ritesh Tiwari   \n",
       "4  Ashish Rajan Singh, Harshit Gupta, Nishant Mah...   \n",
       "\n",
       "                              Investor     Amount         Stage       Year  \n",
       "0                      Angel Investors   200000.0          Seed 2020-01-01  \n",
       "1                      Gsf Accelerator   100000.0      Pre-seed 2020-01-01  \n",
       "2                       Venture Center  3000000.0      Pre-seed 2020-01-01  \n",
       "3  Venture Catalysts, Pointone Capital   400000.0  Pre series A 2020-01-01  \n",
       "4  Siana Capital Management, Info Edge   340000.0      Series C 2020-01-01  "
      ]
     },
     "execution_count": 101,
     "metadata": {},
     "output_type": "execute_result"
    }
   ],
   "source": [
    "\n",
    "# Combine DataFrames\n",
    "df_combined = pd.concat([data, data2, data3, data4], ignore_index=True)\n",
    "\n",
    "df_combined.head()"
   ]
  },
  {
   "cell_type": "code",
   "execution_count": 102,
   "metadata": {},
   "outputs": [
    {
     "data": {
      "text/plain": [
       "(2857, 10)"
      ]
     },
     "execution_count": 102,
     "metadata": {},
     "output_type": "execute_result"
    }
   ],
   "source": [
    "\n",
    "df_combined.shape"
   ]
  },
  {
   "cell_type": "code",
   "execution_count": 103,
   "metadata": {},
   "outputs": [
    {
     "data": {
      "text/html": [
       "<div>\n",
       "<style scoped>\n",
       "    .dataframe tbody tr th:only-of-type {\n",
       "        vertical-align: middle;\n",
       "    }\n",
       "\n",
       "    .dataframe tbody tr th {\n",
       "        vertical-align: top;\n",
       "    }\n",
       "\n",
       "    .dataframe thead th {\n",
       "        text-align: right;\n",
       "    }\n",
       "</style>\n",
       "<table border=\"1\" class=\"dataframe\">\n",
       "  <thead>\n",
       "    <tr style=\"text-align: right;\">\n",
       "      <th></th>\n",
       "      <th>count</th>\n",
       "      <th>mean</th>\n",
       "      <th>min</th>\n",
       "      <th>25%</th>\n",
       "      <th>50%</th>\n",
       "      <th>75%</th>\n",
       "      <th>max</th>\n",
       "      <th>std</th>\n",
       "    </tr>\n",
       "  </thead>\n",
       "  <tbody>\n",
       "    <tr>\n",
       "      <th>Founded</th>\n",
       "      <td>2330.0</td>\n",
       "      <td>2016.047639</td>\n",
       "      <td>1963.0</td>\n",
       "      <td>2015.0</td>\n",
       "      <td>2016.0</td>\n",
       "      <td>2019.0</td>\n",
       "      <td>2021.0</td>\n",
       "      <td>4.136762</td>\n",
       "    </tr>\n",
       "    <tr>\n",
       "      <th>Year</th>\n",
       "      <td>2857</td>\n",
       "      <td>2020-01-07 16:14:16.842842112</td>\n",
       "      <td>2018-01-01 00:00:00</td>\n",
       "      <td>2020-01-01 00:00:00</td>\n",
       "      <td>2020-01-01 00:00:00</td>\n",
       "      <td>2021-01-01 00:00:00</td>\n",
       "      <td>2021-01-01 00:00:00</td>\n",
       "      <td>NaN</td>\n",
       "    </tr>\n",
       "  </tbody>\n",
       "</table>\n",
       "</div>"
      ],
      "text/plain": [
       "          count                           mean                  min  \\\n",
       "Founded  2330.0                    2016.047639               1963.0   \n",
       "Year       2857  2020-01-07 16:14:16.842842112  2018-01-01 00:00:00   \n",
       "\n",
       "                         25%                  50%                  75%  \\\n",
       "Founded               2015.0               2016.0               2019.0   \n",
       "Year     2020-01-01 00:00:00  2020-01-01 00:00:00  2021-01-01 00:00:00   \n",
       "\n",
       "                         max       std  \n",
       "Founded               2021.0  4.136762  \n",
       "Year     2021-01-01 00:00:00       NaN  "
      ]
     },
     "execution_count": 103,
     "metadata": {},
     "output_type": "execute_result"
    }
   ],
   "source": [
    "df_combined.describe().T"
   ]
  },
  {
   "cell_type": "code",
   "execution_count": 104,
   "metadata": {},
   "outputs": [
    {
     "data": {
      "text/plain": [
       "Company_Brand      0\n",
       "Founded          527\n",
       "HeadQuarter        0\n",
       "Sector             0\n",
       "What_it_does       0\n",
       "Founders         526\n",
       "Investor         526\n",
       "Amount             0\n",
       "Stage              0\n",
       "Year               0\n",
       "dtype: int64"
      ]
     },
     "execution_count": 104,
     "metadata": {},
     "output_type": "execute_result"
    }
   ],
   "source": [
    "df_combined.isnull().sum()"
   ]
  },
  {
   "cell_type": "code",
   "execution_count": 105,
   "metadata": {},
   "outputs": [
    {
     "data": {
      "text/html": [
       "<div>\n",
       "<style scoped>\n",
       "    .dataframe tbody tr th:only-of-type {\n",
       "        vertical-align: middle;\n",
       "    }\n",
       "\n",
       "    .dataframe tbody tr th {\n",
       "        vertical-align: top;\n",
       "    }\n",
       "\n",
       "    .dataframe thead th {\n",
       "        text-align: right;\n",
       "    }\n",
       "</style>\n",
       "<table border=\"1\" class=\"dataframe\">\n",
       "  <thead>\n",
       "    <tr style=\"text-align: right;\">\n",
       "      <th></th>\n",
       "      <th>Company_Brand</th>\n",
       "      <th>Founded</th>\n",
       "      <th>HeadQuarter</th>\n",
       "      <th>Sector</th>\n",
       "      <th>What_it_does</th>\n",
       "      <th>Founders</th>\n",
       "      <th>Investor</th>\n",
       "      <th>Amount</th>\n",
       "      <th>Stage</th>\n",
       "      <th>Year</th>\n",
       "    </tr>\n",
       "  </thead>\n",
       "  <tbody>\n",
       "    <tr>\n",
       "      <th>0</th>\n",
       "      <td>Aqgromalin</td>\n",
       "      <td>2019.0</td>\n",
       "      <td>Chennai</td>\n",
       "      <td>Agritech</td>\n",
       "      <td>Cultivating Ideas for Profit</td>\n",
       "      <td>Prasanna Manogaran, Bharani C L</td>\n",
       "      <td>Angel Investors</td>\n",
       "      <td>200000.0</td>\n",
       "      <td>Seed</td>\n",
       "      <td>2020-01-01</td>\n",
       "    </tr>\n",
       "    <tr>\n",
       "      <th>1</th>\n",
       "      <td>Krayonnz</td>\n",
       "      <td>2019.0</td>\n",
       "      <td>Bangalore</td>\n",
       "      <td>Edtech</td>\n",
       "      <td>An academy-guardian-scholar centric ecosystem ...</td>\n",
       "      <td>Saurabh Dixit, Gurudutt Upadhyay</td>\n",
       "      <td>Gsf Accelerator</td>\n",
       "      <td>100000.0</td>\n",
       "      <td>Pre-seed</td>\n",
       "      <td>2020-01-01</td>\n",
       "    </tr>\n",
       "    <tr>\n",
       "      <th>2</th>\n",
       "      <td>Padcare Labs</td>\n",
       "      <td>2018.0</td>\n",
       "      <td>Pune</td>\n",
       "      <td>Hygiene Management</td>\n",
       "      <td>Converting bio-hazardous waste to harmless waste</td>\n",
       "      <td>Ajinkya Dhariya</td>\n",
       "      <td>Venture Center</td>\n",
       "      <td>3000000.0</td>\n",
       "      <td>Pre-seed</td>\n",
       "      <td>2020-01-01</td>\n",
       "    </tr>\n",
       "    <tr>\n",
       "      <th>3</th>\n",
       "      <td>Ncome</td>\n",
       "      <td>2020.0</td>\n",
       "      <td>New Delhi</td>\n",
       "      <td>Escrow</td>\n",
       "      <td>Escrow-as-a-service platform</td>\n",
       "      <td>Ritesh Tiwari</td>\n",
       "      <td>Venture Catalysts, Pointone Capital</td>\n",
       "      <td>400000.0</td>\n",
       "      <td>Pre series A</td>\n",
       "      <td>2020-01-01</td>\n",
       "    </tr>\n",
       "    <tr>\n",
       "      <th>4</th>\n",
       "      <td>Gramophone</td>\n",
       "      <td>2016.0</td>\n",
       "      <td>Indore</td>\n",
       "      <td>Agritech</td>\n",
       "      <td>Gramophone is an AgTech platform enabling acce...</td>\n",
       "      <td>Ashish Rajan Singh, Harshit Gupta, Nishant Mah...</td>\n",
       "      <td>Siana Capital Management, Info Edge</td>\n",
       "      <td>340000.0</td>\n",
       "      <td>Series C</td>\n",
       "      <td>2020-01-01</td>\n",
       "    </tr>\n",
       "    <tr>\n",
       "      <th>...</th>\n",
       "      <td>...</td>\n",
       "      <td>...</td>\n",
       "      <td>...</td>\n",
       "      <td>...</td>\n",
       "      <td>...</td>\n",
       "      <td>...</td>\n",
       "      <td>...</td>\n",
       "      <td>...</td>\n",
       "      <td>...</td>\n",
       "      <td>...</td>\n",
       "    </tr>\n",
       "    <tr>\n",
       "      <th>2852</th>\n",
       "      <td>Udaan</td>\n",
       "      <td>NaN</td>\n",
       "      <td>Bangalore, Karnataka, India</td>\n",
       "      <td>B2B, Business Development, Internet, Marketplace</td>\n",
       "      <td>Udaan is a B2B trade platform, designed specif...</td>\n",
       "      <td>NaN</td>\n",
       "      <td>NaN</td>\n",
       "      <td>225000000.0</td>\n",
       "      <td>Series C</td>\n",
       "      <td>2018-01-01</td>\n",
       "    </tr>\n",
       "    <tr>\n",
       "      <th>2853</th>\n",
       "      <td>Happyeasygo Group</td>\n",
       "      <td>NaN</td>\n",
       "      <td>Haryana, Haryana, India</td>\n",
       "      <td>Tourism, Travel</td>\n",
       "      <td>HappyEasyGo is an online travel domain.</td>\n",
       "      <td>NaN</td>\n",
       "      <td>NaN</td>\n",
       "      <td>7500.0</td>\n",
       "      <td>Series A</td>\n",
       "      <td>2018-01-01</td>\n",
       "    </tr>\n",
       "    <tr>\n",
       "      <th>2854</th>\n",
       "      <td>Mombay</td>\n",
       "      <td>NaN</td>\n",
       "      <td>Mumbai, Maharashtra, India</td>\n",
       "      <td>Food and Beverage, Food Delivery, Internet</td>\n",
       "      <td>Mombay is a unique opportunity for housewives ...</td>\n",
       "      <td>NaN</td>\n",
       "      <td>NaN</td>\n",
       "      <td>7500.0</td>\n",
       "      <td>Seed</td>\n",
       "      <td>2018-01-01</td>\n",
       "    </tr>\n",
       "    <tr>\n",
       "      <th>2855</th>\n",
       "      <td>Droni Tech</td>\n",
       "      <td>NaN</td>\n",
       "      <td>Mumbai, Maharashtra, India</td>\n",
       "      <td>Information Technology</td>\n",
       "      <td>Droni Tech manufacture UAVs and develop softwa...</td>\n",
       "      <td>NaN</td>\n",
       "      <td>NaN</td>\n",
       "      <td>35000000.0</td>\n",
       "      <td>Seed</td>\n",
       "      <td>2018-01-01</td>\n",
       "    </tr>\n",
       "    <tr>\n",
       "      <th>2856</th>\n",
       "      <td>Netmeds</td>\n",
       "      <td>NaN</td>\n",
       "      <td>Chennai, Tamil Nadu, India</td>\n",
       "      <td>Biotechnology, Health Care, Pharmaceutical</td>\n",
       "      <td>Welcome to India's most convenient pharmacy!</td>\n",
       "      <td>NaN</td>\n",
       "      <td>NaN</td>\n",
       "      <td>35000000.0</td>\n",
       "      <td>Series C</td>\n",
       "      <td>2018-01-01</td>\n",
       "    </tr>\n",
       "  </tbody>\n",
       "</table>\n",
       "<p>2855 rows × 10 columns</p>\n",
       "</div>"
      ],
      "text/plain": [
       "          Company_Brand  Founded                  HeadQuarter  \\\n",
       "0            Aqgromalin   2019.0                      Chennai   \n",
       "1              Krayonnz   2019.0                    Bangalore   \n",
       "2          Padcare Labs   2018.0                         Pune   \n",
       "3                 Ncome   2020.0                    New Delhi   \n",
       "4            Gramophone   2016.0                       Indore   \n",
       "...                 ...      ...                          ...   \n",
       "2852              Udaan      NaN  Bangalore, Karnataka, India   \n",
       "2853  Happyeasygo Group      NaN      Haryana, Haryana, India   \n",
       "2854             Mombay      NaN   Mumbai, Maharashtra, India   \n",
       "2855         Droni Tech      NaN   Mumbai, Maharashtra, India   \n",
       "2856            Netmeds      NaN   Chennai, Tamil Nadu, India   \n",
       "\n",
       "                                                Sector  \\\n",
       "0                                             Agritech   \n",
       "1                                               Edtech   \n",
       "2                                   Hygiene Management   \n",
       "3                                               Escrow   \n",
       "4                                             Agritech   \n",
       "...                                                ...   \n",
       "2852  B2B, Business Development, Internet, Marketplace   \n",
       "2853                                   Tourism, Travel   \n",
       "2854        Food and Beverage, Food Delivery, Internet   \n",
       "2855                            Information Technology   \n",
       "2856        Biotechnology, Health Care, Pharmaceutical   \n",
       "\n",
       "                                           What_it_does  \\\n",
       "0                          Cultivating Ideas for Profit   \n",
       "1     An academy-guardian-scholar centric ecosystem ...   \n",
       "2      Converting bio-hazardous waste to harmless waste   \n",
       "3                          Escrow-as-a-service platform   \n",
       "4     Gramophone is an AgTech platform enabling acce...   \n",
       "...                                                 ...   \n",
       "2852  Udaan is a B2B trade platform, designed specif...   \n",
       "2853            HappyEasyGo is an online travel domain.   \n",
       "2854  Mombay is a unique opportunity for housewives ...   \n",
       "2855  Droni Tech manufacture UAVs and develop softwa...   \n",
       "2856       Welcome to India's most convenient pharmacy!   \n",
       "\n",
       "                                               Founders  \\\n",
       "0                       Prasanna Manogaran, Bharani C L   \n",
       "1                      Saurabh Dixit, Gurudutt Upadhyay   \n",
       "2                                       Ajinkya Dhariya   \n",
       "3                                         Ritesh Tiwari   \n",
       "4     Ashish Rajan Singh, Harshit Gupta, Nishant Mah...   \n",
       "...                                                 ...   \n",
       "2852                                                NaN   \n",
       "2853                                                NaN   \n",
       "2854                                                NaN   \n",
       "2855                                                NaN   \n",
       "2856                                                NaN   \n",
       "\n",
       "                                 Investor       Amount         Stage  \\\n",
       "0                         Angel Investors     200000.0          Seed   \n",
       "1                         Gsf Accelerator     100000.0      Pre-seed   \n",
       "2                          Venture Center    3000000.0      Pre-seed   \n",
       "3     Venture Catalysts, Pointone Capital     400000.0  Pre series A   \n",
       "4     Siana Capital Management, Info Edge     340000.0      Series C   \n",
       "...                                   ...          ...           ...   \n",
       "2852                                  NaN  225000000.0      Series C   \n",
       "2853                                  NaN       7500.0      Series A   \n",
       "2854                                  NaN       7500.0          Seed   \n",
       "2855                                  NaN   35000000.0          Seed   \n",
       "2856                                  NaN   35000000.0      Series C   \n",
       "\n",
       "           Year  \n",
       "0    2020-01-01  \n",
       "1    2020-01-01  \n",
       "2    2020-01-01  \n",
       "3    2020-01-01  \n",
       "4    2020-01-01  \n",
       "...         ...  \n",
       "2852 2018-01-01  \n",
       "2853 2018-01-01  \n",
       "2854 2018-01-01  \n",
       "2855 2018-01-01  \n",
       "2856 2018-01-01  \n",
       "\n",
       "[2855 rows x 10 columns]"
      ]
     },
     "execution_count": 105,
     "metadata": {},
     "output_type": "execute_result"
    }
   ],
   "source": [
    "df_combined.drop_duplicates()"
   ]
  },
  {
   "cell_type": "code",
   "execution_count": 106,
   "metadata": {},
   "outputs": [
    {
     "data": {
      "text/plain": [
       "array(['Angel Investors', 'Gsf Accelerator', 'Venture Center', ...,\n",
       "       'Norwest Venture Partners, General Catalyst, Fundamentum, Accel Partners',\n",
       "       'TPG, Norwest Venture Partners, Evolvence India', nan],\n",
       "      dtype=object)"
      ]
     },
     "execution_count": 106,
     "metadata": {},
     "output_type": "execute_result"
    }
   ],
   "source": [
    "df_combined ['Investor'].unique()"
   ]
  },
  {
   "cell_type": "code",
   "execution_count": 107,
   "metadata": {},
   "outputs": [
    {
     "data": {
      "text/plain": [
       "<DatetimeArray>\n",
       "['2020-01-01 00:00:00', '2021-01-01 00:00:00', '2019-01-01 00:00:00',\n",
       " '2018-01-01 00:00:00']\n",
       "Length: 4, dtype: datetime64[ns]"
      ]
     },
     "execution_count": 107,
     "metadata": {},
     "output_type": "execute_result"
    }
   ],
   "source": [
    "df_combined ['Year'].unique()\n"
   ]
  },
  {
   "cell_type": "code",
   "execution_count": 108,
   "metadata": {},
   "outputs": [
    {
     "data": {
      "text/plain": [
       "array(['Seed', 'Pre-seed', 'Pre series A', 'Series C', 'Pre-series A',\n",
       "       'Pre-series', 'Series A', 'Series B', 'Seed Round', 'Debt',\n",
       "       'Pre-series C', 'Pre-series B', 'Series E', 'Bridge', 'Series D',\n",
       "       'Series B2', 'Series F', 'Pre- series A', 'Edge', 'Series H',\n",
       "       'Pre-Series B', 'Seed A', 'Series A-1', 'Seed Funding', 'Pre-Seed',\n",
       "       'Seed round', 'Pre-seed Round', 'Seed Round & Series A',\n",
       "       'Pre Series A', 'Pre seed Round', 'Angel Round', 'Pre series A1',\n",
       "       'Series E2', 'Bridge Round', 'Pre seed round', 'Pre series B',\n",
       "       'Pre series C', 'Seed Investment', 'Series D1', 'Mid series',\n",
       "       'Series C, D', 'Seed funding', 'Seed+', 'Series F2', 'Series A+',\n",
       "       'Seed ', 'Series G', 'Series B3', 'PE', 'Series F1',\n",
       "       'Pre-series A1', 'Pre-Series A ', 'Pre-Series A', 'Early seed',\n",
       "       'None', 'Seies A', 'Series A2', 'Series I', 'Fresh funding',\n",
       "       'Post series A', 'Series G ', 'Seed fund ', 'Seed fund',\n",
       "       'Series B+', 'Angel', 'Private Equity', 'Venture - Series Unknown',\n",
       "       'Grant', 'Debt Financing', 'Post-IPO Debt', 'Corporate Round',\n",
       "       'Undisclosed',\n",
       "       'https://docs.google.com/spreadsheets/d/1x9ziNeaz6auNChIHnMI8U6kS7knTr3byy_YBGfQaoUA/edit#gid=1861303593',\n",
       "       'Secondary Market', 'Post-IPO Equity', 'Non-equity Assistance',\n",
       "       'Funding Round'], dtype=object)"
      ]
     },
     "execution_count": 108,
     "metadata": {},
     "output_type": "execute_result"
    }
   ],
   "source": [
    "df_combined ['Stage'].unique()\n"
   ]
  },
  {
   "cell_type": "code",
   "execution_count": 109,
   "metadata": {},
   "outputs": [],
   "source": [
    "import pandas as pd\n",
    "\n",
    "# Assuming you want to remove rows where 'Stage' contains a specific value (replace 'value_to_remove' with your actual value)\n",
    "value_to_remove = 'https://docs.google.com/spreadsheets/d/1x9ziNeaz6auNChIHnMI8U6kS7knTr3byy_YBGfQaoUA/edit#gid=1861303593'\n",
    "\n",
    "filtered_df = df_combined[df_combined['Stage'] != value_to_remove]\n"
   ]
  },
  {
   "cell_type": "code",
   "execution_count": 110,
   "metadata": {},
   "outputs": [
    {
     "name": "stdout",
     "output_type": "stream",
     "text": [
      "Non-numeric values in the 'Amount' column:\n",
      "1059     Undisclosed\n",
      "1060     Undisclosed\n",
      "1073     Undisclosed\n",
      "1091     Undisclosed\n",
      "1106     Undisclosed\n",
      "            ...     \n",
      "2179               $\n",
      "2193    $Undisclosed\n",
      "2194    $Undisclosed\n",
      "2199    $Undisclosed\n",
      "2226    $Undisclosed\n",
      "Name: Amount, Length: 141, dtype: object\n",
      "Unique non-numeric values in the 'Amount' column:\n",
      "Undisclosed\n",
      "None\n",
      "$Undisclosed\n",
      "$undisclosed\n",
      "$\n"
     ]
    }
   ],
   "source": [
    "# Ensure all values in the 'Amount' column are strings\n",
    "df_combined['Amount'] = df_combined['Amount'].astype(str)\n",
    "\n",
    "# Function to check if the value is non-numeric\n",
    "def is_non_numeric(value):\n",
    "    try:\n",
    "        # Attempt to convert the cleaned value to a float\n",
    "        float(value.replace(',', '').replace('₹', '').replace('$', '').replace('—', ''))\n",
    "        return False\n",
    "    except ValueError:\n",
    "        return True\n",
    "\n",
    "# Apply the function to filter non-numeric values\n",
    "non_numeric_values = df_combined[df_combined['Amount'].apply(is_non_numeric)]\n",
    "\n",
    "# Print all non-numeric values in the 'Amount' column\n",
    "print(\"Non-numeric values in the 'Amount' column:\")\n",
    "print(non_numeric_values['Amount'])\n",
    "\n",
    "# Get unique non-numeric values in the 'Amount' column\n",
    "unique_non_numeric_values = non_numeric_values['Amount'].unique()\n",
    "\n",
    "# Display the unique non-numeric values in a more readable format\n",
    "print(\"Unique non-numeric values in the 'Amount' column:\")\n",
    "for value in unique_non_numeric_values:\n",
    "    print(value)\n"
   ]
  },
  {
   "cell_type": "code",
   "execution_count": 111,
   "metadata": {},
   "outputs": [],
   "source": [
    "df_combined = pd.DataFrame(data)\n",
    "\n",
    "# Function to clean and convert 'Amount' to numeric\n",
    "def clean_amount_column(amount_series):\n",
    "    # Replace non-numeric values with NaN\n",
    "    amount_series.replace(['Undisclosed', '$', '$Undisclosed', 'None'], np.nan, inplace=True)\n",
    "    \n",
    "    # Remove currency symbols and convert to numeric\n",
    "    amount_series = amount_series.replace('[\\$,]', '', regex=True).astype(float)\n",
    "    \n",
    "    # Calculate the median of the numeric values\n",
    "    median_amount = amount_series.median()\n",
    "    \n",
    "    # Replace NaN values with the median\n",
    "    amount_series.fillna(median_amount, inplace=True)\n",
    "    \n",
    "    return amount_series\n",
    "\n",
    "# Apply the function to the 'Amount' column\n",
    "df_combined['Amount'] = clean_amount_column(df_combined['Amount'])\n"
   ]
  },
  {
   "cell_type": "markdown",
   "metadata": {},
   "source": [
    "\n",
    "Hypothesi Testing"
   ]
  },
  {
   "cell_type": "code",
   "execution_count": 112,
   "metadata": {},
   "outputs": [
    {
     "name": "stdout",
     "output_type": "stream",
     "text": [
      "                 sum_sq     df         F    PR(>F)\n",
      "C(Sector)  9.391285e+20  284.0  0.610936  0.999999\n",
      "C(Stage)   1.421256e+20   41.0  0.640438  0.961541\n",
      "Residual   3.945834e+21  729.0       NaN       NaN\n",
      "P-value for Sector: 0.9999990935729939\n",
      "P-value for Stage: 0.9615407811910742\n",
      "Fail to reject the null hypothesis for Sector: No significant difference in funding across different sectors.\n",
      "Fail to reject the null hypothesis for Stage: No significant difference in funding across different stages.\n"
     ]
    }
   ],
   "source": [
    "from statsmodels.formula.api import ols\n",
    "from statsmodels.stats.anova import anova_lm\n",
    "\n",
    "\n",
    "# Create the model\n",
    "model = ols('Amount ~ C(Sector) + C(Stage)', data=df_combined).fit()\n",
    "\n",
    "# Perform the ANOVA\n",
    "anova_results = sm.stats.anova_lm(model, typ=2)\n",
    "\n",
    "# Display the results\n",
    "print(anova_results)\n",
    "\n",
    "# Interpretation\n",
    "p_value_sector = anova_results['PR(>F)']['C(Sector)']\n",
    "p_value_stage = anova_results['PR(>F)']['C(Stage)']\n",
    "\n",
    "print(f\"P-value for Sector: {p_value_sector}\")\n",
    "print(f\"P-value for Stage: {p_value_stage}\")\n",
    "\n",
    "if p_value_sector < 0.05:\n",
    "    print(\"Reject the null hypothesis for Sector: There is a significant difference in funding across different sectors.\")\n",
    "else:\n",
    "    print(\"Fail to reject the null hypothesis for Sector: No significant difference in funding across different sectors.\")\n",
    "\n",
    "if p_value_stage < 0.05:\n",
    "    print(\"Reject the null hypothesis for Stage: There is a significant difference in funding across different stages.\")\n",
    "else:\n",
    "    print(\"Fail to reject the null hypothesis for Stage: No significant difference in funding across different stages.\")"
   ]
  },
  {
   "cell_type": "markdown",
   "metadata": {},
   "source": [
    "\n",
    "The output suggests that there is no significant difference in funding across different sectors and stages of startups, according to the ANOVA test performed. However, the p-value for the Sector factor (0.042076) is lower than the typical significance level of 0.05, which could indicate some potential difference in funding across sectors, but this difference is not statistically significant based on"
   ]
  },
  {
   "cell_type": "markdown",
   "metadata": {},
   "source": [
    "ANALYTICAL QUESTIONS\n",
    "Funding Trends: How has the total funding amount changed year over year from 2018 to 2021? How has the average funding amount in each sector changed over the years (2018 - 2021)"
   ]
  },
  {
   "cell_type": "code",
   "execution_count": 113,
   "metadata": {},
   "outputs": [],
   "source": [
    "# Calculate the total funding amount per year\n",
    "Total_funding = df_combined.groupby('Year')['Amount'].sum().reset_index()\n",
    "\n",
    "# For the years 2018 to 2021\n",
    "Year = df_combined['Year']"
   ]
  },
  {
   "cell_type": "code",
   "execution_count": 114,
   "metadata": {},
   "outputs": [
    {
     "ename": "NameError",
     "evalue": "name 'px' is not defined",
     "output_type": "error",
     "traceback": [
      "\u001b[1;31m---------------------------------------------------------------------------\u001b[0m",
      "\u001b[1;31mNameError\u001b[0m                                 Traceback (most recent call last)",
      "Cell \u001b[1;32mIn[114], line 2\u001b[0m\n\u001b[0;32m      1\u001b[0m \u001b[38;5;66;03m# Create the line plot\u001b[39;00m\n\u001b[1;32m----> 2\u001b[0m fig \u001b[38;5;241m=\u001b[39m \u001b[43mpx\u001b[49m\u001b[38;5;241m.\u001b[39mline(df_combined, x\u001b[38;5;241m=\u001b[39m\u001b[38;5;124m'\u001b[39m\u001b[38;5;124mYear\u001b[39m\u001b[38;5;124m'\u001b[39m, y\u001b[38;5;241m=\u001b[39m\u001b[38;5;124m'\u001b[39m\u001b[38;5;124mAmount\u001b[39m\u001b[38;5;124m'\u001b[39m, markers\u001b[38;5;241m=\u001b[39m\u001b[38;5;28;01mTrue\u001b[39;00m)\n\u001b[0;32m      4\u001b[0m \u001b[38;5;66;03m# Set axis labels and title\u001b[39;00m\n\u001b[0;32m      5\u001b[0m fig\u001b[38;5;241m.\u001b[39mupdate_layout(\n\u001b[0;32m      6\u001b[0m     xaxis_title\u001b[38;5;241m=\u001b[39m\u001b[38;5;124m'\u001b[39m\u001b[38;5;124mYear\u001b[39m\u001b[38;5;124m'\u001b[39m,\n\u001b[0;32m      7\u001b[0m     yaxis_title\u001b[38;5;241m=\u001b[39m\u001b[38;5;124m'\u001b[39m\u001b[38;5;124mTotal_funding\u001b[39m\u001b[38;5;124m'\u001b[39m,\n\u001b[0;32m      8\u001b[0m     title\u001b[38;5;241m=\u001b[39m\u001b[38;5;124m'\u001b[39m\u001b[38;5;124mTotal Funding Amount Trend (2018-2021)\u001b[39m\u001b[38;5;124m'\u001b[39m\n\u001b[0;32m      9\u001b[0m )\n",
      "\u001b[1;31mNameError\u001b[0m: name 'px' is not defined"
     ]
    }
   ],
   "source": [
    "# Create the line plot\n",
    "fig = px.line(df_combined, x='Year', y='Amount', markers=True)\n",
    "\n",
    "# Set axis labels and title\n",
    "fig.update_layout(\n",
    "    xaxis_title='Year',\n",
    "    yaxis_title='Total_funding',\n",
    "    title='Total Funding Amount Trend (2018-2021)'\n",
    ")\n",
    "# Show the plot\n",
    "fig.show()"
   ]
  },
  {
   "cell_type": "code",
   "execution_count": null,
   "metadata": {},
   "outputs": [],
   "source": [
    "# HoW has the average funding amount in each Sector changed over the years \n",
    "\n",
    "# The data to include years 2018 to 2021\n",
    "Year = df_combined['Year']\n",
    "\n",
    "# Group the data by 'Sector' and 'Year', and calculate the mean 'Amount'\n",
    "average_funding = df_combined.groupby(['Sector', 'Year'])['Amount'].mean().reset_index()\n",
    "\n",
    "# Sort the DataFrame in descending order based on 'Amount'\n",
    "average_funding = average_funding.sort_values('Amount', ascending=False)\n",
    "\n",
    "average_funding"
   ]
  },
  {
   "cell_type": "code",
   "execution_count": null,
   "metadata": {},
   "outputs": [],
   "source": [
    "# Select the top 10 sectors\n",
    "top_5_sectors = average_funding.groupby('Sector')['Amount'].mean().sort_values(ascending=False).head(5).reset_index()\n",
    "\n",
    "# Filter the data for the top 10 sectors\n",
    "filtered_data = average_funding[average_funding['Sector'].isin(top_5_sectors['Sector'])]\n",
    "\n",
    "# Create the line plot\n",
    "fig = px.line(filtered_data, x='Year', y='Amount', color='Sector', title='Average Funding Amount by Sector and Year (Top 5 Sectors)')\n",
    "\n",
    "# Customize the plot\n",
    "fig.update_layout(\n",
    "    xaxis_title='Year',\n",
    "    yaxis_title='Average Funding Amount',\n",
    "    legend_title='Sector',\n",
    "    legend=dict(orientation='h', yanchor='bottom', y=1.02, xanchor='right', x=1),\n",
    "    font=dict(size=14)\n",
    ")\n",
    "\n",
    "# Rotate the x-axis tick labels\n",
    "fig.update_xaxes(tickangle=45)\n",
    "\n",
    "# Show the plot\n",
    "fig.show()"
   ]
  },
  {
   "cell_type": "markdown",
   "metadata": {},
   "source": [
    "2.Sector Analysis: Which sectors have received the most funding, and how does the funding distribution vary across sectors?"
   ]
  },
  {
   "cell_type": "code",
   "execution_count": 118,
   "metadata": {},
   "outputs": [
    {
     "name": "stdout",
     "output_type": "stream",
     "text": [
      "Top Sectors by Total Funding Amount:\n",
      "                                 Sector        Amount\n",
      "222                              Retail  7.023940e+10\n",
      "253                        Tech Company  3.028700e+09\n",
      "97                               Edtech  2.690752e+09\n",
      "196  Multinational Conglomerate Company  2.200000e+09\n",
      "118                             Fintech  2.189999e+09\n",
      "91                           E-Commerce  1.273607e+09\n",
      "128                       Food Delivery  6.600000e+08\n",
      "103                       Entertainment  5.028920e+08\n",
      "227                                Saas  4.917844e+08\n",
      "134                            Foodtech  3.934273e+08\n"
     ]
    },
    {
     "data": {
      "application/vnd.plotly.v1+json": {
       "config": {
        "plotlyServerURL": "https://plot.ly"
       },
       "data": [
        {
         "alignmentgroup": "True",
         "hovertemplate": "Sector=%{x}<br>Total Funding Amount=%{y}<extra></extra>",
         "legendgroup": "",
         "marker": {
          "color": "#636efa",
          "pattern": {
           "shape": ""
          }
         },
         "name": "",
         "offsetgroup": "",
         "orientation": "v",
         "showlegend": false,
         "textposition": "auto",
         "type": "bar",
         "x": [
          "Retail",
          "Tech Company",
          "Edtech",
          "Multinational Conglomerate Company",
          "Fintech",
          "E-Commerce",
          "Food Delivery",
          "Entertainment",
          "Saas",
          "Foodtech"
         ],
         "xaxis": "x",
         "y": [
          70239400000,
          3028700000,
          2690752030,
          2200000000,
          2189998900,
          1273607000,
          660000000,
          502892000,
          491784400,
          393427300
         ],
         "yaxis": "y"
        }
       ],
       "layout": {
        "barmode": "relative",
        "legend": {
         "tracegroupgap": 0
        },
        "template": {
         "data": {
          "bar": [
           {
            "error_x": {
             "color": "#2a3f5f"
            },
            "error_y": {
             "color": "#2a3f5f"
            },
            "marker": {
             "line": {
              "color": "#E5ECF6",
              "width": 0.5
             },
             "pattern": {
              "fillmode": "overlay",
              "size": 10,
              "solidity": 0.2
             }
            },
            "type": "bar"
           }
          ],
          "barpolar": [
           {
            "marker": {
             "line": {
              "color": "#E5ECF6",
              "width": 0.5
             },
             "pattern": {
              "fillmode": "overlay",
              "size": 10,
              "solidity": 0.2
             }
            },
            "type": "barpolar"
           }
          ],
          "carpet": [
           {
            "aaxis": {
             "endlinecolor": "#2a3f5f",
             "gridcolor": "white",
             "linecolor": "white",
             "minorgridcolor": "white",
             "startlinecolor": "#2a3f5f"
            },
            "baxis": {
             "endlinecolor": "#2a3f5f",
             "gridcolor": "white",
             "linecolor": "white",
             "minorgridcolor": "white",
             "startlinecolor": "#2a3f5f"
            },
            "type": "carpet"
           }
          ],
          "choropleth": [
           {
            "colorbar": {
             "outlinewidth": 0,
             "ticks": ""
            },
            "type": "choropleth"
           }
          ],
          "contour": [
           {
            "colorbar": {
             "outlinewidth": 0,
             "ticks": ""
            },
            "colorscale": [
             [
              0,
              "#0d0887"
             ],
             [
              0.1111111111111111,
              "#46039f"
             ],
             [
              0.2222222222222222,
              "#7201a8"
             ],
             [
              0.3333333333333333,
              "#9c179e"
             ],
             [
              0.4444444444444444,
              "#bd3786"
             ],
             [
              0.5555555555555556,
              "#d8576b"
             ],
             [
              0.6666666666666666,
              "#ed7953"
             ],
             [
              0.7777777777777778,
              "#fb9f3a"
             ],
             [
              0.8888888888888888,
              "#fdca26"
             ],
             [
              1,
              "#f0f921"
             ]
            ],
            "type": "contour"
           }
          ],
          "contourcarpet": [
           {
            "colorbar": {
             "outlinewidth": 0,
             "ticks": ""
            },
            "type": "contourcarpet"
           }
          ],
          "heatmap": [
           {
            "colorbar": {
             "outlinewidth": 0,
             "ticks": ""
            },
            "colorscale": [
             [
              0,
              "#0d0887"
             ],
             [
              0.1111111111111111,
              "#46039f"
             ],
             [
              0.2222222222222222,
              "#7201a8"
             ],
             [
              0.3333333333333333,
              "#9c179e"
             ],
             [
              0.4444444444444444,
              "#bd3786"
             ],
             [
              0.5555555555555556,
              "#d8576b"
             ],
             [
              0.6666666666666666,
              "#ed7953"
             ],
             [
              0.7777777777777778,
              "#fb9f3a"
             ],
             [
              0.8888888888888888,
              "#fdca26"
             ],
             [
              1,
              "#f0f921"
             ]
            ],
            "type": "heatmap"
           }
          ],
          "heatmapgl": [
           {
            "colorbar": {
             "outlinewidth": 0,
             "ticks": ""
            },
            "colorscale": [
             [
              0,
              "#0d0887"
             ],
             [
              0.1111111111111111,
              "#46039f"
             ],
             [
              0.2222222222222222,
              "#7201a8"
             ],
             [
              0.3333333333333333,
              "#9c179e"
             ],
             [
              0.4444444444444444,
              "#bd3786"
             ],
             [
              0.5555555555555556,
              "#d8576b"
             ],
             [
              0.6666666666666666,
              "#ed7953"
             ],
             [
              0.7777777777777778,
              "#fb9f3a"
             ],
             [
              0.8888888888888888,
              "#fdca26"
             ],
             [
              1,
              "#f0f921"
             ]
            ],
            "type": "heatmapgl"
           }
          ],
          "histogram": [
           {
            "marker": {
             "pattern": {
              "fillmode": "overlay",
              "size": 10,
              "solidity": 0.2
             }
            },
            "type": "histogram"
           }
          ],
          "histogram2d": [
           {
            "colorbar": {
             "outlinewidth": 0,
             "ticks": ""
            },
            "colorscale": [
             [
              0,
              "#0d0887"
             ],
             [
              0.1111111111111111,
              "#46039f"
             ],
             [
              0.2222222222222222,
              "#7201a8"
             ],
             [
              0.3333333333333333,
              "#9c179e"
             ],
             [
              0.4444444444444444,
              "#bd3786"
             ],
             [
              0.5555555555555556,
              "#d8576b"
             ],
             [
              0.6666666666666666,
              "#ed7953"
             ],
             [
              0.7777777777777778,
              "#fb9f3a"
             ],
             [
              0.8888888888888888,
              "#fdca26"
             ],
             [
              1,
              "#f0f921"
             ]
            ],
            "type": "histogram2d"
           }
          ],
          "histogram2dcontour": [
           {
            "colorbar": {
             "outlinewidth": 0,
             "ticks": ""
            },
            "colorscale": [
             [
              0,
              "#0d0887"
             ],
             [
              0.1111111111111111,
              "#46039f"
             ],
             [
              0.2222222222222222,
              "#7201a8"
             ],
             [
              0.3333333333333333,
              "#9c179e"
             ],
             [
              0.4444444444444444,
              "#bd3786"
             ],
             [
              0.5555555555555556,
              "#d8576b"
             ],
             [
              0.6666666666666666,
              "#ed7953"
             ],
             [
              0.7777777777777778,
              "#fb9f3a"
             ],
             [
              0.8888888888888888,
              "#fdca26"
             ],
             [
              1,
              "#f0f921"
             ]
            ],
            "type": "histogram2dcontour"
           }
          ],
          "mesh3d": [
           {
            "colorbar": {
             "outlinewidth": 0,
             "ticks": ""
            },
            "type": "mesh3d"
           }
          ],
          "parcoords": [
           {
            "line": {
             "colorbar": {
              "outlinewidth": 0,
              "ticks": ""
             }
            },
            "type": "parcoords"
           }
          ],
          "pie": [
           {
            "automargin": true,
            "type": "pie"
           }
          ],
          "scatter": [
           {
            "fillpattern": {
             "fillmode": "overlay",
             "size": 10,
             "solidity": 0.2
            },
            "type": "scatter"
           }
          ],
          "scatter3d": [
           {
            "line": {
             "colorbar": {
              "outlinewidth": 0,
              "ticks": ""
             }
            },
            "marker": {
             "colorbar": {
              "outlinewidth": 0,
              "ticks": ""
             }
            },
            "type": "scatter3d"
           }
          ],
          "scattercarpet": [
           {
            "marker": {
             "colorbar": {
              "outlinewidth": 0,
              "ticks": ""
             }
            },
            "type": "scattercarpet"
           }
          ],
          "scattergeo": [
           {
            "marker": {
             "colorbar": {
              "outlinewidth": 0,
              "ticks": ""
             }
            },
            "type": "scattergeo"
           }
          ],
          "scattergl": [
           {
            "marker": {
             "colorbar": {
              "outlinewidth": 0,
              "ticks": ""
             }
            },
            "type": "scattergl"
           }
          ],
          "scattermapbox": [
           {
            "marker": {
             "colorbar": {
              "outlinewidth": 0,
              "ticks": ""
             }
            },
            "type": "scattermapbox"
           }
          ],
          "scatterpolar": [
           {
            "marker": {
             "colorbar": {
              "outlinewidth": 0,
              "ticks": ""
             }
            },
            "type": "scatterpolar"
           }
          ],
          "scatterpolargl": [
           {
            "marker": {
             "colorbar": {
              "outlinewidth": 0,
              "ticks": ""
             }
            },
            "type": "scatterpolargl"
           }
          ],
          "scatterternary": [
           {
            "marker": {
             "colorbar": {
              "outlinewidth": 0,
              "ticks": ""
             }
            },
            "type": "scatterternary"
           }
          ],
          "surface": [
           {
            "colorbar": {
             "outlinewidth": 0,
             "ticks": ""
            },
            "colorscale": [
             [
              0,
              "#0d0887"
             ],
             [
              0.1111111111111111,
              "#46039f"
             ],
             [
              0.2222222222222222,
              "#7201a8"
             ],
             [
              0.3333333333333333,
              "#9c179e"
             ],
             [
              0.4444444444444444,
              "#bd3786"
             ],
             [
              0.5555555555555556,
              "#d8576b"
             ],
             [
              0.6666666666666666,
              "#ed7953"
             ],
             [
              0.7777777777777778,
              "#fb9f3a"
             ],
             [
              0.8888888888888888,
              "#fdca26"
             ],
             [
              1,
              "#f0f921"
             ]
            ],
            "type": "surface"
           }
          ],
          "table": [
           {
            "cells": {
             "fill": {
              "color": "#EBF0F8"
             },
             "line": {
              "color": "white"
             }
            },
            "header": {
             "fill": {
              "color": "#C8D4E3"
             },
             "line": {
              "color": "white"
             }
            },
            "type": "table"
           }
          ]
         },
         "layout": {
          "annotationdefaults": {
           "arrowcolor": "#2a3f5f",
           "arrowhead": 0,
           "arrowwidth": 1
          },
          "autotypenumbers": "strict",
          "coloraxis": {
           "colorbar": {
            "outlinewidth": 0,
            "ticks": ""
           }
          },
          "colorscale": {
           "diverging": [
            [
             0,
             "#8e0152"
            ],
            [
             0.1,
             "#c51b7d"
            ],
            [
             0.2,
             "#de77ae"
            ],
            [
             0.3,
             "#f1b6da"
            ],
            [
             0.4,
             "#fde0ef"
            ],
            [
             0.5,
             "#f7f7f7"
            ],
            [
             0.6,
             "#e6f5d0"
            ],
            [
             0.7,
             "#b8e186"
            ],
            [
             0.8,
             "#7fbc41"
            ],
            [
             0.9,
             "#4d9221"
            ],
            [
             1,
             "#276419"
            ]
           ],
           "sequential": [
            [
             0,
             "#0d0887"
            ],
            [
             0.1111111111111111,
             "#46039f"
            ],
            [
             0.2222222222222222,
             "#7201a8"
            ],
            [
             0.3333333333333333,
             "#9c179e"
            ],
            [
             0.4444444444444444,
             "#bd3786"
            ],
            [
             0.5555555555555556,
             "#d8576b"
            ],
            [
             0.6666666666666666,
             "#ed7953"
            ],
            [
             0.7777777777777778,
             "#fb9f3a"
            ],
            [
             0.8888888888888888,
             "#fdca26"
            ],
            [
             1,
             "#f0f921"
            ]
           ],
           "sequentialminus": [
            [
             0,
             "#0d0887"
            ],
            [
             0.1111111111111111,
             "#46039f"
            ],
            [
             0.2222222222222222,
             "#7201a8"
            ],
            [
             0.3333333333333333,
             "#9c179e"
            ],
            [
             0.4444444444444444,
             "#bd3786"
            ],
            [
             0.5555555555555556,
             "#d8576b"
            ],
            [
             0.6666666666666666,
             "#ed7953"
            ],
            [
             0.7777777777777778,
             "#fb9f3a"
            ],
            [
             0.8888888888888888,
             "#fdca26"
            ],
            [
             1,
             "#f0f921"
            ]
           ]
          },
          "colorway": [
           "#636efa",
           "#EF553B",
           "#00cc96",
           "#ab63fa",
           "#FFA15A",
           "#19d3f3",
           "#FF6692",
           "#B6E880",
           "#FF97FF",
           "#FECB52"
          ],
          "font": {
           "color": "#2a3f5f"
          },
          "geo": {
           "bgcolor": "white",
           "lakecolor": "white",
           "landcolor": "#E5ECF6",
           "showlakes": true,
           "showland": true,
           "subunitcolor": "white"
          },
          "hoverlabel": {
           "align": "left"
          },
          "hovermode": "closest",
          "mapbox": {
           "style": "light"
          },
          "paper_bgcolor": "white",
          "plot_bgcolor": "#E5ECF6",
          "polar": {
           "angularaxis": {
            "gridcolor": "white",
            "linecolor": "white",
            "ticks": ""
           },
           "bgcolor": "#E5ECF6",
           "radialaxis": {
            "gridcolor": "white",
            "linecolor": "white",
            "ticks": ""
           }
          },
          "scene": {
           "xaxis": {
            "backgroundcolor": "#E5ECF6",
            "gridcolor": "white",
            "gridwidth": 2,
            "linecolor": "white",
            "showbackground": true,
            "ticks": "",
            "zerolinecolor": "white"
           },
           "yaxis": {
            "backgroundcolor": "#E5ECF6",
            "gridcolor": "white",
            "gridwidth": 2,
            "linecolor": "white",
            "showbackground": true,
            "ticks": "",
            "zerolinecolor": "white"
           },
           "zaxis": {
            "backgroundcolor": "#E5ECF6",
            "gridcolor": "white",
            "gridwidth": 2,
            "linecolor": "white",
            "showbackground": true,
            "ticks": "",
            "zerolinecolor": "white"
           }
          },
          "shapedefaults": {
           "line": {
            "color": "#2a3f5f"
           }
          },
          "ternary": {
           "aaxis": {
            "gridcolor": "white",
            "linecolor": "white",
            "ticks": ""
           },
           "baxis": {
            "gridcolor": "white",
            "linecolor": "white",
            "ticks": ""
           },
           "bgcolor": "#E5ECF6",
           "caxis": {
            "gridcolor": "white",
            "linecolor": "white",
            "ticks": ""
           }
          },
          "title": {
           "x": 0.05
          },
          "xaxis": {
           "automargin": true,
           "gridcolor": "white",
           "linecolor": "white",
           "ticks": "",
           "title": {
            "standoff": 15
           },
           "zerolinecolor": "white",
           "zerolinewidth": 2
          },
          "yaxis": {
           "automargin": true,
           "gridcolor": "white",
           "linecolor": "white",
           "ticks": "",
           "title": {
            "standoff": 15
           },
           "zerolinecolor": "white",
           "zerolinewidth": 2
          }
         }
        },
        "title": {
         "text": "Top Sectors by Total Funding Amount"
        },
        "xaxis": {
         "anchor": "y",
         "domain": [
          0,
          1
         ],
         "tickangle": 45,
         "title": {
          "text": "Sector"
         }
        },
        "yaxis": {
         "anchor": "x",
         "domain": [
          0,
          1
         ],
         "title": {
          "text": "Total Funding Amount"
         }
        }
       }
      }
     },
     "metadata": {},
     "output_type": "display_data"
    }
   ],
   "source": [
    "# Calculate total funding amount for each sector\n",
    "total_funding_by_sector = df_combined.groupby('Sector')['Amount'].sum().reset_index()\n",
    "\n",
    "# Sort the sectors by total funding amount in descending order\n",
    "total_funding_by_sector = total_funding_by_sector.sort_values('Amount', ascending=False)\n",
    "\n",
    "# Print the top sectors by total funding amount\n",
    "print(\"Top Sectors by Total Funding Amount:\")\n",
    "print(total_funding_by_sector.head(10))\n",
    "\n",
    "# Visualize the funding distribution across sectors\n",
    "fig = px.bar(total_funding_by_sector.head(10), x='Sector', y='Amount',\n",
    "             title='Top Sectors by Total Funding Amount',\n",
    "             labels={'Sector': 'Sector', 'Amount': 'Total Funding Amount'})\n",
    "\n",
    "# Rotate the x-axis tick labels\n",
    "fig.update_xaxes(tickangle=45)\n",
    "\n",
    "# Show the plot\n",
    "fig.show()"
   ]
  },
  {
   "cell_type": "markdown",
   "metadata": {},
   "source": [
    "3. Stage Analysis: What is the distribution of funding across different investment stages (e.g., Pre-seed, Seed, Series A)"
   ]
  },
  {
   "cell_type": "code",
   "execution_count": 117,
   "metadata": {},
   "outputs": [
    {
     "name": "stdout",
     "output_type": "stream",
     "text": [
      "Investment Stages by Total Funding Amount:\n",
      "                    Stage        Amount\n",
      "30               Series A  7.144742e+10\n",
      "26             Seed Round  6.426294e+09\n",
      "34               Series C  4.003705e+09\n",
      "32               Series B  3.581616e+09\n",
      "22                   Seed  1.934018e+09\n",
      "36               Series D  1.118370e+09\n",
      "9            Pre series A  8.315550e+08\n",
      "38               Series E  6.784530e+08\n",
      "3                    Debt  2.582320e+08\n",
      "40               Series F  1.032000e+08\n",
      "19           Pre-series A  9.895300e+07\n",
      "21           Pre-series C  4.400000e+07\n",
      "41               Series H  4.250000e+07\n",
      "39              Series E2  2.650000e+07\n",
      "29             Seed round  2.282000e+07\n",
      "33              Series B2  2.200000e+07\n",
      "6            Pre Series A  1.951640e+07\n",
      "1                  Bridge  1.750000e+07\n",
      "16               Pre-seed  1.704000e+07\n",
      "15           Pre-Series B  1.600000e+07\n",
      "11           Pre series B  1.328200e+07\n",
      "20           Pre-series B  1.060000e+07\n",
      "0             Angel Round  9.264000e+06\n",
      "8          Pre seed round  8.340000e+06\n",
      "17         Pre-seed Round  6.000000e+06\n",
      "14               Pre-Seed  6.000000e+06\n",
      "37              Series D1  5.967000e+06\n",
      "4                    Edge  5.040000e+06\n",
      "24           Seed Funding  3.982530e+06\n",
      "13          Pre- series A  3.400000e+06\n",
      "7          Pre seed Round  3.000000e+06\n",
      "25        Seed Investment  3.000000e+06\n",
      "35            Series C, D  3.000000e+06\n",
      "18             Pre-series  3.000000e+06\n",
      "2            Bridge Round  3.000000e+06\n",
      "27  Seed Round & Series A  2.800000e+06\n",
      "12           Pre series C  2.743000e+06\n",
      "31             Series A-1  1.000000e+06\n",
      "23                 Seed A  1.000000e+06\n",
      "28           Seed funding  9.069000e+05\n",
      "5              Mid series  5.000000e+05\n",
      "10          Pre series A1  3.000000e+05\n"
     ]
    },
    {
     "data": {
      "application/vnd.plotly.v1+json": {
       "config": {
        "plotlyServerURL": "https://plot.ly"
       },
       "data": [
        {
         "alignmentgroup": "True",
         "hovertemplate": "Investment Stage=%{x}<br>Total Funding Amount=%{y}<extra></extra>",
         "legendgroup": "",
         "marker": {
          "color": "#636efa",
          "pattern": {
           "shape": ""
          }
         },
         "name": "",
         "offsetgroup": "",
         "orientation": "v",
         "showlegend": false,
         "textposition": "auto",
         "type": "bar",
         "x": [
          "Series A",
          "Seed Round",
          "Series C",
          "Series B",
          "Seed",
          "Series D",
          "Pre series A",
          "Series E",
          "Debt",
          "Series F"
         ],
         "xaxis": "x",
         "y": [
          71447421300,
          6426294000,
          4003704528,
          3581615746,
          1934018200,
          1118370000,
          831555000,
          678453000,
          258232000,
          103200000
         ],
         "yaxis": "y"
        }
       ],
       "layout": {
        "barmode": "relative",
        "legend": {
         "tracegroupgap": 0
        },
        "template": {
         "data": {
          "bar": [
           {
            "error_x": {
             "color": "#2a3f5f"
            },
            "error_y": {
             "color": "#2a3f5f"
            },
            "marker": {
             "line": {
              "color": "#E5ECF6",
              "width": 0.5
             },
             "pattern": {
              "fillmode": "overlay",
              "size": 10,
              "solidity": 0.2
             }
            },
            "type": "bar"
           }
          ],
          "barpolar": [
           {
            "marker": {
             "line": {
              "color": "#E5ECF6",
              "width": 0.5
             },
             "pattern": {
              "fillmode": "overlay",
              "size": 10,
              "solidity": 0.2
             }
            },
            "type": "barpolar"
           }
          ],
          "carpet": [
           {
            "aaxis": {
             "endlinecolor": "#2a3f5f",
             "gridcolor": "white",
             "linecolor": "white",
             "minorgridcolor": "white",
             "startlinecolor": "#2a3f5f"
            },
            "baxis": {
             "endlinecolor": "#2a3f5f",
             "gridcolor": "white",
             "linecolor": "white",
             "minorgridcolor": "white",
             "startlinecolor": "#2a3f5f"
            },
            "type": "carpet"
           }
          ],
          "choropleth": [
           {
            "colorbar": {
             "outlinewidth": 0,
             "ticks": ""
            },
            "type": "choropleth"
           }
          ],
          "contour": [
           {
            "colorbar": {
             "outlinewidth": 0,
             "ticks": ""
            },
            "colorscale": [
             [
              0,
              "#0d0887"
             ],
             [
              0.1111111111111111,
              "#46039f"
             ],
             [
              0.2222222222222222,
              "#7201a8"
             ],
             [
              0.3333333333333333,
              "#9c179e"
             ],
             [
              0.4444444444444444,
              "#bd3786"
             ],
             [
              0.5555555555555556,
              "#d8576b"
             ],
             [
              0.6666666666666666,
              "#ed7953"
             ],
             [
              0.7777777777777778,
              "#fb9f3a"
             ],
             [
              0.8888888888888888,
              "#fdca26"
             ],
             [
              1,
              "#f0f921"
             ]
            ],
            "type": "contour"
           }
          ],
          "contourcarpet": [
           {
            "colorbar": {
             "outlinewidth": 0,
             "ticks": ""
            },
            "type": "contourcarpet"
           }
          ],
          "heatmap": [
           {
            "colorbar": {
             "outlinewidth": 0,
             "ticks": ""
            },
            "colorscale": [
             [
              0,
              "#0d0887"
             ],
             [
              0.1111111111111111,
              "#46039f"
             ],
             [
              0.2222222222222222,
              "#7201a8"
             ],
             [
              0.3333333333333333,
              "#9c179e"
             ],
             [
              0.4444444444444444,
              "#bd3786"
             ],
             [
              0.5555555555555556,
              "#d8576b"
             ],
             [
              0.6666666666666666,
              "#ed7953"
             ],
             [
              0.7777777777777778,
              "#fb9f3a"
             ],
             [
              0.8888888888888888,
              "#fdca26"
             ],
             [
              1,
              "#f0f921"
             ]
            ],
            "type": "heatmap"
           }
          ],
          "heatmapgl": [
           {
            "colorbar": {
             "outlinewidth": 0,
             "ticks": ""
            },
            "colorscale": [
             [
              0,
              "#0d0887"
             ],
             [
              0.1111111111111111,
              "#46039f"
             ],
             [
              0.2222222222222222,
              "#7201a8"
             ],
             [
              0.3333333333333333,
              "#9c179e"
             ],
             [
              0.4444444444444444,
              "#bd3786"
             ],
             [
              0.5555555555555556,
              "#d8576b"
             ],
             [
              0.6666666666666666,
              "#ed7953"
             ],
             [
              0.7777777777777778,
              "#fb9f3a"
             ],
             [
              0.8888888888888888,
              "#fdca26"
             ],
             [
              1,
              "#f0f921"
             ]
            ],
            "type": "heatmapgl"
           }
          ],
          "histogram": [
           {
            "marker": {
             "pattern": {
              "fillmode": "overlay",
              "size": 10,
              "solidity": 0.2
             }
            },
            "type": "histogram"
           }
          ],
          "histogram2d": [
           {
            "colorbar": {
             "outlinewidth": 0,
             "ticks": ""
            },
            "colorscale": [
             [
              0,
              "#0d0887"
             ],
             [
              0.1111111111111111,
              "#46039f"
             ],
             [
              0.2222222222222222,
              "#7201a8"
             ],
             [
              0.3333333333333333,
              "#9c179e"
             ],
             [
              0.4444444444444444,
              "#bd3786"
             ],
             [
              0.5555555555555556,
              "#d8576b"
             ],
             [
              0.6666666666666666,
              "#ed7953"
             ],
             [
              0.7777777777777778,
              "#fb9f3a"
             ],
             [
              0.8888888888888888,
              "#fdca26"
             ],
             [
              1,
              "#f0f921"
             ]
            ],
            "type": "histogram2d"
           }
          ],
          "histogram2dcontour": [
           {
            "colorbar": {
             "outlinewidth": 0,
             "ticks": ""
            },
            "colorscale": [
             [
              0,
              "#0d0887"
             ],
             [
              0.1111111111111111,
              "#46039f"
             ],
             [
              0.2222222222222222,
              "#7201a8"
             ],
             [
              0.3333333333333333,
              "#9c179e"
             ],
             [
              0.4444444444444444,
              "#bd3786"
             ],
             [
              0.5555555555555556,
              "#d8576b"
             ],
             [
              0.6666666666666666,
              "#ed7953"
             ],
             [
              0.7777777777777778,
              "#fb9f3a"
             ],
             [
              0.8888888888888888,
              "#fdca26"
             ],
             [
              1,
              "#f0f921"
             ]
            ],
            "type": "histogram2dcontour"
           }
          ],
          "mesh3d": [
           {
            "colorbar": {
             "outlinewidth": 0,
             "ticks": ""
            },
            "type": "mesh3d"
           }
          ],
          "parcoords": [
           {
            "line": {
             "colorbar": {
              "outlinewidth": 0,
              "ticks": ""
             }
            },
            "type": "parcoords"
           }
          ],
          "pie": [
           {
            "automargin": true,
            "type": "pie"
           }
          ],
          "scatter": [
           {
            "fillpattern": {
             "fillmode": "overlay",
             "size": 10,
             "solidity": 0.2
            },
            "type": "scatter"
           }
          ],
          "scatter3d": [
           {
            "line": {
             "colorbar": {
              "outlinewidth": 0,
              "ticks": ""
             }
            },
            "marker": {
             "colorbar": {
              "outlinewidth": 0,
              "ticks": ""
             }
            },
            "type": "scatter3d"
           }
          ],
          "scattercarpet": [
           {
            "marker": {
             "colorbar": {
              "outlinewidth": 0,
              "ticks": ""
             }
            },
            "type": "scattercarpet"
           }
          ],
          "scattergeo": [
           {
            "marker": {
             "colorbar": {
              "outlinewidth": 0,
              "ticks": ""
             }
            },
            "type": "scattergeo"
           }
          ],
          "scattergl": [
           {
            "marker": {
             "colorbar": {
              "outlinewidth": 0,
              "ticks": ""
             }
            },
            "type": "scattergl"
           }
          ],
          "scattermapbox": [
           {
            "marker": {
             "colorbar": {
              "outlinewidth": 0,
              "ticks": ""
             }
            },
            "type": "scattermapbox"
           }
          ],
          "scatterpolar": [
           {
            "marker": {
             "colorbar": {
              "outlinewidth": 0,
              "ticks": ""
             }
            },
            "type": "scatterpolar"
           }
          ],
          "scatterpolargl": [
           {
            "marker": {
             "colorbar": {
              "outlinewidth": 0,
              "ticks": ""
             }
            },
            "type": "scatterpolargl"
           }
          ],
          "scatterternary": [
           {
            "marker": {
             "colorbar": {
              "outlinewidth": 0,
              "ticks": ""
             }
            },
            "type": "scatterternary"
           }
          ],
          "surface": [
           {
            "colorbar": {
             "outlinewidth": 0,
             "ticks": ""
            },
            "colorscale": [
             [
              0,
              "#0d0887"
             ],
             [
              0.1111111111111111,
              "#46039f"
             ],
             [
              0.2222222222222222,
              "#7201a8"
             ],
             [
              0.3333333333333333,
              "#9c179e"
             ],
             [
              0.4444444444444444,
              "#bd3786"
             ],
             [
              0.5555555555555556,
              "#d8576b"
             ],
             [
              0.6666666666666666,
              "#ed7953"
             ],
             [
              0.7777777777777778,
              "#fb9f3a"
             ],
             [
              0.8888888888888888,
              "#fdca26"
             ],
             [
              1,
              "#f0f921"
             ]
            ],
            "type": "surface"
           }
          ],
          "table": [
           {
            "cells": {
             "fill": {
              "color": "#EBF0F8"
             },
             "line": {
              "color": "white"
             }
            },
            "header": {
             "fill": {
              "color": "#C8D4E3"
             },
             "line": {
              "color": "white"
             }
            },
            "type": "table"
           }
          ]
         },
         "layout": {
          "annotationdefaults": {
           "arrowcolor": "#2a3f5f",
           "arrowhead": 0,
           "arrowwidth": 1
          },
          "autotypenumbers": "strict",
          "coloraxis": {
           "colorbar": {
            "outlinewidth": 0,
            "ticks": ""
           }
          },
          "colorscale": {
           "diverging": [
            [
             0,
             "#8e0152"
            ],
            [
             0.1,
             "#c51b7d"
            ],
            [
             0.2,
             "#de77ae"
            ],
            [
             0.3,
             "#f1b6da"
            ],
            [
             0.4,
             "#fde0ef"
            ],
            [
             0.5,
             "#f7f7f7"
            ],
            [
             0.6,
             "#e6f5d0"
            ],
            [
             0.7,
             "#b8e186"
            ],
            [
             0.8,
             "#7fbc41"
            ],
            [
             0.9,
             "#4d9221"
            ],
            [
             1,
             "#276419"
            ]
           ],
           "sequential": [
            [
             0,
             "#0d0887"
            ],
            [
             0.1111111111111111,
             "#46039f"
            ],
            [
             0.2222222222222222,
             "#7201a8"
            ],
            [
             0.3333333333333333,
             "#9c179e"
            ],
            [
             0.4444444444444444,
             "#bd3786"
            ],
            [
             0.5555555555555556,
             "#d8576b"
            ],
            [
             0.6666666666666666,
             "#ed7953"
            ],
            [
             0.7777777777777778,
             "#fb9f3a"
            ],
            [
             0.8888888888888888,
             "#fdca26"
            ],
            [
             1,
             "#f0f921"
            ]
           ],
           "sequentialminus": [
            [
             0,
             "#0d0887"
            ],
            [
             0.1111111111111111,
             "#46039f"
            ],
            [
             0.2222222222222222,
             "#7201a8"
            ],
            [
             0.3333333333333333,
             "#9c179e"
            ],
            [
             0.4444444444444444,
             "#bd3786"
            ],
            [
             0.5555555555555556,
             "#d8576b"
            ],
            [
             0.6666666666666666,
             "#ed7953"
            ],
            [
             0.7777777777777778,
             "#fb9f3a"
            ],
            [
             0.8888888888888888,
             "#fdca26"
            ],
            [
             1,
             "#f0f921"
            ]
           ]
          },
          "colorway": [
           "#636efa",
           "#EF553B",
           "#00cc96",
           "#ab63fa",
           "#FFA15A",
           "#19d3f3",
           "#FF6692",
           "#B6E880",
           "#FF97FF",
           "#FECB52"
          ],
          "font": {
           "color": "#2a3f5f"
          },
          "geo": {
           "bgcolor": "white",
           "lakecolor": "white",
           "landcolor": "#E5ECF6",
           "showlakes": true,
           "showland": true,
           "subunitcolor": "white"
          },
          "hoverlabel": {
           "align": "left"
          },
          "hovermode": "closest",
          "mapbox": {
           "style": "light"
          },
          "paper_bgcolor": "white",
          "plot_bgcolor": "#E5ECF6",
          "polar": {
           "angularaxis": {
            "gridcolor": "white",
            "linecolor": "white",
            "ticks": ""
           },
           "bgcolor": "#E5ECF6",
           "radialaxis": {
            "gridcolor": "white",
            "linecolor": "white",
            "ticks": ""
           }
          },
          "scene": {
           "xaxis": {
            "backgroundcolor": "#E5ECF6",
            "gridcolor": "white",
            "gridwidth": 2,
            "linecolor": "white",
            "showbackground": true,
            "ticks": "",
            "zerolinecolor": "white"
           },
           "yaxis": {
            "backgroundcolor": "#E5ECF6",
            "gridcolor": "white",
            "gridwidth": 2,
            "linecolor": "white",
            "showbackground": true,
            "ticks": "",
            "zerolinecolor": "white"
           },
           "zaxis": {
            "backgroundcolor": "#E5ECF6",
            "gridcolor": "white",
            "gridwidth": 2,
            "linecolor": "white",
            "showbackground": true,
            "ticks": "",
            "zerolinecolor": "white"
           }
          },
          "shapedefaults": {
           "line": {
            "color": "#2a3f5f"
           }
          },
          "ternary": {
           "aaxis": {
            "gridcolor": "white",
            "linecolor": "white",
            "ticks": ""
           },
           "baxis": {
            "gridcolor": "white",
            "linecolor": "white",
            "ticks": ""
           },
           "bgcolor": "#E5ECF6",
           "caxis": {
            "gridcolor": "white",
            "linecolor": "white",
            "ticks": ""
           }
          },
          "title": {
           "x": 0.05
          },
          "xaxis": {
           "automargin": true,
           "gridcolor": "white",
           "linecolor": "white",
           "ticks": "",
           "title": {
            "standoff": 15
           },
           "zerolinecolor": "white",
           "zerolinewidth": 2
          },
          "yaxis": {
           "automargin": true,
           "gridcolor": "white",
           "linecolor": "white",
           "ticks": "",
           "title": {
            "standoff": 15
           },
           "zerolinecolor": "white",
           "zerolinewidth": 2
          }
         }
        },
        "title": {
         "text": "Funding Distribution across Top 10 Investment Stages"
        },
        "xaxis": {
         "anchor": "y",
         "domain": [
          0,
          1
         ],
         "tickangle": 45,
         "title": {
          "text": "Investment Stage"
         }
        },
        "yaxis": {
         "anchor": "x",
         "domain": [
          0,
          1
         ],
         "title": {
          "text": "Total Funding Amount"
         }
        }
       }
      }
     },
     "metadata": {},
     "output_type": "display_data"
    }
   ],
   "source": [
    "# Calculate total funding amount for each investment stage\n",
    "total_funding_by_stage = df_combined.groupby('Stage')['Amount'].sum().reset_index()\n",
    "\n",
    "# Sort the investment stages by total funding amount in descending order\n",
    "total_funding_by_stage = total_funding_by_stage.sort_values('Amount', ascending=False)\n",
    "\n",
    "# Print the investment stages by total funding amount\n",
    "print(\"Investment Stages by Total Funding Amount:\")\n",
    "print(total_funding_by_stage)\n",
    "\n",
    "# Select the top 10 stages\n",
    "top_10_stages = total_funding_by_stage.head(10)\n",
    "\n",
    "# Visualize the funding distribution across the top 10 investment stages\n",
    "fig = px.bar(top_10_stages, x='Stage', y='Amount',\n",
    "             title='Funding Distribution across Top 10 Investment Stages',\n",
    "             labels={'Stage': 'Investment Stage', 'Amount': 'Total Funding Amount'})\n",
    "\n",
    "# Rotate the x-axis tick labels\n",
    "fig.update_xaxes(tickangle=45)\n",
    "\n",
    "# Show the plot\n",
    "fig.show()"
   ]
  },
  {
   "cell_type": "markdown",
   "metadata": {},
   "source": [
    "3.Stage Analysis: What is the distribution of funding across different investment stages (e.g., Pre-seed, Seed, Series A)?"
   ]
  },
  {
   "cell_type": "code",
   "execution_count": 119,
   "metadata": {},
   "outputs": [
    {
     "name": "stdout",
     "output_type": "stream",
     "text": [
      "Investment Stages by Total Funding Amount:\n",
      "                    Stage        Amount\n",
      "30               Series A  7.144742e+10\n",
      "26             Seed Round  6.426294e+09\n",
      "34               Series C  4.003705e+09\n",
      "32               Series B  3.581616e+09\n",
      "22                   Seed  1.934018e+09\n",
      "36               Series D  1.118370e+09\n",
      "9            Pre series A  8.315550e+08\n",
      "38               Series E  6.784530e+08\n",
      "3                    Debt  2.582320e+08\n",
      "40               Series F  1.032000e+08\n",
      "19           Pre-series A  9.895300e+07\n",
      "21           Pre-series C  4.400000e+07\n",
      "41               Series H  4.250000e+07\n",
      "39              Series E2  2.650000e+07\n",
      "29             Seed round  2.282000e+07\n",
      "33              Series B2  2.200000e+07\n",
      "6            Pre Series A  1.951640e+07\n",
      "1                  Bridge  1.750000e+07\n",
      "16               Pre-seed  1.704000e+07\n",
      "15           Pre-Series B  1.600000e+07\n",
      "11           Pre series B  1.328200e+07\n",
      "20           Pre-series B  1.060000e+07\n",
      "0             Angel Round  9.264000e+06\n",
      "8          Pre seed round  8.340000e+06\n",
      "17         Pre-seed Round  6.000000e+06\n",
      "14               Pre-Seed  6.000000e+06\n",
      "37              Series D1  5.967000e+06\n",
      "4                    Edge  5.040000e+06\n",
      "24           Seed Funding  3.982530e+06\n",
      "13          Pre- series A  3.400000e+06\n",
      "7          Pre seed Round  3.000000e+06\n",
      "25        Seed Investment  3.000000e+06\n",
      "35            Series C, D  3.000000e+06\n",
      "18             Pre-series  3.000000e+06\n",
      "2            Bridge Round  3.000000e+06\n",
      "27  Seed Round & Series A  2.800000e+06\n",
      "12           Pre series C  2.743000e+06\n",
      "31             Series A-1  1.000000e+06\n",
      "23                 Seed A  1.000000e+06\n",
      "28           Seed funding  9.069000e+05\n",
      "5              Mid series  5.000000e+05\n",
      "10          Pre series A1  3.000000e+05\n"
     ]
    },
    {
     "data": {
      "application/vnd.plotly.v1+json": {
       "config": {
        "plotlyServerURL": "https://plot.ly"
       },
       "data": [
        {
         "alignmentgroup": "True",
         "hovertemplate": "Investment Stage=%{x}<br>Total Funding Amount=%{y}<extra></extra>",
         "legendgroup": "",
         "marker": {
          "color": "#636efa",
          "pattern": {
           "shape": ""
          }
         },
         "name": "",
         "offsetgroup": "",
         "orientation": "v",
         "showlegend": false,
         "textposition": "auto",
         "type": "bar",
         "x": [
          "Series A",
          "Seed Round",
          "Series C",
          "Series B",
          "Seed",
          "Series D",
          "Pre series A",
          "Series E",
          "Debt",
          "Series F"
         ],
         "xaxis": "x",
         "y": [
          71447421300,
          6426294000,
          4003704528,
          3581615746,
          1934018200,
          1118370000,
          831555000,
          678453000,
          258232000,
          103200000
         ],
         "yaxis": "y"
        }
       ],
       "layout": {
        "barmode": "relative",
        "legend": {
         "tracegroupgap": 0
        },
        "template": {
         "data": {
          "bar": [
           {
            "error_x": {
             "color": "#2a3f5f"
            },
            "error_y": {
             "color": "#2a3f5f"
            },
            "marker": {
             "line": {
              "color": "#E5ECF6",
              "width": 0.5
             },
             "pattern": {
              "fillmode": "overlay",
              "size": 10,
              "solidity": 0.2
             }
            },
            "type": "bar"
           }
          ],
          "barpolar": [
           {
            "marker": {
             "line": {
              "color": "#E5ECF6",
              "width": 0.5
             },
             "pattern": {
              "fillmode": "overlay",
              "size": 10,
              "solidity": 0.2
             }
            },
            "type": "barpolar"
           }
          ],
          "carpet": [
           {
            "aaxis": {
             "endlinecolor": "#2a3f5f",
             "gridcolor": "white",
             "linecolor": "white",
             "minorgridcolor": "white",
             "startlinecolor": "#2a3f5f"
            },
            "baxis": {
             "endlinecolor": "#2a3f5f",
             "gridcolor": "white",
             "linecolor": "white",
             "minorgridcolor": "white",
             "startlinecolor": "#2a3f5f"
            },
            "type": "carpet"
           }
          ],
          "choropleth": [
           {
            "colorbar": {
             "outlinewidth": 0,
             "ticks": ""
            },
            "type": "choropleth"
           }
          ],
          "contour": [
           {
            "colorbar": {
             "outlinewidth": 0,
             "ticks": ""
            },
            "colorscale": [
             [
              0,
              "#0d0887"
             ],
             [
              0.1111111111111111,
              "#46039f"
             ],
             [
              0.2222222222222222,
              "#7201a8"
             ],
             [
              0.3333333333333333,
              "#9c179e"
             ],
             [
              0.4444444444444444,
              "#bd3786"
             ],
             [
              0.5555555555555556,
              "#d8576b"
             ],
             [
              0.6666666666666666,
              "#ed7953"
             ],
             [
              0.7777777777777778,
              "#fb9f3a"
             ],
             [
              0.8888888888888888,
              "#fdca26"
             ],
             [
              1,
              "#f0f921"
             ]
            ],
            "type": "contour"
           }
          ],
          "contourcarpet": [
           {
            "colorbar": {
             "outlinewidth": 0,
             "ticks": ""
            },
            "type": "contourcarpet"
           }
          ],
          "heatmap": [
           {
            "colorbar": {
             "outlinewidth": 0,
             "ticks": ""
            },
            "colorscale": [
             [
              0,
              "#0d0887"
             ],
             [
              0.1111111111111111,
              "#46039f"
             ],
             [
              0.2222222222222222,
              "#7201a8"
             ],
             [
              0.3333333333333333,
              "#9c179e"
             ],
             [
              0.4444444444444444,
              "#bd3786"
             ],
             [
              0.5555555555555556,
              "#d8576b"
             ],
             [
              0.6666666666666666,
              "#ed7953"
             ],
             [
              0.7777777777777778,
              "#fb9f3a"
             ],
             [
              0.8888888888888888,
              "#fdca26"
             ],
             [
              1,
              "#f0f921"
             ]
            ],
            "type": "heatmap"
           }
          ],
          "heatmapgl": [
           {
            "colorbar": {
             "outlinewidth": 0,
             "ticks": ""
            },
            "colorscale": [
             [
              0,
              "#0d0887"
             ],
             [
              0.1111111111111111,
              "#46039f"
             ],
             [
              0.2222222222222222,
              "#7201a8"
             ],
             [
              0.3333333333333333,
              "#9c179e"
             ],
             [
              0.4444444444444444,
              "#bd3786"
             ],
             [
              0.5555555555555556,
              "#d8576b"
             ],
             [
              0.6666666666666666,
              "#ed7953"
             ],
             [
              0.7777777777777778,
              "#fb9f3a"
             ],
             [
              0.8888888888888888,
              "#fdca26"
             ],
             [
              1,
              "#f0f921"
             ]
            ],
            "type": "heatmapgl"
           }
          ],
          "histogram": [
           {
            "marker": {
             "pattern": {
              "fillmode": "overlay",
              "size": 10,
              "solidity": 0.2
             }
            },
            "type": "histogram"
           }
          ],
          "histogram2d": [
           {
            "colorbar": {
             "outlinewidth": 0,
             "ticks": ""
            },
            "colorscale": [
             [
              0,
              "#0d0887"
             ],
             [
              0.1111111111111111,
              "#46039f"
             ],
             [
              0.2222222222222222,
              "#7201a8"
             ],
             [
              0.3333333333333333,
              "#9c179e"
             ],
             [
              0.4444444444444444,
              "#bd3786"
             ],
             [
              0.5555555555555556,
              "#d8576b"
             ],
             [
              0.6666666666666666,
              "#ed7953"
             ],
             [
              0.7777777777777778,
              "#fb9f3a"
             ],
             [
              0.8888888888888888,
              "#fdca26"
             ],
             [
              1,
              "#f0f921"
             ]
            ],
            "type": "histogram2d"
           }
          ],
          "histogram2dcontour": [
           {
            "colorbar": {
             "outlinewidth": 0,
             "ticks": ""
            },
            "colorscale": [
             [
              0,
              "#0d0887"
             ],
             [
              0.1111111111111111,
              "#46039f"
             ],
             [
              0.2222222222222222,
              "#7201a8"
             ],
             [
              0.3333333333333333,
              "#9c179e"
             ],
             [
              0.4444444444444444,
              "#bd3786"
             ],
             [
              0.5555555555555556,
              "#d8576b"
             ],
             [
              0.6666666666666666,
              "#ed7953"
             ],
             [
              0.7777777777777778,
              "#fb9f3a"
             ],
             [
              0.8888888888888888,
              "#fdca26"
             ],
             [
              1,
              "#f0f921"
             ]
            ],
            "type": "histogram2dcontour"
           }
          ],
          "mesh3d": [
           {
            "colorbar": {
             "outlinewidth": 0,
             "ticks": ""
            },
            "type": "mesh3d"
           }
          ],
          "parcoords": [
           {
            "line": {
             "colorbar": {
              "outlinewidth": 0,
              "ticks": ""
             }
            },
            "type": "parcoords"
           }
          ],
          "pie": [
           {
            "automargin": true,
            "type": "pie"
           }
          ],
          "scatter": [
           {
            "fillpattern": {
             "fillmode": "overlay",
             "size": 10,
             "solidity": 0.2
            },
            "type": "scatter"
           }
          ],
          "scatter3d": [
           {
            "line": {
             "colorbar": {
              "outlinewidth": 0,
              "ticks": ""
             }
            },
            "marker": {
             "colorbar": {
              "outlinewidth": 0,
              "ticks": ""
             }
            },
            "type": "scatter3d"
           }
          ],
          "scattercarpet": [
           {
            "marker": {
             "colorbar": {
              "outlinewidth": 0,
              "ticks": ""
             }
            },
            "type": "scattercarpet"
           }
          ],
          "scattergeo": [
           {
            "marker": {
             "colorbar": {
              "outlinewidth": 0,
              "ticks": ""
             }
            },
            "type": "scattergeo"
           }
          ],
          "scattergl": [
           {
            "marker": {
             "colorbar": {
              "outlinewidth": 0,
              "ticks": ""
             }
            },
            "type": "scattergl"
           }
          ],
          "scattermapbox": [
           {
            "marker": {
             "colorbar": {
              "outlinewidth": 0,
              "ticks": ""
             }
            },
            "type": "scattermapbox"
           }
          ],
          "scatterpolar": [
           {
            "marker": {
             "colorbar": {
              "outlinewidth": 0,
              "ticks": ""
             }
            },
            "type": "scatterpolar"
           }
          ],
          "scatterpolargl": [
           {
            "marker": {
             "colorbar": {
              "outlinewidth": 0,
              "ticks": ""
             }
            },
            "type": "scatterpolargl"
           }
          ],
          "scatterternary": [
           {
            "marker": {
             "colorbar": {
              "outlinewidth": 0,
              "ticks": ""
             }
            },
            "type": "scatterternary"
           }
          ],
          "surface": [
           {
            "colorbar": {
             "outlinewidth": 0,
             "ticks": ""
            },
            "colorscale": [
             [
              0,
              "#0d0887"
             ],
             [
              0.1111111111111111,
              "#46039f"
             ],
             [
              0.2222222222222222,
              "#7201a8"
             ],
             [
              0.3333333333333333,
              "#9c179e"
             ],
             [
              0.4444444444444444,
              "#bd3786"
             ],
             [
              0.5555555555555556,
              "#d8576b"
             ],
             [
              0.6666666666666666,
              "#ed7953"
             ],
             [
              0.7777777777777778,
              "#fb9f3a"
             ],
             [
              0.8888888888888888,
              "#fdca26"
             ],
             [
              1,
              "#f0f921"
             ]
            ],
            "type": "surface"
           }
          ],
          "table": [
           {
            "cells": {
             "fill": {
              "color": "#EBF0F8"
             },
             "line": {
              "color": "white"
             }
            },
            "header": {
             "fill": {
              "color": "#C8D4E3"
             },
             "line": {
              "color": "white"
             }
            },
            "type": "table"
           }
          ]
         },
         "layout": {
          "annotationdefaults": {
           "arrowcolor": "#2a3f5f",
           "arrowhead": 0,
           "arrowwidth": 1
          },
          "autotypenumbers": "strict",
          "coloraxis": {
           "colorbar": {
            "outlinewidth": 0,
            "ticks": ""
           }
          },
          "colorscale": {
           "diverging": [
            [
             0,
             "#8e0152"
            ],
            [
             0.1,
             "#c51b7d"
            ],
            [
             0.2,
             "#de77ae"
            ],
            [
             0.3,
             "#f1b6da"
            ],
            [
             0.4,
             "#fde0ef"
            ],
            [
             0.5,
             "#f7f7f7"
            ],
            [
             0.6,
             "#e6f5d0"
            ],
            [
             0.7,
             "#b8e186"
            ],
            [
             0.8,
             "#7fbc41"
            ],
            [
             0.9,
             "#4d9221"
            ],
            [
             1,
             "#276419"
            ]
           ],
           "sequential": [
            [
             0,
             "#0d0887"
            ],
            [
             0.1111111111111111,
             "#46039f"
            ],
            [
             0.2222222222222222,
             "#7201a8"
            ],
            [
             0.3333333333333333,
             "#9c179e"
            ],
            [
             0.4444444444444444,
             "#bd3786"
            ],
            [
             0.5555555555555556,
             "#d8576b"
            ],
            [
             0.6666666666666666,
             "#ed7953"
            ],
            [
             0.7777777777777778,
             "#fb9f3a"
            ],
            [
             0.8888888888888888,
             "#fdca26"
            ],
            [
             1,
             "#f0f921"
            ]
           ],
           "sequentialminus": [
            [
             0,
             "#0d0887"
            ],
            [
             0.1111111111111111,
             "#46039f"
            ],
            [
             0.2222222222222222,
             "#7201a8"
            ],
            [
             0.3333333333333333,
             "#9c179e"
            ],
            [
             0.4444444444444444,
             "#bd3786"
            ],
            [
             0.5555555555555556,
             "#d8576b"
            ],
            [
             0.6666666666666666,
             "#ed7953"
            ],
            [
             0.7777777777777778,
             "#fb9f3a"
            ],
            [
             0.8888888888888888,
             "#fdca26"
            ],
            [
             1,
             "#f0f921"
            ]
           ]
          },
          "colorway": [
           "#636efa",
           "#EF553B",
           "#00cc96",
           "#ab63fa",
           "#FFA15A",
           "#19d3f3",
           "#FF6692",
           "#B6E880",
           "#FF97FF",
           "#FECB52"
          ],
          "font": {
           "color": "#2a3f5f"
          },
          "geo": {
           "bgcolor": "white",
           "lakecolor": "white",
           "landcolor": "#E5ECF6",
           "showlakes": true,
           "showland": true,
           "subunitcolor": "white"
          },
          "hoverlabel": {
           "align": "left"
          },
          "hovermode": "closest",
          "mapbox": {
           "style": "light"
          },
          "paper_bgcolor": "white",
          "plot_bgcolor": "#E5ECF6",
          "polar": {
           "angularaxis": {
            "gridcolor": "white",
            "linecolor": "white",
            "ticks": ""
           },
           "bgcolor": "#E5ECF6",
           "radialaxis": {
            "gridcolor": "white",
            "linecolor": "white",
            "ticks": ""
           }
          },
          "scene": {
           "xaxis": {
            "backgroundcolor": "#E5ECF6",
            "gridcolor": "white",
            "gridwidth": 2,
            "linecolor": "white",
            "showbackground": true,
            "ticks": "",
            "zerolinecolor": "white"
           },
           "yaxis": {
            "backgroundcolor": "#E5ECF6",
            "gridcolor": "white",
            "gridwidth": 2,
            "linecolor": "white",
            "showbackground": true,
            "ticks": "",
            "zerolinecolor": "white"
           },
           "zaxis": {
            "backgroundcolor": "#E5ECF6",
            "gridcolor": "white",
            "gridwidth": 2,
            "linecolor": "white",
            "showbackground": true,
            "ticks": "",
            "zerolinecolor": "white"
           }
          },
          "shapedefaults": {
           "line": {
            "color": "#2a3f5f"
           }
          },
          "ternary": {
           "aaxis": {
            "gridcolor": "white",
            "linecolor": "white",
            "ticks": ""
           },
           "baxis": {
            "gridcolor": "white",
            "linecolor": "white",
            "ticks": ""
           },
           "bgcolor": "#E5ECF6",
           "caxis": {
            "gridcolor": "white",
            "linecolor": "white",
            "ticks": ""
           }
          },
          "title": {
           "x": 0.05
          },
          "xaxis": {
           "automargin": true,
           "gridcolor": "white",
           "linecolor": "white",
           "ticks": "",
           "title": {
            "standoff": 15
           },
           "zerolinecolor": "white",
           "zerolinewidth": 2
          },
          "yaxis": {
           "automargin": true,
           "gridcolor": "white",
           "linecolor": "white",
           "ticks": "",
           "title": {
            "standoff": 15
           },
           "zerolinecolor": "white",
           "zerolinewidth": 2
          }
         }
        },
        "title": {
         "text": "Funding Distribution across Top 10 Investment Stages"
        },
        "xaxis": {
         "anchor": "y",
         "domain": [
          0,
          1
         ],
         "tickangle": 45,
         "title": {
          "text": "Investment Stage"
         }
        },
        "yaxis": {
         "anchor": "x",
         "domain": [
          0,
          1
         ],
         "title": {
          "text": "Total Funding Amount"
         }
        }
       }
      }
     },
     "metadata": {},
     "output_type": "display_data"
    }
   ],
   "source": [
    "# Calculate total funding amount for each investment stage\n",
    "total_funding_by_stage = df_combined.groupby('Stage')['Amount'].sum().reset_index()\n",
    "\n",
    "# Sort the investment stages by total funding amount in descending order\n",
    "total_funding_by_stage = total_funding_by_stage.sort_values('Amount', ascending=False)\n",
    "\n",
    "# Print the investment stages by total funding amount\n",
    "print(\"Investment Stages by Total Funding Amount:\")\n",
    "print(total_funding_by_stage)\n",
    "\n",
    "# Select the top 10 stages\n",
    "top_10_stages = total_funding_by_stage.head(10)\n",
    "\n",
    "# Visualize the funding distribution across the top 10 investment stages\n",
    "fig = px.bar(top_10_stages, x='Stage', y='Amount',\n",
    "             title='Funding Distribution across Top 10 Investment Stages',\n",
    "             labels={'Stage': 'Investment Stage', 'Amount': 'Total Funding Amount'})\n",
    "\n",
    "# Rotate the x-axis tick labels\n",
    "fig.update_xaxes(tickangle=45)\n",
    "\n",
    "# Show the plot\n",
    "fig.show()"
   ]
  },
  {
   "cell_type": "markdown",
   "metadata": {},
   "source": []
  },
  {
   "cell_type": "code",
   "execution_count": 120,
   "metadata": {},
   "outputs": [
    {
     "name": "stdout",
     "output_type": "stream",
     "text": [
      "Company Brand: Krayonnz\n",
      "Headquarters: Bangalore\n",
      "Stage: Pre-seed\n",
      "What it does: An academy-guardian-scholar centric ecosystem which provides state of the art technological solutions.\n",
      "---\n",
      "Company Brand: Myclassboard\n",
      "Headquarters: Hyderabad\n",
      "Stage: Pre-series A\n",
      "What it does: MyClassboard is a full-fledged School / College Management Software.\n",
      "---\n",
      "Company Brand: Rupeek\n",
      "Headquarters: Bangalore\n",
      "Stage: Series C\n",
      "What it does: Rupeek is an online lending platform that specializes in credit risk, gold loans, and personal loans.\n",
      "---\n",
      "Company Brand: Zomato\n",
      "Headquarters: Gurgaon\n",
      "Stage: Series B\n",
      "What it does: Zomato is a food delivery and restaurant discovery site that provides information and reviews about restaurants\n",
      "---\n",
      "Company Brand: Shiprocket\n",
      "Headquarters: New Delhi\n",
      "Stage: Series C\n",
      "What it does: Shiprocket helps online retailers simplify their shipping by providing a delightful post purchase experience to their consumers.\n",
      "---\n",
      "Company Brand: Pine Labs\n",
      "Headquarters: Noida\n",
      "Stage: Series B\n",
      "What it does: A merchant platform company that provides financing and last-mile retail transaction technology to merchants.\n",
      "---\n",
      "Company Brand: Moneyboxx Finance\n",
      "Headquarters: New Delhi\n",
      "Stage: Series A\n",
      "What it does: MONEYBOXX FINANCE LTD is committed to providing easy access to financing to the deserving micro enterprises in the tier 2 and tier 3 cities of India\n",
      "---\n",
      "Company Brand: Sucseed Indovation\n",
      "Headquarters: Hyderabad\n",
      "Stage: Series C\n",
      "What it does: SucSEED INDOVATION FACILITATES ACCESS TO CAPITAL FOR DEEP TECH STARTUPS TO INNOVATE, SCALE & GROW\n",
      "---\n",
      "Company Brand: Taxbuddy.Com\n",
      "Headquarters: Mumbai\n",
      "Stage: Series C\n",
      "What it does: TaxBuddy for any tax related issues.\n",
      "---\n",
      "Company Brand: Circle Of Angels\n",
      "Headquarters: Gurgaon\n",
      "Stage: Pre series A\n",
      "What it does: Circles of Angels aims to solve this issue through the creation of a funding network that makes impact funding accessible to everyone.\n",
      "---\n",
      "Company Brand: Coindcx\n",
      "Headquarters: Mumbai\n",
      "Stage: Series B\n",
      "What it does: CoinDCX is a company that specializes in crypto-enabled financial services.\n",
      "---\n",
      "Company Brand: Delhivery\n",
      "Headquarters: Gurgaon\n",
      "Stage: Series C\n",
      "What it does: Delhivery is a supply chain services company that provides products and services to build trust and improve the lives of consumers.\n",
      "---\n",
      "Company Brand: Phonepe\n",
      "Headquarters: Andheri\n",
      "Stage: Series B\n",
      "What it does: PhonePe is a mobile payment application that enables users to transfer money instantly.\n",
      "---\n",
      "Company Brand: Countingwell\n",
      "Headquarters: Bangalore\n",
      "Stage: Pre-series A\n",
      "What it does: An interactive Maths app, Countingwell breaks Maths concepts into short, simple modules that get kids learning with the least amount of screen time.\n",
      "---\n",
      "Company Brand: Cover It Up\n",
      "Headquarters: Chennai\n",
      "Stage: Seed\n",
      "What it does: Online portal that churns out high quality products\n",
      "---\n",
      "Company Brand: Bitespeed\n",
      "Headquarters: Gurgaon\n",
      "Stage: Seed\n",
      "What it does: Chat-based commerce for E-commerce brands\n",
      "---\n",
      "Company Brand: Wakefit\n",
      "Headquarters: Bangalore\n",
      "Stage: Series B\n",
      "What it does: Wakefitkart is a mattress manufacturing company\n",
      "---\n",
      "Company Brand: M1Xchange\n",
      "Headquarters: Gurgaon\n",
      "Stage: Series C\n",
      "What it does: M1 an online exchange for TReDS set up under the approval RBI to facilitate discounting of invoices on a PAN India basis.\n",
      "---\n",
      "Company Brand: Fisdom\n",
      "Headquarters: Bangalore\n",
      "Stage: Series B\n",
      "What it does: Fisdom is a fintech company that offers investment advisory services through an application.\n",
      "---\n",
      "Company Brand: Tinker Coders\n",
      "Headquarters: Noida\n",
      "Stage: Seed\n",
      "What it does: Tinker Coder is a LIVE Online Platform through which kids will learn the art of coding\n",
      "---\n",
      "Company Brand: Phonepe\n",
      "Headquarters: New Delhi\n",
      "Stage: Series B\n",
      "What it does: PhonePe is a mobile payments application that allows the user to transfer money instantly.\n",
      "---\n",
      "Company Brand: Mobikwik\n",
      "Headquarters: Gurgaon\n",
      "Stage: Pre series A\n",
      "What it does: MobiKwik is India’s leading fintech platform, operating businesses in consumer payments, payment gateway, and financial services.\n",
      "---\n",
      "Company Brand: Debugsbunny\n",
      "Headquarters: Pune\n",
      "Stage: Series B\n",
      "What it does: DebugsBunny is the best Kids Coding Platform where kids are taught to code online by our expert teachers.\n",
      "---\n",
      "Company Brand: Swipez\n",
      "Headquarters: Pune\n",
      "Stage: Seed Round\n",
      "What it does: Swipez is a payment collection platform.\n",
      "---\n",
      "Company Brand: Artivatic.Ai\n",
      "Headquarters: Bangalore\n",
      "Stage: Seed Round\n",
      "What it does: Artivatic's patent pending technology solves complex problems in Insurance for On-boarding, Fraud, Risk Profiling, Underwriting & claims.\n",
      "---\n",
      "Company Brand: Freshtohome\n",
      "Headquarters: Bangalore\n",
      "Stage: Seed\n",
      "What it does: Freshtohome is an e-commerce platform for fresh and chemical-free seafood.\n",
      "---\n",
      "Company Brand: Dealshare\n",
      "Headquarters: Jaipur\n",
      "Stage: Series C\n",
      "What it does: DealShare is a Social Commerce Startup\n",
      "---\n",
      "Company Brand: Smallcase\n",
      "Headquarters: Bangalore\n",
      "Stage: Pre series A\n",
      "What it does: Changing how India invests in equities\n",
      "---\n",
      "Company Brand: Cuemath\n",
      "Headquarters: Bangalore\n",
      "Stage: Series C\n",
      "What it does: Cuemath is an engaging ‘learning-by-doing’ methodology for students with face-to-face sessions from highly-trained Cuemath teachers.\n",
      "---\n",
      "Company Brand: Ruralbasket\n",
      "Headquarters: Tirunelveli, Tamilnadu\n",
      "Stage: Seed Round\n",
      "What it does: Naturally grown and healthy products directly from farmers.\n",
      "---\n",
      "Company Brand: Clovia\n",
      "Headquarters: Noida\n",
      "Stage: Pre-series C\n",
      "What it does: Clovia is the online lingerie retailer\n",
      "---\n",
      "Company Brand: Codingal\n",
      "Headquarters: Bangalore\n",
      "Stage: Seed\n",
      "What it does: Coding education platform for K-12 students\n",
      "---\n",
      "Company Brand: Habitat\n",
      "Headquarters: Delhi\n",
      "Stage: Seed\n",
      "What it does: Habitat, a social learning edtech platform for civil service aspirants\n",
      "---\n",
      "Company Brand: Kopykitab\n",
      "Headquarters: Bangalore\n",
      "Stage: Series C\n",
      "What it does: Kopykitab is an India-based digital library that provides eBooks, and digital content in school and higher education.\n",
      "---\n",
      "Company Brand: Kyt\n",
      "Headquarters: Singapore\n",
      "Stage: Seed\n",
      "What it does: Holistic education for every child | Individual and small group live classes for ages 5 - 15 years\n",
      "---\n",
      "Company Brand: Cashfree\n",
      "Headquarters: Bangalore\n",
      "Stage: Series B\n",
      "What it does: Cashfree is a payments and banking technology company that enables businesses in India to collect payments online and make payouts.\n",
      "---\n",
      "Company Brand: Credgenics\n",
      "Headquarters: New Delhi\n",
      "Stage: Pre-series A\n",
      "What it does: Credgenics is a tech-enabled platform backed by Titan Capital, helping fintech lenders and Banks in their critical NPA reduction\n",
      "---\n",
      "Company Brand: Cars24\n",
      "Headquarters: Haryana\n",
      "Stage: Series E\n",
      "What it does: CARS24 is an India-based platform for selling used cars.\n",
      "---\n",
      "Company Brand: Credgenics\n",
      "Headquarters: Gurugram\n",
      "Stage: Pre-series A\n",
      "What it does: Credgenics is a tech-enabled platform backed by Titan Capital, helping fintech lenders and Banks in their critical NPA reduction\n",
      "---\n",
      "Company Brand: Inntot\n",
      "Headquarters: Kerala\n",
      "Stage: Seed\n",
      "What it does: Inntot Technologies, is a technology driven company.\n",
      "---\n",
      "Company Brand: Ensuredit\n",
      "Headquarters: Gurugram\n",
      "Stage: Pre-series A\n",
      "What it does: ENSUREDIT enables and empowers end customers and Insurance Intermediaries with AI-based product platforms for transformational customer experience.\n",
      "---\n",
      "Company Brand: Erpnext\n",
      "Headquarters: Mumbai\n",
      "Stage: Series C\n",
      "What it does: ERPNext is an Open Source, Online ERP solution which includes Accounting, CRM, Inventory, Purchasing, HR, Support and a lot more.\n",
      "---\n",
      "Company Brand: Grip Invest\n",
      "Headquarters: Gurugram\n",
      "Stage: Pre-series A\n",
      "What it does: Grip is an investment platform that allows retail investors to make small ticket investments in physical assets that earn lease income.\n",
      "---\n",
      "Company Brand: Unacademy\n",
      "Headquarters: Bangalore\n",
      "Stage: Seed\n",
      "What it does: Unacademy is an online learning platform providing educational content such as video lectures and examinations.\n",
      "---\n",
      "Company Brand: Yellow Classes\n",
      "Headquarters: Gurugram\n",
      "Stage: Pre-series A\n",
      "What it does: New-age fun-learning platform for kids.\n",
      "---\n",
      "Company Brand: Stage\n",
      "Headquarters: Indore\n",
      "Stage: Seed Round\n",
      "What it does: STAGE is an Indian language content platform for artist-led entertainment.\n",
      "---\n",
      "Company Brand: Nira\n",
      "Headquarters: Bangalore\n",
      "Stage: Pre series A\n",
      "What it does: NIRA promotes financial inclusion by creating simple, transparent products that empower individuals to live a life of choice and freedom.\n",
      "---\n",
      "Company Brand: Byju'S\n",
      "Headquarters: Bangalore\n",
      "Stage: Seed Round\n",
      "What it does: BYJU'S is an educational technology company that develops personalized learning programs for K-12 students.\n",
      "---\n",
      "Company Brand: Damensch\n",
      "Headquarters: Bangalore\n",
      "Stage: Pre series A\n",
      "What it does: DaMENSCH is a designer and seller of men's apparel.\n",
      "---\n",
      "Company Brand: Lancify\n",
      "Headquarters: Bangalore\n",
      "Stage: Series A\n",
      "What it does: Lancify is building the world's strongest young workforce\n",
      "---\n",
      "Company Brand: Instamojo\n",
      "Headquarters: Bangalore\n",
      "Stage: Seed Round\n",
      "What it does: Instamojo is an on-demand payments platform that enables entrepreneurs to build, manage, and grow their business online.\n",
      "---\n",
      "Company Brand: Arata\n",
      "Headquarters: New Delhi\n",
      "Stage: Pre-series A\n",
      "What it does: Arata is an e-commerce site for beauty products and cosmetics.\n",
      "---\n",
      "Company Brand: True Balance\n",
      "Headquarters: Gurugram\n",
      "Stage: Seed Round\n",
      "What it does: True Balance is a digital wallet that enables users to access utility bill payment and other financial products.\n",
      "---\n",
      "Company Brand: Thrive\n",
      "Headquarters: Mumbai\n",
      "Stage: Pre-series A\n",
      "What it does: Thrive is all-in-one restaurant ordering suite for table ordering, pickup, and delivery with marketing in-built.\n",
      "---\n",
      "Company Brand: Slice\n",
      "Headquarters: Bangalore\n",
      "Stage: Debt\n",
      "What it does: Slice is a card for first-time credit card users. They are inventing the future of finance for young Indians\n",
      "---\n",
      "Company Brand: Rapawalk\n",
      "Headquarters: Bangalore\n",
      "Stage: Seed\n",
      "What it does: Rapawalk is an online brand that offers a personalized service of creating your own shoes.\n",
      "---\n",
      "Company Brand: Blacksoil\n",
      "Headquarters: Mumbai\n",
      "Stage: Seed Round\n",
      "What it does: Blacksoil Advisory is an independent boutique advisory firm.\n",
      "---\n",
      "Company Brand: Xpressbees\n",
      "Headquarters: Pune\n",
      "Stage: Series C\n",
      "What it does: Xpressbees is an e-commerce logistics company that provides reliable logistics solutions to its partners.\n",
      "---\n",
      "Company Brand: Galaxycard\n",
      "Headquarters: Gurugram\n",
      "Stage: Seed\n",
      "What it does: Mobile based Instant credit card. | Easiest way to get a credit card. Get one in 3 minutes\n",
      "---\n",
      "Company Brand: Gonuts\n",
      "Headquarters: Mumbai\n",
      "Stage: Seed\n",
      "What it does: Personalised Video shoutouts from favourite celebrity.\n",
      "---\n",
      "Company Brand: Uolo\n",
      "Headquarters: Bangalore\n",
      "Stage: Seed\n",
      "What it does: Uolo Technology is founded by paranoid parents who want to make a difference to preschool experience.\n",
      "---\n",
      "Company Brand: Kirana King\n",
      "Headquarters: Jaipur, Rajastan\n",
      "Stage: Pre-series A\n",
      "What it does: A revolutionary idea of standardization, digitization & centralization to traditional Grocery system.\n",
      "---\n",
      "Company Brand: Frontrow\n",
      "Headquarters: Bangalore\n",
      "Stage: Seed\n",
      "What it does: Comprehensive courses, taught by idols.\n",
      "---\n",
      "Company Brand: Reliance Retail\n",
      "Headquarters: Mumbai\n",
      "Stage: Pre series A\n",
      "What it does: Reliance Retail Ventures Limited is a subsidiary company of Reliance Industries Limited.\n",
      "---\n",
      "Company Brand: Livfin\n",
      "Headquarters: New Delhi\n",
      "Stage: Series B\n",
      "What it does: LivFin is a non-banking financial company registered with the Reserve Bank of India (RBI)\n",
      "---\n",
      "Company Brand: Lattu Kids\n",
      "Headquarters: Mumbai\n",
      "Stage: Series A\n",
      "What it does: Lattu kids is an edutainment platform for preschool kids.\n",
      "---\n",
      "Company Brand: Stones2Milestones\n",
      "Headquarters: Gurugram\n",
      "Stage: Bridge\n",
      "What it does: Stones2milestones is India (Delhi) Based EdTech Company\n",
      "---\n",
      "Company Brand: Udacity\n",
      "Headquarters: California\n",
      "Stage: Debt\n",
      "What it does: Udacity develops an online learning platform offering programs in artificial intelligence, machine learning, and robotics sector.\n",
      "---\n",
      "Company Brand: Gully Network\n",
      "Headquarters: Bangalore\n",
      "Stage: Pre-series A\n",
      "What it does: Gully Network is a tech-enabled network of mid-sized grocery stores.\n",
      "---\n",
      "Company Brand: Dhurnia\n",
      "Headquarters: Dhingsara, Haryana\n",
      "Stage: Series C\n",
      "What it does: Developer of an online learning platform intended for various competitive exam preparations.\n",
      "---\n",
      "Company Brand: Expertrons\n",
      "Headquarters: Mumbai\n",
      "Stage: Series C\n",
      "What it does: Expertrons is an AI video bot platform created to help students and professionals prepare for interviews.\n",
      "---\n",
      "Company Brand: Flexiloans\n",
      "Headquarters: Mumbai\n",
      "Stage: Debt\n",
      "What it does: an online lending platform started with an endeavour to solve the problem that SMEs face in accessing Quick, Flexible and Adequate funds for growing their Businesses.\n",
      "---\n",
      "Company Brand: Freshtohome\n",
      "Headquarters: Bangalore\n",
      "Stage: Series C\n",
      "What it does: Freshtohome is an e-commerce platform for fresh and chemical-free seafood.\n",
      "---\n",
      "Company Brand: Credable\n",
      "Headquarters: Mumbai\n",
      "Stage: Seed\n",
      "What it does: CredAble provides working capital & supply chain finance programs for large enterprises and their suppliers and distributors.\n",
      "---\n",
      "Company Brand: Finova Capital\n",
      "Headquarters: Jaipur, Rajastan\n",
      "Stage: Series A\n",
      "What it does: Finova Capital is a non-banking financial company.\n",
      "---\n",
      "Company Brand: Teachmint\n",
      "Headquarters: Bangalore\n",
      "Stage: Seed\n",
      "What it does: Teachmint is an easy to use platform for tutors to conduct unlimited live classes and manage their classrooms\n",
      "---\n",
      "Company Brand: Peel-Works\n",
      "Headquarters: Mumbai\n",
      "Stage: Series C\n",
      "What it does: Peel-Works is a tech and data analytics company specializing in e-commerce for corner stores.\n",
      "---\n",
      "Company Brand: Credgenics\n",
      "Headquarters: Gurugram\n",
      "Stage: Seed\n",
      "What it does: Credgenics is a tech-enabled platform backed by Titan Capital, helping fintech lenders and Banks in their critical NPA reduction\n",
      "---\n",
      "Company Brand: Jumbotail\n",
      "Headquarters: Bangalore\n",
      "Stage: Series B2\n",
      "What it does: Jumbotail is solving an important problem of organising food and grocery ecosystem in India through technology, data science and design.\n",
      "---\n",
      "Company Brand: Freshtohome\n",
      "Headquarters: Bangalore\n",
      "Stage: Seed Round\n",
      "What it does: Freshtohome is an e-commerce platform for fresh and chemical-free seafood.\n",
      "---\n",
      "Company Brand: Jumbotail\n",
      "Headquarters: Bangalore\n",
      "Stage: Series B2\n",
      "What it does: Jumbotail is solving an important problem of organising food and grocery ecosystem in India\n",
      "---\n",
      "Company Brand: Nykaa\n",
      "Headquarters: Mumbai\n",
      "Stage: Pre series A\n",
      "What it does: Nykaa is an online marketplace for different beauty and wellness products.\n",
      "---\n",
      "Company Brand: Genius Teacher\n",
      "Headquarters: Mumbai\n",
      "Stage: Series C\n",
      "What it does: Genius Teacher creates engaging educational content, delivers fun learning experience to the students\n",
      "---\n",
      "Company Brand: Getvantage\n",
      "Headquarters: Mumbai\n",
      "Stage: Seed\n",
      "What it does: GetVantage is India and Southeast Asia's first fintech enabled Revenue-based financing platform.\n",
      "---\n",
      "Company Brand: Hubilo\n",
      "Headquarters: San Francisco, California, United States\n",
      "Stage: Seed\n",
      "What it does: World’s smartest virtual event platform that brings Experience & Intelligence together\n",
      "---\n",
      "Company Brand: Basic Home Loan\n",
      "Headquarters: Gurugram\n",
      "Stage: Seed\n",
      "What it does: A platform for automating home loans for middle and low-income households in India,\n",
      "---\n",
      "Company Brand: Signzy\n",
      "Headquarters: Bangalore\n",
      "Stage: Pre series A\n",
      "What it does: It is creating 'building blocks for a Digital Trust system.\n",
      "---\n",
      "Company Brand: Ahaguru\n",
      "Headquarters: Chennai\n",
      "Stage: Series A\n",
      "What it does: It is conducting IIT JEE Coach for Physics, Math and Chemistry easily.\n",
      "---\n",
      "Company Brand: Brighteye Ventures\n",
      "Headquarters: Paris, Ile-De-France, France\n",
      "Stage: Series A\n",
      "What it does: Education technology venture capital firm.\n",
      "---\n",
      "Company Brand: Genius Teacher\n",
      "Headquarters: Mumbai\n",
      "Stage: Pre series A\n",
      "What it does: Genius Teacher creates engaging educational content, delivers fun learning experience to the students\n",
      "---\n",
      "Company Brand: Tiliter\n",
      "Headquarters: Sydney\n",
      "Stage: Pre series A\n",
      "What it does: Software that uses computer vision to recognise products without barcodes\n",
      "---\n",
      "Company Brand: Hobspace\n",
      "Headquarters: Mumbai\n",
      "Stage: Seed\n",
      "What it does: India's Activity Hub for Kids\n",
      "---\n",
      "Company Brand: Shopup\n",
      "Headquarters: Bangaldesh\n",
      "Stage: Series A\n",
      "What it does: ShopUp provides easy access to B2B sourcing, last-mile logistics, digital credit, and business management solutions to small businesses.\n",
      "---\n",
      "Company Brand: Zomato\n",
      "Headquarters: Gurugram\n",
      "Stage: Series B\n",
      "What it does: Zomato is a food delivery and restaurant discovery site that provides information and reviews about restaurants.\n",
      "---\n",
      "Company Brand: Anveshan\n",
      "Headquarters: Bangalore\n",
      "Stage: Pre-seed\n",
      "What it does: Provide quality and healthy food products\n",
      "---\n",
      "Company Brand: Cover Genius\n",
      "Headquarters: Sydney, New South Wales, Australia\n",
      "Stage: Series C\n",
      "What it does: Cover Genius provides an insurance distribution platform designed to protect the customers of e-commerce companies\n",
      "---\n",
      "Company Brand: Clair\n",
      "Headquarters: New York, United States\n",
      "Stage: Seed\n",
      "What it does: Clair is a social fintech that provides Instant Pay Access as a Service for human capital management and gig platforms.\n",
      "---\n",
      "Company Brand: Razorpay\n",
      "Headquarters: Bangalore\n",
      "Stage: Series D\n",
      "What it does: Razorpay is a platform that enables businesses to accept, process, and disburse payments.\n",
      "---\n",
      "Company Brand: Antaios\n",
      "Headquarters: France\n",
      "Stage: Series B\n",
      "What it does: Developer of memory-based technology intended to solve issues of advanced computing.\n",
      "---\n",
      "Company Brand: Disprz\n",
      "Headquarters: Chennai\n",
      "Stage: Pre-series B\n",
      "What it does: Disprz is a one-of-its-kind “knowledge-tech” start-up that strives to make people knowledgeable, productive and smarter at what they do.\n",
      "---\n",
      "Company Brand: Uni\n",
      "Headquarters: Mumbai\n",
      "Stage: Seed\n",
      "What it does: The team aims to bridge the gap for credit cards and make them more accessible for people across different regions.\n",
      "---\n",
      "Company Brand: Credit Wise Capital\n",
      "Headquarters: Mumbai\n",
      "Stage: Seed\n",
      "What it does: CreditWise Capital is a consumer finance company.\n",
      "---\n",
      "Company Brand: Reliance Retail Ventures Ltd\n",
      "Headquarters: Mumbai\n",
      "Stage: Series A\n",
      "What it does: Reliance Retail offers online shopping and a chain of neighborhood stores, supermarkets, and wholesale/specialty stores.\n",
      "---\n",
      "Company Brand: Winuall\n",
      "Headquarters: Bangalore\n",
      "Stage: Seed Round\n",
      "What it does: Winuall specializes in the fields of E-learning, online quizzes, and tests, study material for competitive exams.\n",
      "---\n",
      "Company Brand: Unocoin\n",
      "Headquarters: Tumkur, Karnataka\n",
      "Stage: Series A\n",
      "What it does: Unocoin is an Indian bitcoin processor that enables users to buy, sell, store, use, and accept bitcoins.\n",
      "---\n",
      "Company Brand: Pesto\n",
      "Headquarters: New Delhi\n",
      "Stage: Series C\n",
      "What it does: Pesto is a career accelerator for software engineers with the mission to take opportunities to places where talent exists.\n",
      "---\n",
      "Company Brand: Equiwatt\n",
      "Headquarters: Newcastle Upon Tyne, Newcastle Upon Tyne, United Kingdom\n",
      "Stage: Series C\n",
      "What it does: Equiwatt is a digital platform enabling households to get paid for saving energy at peak times.\n",
      "---\n",
      "Company Brand: Reliance Retail Ventures\n",
      "Headquarters: Mumbai\n",
      "Stage: Series C\n",
      "What it does: Reliance Retail offers online shopping and a chain of neighborhood stores, supermarkets, and wholesale/specialty stores.\n",
      "---\n",
      "Company Brand: Zhangmen\n",
      "Headquarters: Shanghai, China\n",
      "Stage: Seed Round\n",
      "What it does: Zhangmen is an online tutoring platform provides tutoring courses to students.\n",
      "---\n",
      "Company Brand: Sapio Analytics\n",
      "Headquarters: Mumbai\n",
      "Stage: Seed\n",
      "What it does: Sapio Analytics provides AI-powered policymaking solutions for government institutions.\n",
      "---\n",
      "Company Brand: Avanse Financial Services\n",
      "Headquarters: Mumbai\n",
      "Stage: Series A\n",
      "What it does: Avanse, regulated by the Reserve Bank of India, is an education finance company that operates as a non-banking finance company (NBFC).\n",
      "---\n",
      "Company Brand: Industry Buying\n",
      "Headquarters: New Delhi\n",
      "Stage: Seed\n",
      "What it does: India's largest industrial ecommerce platform\n",
      "---\n",
      "Company Brand: Hopscotch\n",
      "Headquarters: Mumbai\n",
      "Stage: Series B\n",
      "What it does: Hopscotch provides an insider access to international brands for babies, kids, and moms.\n",
      "---\n",
      "Company Brand: Analytiqsports'S Supercric\n",
      "Headquarters: Bangalore\n",
      "Stage: Series C\n",
      "What it does: SuperCric is India's first strategy Cricket Manager simulation game\n",
      "---\n",
      "Company Brand: Snowflake\n",
      "Headquarters: California\n",
      "Stage: Seed Round\n",
      "What it does: Snowflake is a cloud data platform that provides a data warehouse-as-a-service designed for the cloud.\n",
      "---\n",
      "Company Brand: Genietalk\n",
      "Headquarters: Indore\n",
      "Stage: Seed\n",
      "What it does: GenieTalk as a virtual assistant uses AI to bring conversation commerce with a personalised experience on the app.\n",
      "---\n",
      "Company Brand: Classplus\n",
      "Headquarters: Noida\n",
      "Stage: Series C\n",
      "What it does: Classplus offers a mobile-first SaaS platform for 3000+ tutors to offer their curriculum and operations completely online.\n",
      "---\n",
      "Company Brand: Mobile Premier League\n",
      "Headquarters: Bangalore\n",
      "Stage: Pre series A\n",
      "What it does: Mobile Premier League(MPL) is a skill based E-Sports platform where you can play your favourite mobile games\n",
      "---\n",
      "Company Brand: Flipkart\n",
      "Headquarters: Bangalore\n",
      "Stage: Series C\n",
      "What it does: Flipkart is an e-commerce marketplace that offers over 30 million products cross 70+ categories.\n",
      "---\n",
      "Company Brand: Vivriti Capital\n",
      "Headquarters: Chennai\n",
      "Stage: Seed Round\n",
      "What it does: Vivriti Capital is a marketplace for small enterprises and individuals that lack efficient access to financial services.\n",
      "---\n",
      "Company Brand: Insurancedekho\n",
      "Headquarters: Ludhiana\n",
      "Stage: Pre series A\n",
      "What it does: The funding for branding and marketing activities as well as strengthening the product and technology teams\n",
      "---\n",
      "Company Brand: Byju’S\n",
      "Headquarters: Bangalore\n",
      "Stage: Seed\n",
      "What it does: An Indian educational technology and online tutoring firm\n",
      "---\n",
      "Company Brand: Reliance\n",
      "Headquarters: Mumbai\n",
      "Stage: Seed Round\n",
      "What it does: Reliance owns businesses across India engaged in energy, petrochemicals, textiles, natural resources\n",
      "---\n",
      "Company Brand: Inflexor Ventures\n",
      "Headquarters: Mumbai\n",
      "Stage: Seed Round\n",
      "What it does: Experienced Venture Capital-General Partner focused on Technology investments.\n",
      "---\n",
      "Company Brand: Dream11\n",
      "Headquarters: Mumbai\n",
      "Stage: Series B\n",
      "What it does: Dream11 is India’s Biggest Sports Game with 30 million+ users playing Fantasy Cricket\n",
      "---\n",
      "Company Brand: Unacademy\n",
      "Headquarters: Bangalore\n",
      "Stage: Series B\n",
      "What it does: Unacademy is an Indian online education technology company\n",
      "---\n",
      "Company Brand: Gaana\n",
      "Headquarters: Gurugram\n",
      "Stage: Pre series A\n",
      "What it does: Gaana is a commercial music streaming service providing free and licensed music.\n",
      "---\n",
      "Company Brand: Reliance Retail\n",
      "Headquarters: Mumbai\n",
      "Stage: Series C\n",
      "What it does: Retailer delivering superior value to its customers, suppliers and shareholders.\n",
      "---\n",
      "Company Brand: Qshala\n",
      "Headquarters: Bangalore\n",
      "Stage: Pre series A\n",
      "What it does: A platform that helps kids learn about life skills\n",
      "---\n",
      "Company Brand: Shipskart\n",
      "Headquarters: New Delhi\n",
      "Stage: Pre-series A\n",
      "What it does: ShipsKart platform that streamlines the way marine stores are ordered, approved and received on board with the help of technology.\n",
      "---\n",
      "Company Brand: Squadstack\n",
      "Headquarters: San Francisco\n",
      "Stage: Series A\n",
      "What it does: Empowering consumer businesses to improve their sales conversions and funnel efficiency, using Artificial Intelligence & Data Science.\n",
      "---\n",
      "Company Brand: Financepeer\n",
      "Headquarters: Mumbai\n",
      "Stage: Pre-series A\n",
      "What it does: Financepeer is an AI based peer to peer lending platform.\n",
      "---\n",
      "Company Brand: Cashify\n",
      "Headquarters: Gurugram\n",
      "Stage: Debt\n",
      "What it does: Cashify.in is an e-commerce platform for reselling used electronic gadgets.\n",
      "---\n",
      "Company Brand: Codeyoung\n",
      "Headquarters: Bangalore\n",
      "Stage: Seed\n",
      "What it does: Codeyoung provides live online coding classes for kids between the age of 5 - 17.\n",
      "---\n",
      "Company Brand: Stayqrious\n",
      "Headquarters: Bangalore\n",
      "Stage: Seed\n",
      "What it does: Live online coding courses with social learning. Build coding skills, confident communication and leadership skills with your very own coach.\n",
      "---\n",
      "Company Brand: Sunstone Eduversity\n",
      "Headquarters: Gurugram\n",
      "Stage: Series A\n",
      "What it does: India's Only Business School That Offers MBA & PGDM Programs With 100% Placement Assurance.\n",
      "---\n",
      "Company Brand: Mobigarage\n",
      "Headquarters: New Delhi\n",
      "Stage: Pre-series A\n",
      "What it does: An ecommerce platform for refurbished electronics.\n",
      "---\n",
      "Company Brand: Smallcase\n",
      "Headquarters: Bangalore\n",
      "Stage: Series B\n",
      "What it does: Smallcases are portfolios of stocks or ETFs created by India's top financial experts.\n",
      "---\n",
      "Company Brand: Assiduus\n",
      "Headquarters: Bangalore\n",
      "Stage: Series A\n",
      "What it does: Assiduus leverages its eCommerce experience to help build, grow and scale your brand on various eCommerce platforms\n",
      "---\n",
      "Company Brand: Afk Gaming\n",
      "Headquarters: Mumbai\n",
      "Stage: Pre-series A\n",
      "What it does: AFK Gaming is a media and entertainment and gaming company located in Mumbai.\n",
      "---\n",
      "Company Brand: Origa\n",
      "Headquarters: Andheri\n",
      "Stage: Debt\n",
      "What it does: The charioteer of your growth at all times.\n",
      "---\n",
      "Company Brand: Recordent\n",
      "Headquarters: Hyderabad\n",
      "Stage: Seed\n",
      "What it does: A technology-enabled platform that helps MSMEs to increase their business efficiency through collection of dues\n",
      "---\n",
      "Company Brand: Mpl\n",
      "Headquarters: Bangalore\n",
      "Stage: Series C\n",
      "What it does: Mobile Premier League is the mobile e-Sports platform based in India.\n",
      "---\n",
      "Company Brand: Fpl Technologies\n",
      "Headquarters: Pune\n",
      "Stage: Series A\n",
      "What it does: FPL is on a mission to re-imagine credit and payments from first principles and is building a mobile-first credit card\n",
      "---\n",
      "Company Brand: Cashkaro\n",
      "Headquarters: Gurgaon\n",
      "Stage: Series B\n",
      "What it does: Cashkaro is a coupons and cashback site rewarding customers for visiting online retailers through their site.\n",
      "---\n",
      "Company Brand: Toppr\n",
      "Headquarters: Mumbai\n",
      "Stage: Series D\n",
      "What it does: Toppr is an Indian educational technology and online tutoring firm\n",
      "---\n",
      "Company Brand: Lido Learning\n",
      "Headquarters: Mumbai\n",
      "Stage: Series B\n",
      "What it does: Online classes for Std 4-9 in Math, Science, Coding, English & Leadership with top 1% tutors ?\n",
      "---\n",
      "Company Brand: Mpl\n",
      "Headquarters: Bangalore\n",
      "Stage: Series B\n",
      "What it does: Mobile Premier League (also known as MPL) is the mobile e-Sports platform\n",
      "---\n",
      "Company Brand: Pulse\n",
      "Headquarters: Mumbai\n",
      "Stage: Pre-series A\n",
      "What it does: Helps people navigate through and profit off financial markets\n",
      "---\n",
      "Company Brand: Groww\n",
      "Headquarters: Bangalore\n",
      "Stage: Series C\n",
      "What it does: Leading Investment and Trading Platform\n",
      "---\n",
      "Company Brand: Soal\n",
      "Headquarters: Mumbai\n",
      "Stage: Series A-1\n",
      "What it does: A skill-tank nurturing students into disruptive, tech-empowered creators and future leaders\n",
      "---\n",
      "Company Brand: Ockypocky\n",
      "Headquarters: Gurugram\n",
      "Stage: Seed\n",
      "What it does: Ockypocky helps kids in learning spoken english\n",
      "---\n",
      "Company Brand: Qapita\n",
      "Headquarters: Singapore\n",
      "Stage: Seed\n",
      "What it does: Qapita provides digital equity management tools for private companies and startups.\n",
      "---\n",
      "Company Brand: Sunday\n",
      "Headquarters: Bangkok\n",
      "Stage: Pre-Series B\n",
      "What it does: An end-to-end insurance products and services provider that uses AI to offer personalized packages.\n",
      "---\n",
      "Company Brand: Max Wholesale\n",
      "Headquarters: New Delhi\n",
      "Stage: Seed\n",
      "What it does: MaxWholesale is an online distributor that provides authentic FMCG goods\n",
      "---\n",
      "Company Brand: Craftsvilla\n",
      "Headquarters: Mumbai\n",
      "Stage: Series C\n",
      "What it does: Sells ethnic apparel, footwear, fashion accessories, beauty products, handcrafted home accessories\n",
      "---\n",
      "Company Brand: Mechmocha\n",
      "Headquarters: Bangalore\n",
      "Stage: Series A\n",
      "What it does: India's first vernacular social gaming platform\n",
      "---\n",
      "Company Brand: Fanspole\n",
      "Headquarters: Thane\n",
      "Stage: Pre-Seed\n",
      "What it does: India's only social fantasy gaming platform\n",
      "---\n",
      "Company Brand: Univ.Ai\n",
      "Headquarters: Bangalore\n",
      "Stage: Pre series A\n",
      "What it does: A distributed, global educational powerhouse that draws on technology\n",
      "---\n",
      "Company Brand: Bikayi\n",
      "Headquarters: Hyderabad\n",
      "Stage: Seed round\n",
      "What it does: Provides free whatsapp integrated E-Commerce Store\n",
      "---\n",
      "Company Brand: Byju'S\n",
      "Headquarters: Bangalore\n",
      "Stage: Seed\n",
      "What it does: Provides online learning classes\n",
      "---\n",
      "Company Brand: Avail Finance\n",
      "Headquarters: Bangalore\n",
      "Stage: Series B\n",
      "What it does: Instant online loan app\n",
      "---\n",
      "Company Brand: Lead School\n",
      "Headquarters: Mumbai\n",
      "Stage: Series C\n",
      "What it does: Offers an integrated system for schools by helping them digitize the entire curriculum\n",
      "---\n",
      "Company Brand: Teachmint\n",
      "Headquarters: Bangalore\n",
      "Stage: Seed\n",
      "What it does: Empowers tutors with tools to deliver effective learning outcomes for students and parents\n",
      "---\n",
      "Company Brand: Stack Finance\n",
      "Headquarters: Bangalore\n",
      "Stage: Seed round\n",
      "What it does: It automates invesments, expenses, borrowing under a single platform\n",
      "---\n",
      "Company Brand: Fpl Technologies\n",
      "Headquarters: Pune\n",
      "Stage: Series A\n",
      "What it does: OneScore app is built by FPL - Free credit scoring and monitoring\n",
      "---\n",
      "Company Brand: Masai School\n",
      "Headquarters: Bangalore\n",
      "Stage: Series A\n",
      "What it does: It trains tech aspirants in full stack wed and android development\n",
      "---\n",
      "Company Brand: Lendingkart\n",
      "Headquarters: Ahmedabad\n",
      "Stage: Series D\n",
      "What it does: Provides working capital loans and business loans to MSMEs\n",
      "---\n",
      "Company Brand: Grayquest\n",
      "Headquarters: Mumbai\n",
      "Stage: Pre Series A\n",
      "What it does: Enables parents to pay their annual education fees in up to 12 monthly installments\n",
      "---\n",
      "Company Brand: Citycash\n",
      "Headquarters: Mumbai\n",
      "Stage: Seed round\n",
      "What it does: Focusses on creating a transit led micro-payments ecosystem\n",
      "---\n",
      "Company Brand: Hungerbox\n",
      "Headquarters: Bangalore\n",
      "Stage: Series C\n",
      "What it does: Offers B2B tech platform to corporates, aimed at improving the operations of their cafeterias\n",
      "---\n",
      "Company Brand: Eduvanz\n",
      "Headquarters: Mumbai\n",
      "Stage: Series A\n",
      "What it does: Digital finance NBFC that provides affordable education loans\n",
      "---\n",
      "Company Brand: Ziploan\n",
      "Headquarters: Delhi\n",
      "Stage: Seed\n",
      "What it does: Provides loans to MSMEs\n",
      "---\n",
      "Company Brand: Bigspoon Foods\n",
      "Headquarters: Ahmedabad\n",
      "Stage: Pre series A\n",
      "What it does: Cloud kitchen startup\n",
      "---\n",
      "Company Brand: Toppr\n",
      "Headquarters: Mumbai\n",
      "Stage: Series D\n",
      "What it does: It provides AI-based after school learning app for K12\n",
      "---\n",
      "Company Brand: Pickright Technologies\n",
      "Headquarters: Bangalore\n",
      "Stage: Seed Round\n",
      "What it does: Marketplace for stock market investors and advisors\n",
      "---\n",
      "Company Brand: Satya Microcapital\n",
      "Headquarters: Delhi\n",
      "Stage: Pre series A\n",
      "What it does: Microfinance company that offers collateral-free credit to micro enterprises\n",
      "---\n",
      "Company Brand: Entri\n",
      "Headquarters: Kochi\n",
      "Stage: Pre series A\n",
      "What it does: Local language learning startup\n",
      "---\n",
      "Company Brand: Snack Amor\n",
      "Headquarters: Mumbai\n",
      "Stage: Seed Round\n",
      "What it does: Healthy snack startup\n",
      "---\n",
      "Company Brand: Mpowered\n",
      "Headquarters: Gurugram\n",
      "Stage: Pre series A\n",
      "What it does: Asset Management Solutions\n",
      "---\n",
      "Company Brand: Finn\n",
      "Headquarters: Bangalore\n",
      "Stage: Pre series A\n",
      "What it does: Neobanking startup that digitises all banking transactions\n",
      "---\n",
      "Company Brand: Inurture\n",
      "Headquarters: Bangalore\n",
      "Stage: Series B\n",
      "What it does: It provides a conducive and healthy teaching, learning environment\n",
      "---\n",
      "Company Brand: Vedantu\n",
      "Headquarters: Bangalore\n",
      "Stage: Series D\n",
      "What it does: Onine learning platform\n",
      "---\n",
      "Company Brand: Crio\n",
      "Headquarters: Bangalore\n",
      "Stage: Seed\n",
      "What it does: A learning platform for developers\n",
      "---\n",
      "Company Brand: Ufony Services Pvt Ltd\n",
      "Headquarters: Pune\n",
      "Stage: Series A\n",
      "What it does: School Diary, a platform that brings education to smartphones\n",
      "---\n",
      "Company Brand: Uable\n",
      "Headquarters: Bangalore\n",
      "Stage: Seed Round\n",
      "What it does: Online life skills development platform for children\n",
      "---\n",
      "Company Brand: Piggy Ride\n",
      "Headquarters: Bangalore\n",
      "Stage: Pre series A\n",
      "What it does: Offers parents and kids, a platform to browse and book extracurricular interest-based activities\n",
      "---\n",
      "Company Brand: Cuemath\n",
      "Headquarters: Bangalore\n",
      "Stage: Series B\n",
      "What it does: It helps students to learn math online\n",
      "---\n",
      "Company Brand: Edhusk\n",
      "Headquarters: Jaipur\n",
      "Stage: Seed Round\n",
      "What it does: Provieds personalised learning to students by leveraging technology-driven models\n",
      "---\n",
      "Company Brand: Decentro\n",
      "Headquarters: Bangalore\n",
      "Stage: Series A\n",
      "What it does: Automated API-based platform that enables financial integrations.\n",
      "---\n",
      "Company Brand: Aye Finance\n",
      "Headquarters: Gurugram\n",
      "Stage: Series E\n",
      "What it does: A finance lender to SMEs\n",
      "---\n",
      "Company Brand: Ken42\n",
      "Headquarters: Bangalore\n",
      "Stage: Pre series A\n",
      "What it does: A platform that caters to evolving needs of institutions\n",
      "---\n",
      "Company Brand: Flinto\n",
      "Headquarters: Chennai\n",
      "Stage: Pre series B\n",
      "What it does: It is an educational subscription-box focussed at activity-based learning for the ages 2-12\n",
      "---\n",
      "Company Brand: Chitmonks\n",
      "Headquarters: Hyderabad\n",
      "Stage: Pre series A\n",
      "What it does: Offers enterprise private platform for chit fund firms\n",
      "---\n",
      "Company Brand: Walrus\n",
      "Headquarters: Bangalore\n",
      "Stage: Pre-Seed\n",
      "What it does: It provides banking solutions for teens and young adults\n",
      "---\n",
      "Company Brand: Godutch\n",
      "Headquarters: Mumbai\n",
      "Stage: Seed Round\n",
      "What it does: Group Payments platform\n",
      "---\n",
      "Company Brand: Byju'S\n",
      "Headquarters: Bangalore\n",
      "Stage: Seed\n",
      "What it does: Provides online learning classes\n",
      "---\n",
      "Company Brand: Slice\n",
      "Headquarters: Bangalore\n",
      "Stage: Pre series B\n",
      "What it does: A financial platform for youngsters\n",
      "---\n",
      "Company Brand: Aye Finance\n",
      "Headquarters: Gurugram\n",
      "Stage: Series E\n",
      "What it does: A finance lender to SMEs\n",
      "---\n",
      "Company Brand: Instasolv\n",
      "Headquarters: Noida\n",
      "Stage: Pre series A\n",
      "What it does: It is a doubt-solving app for students from Class 6 to 12\n",
      "---\n",
      "Company Brand: Goldenpi\n",
      "Headquarters: Bangalore\n",
      "Stage: Series A\n",
      "What it does: An online aggregator of bonds and debentures available in the secondary market\n",
      "---\n",
      "Company Brand: Jai Kisan\n",
      "Headquarters: Mumbai\n",
      "Stage: Pre series A\n",
      "What it does: A platform that caters the need of customers in rural areas\n",
      "---\n",
      "Company Brand: Edvizo\n",
      "Headquarters: Bangalore\n",
      "Stage: Seed Round\n",
      "What it does: Online marketplace to search, compare and enrol in the best institutes for competitive exam preparation\n",
      "---\n",
      "Company Brand: Servify\n",
      "Headquarters: Mumbai\n",
      "Stage: Series C\n",
      "What it does: Operates device management and support platform\n",
      "---\n",
      "Company Brand: Innoviti\n",
      "Headquarters: Bangalore\n",
      "Stage: Series C\n",
      "What it does: Digital payments solutions company\n",
      "---\n",
      "Company Brand: Inurture Education\n",
      "Headquarters: Noida\n",
      "Stage: Series A\n",
      "What it does: It provides a conducive and healthy teaching, learning environment\n",
      "---\n",
      "Company Brand: Timios\n",
      "Headquarters: Bangalore\n",
      "Stage: Pre series A\n",
      "What it does: Provides healthy snacks for kids\n",
      "---\n",
      "Company Brand: Bankbazaar\n",
      "Headquarters: Chennai\n",
      "Stage: Series D1\n",
      "What it does: Online marketplace that gives customers instant customised offers on loans and credit cards\n",
      "---\n",
      "Company Brand: Cube Wealth\n",
      "Headquarters: Mumbai\n",
      "Stage: Mid series\n",
      "What it does: A digital wealth management services\n",
      "---\n",
      "Company Brand: Hoi Foods\n",
      "Headquarters: Delhi\n",
      "Stage: Pre series A\n",
      "What it does: Quality food solution\n",
      "---\n",
      "Company Brand: Ola Financial Services\n",
      "Headquarters: Bangalore\n",
      "Stage: Series A\n",
      "What it does: It operates Ola Money\n",
      "---\n",
      "Company Brand: Swiflearn\n",
      "Headquarters: Gurugram\n",
      "Stage: Seed Round\n",
      "What it does: Learning platform for K-10 students looking for personalised learning\n",
      "---\n",
      "Company Brand: Homecapital\n",
      "Headquarters: Mumbai\n",
      "Stage: Series C\n",
      "What it does: Home Down Payment Assistance Program\n",
      "---\n",
      "Company Brand: Credit Mantri\n",
      "Headquarters: Chennai\n",
      "Stage: Series B\n",
      "What it does: Offers free credit score and a detailed credit analysis report\n",
      "---\n",
      "Company Brand: Xtracap\n",
      "Headquarters: Gurugram\n",
      "Stage: Seed\n",
      "What it does: Offers online payment solution,schemes, order management, insurance etc.,\n",
      "---\n",
      "Company Brand: Khatabook\n",
      "Headquarters: Bangalore\n",
      "Stage: Series B\n",
      "What it does: It helps SMEs to maintain their accounts and ledger online.\n",
      "---\n",
      "Company Brand: Lendingkart\n",
      "Headquarters: Ahmedabad\n",
      "Stage: Series D\n",
      "What it does: Provides working capital loans and business loans to MSMEs\n",
      "---\n",
      "Company Brand: Illumnus\n",
      "Headquarters: Hyderabad\n",
      "Stage: Seed Round\n",
      "What it does: Offers Collaborative learning management system for educational institutions\n",
      "---\n",
      "Company Brand: Winuall\n",
      "Headquarters: Bangalore\n",
      "Stage: Series C\n",
      "What it does: It helps coaching institutes in digitization\n",
      "---\n",
      "Company Brand: Indian School Finance Company\n",
      "Headquarters: Hyderabad\n",
      "Stage: Seed Round\n",
      "What it does: NBFC that provides funding to education system\n",
      "---\n",
      "Company Brand: Juicy Chemistry\n",
      "Headquarters: Indore\n",
      "Stage: Series A\n",
      "What it does: It focuses on organic based skincare products\n",
      "---\n",
      "Company Brand: Sindhuja Microcredit\n",
      "Headquarters: Noida\n",
      "Stage: Series C\n",
      "What it does: It provides financial services to self employed women entrepreneurs\n",
      "---\n",
      "Company Brand: Sirionlabs\n",
      "Headquarters: Gurugram\n",
      "Stage: Series C\n",
      "What it does: Provides procurement, outsourcing services & contract management software\n",
      "---\n",
      "Company Brand: Refrens\n",
      "Headquarters: Bangalore\n",
      "Stage: Seed Round\n",
      "What it does: Offers a free invoicing, payments and expense management system\n",
      "---\n",
      "Company Brand: Nium\n",
      "Headquarters: Thane\n",
      "Stage: Series A\n",
      "What it does: Open global money platform\n",
      "---\n",
      "Company Brand: Mintoak\n",
      "Headquarters: Mumbai\n",
      "Stage: Pre series A\n",
      "What it does: Merchant payment solutions startup\n",
      "---\n",
      "Company Brand: Varthana\n",
      "Headquarters: Bangalore\n",
      "Stage: Series D\n",
      "What it does: Offers secured and unsecured loans\n",
      "---\n",
      "Company Brand: Codeninja\n",
      "Headquarters: Bangalore\n",
      "Stage: Seed Round\n",
      "What it does: AI-powered 'no-code' platform which can generate application development code\n",
      "---\n",
      "Company Brand: Servify\n",
      "Headquarters: Mumbai\n",
      "Stage: Series A\n",
      "What it does: It is a technology company which serves as a platform for brands to offer end-to-end solutions to their users\n",
      "---\n",
      "Company Brand: Pedagogy\n",
      "Headquarters: Gurgaon\n",
      "Stage: Series B\n",
      "What it does: It has a single subscription model that allows users to access books and digital courses.\n",
      "---\n",
      "Company Brand: Classplus\n",
      "Headquarters: Delhi\n",
      "Stage: Series B\n",
      "What it does: It provides mobile-first software for coaching institutes, tuition centres and private tutors\n",
      "---\n",
      "Company Brand: Qin1\n",
      "Headquarters: Noida\n",
      "Stage: Pre series A\n",
      "What it does: It is alearning platform for kids in the age group 5 to 14 yrs\n",
      "---\n",
      "Company Brand: Nira\n",
      "Headquarters: Pune\n",
      "Stage: Pre series A\n",
      "What it does: It offers access and credit to working Indians\n",
      "---\n",
      "Company Brand: Finaureus Technologies\n",
      "Headquarters: Pune\n",
      "Stage: Pre series A\n",
      "What it does: Provides investment management solutions\n",
      "---\n",
      "Company Brand: Guvi Geek Network Pvt Ltd\n",
      "Headquarters: Chennai\n",
      "Stage: Pre series A\n",
      "What it does: Operates vernacular-language based education\n",
      "---\n",
      "Company Brand: Vedantu\n",
      "Headquarters: Bangalore\n",
      "Stage: Series C\n",
      "What it does: Onine learning platform\n",
      "---\n",
      "Company Brand: Yap\n",
      "Headquarters: Chennai\n",
      "Stage: Series A\n",
      "What it does: Banking and payment products-focused API platform\n",
      "---\n",
      "Company Brand: Pariksha\n",
      "Headquarters: Pune\n",
      "Stage: Pre series A\n",
      "What it does: Platform for vernacular test-preparation\n",
      "---\n",
      "Company Brand: Box8\n",
      "Headquarters: Mumbai\n",
      "Stage: Series A\n",
      "What it does: Enables to order food online\n",
      "---\n",
      "Company Brand: Capital Float\n",
      "Headquarters: Bangalore\n",
      "Stage: Pre series A\n",
      "What it does: Online platform that provides working capital finance to SMEs\n",
      "---\n",
      "Company Brand: Aavenir\n",
      "Headquarters: Ahmedabad\n",
      "Stage: Seed Round\n",
      "What it does: Source-to-Pay Software\n",
      "---\n",
      "Company Brand: Setu\n",
      "Headquarters: Thane\n",
      "Stage: Series A\n",
      "What it does: Offers open APIs across four categories: bills, savings, credit, and payments.\n",
      "---\n",
      "Company Brand: Bankbazaar\n",
      "Headquarters: Chennai\n",
      "Stage: Series D\n",
      "What it does: Online marketplace that gives customers instant customised offers on loans and credit cards\n",
      "---\n",
      "Company Brand: Capital Float\n",
      "Headquarters: Bangalore\n",
      "Stage: Series F\n",
      "What it does: Online platform that provides working capital finance to SMEs\n",
      "---\n",
      "Company Brand: Amica\n",
      "Headquarters: Gujarat\n",
      "Stage: Series C\n",
      "What it does: Neobanking startup\n",
      "---\n",
      "Company Brand: Vedantu\n",
      "Headquarters: Bangalore\n",
      "Stage: Series C\n",
      "What it does: Onine learning platform\n",
      "---\n",
      "Company Brand: Lido Learning\n",
      "Headquarters: Mumbai\n",
      "Stage: Series B\n",
      "What it does: Online teaching service\n",
      "---\n",
      "Company Brand: Aye Finance\n",
      "Headquarters: Gurugram\n",
      "Stage: Series C\n",
      "What it does: A finance lender to SMEs\n",
      "---\n",
      "Company Brand: Swiggy\n",
      "Headquarters: Bangalore\n",
      "Stage: Series A\n",
      "What it does: Platform to order food online from restaurants and getting it delievered\n",
      "---\n",
      "Company Brand: Zomato\n",
      "Headquarters: Gurugram\n",
      "Stage: Pre series A\n",
      "What it does: Online food delivery and restaurant discovery platform\n",
      "---\n",
      "Company Brand: Juspay\n",
      "Headquarters: Bangalore\n",
      "Stage: Series B\n",
      "What it does: Online payment solutions\n",
      "---\n",
      "Company Brand: Fingpay\n",
      "Headquarters: Mumbai\n",
      "Stage: Series A\n",
      "What it does: Provides payment solutions\n",
      "---\n",
      "Company Brand: Recko\n",
      "Headquarters: Bangalore\n",
      "Stage: Series A\n",
      "What it does: The platform enables AI-powered reconciliation of digital transactions\n",
      "---\n",
      "Company Brand: Mera Cashier\n",
      "Headquarters: Noida\n",
      "Stage: Series A\n",
      "What it does: App meant for small and micro businessmen to manage their transactions digitally\n",
      "---\n",
      "Company Brand: Camp K12\n",
      "Headquarters: Gurugram\n",
      "Stage: Seed Round\n",
      "What it does: It connects students with tutors online\n",
      "---\n",
      "Company Brand: Lido Learning\n",
      "Headquarters: Mumbai\n",
      "Stage: Seed\n",
      "What it does: Online teaching service\n",
      "---\n",
      "Company Brand: Nimesa\n",
      "Headquarters: Bangalore\n",
      "Stage: Series C\n",
      "What it does: Cloud data managemnt solutions enterprise\n",
      "---\n",
      "Company Brand: Rupifi\n",
      "Headquarters: Bangalore\n",
      "Stage: Pre seed round\n",
      "What it does: Offers financial products for SMEs\n",
      "---\n",
      "Company Brand: Coindcx\n",
      "Headquarters: Kochi\n",
      "Stage: Series A\n",
      "What it does: A cryptocurrency trading platform\n",
      "---\n",
      "Company Brand: Univariety\n",
      "Headquarters: Hyderabad\n",
      "Stage: Seed Round\n",
      "What it does: Online marketplace that provides career counselling and college guidance\n",
      "---\n",
      "Company Brand: Peel Works\n",
      "Headquarters: Mumbai\n",
      "Stage: Series C, D\n",
      "What it does: E-commerce for corner/retail stores.\n",
      "---\n",
      "Company Brand: Vivriti Capital\n",
      "Headquarters: Chennai\n",
      "Stage: Series B\n",
      "What it does: Digital lending startup\n",
      "---\n",
      "Company Brand: Fintso\n",
      "Headquarters: California\n",
      "Stage: Series C\n",
      "What it does: Wealth management platform\n",
      "---\n",
      "Company Brand: Khatabook\n",
      "Headquarters: Bangalore\n",
      "Stage: Seed Round\n",
      "What it does: It helps SMEs to maintain their accounts and ledger online.\n",
      "---\n",
      "Company Brand: Smart Coin\n",
      "Headquarters: Haryana\n",
      "Stage: Series A\n",
      "What it does: Consumer lending startup\n",
      "---\n",
      "Company Brand: Collegekhabri\n",
      "Headquarters: Bhopal\n",
      "Stage: Seed Round\n",
      "What it does: Platform is an end-to-end college and career counselling platform for students\n",
      "---\n",
      "Company Brand: Fampay\n",
      "Headquarters: Bangalore\n",
      "Stage: Seed Round\n",
      "What it does: It allows parents to send money to their kids below the age of 18, which they can spend securely under parent supervision.\n",
      "---\n",
      "Company Brand: Karbon Card\n",
      "Headquarters: Bangalore\n",
      "Stage: Seed Round\n",
      "What it does: Specialisde corporate cards for startups\n",
      "---\n",
      "Company Brand: Innerchef\n",
      "Headquarters: Gurgaon\n",
      "Stage: Pre series A\n",
      "What it does: Cloud kitchen platform\n",
      "---\n",
      "Company Brand: Callido Learning\n",
      "Headquarters: Mumbai\n",
      "Stage: Seed\n",
      "What it does: Provides a structured educational approach to critical thinking and problem solving skills\n",
      "---\n",
      "Company Brand: Leap Finance\n",
      "Headquarters: Bangalore\n",
      "Stage: Seed Round\n",
      "What it does: Provides education loans to students based on the student’s future income\n",
      "---\n",
      "Company Brand: Chqbook\n",
      "Headquarters: Gurugram\n",
      "Stage: Series A\n",
      "What it does: Marketplace for small business owners, offering them products around lending, credit cards etc\n",
      "---\n",
      "Company Brand: Smecorner\n",
      "Headquarters: Mumbai\n",
      "Stage: Series B\n",
      "What it does: Financial lending firm to SMEs\n",
      "---\n",
      "Company Brand: Oda Class\n",
      "Headquarters: Bangalore\n",
      "Stage: Pre series A\n",
      "What it does: It offers content and material via video, adopting a dual-teacher model with IIT and NIT alumni\n",
      "---\n",
      "Company Brand: Umeed Housing\n",
      "Headquarters: Haryana\n",
      "Stage: Series D\n",
      "What it does: Housing finance company\n",
      "---\n",
      "Company Brand: Phoneparloan\n",
      "Headquarters: Delhi\n",
      "Stage: Series C\n",
      "What it does: Provides easy loans\n",
      "---\n",
      "Company Brand: Rupeek\n",
      "Headquarters: Bangalore\n",
      "Stage: Pre series A\n",
      "What it does: An asset backed online lending platform\n",
      "---\n",
      "Company Brand: Bharatpe\n",
      "Headquarters: Delhi\n",
      "Stage: Series C\n",
      "What it does: Digital payments platform\n",
      "---\n",
      "Company Brand: Avalonmeta\n",
      "Headquarters: Mumbai\n",
      "Stage: Series C\n",
      "What it does: It combines higher education and competitive gaming\n",
      "---\n",
      "Company Brand: Prayaan Capital\n",
      "Headquarters: Chennai\n",
      "Stage: Seed Round\n",
      "What it does: NBFC that lends to micro, small, and medium-sized enterprises (MSMEs)\n",
      "---\n",
      "Company Brand: Go Desi\n",
      "Headquarters: Delhi\n",
      "Stage: Seed Round\n",
      "What it does: Provides traditional delicacies\n",
      "---\n",
      "Company Brand: Swiggy\n",
      "Headquarters: Bangalore\n",
      "Stage: Series A\n",
      "What it does: Platform to order food online from restaurants and getting it delievered\n",
      "---\n",
      "Company Brand: Whatfix\n",
      "Headquarters: Banglore\n",
      "Stage: Series C\n",
      "What it does: Digital adoption platform that helps companies provide intuitive onboarding, training and support\n",
      "---\n",
      "Company Brand: Unacademy\n",
      "Headquarters: Bangalore\n",
      "Stage: Series E\n",
      "What it does: Platform that offers online education in India\n",
      "---\n",
      "Company Brand: Genius Corner\n",
      "Headquarters: Noida\n",
      "Stage: Seed\n",
      "What it does: Framework to enable personalised learning using artificial intelligence (AI) and machine learning (ML).\n",
      "---\n",
      "Company Brand: Planetspark\n",
      "Headquarters: Gurugram\n",
      "Stage: Series C\n",
      "What it does: Provides neighbourhood learning zones where children learn and develop 'new-age' skills under one roof\n",
      "---\n",
      "Company Brand: Classmonitor\n",
      "Headquarters: Indore\n",
      "Stage: Seed\n",
      "What it does: The learning platform that blends curriculum-based activities for children\n",
      "---\n",
      "Company Brand: Cyfirma\n",
      "Headquarters: Bangalore\n",
      "Stage: Series A\n",
      "What it does: Offer cybersecurity services\n",
      "---\n",
      "Company Brand: Innoviti\n",
      "Headquarters: Bangalore\n",
      "Stage: Series B\n",
      "What it does: Digital payments solutions company\n",
      "---\n",
      "Company Brand: Paytm Money\n",
      "Headquarters: Bangalore\n",
      "Stage: Series C\n",
      "What it does: Wealth Management\n",
      "---\n",
      "Company Brand: Vedantu\n",
      "Headquarters: Bangalore\n",
      "Stage: Series C\n",
      "What it does: Onine learning platform\n",
      "---\n",
      "Company Brand: Yap\n",
      "Headquarters: Chennai\n",
      "Stage: Seed\n",
      "What it does: Banking and payment products-focused API platform\n",
      "---\n",
      "Company Brand: Nova Credit\n",
      "Headquarters: Singapore\n",
      "Stage: Series B\n",
      "What it does: Cross-border consumer credit startup\n",
      "---\n",
      "Company Brand: Codingninjas\n",
      "Headquarters: Delhi\n",
      "Stage: Series A\n",
      "What it does: Online learning platform\n",
      "---\n",
      "Company Brand: Classplus\n",
      "Headquarters: Noida\n",
      "Stage: Pre series A\n",
      "What it does: It allows coaching centres to take their brick-and-mortar setup online\n",
      "---\n",
      "Company Brand: Petpooja\n",
      "Headquarters: Ahmedabad\n",
      "Stage: Seed\n",
      "What it does: Restaurant management software provider\n",
      "---\n",
      "Company Brand: Byju\n",
      "Headquarters: Chennai\n",
      "Stage: Seed\n",
      "What it does: Provides online learning classes\n",
      "---\n",
      "Company Brand: Neetprep\n",
      "Headquarters: Delhi\n",
      "Stage: Series B\n",
      "What it does: Provides crash course for NEET preparation\n",
      "---\n",
      "Company Brand: Dot Pvt. Ltd\n",
      "Headquarters: Gurugram\n",
      "Stage: Seed Round\n",
      "What it does: It provides digital transformation and commerce solutions to brick and mortar outlets\n",
      "---\n",
      "Company Brand: Supermoney\n",
      "Headquarters: Mumbai\n",
      "Stage: Pre series A\n",
      "What it does: Provides financial tools for effective business making\n",
      "---\n",
      "Company Brand: Fox Capital\n",
      "Headquarters: Jaipur\n",
      "Stage: Series A\n",
      "What it does: Digital lending startup\n",
      "---\n",
      "Company Brand: Fleetx\n",
      "Headquarters: Hyderabad\n",
      "Stage: Series A\n",
      "What it does: Fleet management and predictive analytics platform\n",
      "---\n",
      "Company Brand: Embibe\n",
      "Headquarters: Mumbai\n",
      "Stage: Pre series A\n",
      "What it does: It provides AI-based data analytics to personalise learning outcomes\n",
      "---\n",
      "Company Brand: Entri\n",
      "Headquarters: Kochi\n",
      "Stage: Seed Round\n",
      "What it does: It is a app that provides different types of learning content in local languages\n",
      "---\n",
      "Company Brand: Seal Professional\n",
      "Headquarters: Bangalore\n",
      "Stage: Pre series A\n",
      "What it does: Trains students in managemnt and leadership skills and also helps in placement\n",
      "---\n",
      "Company Brand: Aagey\n",
      "Headquarters: Bangalore\n",
      "Stage: Seed\n",
      "What it does: Provides financial assistance to MSMEs\n",
      "---\n",
      "Company Brand: Doubtnut\n",
      "Headquarters: Gurugram\n",
      "Stage: Series A\n",
      "What it does: Multi-lingual digital solutions platform for students\n",
      "---\n",
      "Company Brand: Bharatpe\n",
      "Headquarters: Delhi\n",
      "Stage: Series A\n",
      "What it does: Digital payments platform\n",
      "---\n",
      "Company Brand: Unotech\n",
      "Headquarters: Mumbai\n",
      "Stage: Pre series A\n",
      "What it does: It develops fully-customisable open source software\n",
      "---\n",
      "Company Brand: Wizklub\n",
      "Headquarters: Bangalore\n",
      "Stage: Seed Funding\n",
      "What it does: Helps students solve problems at complex level\n",
      "---\n",
      "Company Brand: Interviewbit\n",
      "Headquarters: Pune\n",
      "Stage: Series A\n",
      "What it does: Platform that provides coding and interview preparation course by industry professionals from tech companies\n",
      "---\n",
      "Company Brand: Moneytap\n",
      "Headquarters: Singapore\n",
      "Stage: Series B\n",
      "What it does: App-based consumer credit line that gives customers access to credit on tap.\n",
      "---\n",
      "Company Brand: Uniplatform Tech\n",
      "Headquarters: Delhi\n",
      "Stage: Pre series A\n",
      "What it does: Runs real estate SaaS platform MultiplyMyLeads.com.\n",
      "---\n",
      "Company Brand: Indwealth\n",
      "Headquarters: Gurugram\n",
      "Stage: Series C\n",
      "What it does: An Artificial Intelligence and Machine learning based wealth management platform\n",
      "---\n",
      "Company Brand: Appsflyer\n",
      "Headquarters: Bangalore\n",
      "Stage: Series D\n",
      "What it does: Mobile marketing analytics and attribution platform\n",
      "---\n",
      "Company Brand: Getvantage\n",
      "Headquarters: Mumbai\n",
      "Stage: Seed Round\n",
      "What it does: Revenue based finance provider\n",
      "---\n",
      "Company Brand: Konfinity\n",
      "Headquarters: Noida\n",
      "Stage: Series A\n",
      "What it does: Provides online coding courses\n",
      "---\n",
      "Company Brand: Pine Labs\n",
      "Headquarters: Noida\n",
      "Stage: Series C\n",
      "What it does: Retail payment and hardware company\n",
      "---\n",
      "Company Brand: Instoried\n",
      "Headquarters: Delhi\n",
      "Stage: Series C\n",
      "What it does: Augmented writing platform which improves customer interest and engagement.\n",
      "---\n",
      "Company Brand: Eupheus Learning\n",
      "Headquarters: New Delhi\n",
      "Stage: Series A\n",
      "What it does: Provides technology-led, subscription-based learning solutions to schools\n",
      "---\n",
      "Company Brand: Smartkarrot\n",
      "Headquarters: Noida\n",
      "Stage: Seed\n",
      "What it does: It tracks customers’ real-time digital behaviour\n",
      "---\n",
      "Company Brand: Mera Cashier\n",
      "Headquarters: Noida\n",
      "Stage: Seed Round\n",
      "What it does: App meant for small and micro businessmen to manage their transactions digitally\n",
      "---\n",
      "Company Brand: Samya Ai\n",
      "Headquarters: Pune\n",
      "Stage: Seed Round\n",
      "What it does: Revenue growth AI startup in the consumer packed goods (CPG) space\n",
      "---\n",
      "Company Brand: Monech\n",
      "Headquarters: Mumbai\n",
      "Stage: Seed Round\n",
      "What it does: Automated platform which will help users to take their financial decisions\n",
      "---\n",
      "Company Brand: Teach Us\n",
      "Headquarters: Chennai\n",
      "Stage: Seed Round\n",
      "What it does: Educational portal which enables the students to access information related to education at one common platform\n",
      "---\n",
      "Company Brand: Extra Edge\n",
      "Headquarters: Pune\n",
      "Stage: Pre Series A\n",
      "What it does: Admission Marketing Automation software for the education industry\n",
      "---\n",
      "Company Brand: Capital Quotient\n",
      "Headquarters: Bangalore\n",
      "Stage: Seed\n",
      "What it does: Investment advisor\n",
      "---\n",
      "Company Brand: Toddle\n",
      "Headquarters: Bengaluru\n",
      "Stage: Series B\n",
      "What it does: Collaboration and productivity platform for teachers across the world\n",
      "---\n",
      "Company Brand: Capital Float\n",
      "Headquarters: Bangalore\n",
      "Stage: Pre series A\n",
      "What it does: Digital lending\n",
      "---\n",
      "Company Brand: Klub\n",
      "Headquarters: Haryana\n",
      "Stage: Pre seed round\n",
      "What it does: Provides growth financing to high-affinity brands\n",
      "---\n",
      "Company Brand: Harappa Education\n",
      "Headquarters: New Delhi\n",
      "Stage: Series A\n",
      "What it does: Provides online courses on foundational skills\n",
      "---\n",
      "Company Brand: Rheo\n",
      "Headquarters: Pune\n",
      "Stage: Series B\n",
      "What it does: Online e-sports streaming and community platform\n",
      "---\n",
      "Company Brand: Paymart\n",
      "Headquarters: Chandigarh\n",
      "Stage: Pre series A\n",
      "What it does: Provides cardless cash withdrawals through small merchants shops\n",
      "---\n",
      "Company Brand: Testbook\n",
      "Headquarters: Singapore\n",
      "Stage: Series B\n",
      "What it does: Helps students prepare online for competitive exams\n",
      "---\n",
      "Company Brand: Zomato\n",
      "Headquarters: Gurgaon\n",
      "Stage: Series B\n",
      "What it does: Online food delivery and restaurant discovery platform\n",
      "---\n",
      "Company Brand: Byju\n",
      "Headquarters: Indore\n",
      "Stage: Seed\n",
      "What it does: Provides online learning classes\n",
      "---\n",
      "Company Brand: Highradius\n",
      "Headquarters: Hyderabad\n",
      "Stage: Series B\n",
      "What it does: An AI-based platform, to automate accounts receivables and treasury processes.\n",
      "---\n",
      "Company Brand: Buildpan\n",
      "Headquarters: Indore\n",
      "Stage: Seed Round\n",
      "What it does: It helps developers to test, integrate and deploy apps\n",
      "---\n",
      "Company Brand: Shiksha\n",
      "Headquarters: Indore\n",
      "Stage: Seed Round\n",
      "What it does: It makes college selection easy for students looking to pursue UG and PG courses in India and abroad\n",
      "---\n",
      "Company Brand: Satin Creditcare\n",
      "Headquarters: Gurgaon\n",
      "Stage: Series C\n",
      "What it does: A micro finance company\n",
      "---\n",
      "Company Brand: Wealth Bucket\n",
      "Headquarters: Delhi\n",
      "Stage: Pre series A\n",
      "What it does: An online platform for mutual fund investments\n",
      "---\n",
      "Company Brand: Leverage Edu\n",
      "Headquarters: Delhi\n",
      "Stage: Seed\n",
      "What it does: AI enabled marketplace that provides career guidance\n",
      "---\n",
      "Company Brand: Epifi\n",
      "Headquarters: Kochi\n",
      "Stage: Seed Round\n",
      "What it does: It offers customers with a single interface for all their financial and banking mandates\n",
      "---\n"
     ]
    }
   ],
   "source": [
    "# Calculate total funding amount for each sector\n",
    "total_funding_by_sector = df_combined.groupby('Sector')['Amount'].sum().reset_index()\n",
    "\n",
    "# Sort the sectors by total funding amount in descending order\n",
    "total_funding_by_sector = total_funding_by_sector.sort_values('Amount', ascending=False)\n",
    "\n",
    "# Select the top 10 highest-funded sectors\n",
    "top_10_sectors = total_funding_by_sector.head(10)['Sector'].tolist()\n",
    "\n",
    "# Filter the data for the top 10 highest-funded sectors\n",
    "top_funded_startups = df_combined[df_combined['Sector'].isin(top_10_sectors)]\n",
    "\n",
    "# Print the company brand, location, founders, and what they do for the top-funded startups\n",
    "for _, row in top_funded_startups.iterrows():\n",
    "    print(f\"Company Brand: {row['Company_Brand']}\")\n",
    "    print(f\"Headquarters: {row['HeadQuarter']}\")\n",
    "    print(f\"Stage: {row['Stage']}\")\n",
    "    print(f\"What it does: {row['What_it_does']}\")\n",
    "    print(\"---\")"
   ]
  },
  {
   "cell_type": "markdown",
   "metadata": {},
   "source": [
    "Investor Influence: Who are the top investors in the Indian startup ecosystem, and what is their funding pattern?"
   ]
  },
  {
   "cell_type": "code",
   "execution_count": 121,
   "metadata": {},
   "outputs": [
    {
     "name": "stdout",
     "output_type": "stream",
     "text": [
      "Top 10 Investors in Indian Startup Ecosystem:\n",
      "                                            Investor        Amount\n",
      "665         Silver Lake, Mubadala Investment Company  7.000000e+10\n",
      "614  Salesforce Ventures, Dragoneer Investment Group  3.000000e+09\n",
      "229               Facebook, Google, Kkr, Silver Lake  2.200000e+09\n",
      "252        General Atlantic, Kohlberg Kravis Roberts  8.000000e+08\n",
      "393                    Kora, Tiger Global Management  7.120000e+08\n",
      "525            Owl Ventures, Tiger Global Management  7.000000e+08\n",
      "234                                         Flipkart  7.000000e+08\n",
      "251                                 General Atlantic  4.400000e+08\n",
      "185                 Cicc Alpha, Vms Asset Management  4.000000e+08\n",
      "507                              Niif Ltd, Cdc Group  3.900000e+08\n"
     ]
    },
    {
     "data": {
      "application/vnd.plotly.v1+json": {
       "config": {
        "plotlyServerURL": "https://plot.ly"
       },
       "data": [
        {
         "alignmentgroup": "True",
         "hovertemplate": "Investor=%{x}<br>Total Funding Amount=%{y}<extra></extra>",
         "legendgroup": "",
         "marker": {
          "color": "#636efa",
          "pattern": {
           "shape": ""
          }
         },
         "name": "",
         "offsetgroup": "",
         "orientation": "v",
         "showlegend": false,
         "textposition": "auto",
         "type": "bar",
         "x": [
          "Silver Lake, Mubadala Investment Company",
          "Salesforce Ventures, Dragoneer Investment Group",
          "Facebook, Google, Kkr, Silver Lake",
          "General Atlantic, Kohlberg Kravis Roberts",
          "Kora, Tiger Global Management",
          "Owl Ventures, Tiger Global Management",
          "Flipkart",
          "General Atlantic",
          "Cicc Alpha, Vms Asset Management",
          "Niif Ltd, Cdc Group"
         ],
         "xaxis": "x",
         "y": [
          70000000000,
          3000000000,
          2200000000,
          800000000,
          712000000,
          700000000,
          700000000,
          440000000,
          400000000,
          390000000
         ],
         "yaxis": "y"
        }
       ],
       "layout": {
        "barmode": "relative",
        "legend": {
         "tracegroupgap": 0
        },
        "template": {
         "data": {
          "bar": [
           {
            "error_x": {
             "color": "#2a3f5f"
            },
            "error_y": {
             "color": "#2a3f5f"
            },
            "marker": {
             "line": {
              "color": "#E5ECF6",
              "width": 0.5
             },
             "pattern": {
              "fillmode": "overlay",
              "size": 10,
              "solidity": 0.2
             }
            },
            "type": "bar"
           }
          ],
          "barpolar": [
           {
            "marker": {
             "line": {
              "color": "#E5ECF6",
              "width": 0.5
             },
             "pattern": {
              "fillmode": "overlay",
              "size": 10,
              "solidity": 0.2
             }
            },
            "type": "barpolar"
           }
          ],
          "carpet": [
           {
            "aaxis": {
             "endlinecolor": "#2a3f5f",
             "gridcolor": "white",
             "linecolor": "white",
             "minorgridcolor": "white",
             "startlinecolor": "#2a3f5f"
            },
            "baxis": {
             "endlinecolor": "#2a3f5f",
             "gridcolor": "white",
             "linecolor": "white",
             "minorgridcolor": "white",
             "startlinecolor": "#2a3f5f"
            },
            "type": "carpet"
           }
          ],
          "choropleth": [
           {
            "colorbar": {
             "outlinewidth": 0,
             "ticks": ""
            },
            "type": "choropleth"
           }
          ],
          "contour": [
           {
            "colorbar": {
             "outlinewidth": 0,
             "ticks": ""
            },
            "colorscale": [
             [
              0,
              "#0d0887"
             ],
             [
              0.1111111111111111,
              "#46039f"
             ],
             [
              0.2222222222222222,
              "#7201a8"
             ],
             [
              0.3333333333333333,
              "#9c179e"
             ],
             [
              0.4444444444444444,
              "#bd3786"
             ],
             [
              0.5555555555555556,
              "#d8576b"
             ],
             [
              0.6666666666666666,
              "#ed7953"
             ],
             [
              0.7777777777777778,
              "#fb9f3a"
             ],
             [
              0.8888888888888888,
              "#fdca26"
             ],
             [
              1,
              "#f0f921"
             ]
            ],
            "type": "contour"
           }
          ],
          "contourcarpet": [
           {
            "colorbar": {
             "outlinewidth": 0,
             "ticks": ""
            },
            "type": "contourcarpet"
           }
          ],
          "heatmap": [
           {
            "colorbar": {
             "outlinewidth": 0,
             "ticks": ""
            },
            "colorscale": [
             [
              0,
              "#0d0887"
             ],
             [
              0.1111111111111111,
              "#46039f"
             ],
             [
              0.2222222222222222,
              "#7201a8"
             ],
             [
              0.3333333333333333,
              "#9c179e"
             ],
             [
              0.4444444444444444,
              "#bd3786"
             ],
             [
              0.5555555555555556,
              "#d8576b"
             ],
             [
              0.6666666666666666,
              "#ed7953"
             ],
             [
              0.7777777777777778,
              "#fb9f3a"
             ],
             [
              0.8888888888888888,
              "#fdca26"
             ],
             [
              1,
              "#f0f921"
             ]
            ],
            "type": "heatmap"
           }
          ],
          "heatmapgl": [
           {
            "colorbar": {
             "outlinewidth": 0,
             "ticks": ""
            },
            "colorscale": [
             [
              0,
              "#0d0887"
             ],
             [
              0.1111111111111111,
              "#46039f"
             ],
             [
              0.2222222222222222,
              "#7201a8"
             ],
             [
              0.3333333333333333,
              "#9c179e"
             ],
             [
              0.4444444444444444,
              "#bd3786"
             ],
             [
              0.5555555555555556,
              "#d8576b"
             ],
             [
              0.6666666666666666,
              "#ed7953"
             ],
             [
              0.7777777777777778,
              "#fb9f3a"
             ],
             [
              0.8888888888888888,
              "#fdca26"
             ],
             [
              1,
              "#f0f921"
             ]
            ],
            "type": "heatmapgl"
           }
          ],
          "histogram": [
           {
            "marker": {
             "pattern": {
              "fillmode": "overlay",
              "size": 10,
              "solidity": 0.2
             }
            },
            "type": "histogram"
           }
          ],
          "histogram2d": [
           {
            "colorbar": {
             "outlinewidth": 0,
             "ticks": ""
            },
            "colorscale": [
             [
              0,
              "#0d0887"
             ],
             [
              0.1111111111111111,
              "#46039f"
             ],
             [
              0.2222222222222222,
              "#7201a8"
             ],
             [
              0.3333333333333333,
              "#9c179e"
             ],
             [
              0.4444444444444444,
              "#bd3786"
             ],
             [
              0.5555555555555556,
              "#d8576b"
             ],
             [
              0.6666666666666666,
              "#ed7953"
             ],
             [
              0.7777777777777778,
              "#fb9f3a"
             ],
             [
              0.8888888888888888,
              "#fdca26"
             ],
             [
              1,
              "#f0f921"
             ]
            ],
            "type": "histogram2d"
           }
          ],
          "histogram2dcontour": [
           {
            "colorbar": {
             "outlinewidth": 0,
             "ticks": ""
            },
            "colorscale": [
             [
              0,
              "#0d0887"
             ],
             [
              0.1111111111111111,
              "#46039f"
             ],
             [
              0.2222222222222222,
              "#7201a8"
             ],
             [
              0.3333333333333333,
              "#9c179e"
             ],
             [
              0.4444444444444444,
              "#bd3786"
             ],
             [
              0.5555555555555556,
              "#d8576b"
             ],
             [
              0.6666666666666666,
              "#ed7953"
             ],
             [
              0.7777777777777778,
              "#fb9f3a"
             ],
             [
              0.8888888888888888,
              "#fdca26"
             ],
             [
              1,
              "#f0f921"
             ]
            ],
            "type": "histogram2dcontour"
           }
          ],
          "mesh3d": [
           {
            "colorbar": {
             "outlinewidth": 0,
             "ticks": ""
            },
            "type": "mesh3d"
           }
          ],
          "parcoords": [
           {
            "line": {
             "colorbar": {
              "outlinewidth": 0,
              "ticks": ""
             }
            },
            "type": "parcoords"
           }
          ],
          "pie": [
           {
            "automargin": true,
            "type": "pie"
           }
          ],
          "scatter": [
           {
            "fillpattern": {
             "fillmode": "overlay",
             "size": 10,
             "solidity": 0.2
            },
            "type": "scatter"
           }
          ],
          "scatter3d": [
           {
            "line": {
             "colorbar": {
              "outlinewidth": 0,
              "ticks": ""
             }
            },
            "marker": {
             "colorbar": {
              "outlinewidth": 0,
              "ticks": ""
             }
            },
            "type": "scatter3d"
           }
          ],
          "scattercarpet": [
           {
            "marker": {
             "colorbar": {
              "outlinewidth": 0,
              "ticks": ""
             }
            },
            "type": "scattercarpet"
           }
          ],
          "scattergeo": [
           {
            "marker": {
             "colorbar": {
              "outlinewidth": 0,
              "ticks": ""
             }
            },
            "type": "scattergeo"
           }
          ],
          "scattergl": [
           {
            "marker": {
             "colorbar": {
              "outlinewidth": 0,
              "ticks": ""
             }
            },
            "type": "scattergl"
           }
          ],
          "scattermapbox": [
           {
            "marker": {
             "colorbar": {
              "outlinewidth": 0,
              "ticks": ""
             }
            },
            "type": "scattermapbox"
           }
          ],
          "scatterpolar": [
           {
            "marker": {
             "colorbar": {
              "outlinewidth": 0,
              "ticks": ""
             }
            },
            "type": "scatterpolar"
           }
          ],
          "scatterpolargl": [
           {
            "marker": {
             "colorbar": {
              "outlinewidth": 0,
              "ticks": ""
             }
            },
            "type": "scatterpolargl"
           }
          ],
          "scatterternary": [
           {
            "marker": {
             "colorbar": {
              "outlinewidth": 0,
              "ticks": ""
             }
            },
            "type": "scatterternary"
           }
          ],
          "surface": [
           {
            "colorbar": {
             "outlinewidth": 0,
             "ticks": ""
            },
            "colorscale": [
             [
              0,
              "#0d0887"
             ],
             [
              0.1111111111111111,
              "#46039f"
             ],
             [
              0.2222222222222222,
              "#7201a8"
             ],
             [
              0.3333333333333333,
              "#9c179e"
             ],
             [
              0.4444444444444444,
              "#bd3786"
             ],
             [
              0.5555555555555556,
              "#d8576b"
             ],
             [
              0.6666666666666666,
              "#ed7953"
             ],
             [
              0.7777777777777778,
              "#fb9f3a"
             ],
             [
              0.8888888888888888,
              "#fdca26"
             ],
             [
              1,
              "#f0f921"
             ]
            ],
            "type": "surface"
           }
          ],
          "table": [
           {
            "cells": {
             "fill": {
              "color": "#EBF0F8"
             },
             "line": {
              "color": "white"
             }
            },
            "header": {
             "fill": {
              "color": "#C8D4E3"
             },
             "line": {
              "color": "white"
             }
            },
            "type": "table"
           }
          ]
         },
         "layout": {
          "annotationdefaults": {
           "arrowcolor": "#2a3f5f",
           "arrowhead": 0,
           "arrowwidth": 1
          },
          "autotypenumbers": "strict",
          "coloraxis": {
           "colorbar": {
            "outlinewidth": 0,
            "ticks": ""
           }
          },
          "colorscale": {
           "diverging": [
            [
             0,
             "#8e0152"
            ],
            [
             0.1,
             "#c51b7d"
            ],
            [
             0.2,
             "#de77ae"
            ],
            [
             0.3,
             "#f1b6da"
            ],
            [
             0.4,
             "#fde0ef"
            ],
            [
             0.5,
             "#f7f7f7"
            ],
            [
             0.6,
             "#e6f5d0"
            ],
            [
             0.7,
             "#b8e186"
            ],
            [
             0.8,
             "#7fbc41"
            ],
            [
             0.9,
             "#4d9221"
            ],
            [
             1,
             "#276419"
            ]
           ],
           "sequential": [
            [
             0,
             "#0d0887"
            ],
            [
             0.1111111111111111,
             "#46039f"
            ],
            [
             0.2222222222222222,
             "#7201a8"
            ],
            [
             0.3333333333333333,
             "#9c179e"
            ],
            [
             0.4444444444444444,
             "#bd3786"
            ],
            [
             0.5555555555555556,
             "#d8576b"
            ],
            [
             0.6666666666666666,
             "#ed7953"
            ],
            [
             0.7777777777777778,
             "#fb9f3a"
            ],
            [
             0.8888888888888888,
             "#fdca26"
            ],
            [
             1,
             "#f0f921"
            ]
           ],
           "sequentialminus": [
            [
             0,
             "#0d0887"
            ],
            [
             0.1111111111111111,
             "#46039f"
            ],
            [
             0.2222222222222222,
             "#7201a8"
            ],
            [
             0.3333333333333333,
             "#9c179e"
            ],
            [
             0.4444444444444444,
             "#bd3786"
            ],
            [
             0.5555555555555556,
             "#d8576b"
            ],
            [
             0.6666666666666666,
             "#ed7953"
            ],
            [
             0.7777777777777778,
             "#fb9f3a"
            ],
            [
             0.8888888888888888,
             "#fdca26"
            ],
            [
             1,
             "#f0f921"
            ]
           ]
          },
          "colorway": [
           "#636efa",
           "#EF553B",
           "#00cc96",
           "#ab63fa",
           "#FFA15A",
           "#19d3f3",
           "#FF6692",
           "#B6E880",
           "#FF97FF",
           "#FECB52"
          ],
          "font": {
           "color": "#2a3f5f"
          },
          "geo": {
           "bgcolor": "white",
           "lakecolor": "white",
           "landcolor": "#E5ECF6",
           "showlakes": true,
           "showland": true,
           "subunitcolor": "white"
          },
          "hoverlabel": {
           "align": "left"
          },
          "hovermode": "closest",
          "mapbox": {
           "style": "light"
          },
          "paper_bgcolor": "white",
          "plot_bgcolor": "#E5ECF6",
          "polar": {
           "angularaxis": {
            "gridcolor": "white",
            "linecolor": "white",
            "ticks": ""
           },
           "bgcolor": "#E5ECF6",
           "radialaxis": {
            "gridcolor": "white",
            "linecolor": "white",
            "ticks": ""
           }
          },
          "scene": {
           "xaxis": {
            "backgroundcolor": "#E5ECF6",
            "gridcolor": "white",
            "gridwidth": 2,
            "linecolor": "white",
            "showbackground": true,
            "ticks": "",
            "zerolinecolor": "white"
           },
           "yaxis": {
            "backgroundcolor": "#E5ECF6",
            "gridcolor": "white",
            "gridwidth": 2,
            "linecolor": "white",
            "showbackground": true,
            "ticks": "",
            "zerolinecolor": "white"
           },
           "zaxis": {
            "backgroundcolor": "#E5ECF6",
            "gridcolor": "white",
            "gridwidth": 2,
            "linecolor": "white",
            "showbackground": true,
            "ticks": "",
            "zerolinecolor": "white"
           }
          },
          "shapedefaults": {
           "line": {
            "color": "#2a3f5f"
           }
          },
          "ternary": {
           "aaxis": {
            "gridcolor": "white",
            "linecolor": "white",
            "ticks": ""
           },
           "baxis": {
            "gridcolor": "white",
            "linecolor": "white",
            "ticks": ""
           },
           "bgcolor": "#E5ECF6",
           "caxis": {
            "gridcolor": "white",
            "linecolor": "white",
            "ticks": ""
           }
          },
          "title": {
           "x": 0.05
          },
          "xaxis": {
           "automargin": true,
           "gridcolor": "white",
           "linecolor": "white",
           "ticks": "",
           "title": {
            "standoff": 15
           },
           "zerolinecolor": "white",
           "zerolinewidth": 2
          },
          "yaxis": {
           "automargin": true,
           "gridcolor": "white",
           "linecolor": "white",
           "ticks": "",
           "title": {
            "standoff": 15
           },
           "zerolinecolor": "white",
           "zerolinewidth": 2
          }
         }
        },
        "title": {
         "text": "Top 10 Investors in Indian Startup Ecosystem"
        },
        "xaxis": {
         "anchor": "y",
         "domain": [
          0,
          1
         ],
         "tickangle": 45,
         "title": {
          "text": "Investor"
         }
        },
        "yaxis": {
         "anchor": "x",
         "domain": [
          0,
          1
         ],
         "title": {
          "text": "Total Funding Amount"
         }
        }
       }
      }
     },
     "metadata": {},
     "output_type": "display_data"
    }
   ],
   "source": [
    "# Calculate total funding amount for each investor\n",
    "total_funding_by_investor = df_combined.groupby('Investor')['Amount'].sum().reset_index()\n",
    "\n",
    "# Sort the investors by total funding amount in descending order\n",
    "total_funding_by_investor = total_funding_by_investor.sort_values('Amount', ascending=False)\n",
    "\n",
    "# Print the top 10 investors by total funding amount\n",
    "print(\"Top 10 Investors in Indian Startup Ecosystem:\")\n",
    "print(total_funding_by_investor.head(10))\n",
    "\n",
    "# Visualize the funding distribution across top investors\n",
    "fig = px.bar(total_funding_by_investor.head(10), x='Investor', y='Amount',\n",
    "             title='Top 10 Investors in Indian Startup Ecosystem',\n",
    "             labels={'Investor': 'Investor', 'Amount': 'Total Funding Amount'})\n",
    "\n",
    "# Rotate the x-axis tick labels\n",
    "fig.update_xaxes(tickangle=45)\n",
    "\n",
    "# Show the plot\n",
    "fig.show()"
   ]
  },
  {
   "cell_type": "markdown",
   "metadata": {},
   "source": [
    "\n",
    "6.Founder Impact: Is there a correlation between the number of founders and the amount of funding received?"
   ]
  },
  {
   "cell_type": "code",
   "execution_count": 122,
   "metadata": {},
   "outputs": [
    {
     "data": {
      "application/vnd.plotly.v1+json": {
       "config": {
        "plotlyServerURL": "https://plot.ly"
       },
       "data": [
        {
         "hovertemplate": "Number of Founders=%{x}<br>Median Funding Amount=%{y}<extra></extra>",
         "legendgroup": "",
         "marker": {
          "color": "#636efa",
          "symbol": "circle"
         },
         "mode": "markers",
         "name": "",
         "orientation": "v",
         "showlegend": false,
         "type": "scatter",
         "x": [
          "Benoit Dageville, Bob Muglia, Marcin Zukowski, Thierry Cruanes",
          "Bhavit Sheth, Harsh Jain",
          "Burzin Engineer, Rahul Chari, Sameer Nigam",
          "Byju Raveendran",
          "Deepinder Goyal, Gaurav Gupta, Pankaj Chaddah",
          "Dhirubhai Ambani",
          "Mukesh Ambani",
          "Shivanand N",
          "Supam Maheshwari, Amitava Saha",
          "Yi Zhang"
         ],
         "xaxis": "x",
         "y": [
          3000000000,
          225000000,
          720000000,
          1031000000,
          712000000,
          2200000000,
          70820220000,
          390000000,
          306000000,
          400000000
         ],
         "yaxis": "y"
        }
       ],
       "layout": {
        "legend": {
         "tracegroupgap": 0
        },
        "template": {
         "data": {
          "bar": [
           {
            "error_x": {
             "color": "#2a3f5f"
            },
            "error_y": {
             "color": "#2a3f5f"
            },
            "marker": {
             "line": {
              "color": "#E5ECF6",
              "width": 0.5
             },
             "pattern": {
              "fillmode": "overlay",
              "size": 10,
              "solidity": 0.2
             }
            },
            "type": "bar"
           }
          ],
          "barpolar": [
           {
            "marker": {
             "line": {
              "color": "#E5ECF6",
              "width": 0.5
             },
             "pattern": {
              "fillmode": "overlay",
              "size": 10,
              "solidity": 0.2
             }
            },
            "type": "barpolar"
           }
          ],
          "carpet": [
           {
            "aaxis": {
             "endlinecolor": "#2a3f5f",
             "gridcolor": "white",
             "linecolor": "white",
             "minorgridcolor": "white",
             "startlinecolor": "#2a3f5f"
            },
            "baxis": {
             "endlinecolor": "#2a3f5f",
             "gridcolor": "white",
             "linecolor": "white",
             "minorgridcolor": "white",
             "startlinecolor": "#2a3f5f"
            },
            "type": "carpet"
           }
          ],
          "choropleth": [
           {
            "colorbar": {
             "outlinewidth": 0,
             "ticks": ""
            },
            "type": "choropleth"
           }
          ],
          "contour": [
           {
            "colorbar": {
             "outlinewidth": 0,
             "ticks": ""
            },
            "colorscale": [
             [
              0,
              "#0d0887"
             ],
             [
              0.1111111111111111,
              "#46039f"
             ],
             [
              0.2222222222222222,
              "#7201a8"
             ],
             [
              0.3333333333333333,
              "#9c179e"
             ],
             [
              0.4444444444444444,
              "#bd3786"
             ],
             [
              0.5555555555555556,
              "#d8576b"
             ],
             [
              0.6666666666666666,
              "#ed7953"
             ],
             [
              0.7777777777777778,
              "#fb9f3a"
             ],
             [
              0.8888888888888888,
              "#fdca26"
             ],
             [
              1,
              "#f0f921"
             ]
            ],
            "type": "contour"
           }
          ],
          "contourcarpet": [
           {
            "colorbar": {
             "outlinewidth": 0,
             "ticks": ""
            },
            "type": "contourcarpet"
           }
          ],
          "heatmap": [
           {
            "colorbar": {
             "outlinewidth": 0,
             "ticks": ""
            },
            "colorscale": [
             [
              0,
              "#0d0887"
             ],
             [
              0.1111111111111111,
              "#46039f"
             ],
             [
              0.2222222222222222,
              "#7201a8"
             ],
             [
              0.3333333333333333,
              "#9c179e"
             ],
             [
              0.4444444444444444,
              "#bd3786"
             ],
             [
              0.5555555555555556,
              "#d8576b"
             ],
             [
              0.6666666666666666,
              "#ed7953"
             ],
             [
              0.7777777777777778,
              "#fb9f3a"
             ],
             [
              0.8888888888888888,
              "#fdca26"
             ],
             [
              1,
              "#f0f921"
             ]
            ],
            "type": "heatmap"
           }
          ],
          "heatmapgl": [
           {
            "colorbar": {
             "outlinewidth": 0,
             "ticks": ""
            },
            "colorscale": [
             [
              0,
              "#0d0887"
             ],
             [
              0.1111111111111111,
              "#46039f"
             ],
             [
              0.2222222222222222,
              "#7201a8"
             ],
             [
              0.3333333333333333,
              "#9c179e"
             ],
             [
              0.4444444444444444,
              "#bd3786"
             ],
             [
              0.5555555555555556,
              "#d8576b"
             ],
             [
              0.6666666666666666,
              "#ed7953"
             ],
             [
              0.7777777777777778,
              "#fb9f3a"
             ],
             [
              0.8888888888888888,
              "#fdca26"
             ],
             [
              1,
              "#f0f921"
             ]
            ],
            "type": "heatmapgl"
           }
          ],
          "histogram": [
           {
            "marker": {
             "pattern": {
              "fillmode": "overlay",
              "size": 10,
              "solidity": 0.2
             }
            },
            "type": "histogram"
           }
          ],
          "histogram2d": [
           {
            "colorbar": {
             "outlinewidth": 0,
             "ticks": ""
            },
            "colorscale": [
             [
              0,
              "#0d0887"
             ],
             [
              0.1111111111111111,
              "#46039f"
             ],
             [
              0.2222222222222222,
              "#7201a8"
             ],
             [
              0.3333333333333333,
              "#9c179e"
             ],
             [
              0.4444444444444444,
              "#bd3786"
             ],
             [
              0.5555555555555556,
              "#d8576b"
             ],
             [
              0.6666666666666666,
              "#ed7953"
             ],
             [
              0.7777777777777778,
              "#fb9f3a"
             ],
             [
              0.8888888888888888,
              "#fdca26"
             ],
             [
              1,
              "#f0f921"
             ]
            ],
            "type": "histogram2d"
           }
          ],
          "histogram2dcontour": [
           {
            "colorbar": {
             "outlinewidth": 0,
             "ticks": ""
            },
            "colorscale": [
             [
              0,
              "#0d0887"
             ],
             [
              0.1111111111111111,
              "#46039f"
             ],
             [
              0.2222222222222222,
              "#7201a8"
             ],
             [
              0.3333333333333333,
              "#9c179e"
             ],
             [
              0.4444444444444444,
              "#bd3786"
             ],
             [
              0.5555555555555556,
              "#d8576b"
             ],
             [
              0.6666666666666666,
              "#ed7953"
             ],
             [
              0.7777777777777778,
              "#fb9f3a"
             ],
             [
              0.8888888888888888,
              "#fdca26"
             ],
             [
              1,
              "#f0f921"
             ]
            ],
            "type": "histogram2dcontour"
           }
          ],
          "mesh3d": [
           {
            "colorbar": {
             "outlinewidth": 0,
             "ticks": ""
            },
            "type": "mesh3d"
           }
          ],
          "parcoords": [
           {
            "line": {
             "colorbar": {
              "outlinewidth": 0,
              "ticks": ""
             }
            },
            "type": "parcoords"
           }
          ],
          "pie": [
           {
            "automargin": true,
            "type": "pie"
           }
          ],
          "scatter": [
           {
            "fillpattern": {
             "fillmode": "overlay",
             "size": 10,
             "solidity": 0.2
            },
            "type": "scatter"
           }
          ],
          "scatter3d": [
           {
            "line": {
             "colorbar": {
              "outlinewidth": 0,
              "ticks": ""
             }
            },
            "marker": {
             "colorbar": {
              "outlinewidth": 0,
              "ticks": ""
             }
            },
            "type": "scatter3d"
           }
          ],
          "scattercarpet": [
           {
            "marker": {
             "colorbar": {
              "outlinewidth": 0,
              "ticks": ""
             }
            },
            "type": "scattercarpet"
           }
          ],
          "scattergeo": [
           {
            "marker": {
             "colorbar": {
              "outlinewidth": 0,
              "ticks": ""
             }
            },
            "type": "scattergeo"
           }
          ],
          "scattergl": [
           {
            "marker": {
             "colorbar": {
              "outlinewidth": 0,
              "ticks": ""
             }
            },
            "type": "scattergl"
           }
          ],
          "scattermapbox": [
           {
            "marker": {
             "colorbar": {
              "outlinewidth": 0,
              "ticks": ""
             }
            },
            "type": "scattermapbox"
           }
          ],
          "scatterpolar": [
           {
            "marker": {
             "colorbar": {
              "outlinewidth": 0,
              "ticks": ""
             }
            },
            "type": "scatterpolar"
           }
          ],
          "scatterpolargl": [
           {
            "marker": {
             "colorbar": {
              "outlinewidth": 0,
              "ticks": ""
             }
            },
            "type": "scatterpolargl"
           }
          ],
          "scatterternary": [
           {
            "marker": {
             "colorbar": {
              "outlinewidth": 0,
              "ticks": ""
             }
            },
            "type": "scatterternary"
           }
          ],
          "surface": [
           {
            "colorbar": {
             "outlinewidth": 0,
             "ticks": ""
            },
            "colorscale": [
             [
              0,
              "#0d0887"
             ],
             [
              0.1111111111111111,
              "#46039f"
             ],
             [
              0.2222222222222222,
              "#7201a8"
             ],
             [
              0.3333333333333333,
              "#9c179e"
             ],
             [
              0.4444444444444444,
              "#bd3786"
             ],
             [
              0.5555555555555556,
              "#d8576b"
             ],
             [
              0.6666666666666666,
              "#ed7953"
             ],
             [
              0.7777777777777778,
              "#fb9f3a"
             ],
             [
              0.8888888888888888,
              "#fdca26"
             ],
             [
              1,
              "#f0f921"
             ]
            ],
            "type": "surface"
           }
          ],
          "table": [
           {
            "cells": {
             "fill": {
              "color": "#EBF0F8"
             },
             "line": {
              "color": "white"
             }
            },
            "header": {
             "fill": {
              "color": "#C8D4E3"
             },
             "line": {
              "color": "white"
             }
            },
            "type": "table"
           }
          ]
         },
         "layout": {
          "annotationdefaults": {
           "arrowcolor": "#2a3f5f",
           "arrowhead": 0,
           "arrowwidth": 1
          },
          "autotypenumbers": "strict",
          "coloraxis": {
           "colorbar": {
            "outlinewidth": 0,
            "ticks": ""
           }
          },
          "colorscale": {
           "diverging": [
            [
             0,
             "#8e0152"
            ],
            [
             0.1,
             "#c51b7d"
            ],
            [
             0.2,
             "#de77ae"
            ],
            [
             0.3,
             "#f1b6da"
            ],
            [
             0.4,
             "#fde0ef"
            ],
            [
             0.5,
             "#f7f7f7"
            ],
            [
             0.6,
             "#e6f5d0"
            ],
            [
             0.7,
             "#b8e186"
            ],
            [
             0.8,
             "#7fbc41"
            ],
            [
             0.9,
             "#4d9221"
            ],
            [
             1,
             "#276419"
            ]
           ],
           "sequential": [
            [
             0,
             "#0d0887"
            ],
            [
             0.1111111111111111,
             "#46039f"
            ],
            [
             0.2222222222222222,
             "#7201a8"
            ],
            [
             0.3333333333333333,
             "#9c179e"
            ],
            [
             0.4444444444444444,
             "#bd3786"
            ],
            [
             0.5555555555555556,
             "#d8576b"
            ],
            [
             0.6666666666666666,
             "#ed7953"
            ],
            [
             0.7777777777777778,
             "#fb9f3a"
            ],
            [
             0.8888888888888888,
             "#fdca26"
            ],
            [
             1,
             "#f0f921"
            ]
           ],
           "sequentialminus": [
            [
             0,
             "#0d0887"
            ],
            [
             0.1111111111111111,
             "#46039f"
            ],
            [
             0.2222222222222222,
             "#7201a8"
            ],
            [
             0.3333333333333333,
             "#9c179e"
            ],
            [
             0.4444444444444444,
             "#bd3786"
            ],
            [
             0.5555555555555556,
             "#d8576b"
            ],
            [
             0.6666666666666666,
             "#ed7953"
            ],
            [
             0.7777777777777778,
             "#fb9f3a"
            ],
            [
             0.8888888888888888,
             "#fdca26"
            ],
            [
             1,
             "#f0f921"
            ]
           ]
          },
          "colorway": [
           "#636efa",
           "#EF553B",
           "#00cc96",
           "#ab63fa",
           "#FFA15A",
           "#19d3f3",
           "#FF6692",
           "#B6E880",
           "#FF97FF",
           "#FECB52"
          ],
          "font": {
           "color": "#2a3f5f"
          },
          "geo": {
           "bgcolor": "white",
           "lakecolor": "white",
           "landcolor": "#E5ECF6",
           "showlakes": true,
           "showland": true,
           "subunitcolor": "white"
          },
          "hoverlabel": {
           "align": "left"
          },
          "hovermode": "closest",
          "mapbox": {
           "style": "light"
          },
          "paper_bgcolor": "white",
          "plot_bgcolor": "#E5ECF6",
          "polar": {
           "angularaxis": {
            "gridcolor": "white",
            "linecolor": "white",
            "ticks": ""
           },
           "bgcolor": "#E5ECF6",
           "radialaxis": {
            "gridcolor": "white",
            "linecolor": "white",
            "ticks": ""
           }
          },
          "scene": {
           "xaxis": {
            "backgroundcolor": "#E5ECF6",
            "gridcolor": "white",
            "gridwidth": 2,
            "linecolor": "white",
            "showbackground": true,
            "ticks": "",
            "zerolinecolor": "white"
           },
           "yaxis": {
            "backgroundcolor": "#E5ECF6",
            "gridcolor": "white",
            "gridwidth": 2,
            "linecolor": "white",
            "showbackground": true,
            "ticks": "",
            "zerolinecolor": "white"
           },
           "zaxis": {
            "backgroundcolor": "#E5ECF6",
            "gridcolor": "white",
            "gridwidth": 2,
            "linecolor": "white",
            "showbackground": true,
            "ticks": "",
            "zerolinecolor": "white"
           }
          },
          "shapedefaults": {
           "line": {
            "color": "#2a3f5f"
           }
          },
          "ternary": {
           "aaxis": {
            "gridcolor": "white",
            "linecolor": "white",
            "ticks": ""
           },
           "baxis": {
            "gridcolor": "white",
            "linecolor": "white",
            "ticks": ""
           },
           "bgcolor": "#E5ECF6",
           "caxis": {
            "gridcolor": "white",
            "linecolor": "white",
            "ticks": ""
           }
          },
          "title": {
           "x": 0.05
          },
          "xaxis": {
           "automargin": true,
           "gridcolor": "white",
           "linecolor": "white",
           "ticks": "",
           "title": {
            "standoff": 15
           },
           "zerolinecolor": "white",
           "zerolinewidth": 2
          },
          "yaxis": {
           "automargin": true,
           "gridcolor": "white",
           "linecolor": "white",
           "ticks": "",
           "title": {
            "standoff": 15
           },
           "zerolinecolor": "white",
           "zerolinewidth": 2
          }
         }
        },
        "title": {
         "text": "Relationship between Number of Founders and Funding Amount (Top 10 Founders)"
        },
        "xaxis": {
         "anchor": "y",
         "domain": [
          0,
          1
         ],
         "title": {
          "text": "Number of Founders"
         }
        },
        "yaxis": {
         "anchor": "x",
         "domain": [
          0,
          1
         ],
         "title": {
          "text": "Median Funding Amount"
         }
        }
       }
      }
     },
     "metadata": {},
     "output_type": "display_data"
    }
   ],
   "source": [
    "# Calculate total funding amount for each founder\n",
    "total_funding_by_founder = df_combined.groupby('Founders')['Amount'].sum().reset_index()\n",
    "\n",
    "# Sort the founders by total funding amount in descending order\n",
    "total_funding_by_founder = total_funding_by_founder.sort_values('Amount', ascending=False)\n",
    "\n",
    "# Select the top 10 founders\n",
    "top_10_founders = total_funding_by_founder.head(10)\n",
    "\n",
    "# Group the data by the number of founders and calculate the median funding amount\n",
    "funding_by_num_founders = top_10_founders.groupby('Founders')['Amount'].median().reset_index()\n",
    "\n",
    "# Plot the data\n",
    "fig = px.scatter(funding_by_num_founders, x='Founders', y='Amount',\n",
    "                 title='Relationship between Number of Founders and Funding Amount (Top 10 Founders)',\n",
    "                 labels={'Founders': 'Number of Founders', 'Amount': 'Median Funding Amount'})\n",
    "\n",
    "# Show the plot\n",
    "fig.show()"
   ]
  },
  {
   "cell_type": "markdown",
   "metadata": {},
   "source": [
    "7.What are the characteristics of startups in the highest-funded sectors (e.g., number of founders, location)?"
   ]
  },
  {
   "cell_type": "code",
   "execution_count": 124,
   "metadata": {},
   "outputs": [
    {
     "name": "stdout",
     "output_type": "stream",
     "text": [
      "Company Brand: Krayonnz\n",
      "Headquarters: Bangalore\n",
      "Stage: Pre-seed\n",
      "What it does: An academy-guardian-scholar centric ecosystem which provides state of the art technological solutions.\n",
      "---\n",
      "Company Brand: Myclassboard\n",
      "Headquarters: Hyderabad\n",
      "Stage: Pre-series A\n",
      "What it does: MyClassboard is a full-fledged School / College Management Software.\n",
      "---\n",
      "Company Brand: Rupeek\n",
      "Headquarters: Bangalore\n",
      "Stage: Series C\n",
      "What it does: Rupeek is an online lending platform that specializes in credit risk, gold loans, and personal loans.\n",
      "---\n",
      "Company Brand: Zomato\n",
      "Headquarters: Gurgaon\n",
      "Stage: Series B\n",
      "What it does: Zomato is a food delivery and restaurant discovery site that provides information and reviews about restaurants\n",
      "---\n",
      "Company Brand: Shiprocket\n",
      "Headquarters: New Delhi\n",
      "Stage: Series C\n",
      "What it does: Shiprocket helps online retailers simplify their shipping by providing a delightful post purchase experience to their consumers.\n",
      "---\n",
      "Company Brand: Pine Labs\n",
      "Headquarters: Noida\n",
      "Stage: Series B\n",
      "What it does: A merchant platform company that provides financing and last-mile retail transaction technology to merchants.\n",
      "---\n",
      "Company Brand: Moneyboxx Finance\n",
      "Headquarters: New Delhi\n",
      "Stage: Series A\n",
      "What it does: MONEYBOXX FINANCE LTD is committed to providing easy access to financing to the deserving micro enterprises in the tier 2 and tier 3 cities of India\n",
      "---\n",
      "Company Brand: Sucseed Indovation\n",
      "Headquarters: Hyderabad\n",
      "Stage: Series C\n",
      "What it does: SucSEED INDOVATION FACILITATES ACCESS TO CAPITAL FOR DEEP TECH STARTUPS TO INNOVATE, SCALE & GROW\n",
      "---\n",
      "Company Brand: Taxbuddy.Com\n",
      "Headquarters: Mumbai\n",
      "Stage: Series C\n",
      "What it does: TaxBuddy for any tax related issues.\n",
      "---\n",
      "Company Brand: Circle Of Angels\n",
      "Headquarters: Gurgaon\n",
      "Stage: Pre series A\n",
      "What it does: Circles of Angels aims to solve this issue through the creation of a funding network that makes impact funding accessible to everyone.\n",
      "---\n",
      "Company Brand: Coindcx\n",
      "Headquarters: Mumbai\n",
      "Stage: Series B\n",
      "What it does: CoinDCX is a company that specializes in crypto-enabled financial services.\n",
      "---\n",
      "Company Brand: Delhivery\n",
      "Headquarters: Gurgaon\n",
      "Stage: Series C\n",
      "What it does: Delhivery is a supply chain services company that provides products and services to build trust and improve the lives of consumers.\n",
      "---\n",
      "Company Brand: Phonepe\n",
      "Headquarters: Andheri\n",
      "Stage: Series B\n",
      "What it does: PhonePe is a mobile payment application that enables users to transfer money instantly.\n",
      "---\n",
      "Company Brand: Countingwell\n",
      "Headquarters: Bangalore\n",
      "Stage: Pre-series A\n",
      "What it does: An interactive Maths app, Countingwell breaks Maths concepts into short, simple modules that get kids learning with the least amount of screen time.\n",
      "---\n",
      "Company Brand: Cover It Up\n",
      "Headquarters: Chennai\n",
      "Stage: Seed\n",
      "What it does: Online portal that churns out high quality products\n",
      "---\n",
      "Company Brand: Bitespeed\n",
      "Headquarters: Gurgaon\n",
      "Stage: Seed\n",
      "What it does: Chat-based commerce for E-commerce brands\n",
      "---\n",
      "Company Brand: Wakefit\n",
      "Headquarters: Bangalore\n",
      "Stage: Series B\n",
      "What it does: Wakefitkart is a mattress manufacturing company\n",
      "---\n",
      "Company Brand: M1Xchange\n",
      "Headquarters: Gurgaon\n",
      "Stage: Series C\n",
      "What it does: M1 an online exchange for TReDS set up under the approval RBI to facilitate discounting of invoices on a PAN India basis.\n",
      "---\n",
      "Company Brand: Fisdom\n",
      "Headquarters: Bangalore\n",
      "Stage: Series B\n",
      "What it does: Fisdom is a fintech company that offers investment advisory services through an application.\n",
      "---\n",
      "Company Brand: Tinker Coders\n",
      "Headquarters: Noida\n",
      "Stage: Seed\n",
      "What it does: Tinker Coder is a LIVE Online Platform through which kids will learn the art of coding\n",
      "---\n",
      "Company Brand: Phonepe\n",
      "Headquarters: New Delhi\n",
      "Stage: Series B\n",
      "What it does: PhonePe is a mobile payments application that allows the user to transfer money instantly.\n",
      "---\n",
      "Company Brand: Mobikwik\n",
      "Headquarters: Gurgaon\n",
      "Stage: Pre series A\n",
      "What it does: MobiKwik is India’s leading fintech platform, operating businesses in consumer payments, payment gateway, and financial services.\n",
      "---\n",
      "Company Brand: Debugsbunny\n",
      "Headquarters: Pune\n",
      "Stage: Series B\n",
      "What it does: DebugsBunny is the best Kids Coding Platform where kids are taught to code online by our expert teachers.\n",
      "---\n",
      "Company Brand: Swipez\n",
      "Headquarters: Pune\n",
      "Stage: Seed Round\n",
      "What it does: Swipez is a payment collection platform.\n",
      "---\n",
      "Company Brand: Artivatic.Ai\n",
      "Headquarters: Bangalore\n",
      "Stage: Seed Round\n",
      "What it does: Artivatic's patent pending technology solves complex problems in Insurance for On-boarding, Fraud, Risk Profiling, Underwriting & claims.\n",
      "---\n",
      "Company Brand: Freshtohome\n",
      "Headquarters: Bangalore\n",
      "Stage: Seed\n",
      "What it does: Freshtohome is an e-commerce platform for fresh and chemical-free seafood.\n",
      "---\n",
      "Company Brand: Dealshare\n",
      "Headquarters: Jaipur\n",
      "Stage: Series C\n",
      "What it does: DealShare is a Social Commerce Startup\n",
      "---\n",
      "Company Brand: Smallcase\n",
      "Headquarters: Bangalore\n",
      "Stage: Pre series A\n",
      "What it does: Changing how India invests in equities\n",
      "---\n",
      "Company Brand: Cuemath\n",
      "Headquarters: Bangalore\n",
      "Stage: Series C\n",
      "What it does: Cuemath is an engaging ‘learning-by-doing’ methodology for students with face-to-face sessions from highly-trained Cuemath teachers.\n",
      "---\n",
      "Company Brand: Ruralbasket\n",
      "Headquarters: Tirunelveli, Tamilnadu\n",
      "Stage: Seed Round\n",
      "What it does: Naturally grown and healthy products directly from farmers.\n",
      "---\n",
      "Company Brand: Clovia\n",
      "Headquarters: Noida\n",
      "Stage: Pre-series C\n",
      "What it does: Clovia is the online lingerie retailer\n",
      "---\n",
      "Company Brand: Codingal\n",
      "Headquarters: Bangalore\n",
      "Stage: Seed\n",
      "What it does: Coding education platform for K-12 students\n",
      "---\n",
      "Company Brand: Habitat\n",
      "Headquarters: Delhi\n",
      "Stage: Seed\n",
      "What it does: Habitat, a social learning edtech platform for civil service aspirants\n",
      "---\n",
      "Company Brand: Kopykitab\n",
      "Headquarters: Bangalore\n",
      "Stage: Series C\n",
      "What it does: Kopykitab is an India-based digital library that provides eBooks, and digital content in school and higher education.\n",
      "---\n",
      "Company Brand: Kyt\n",
      "Headquarters: Singapore\n",
      "Stage: Seed\n",
      "What it does: Holistic education for every child | Individual and small group live classes for ages 5 - 15 years\n",
      "---\n",
      "Company Brand: Cashfree\n",
      "Headquarters: Bangalore\n",
      "Stage: Series B\n",
      "What it does: Cashfree is a payments and banking technology company that enables businesses in India to collect payments online and make payouts.\n",
      "---\n",
      "Company Brand: Credgenics\n",
      "Headquarters: New Delhi\n",
      "Stage: Pre-series A\n",
      "What it does: Credgenics is a tech-enabled platform backed by Titan Capital, helping fintech lenders and Banks in their critical NPA reduction\n",
      "---\n",
      "Company Brand: Cars24\n",
      "Headquarters: Haryana\n",
      "Stage: Series E\n",
      "What it does: CARS24 is an India-based platform for selling used cars.\n",
      "---\n",
      "Company Brand: Credgenics\n",
      "Headquarters: Gurugram\n",
      "Stage: Pre-series A\n",
      "What it does: Credgenics is a tech-enabled platform backed by Titan Capital, helping fintech lenders and Banks in their critical NPA reduction\n",
      "---\n",
      "Company Brand: Inntot\n",
      "Headquarters: Kerala\n",
      "Stage: Seed\n",
      "What it does: Inntot Technologies, is a technology driven company.\n",
      "---\n",
      "Company Brand: Ensuredit\n",
      "Headquarters: Gurugram\n",
      "Stage: Pre-series A\n",
      "What it does: ENSUREDIT enables and empowers end customers and Insurance Intermediaries with AI-based product platforms for transformational customer experience.\n",
      "---\n",
      "Company Brand: Erpnext\n",
      "Headquarters: Mumbai\n",
      "Stage: Series C\n",
      "What it does: ERPNext is an Open Source, Online ERP solution which includes Accounting, CRM, Inventory, Purchasing, HR, Support and a lot more.\n",
      "---\n",
      "Company Brand: Grip Invest\n",
      "Headquarters: Gurugram\n",
      "Stage: Pre-series A\n",
      "What it does: Grip is an investment platform that allows retail investors to make small ticket investments in physical assets that earn lease income.\n",
      "---\n",
      "Company Brand: Unacademy\n",
      "Headquarters: Bangalore\n",
      "Stage: Seed\n",
      "What it does: Unacademy is an online learning platform providing educational content such as video lectures and examinations.\n",
      "---\n",
      "Company Brand: Yellow Classes\n",
      "Headquarters: Gurugram\n",
      "Stage: Pre-series A\n",
      "What it does: New-age fun-learning platform for kids.\n",
      "---\n",
      "Company Brand: Stage\n",
      "Headquarters: Indore\n",
      "Stage: Seed Round\n",
      "What it does: STAGE is an Indian language content platform for artist-led entertainment.\n",
      "---\n",
      "Company Brand: Nira\n",
      "Headquarters: Bangalore\n",
      "Stage: Pre series A\n",
      "What it does: NIRA promotes financial inclusion by creating simple, transparent products that empower individuals to live a life of choice and freedom.\n",
      "---\n",
      "Company Brand: Byju'S\n",
      "Headquarters: Bangalore\n",
      "Stage: Seed Round\n",
      "What it does: BYJU'S is an educational technology company that develops personalized learning programs for K-12 students.\n",
      "---\n",
      "Company Brand: Damensch\n",
      "Headquarters: Bangalore\n",
      "Stage: Pre series A\n",
      "What it does: DaMENSCH is a designer and seller of men's apparel.\n",
      "---\n",
      "Company Brand: Lancify\n",
      "Headquarters: Bangalore\n",
      "Stage: Series A\n",
      "What it does: Lancify is building the world's strongest young workforce\n",
      "---\n",
      "Company Brand: Instamojo\n",
      "Headquarters: Bangalore\n",
      "Stage: Seed Round\n",
      "What it does: Instamojo is an on-demand payments platform that enables entrepreneurs to build, manage, and grow their business online.\n",
      "---\n",
      "Company Brand: Arata\n",
      "Headquarters: New Delhi\n",
      "Stage: Pre-series A\n",
      "What it does: Arata is an e-commerce site for beauty products and cosmetics.\n",
      "---\n",
      "Company Brand: True Balance\n",
      "Headquarters: Gurugram\n",
      "Stage: Seed Round\n",
      "What it does: True Balance is a digital wallet that enables users to access utility bill payment and other financial products.\n",
      "---\n",
      "Company Brand: Thrive\n",
      "Headquarters: Mumbai\n",
      "Stage: Pre-series A\n",
      "What it does: Thrive is all-in-one restaurant ordering suite for table ordering, pickup, and delivery with marketing in-built.\n",
      "---\n",
      "Company Brand: Slice\n",
      "Headquarters: Bangalore\n",
      "Stage: Debt\n",
      "What it does: Slice is a card for first-time credit card users. They are inventing the future of finance for young Indians\n",
      "---\n",
      "Company Brand: Rapawalk\n",
      "Headquarters: Bangalore\n",
      "Stage: Seed\n",
      "What it does: Rapawalk is an online brand that offers a personalized service of creating your own shoes.\n",
      "---\n",
      "Company Brand: Blacksoil\n",
      "Headquarters: Mumbai\n",
      "Stage: Seed Round\n",
      "What it does: Blacksoil Advisory is an independent boutique advisory firm.\n",
      "---\n",
      "Company Brand: Xpressbees\n",
      "Headquarters: Pune\n",
      "Stage: Series C\n",
      "What it does: Xpressbees is an e-commerce logistics company that provides reliable logistics solutions to its partners.\n",
      "---\n",
      "Company Brand: Galaxycard\n",
      "Headquarters: Gurugram\n",
      "Stage: Seed\n",
      "What it does: Mobile based Instant credit card. | Easiest way to get a credit card. Get one in 3 minutes\n",
      "---\n",
      "Company Brand: Gonuts\n",
      "Headquarters: Mumbai\n",
      "Stage: Seed\n",
      "What it does: Personalised Video shoutouts from favourite celebrity.\n",
      "---\n",
      "Company Brand: Uolo\n",
      "Headquarters: Bangalore\n",
      "Stage: Seed\n",
      "What it does: Uolo Technology is founded by paranoid parents who want to make a difference to preschool experience.\n",
      "---\n",
      "Company Brand: Kirana King\n",
      "Headquarters: Jaipur, Rajastan\n",
      "Stage: Pre-series A\n",
      "What it does: A revolutionary idea of standardization, digitization & centralization to traditional Grocery system.\n",
      "---\n",
      "Company Brand: Frontrow\n",
      "Headquarters: Bangalore\n",
      "Stage: Seed\n",
      "What it does: Comprehensive courses, taught by idols.\n",
      "---\n",
      "Company Brand: Reliance Retail\n",
      "Headquarters: Mumbai\n",
      "Stage: Pre series A\n",
      "What it does: Reliance Retail Ventures Limited is a subsidiary company of Reliance Industries Limited.\n",
      "---\n",
      "Company Brand: Livfin\n",
      "Headquarters: New Delhi\n",
      "Stage: Series B\n",
      "What it does: LivFin is a non-banking financial company registered with the Reserve Bank of India (RBI)\n",
      "---\n",
      "Company Brand: Lattu Kids\n",
      "Headquarters: Mumbai\n",
      "Stage: Series A\n",
      "What it does: Lattu kids is an edutainment platform for preschool kids.\n",
      "---\n",
      "Company Brand: Stones2Milestones\n",
      "Headquarters: Gurugram\n",
      "Stage: Bridge\n",
      "What it does: Stones2milestones is India (Delhi) Based EdTech Company\n",
      "---\n",
      "Company Brand: Udacity\n",
      "Headquarters: California\n",
      "Stage: Debt\n",
      "What it does: Udacity develops an online learning platform offering programs in artificial intelligence, machine learning, and robotics sector.\n",
      "---\n",
      "Company Brand: Gully Network\n",
      "Headquarters: Bangalore\n",
      "Stage: Pre-series A\n",
      "What it does: Gully Network is a tech-enabled network of mid-sized grocery stores.\n",
      "---\n",
      "Company Brand: Dhurnia\n",
      "Headquarters: Dhingsara, Haryana\n",
      "Stage: Series C\n",
      "What it does: Developer of an online learning platform intended for various competitive exam preparations.\n",
      "---\n",
      "Company Brand: Expertrons\n",
      "Headquarters: Mumbai\n",
      "Stage: Series C\n",
      "What it does: Expertrons is an AI video bot platform created to help students and professionals prepare for interviews.\n",
      "---\n",
      "Company Brand: Flexiloans\n",
      "Headquarters: Mumbai\n",
      "Stage: Debt\n",
      "What it does: an online lending platform started with an endeavour to solve the problem that SMEs face in accessing Quick, Flexible and Adequate funds for growing their Businesses.\n",
      "---\n",
      "Company Brand: Freshtohome\n",
      "Headquarters: Bangalore\n",
      "Stage: Series C\n",
      "What it does: Freshtohome is an e-commerce platform for fresh and chemical-free seafood.\n",
      "---\n",
      "Company Brand: Credable\n",
      "Headquarters: Mumbai\n",
      "Stage: Seed\n",
      "What it does: CredAble provides working capital & supply chain finance programs for large enterprises and their suppliers and distributors.\n",
      "---\n",
      "Company Brand: Finova Capital\n",
      "Headquarters: Jaipur, Rajastan\n",
      "Stage: Series A\n",
      "What it does: Finova Capital is a non-banking financial company.\n",
      "---\n",
      "Company Brand: Teachmint\n",
      "Headquarters: Bangalore\n",
      "Stage: Seed\n",
      "What it does: Teachmint is an easy to use platform for tutors to conduct unlimited live classes and manage their classrooms\n",
      "---\n",
      "Company Brand: Peel-Works\n",
      "Headquarters: Mumbai\n",
      "Stage: Series C\n",
      "What it does: Peel-Works is a tech and data analytics company specializing in e-commerce for corner stores.\n",
      "---\n",
      "Company Brand: Credgenics\n",
      "Headquarters: Gurugram\n",
      "Stage: Seed\n",
      "What it does: Credgenics is a tech-enabled platform backed by Titan Capital, helping fintech lenders and Banks in their critical NPA reduction\n",
      "---\n",
      "Company Brand: Jumbotail\n",
      "Headquarters: Bangalore\n",
      "Stage: Series B2\n",
      "What it does: Jumbotail is solving an important problem of organising food and grocery ecosystem in India through technology, data science and design.\n",
      "---\n",
      "Company Brand: Freshtohome\n",
      "Headquarters: Bangalore\n",
      "Stage: Seed Round\n",
      "What it does: Freshtohome is an e-commerce platform for fresh and chemical-free seafood.\n",
      "---\n",
      "Company Brand: Jumbotail\n",
      "Headquarters: Bangalore\n",
      "Stage: Series B2\n",
      "What it does: Jumbotail is solving an important problem of organising food and grocery ecosystem in India\n",
      "---\n",
      "Company Brand: Nykaa\n",
      "Headquarters: Mumbai\n",
      "Stage: Pre series A\n",
      "What it does: Nykaa is an online marketplace for different beauty and wellness products.\n",
      "---\n",
      "Company Brand: Genius Teacher\n",
      "Headquarters: Mumbai\n",
      "Stage: Series C\n",
      "What it does: Genius Teacher creates engaging educational content, delivers fun learning experience to the students\n",
      "---\n",
      "Company Brand: Getvantage\n",
      "Headquarters: Mumbai\n",
      "Stage: Seed\n",
      "What it does: GetVantage is India and Southeast Asia's first fintech enabled Revenue-based financing platform.\n",
      "---\n",
      "Company Brand: Hubilo\n",
      "Headquarters: San Francisco, California, United States\n",
      "Stage: Seed\n",
      "What it does: World’s smartest virtual event platform that brings Experience & Intelligence together\n",
      "---\n",
      "Company Brand: Basic Home Loan\n",
      "Headquarters: Gurugram\n",
      "Stage: Seed\n",
      "What it does: A platform for automating home loans for middle and low-income households in India,\n",
      "---\n",
      "Company Brand: Signzy\n",
      "Headquarters: Bangalore\n",
      "Stage: Pre series A\n",
      "What it does: It is creating 'building blocks for a Digital Trust system.\n",
      "---\n",
      "Company Brand: Ahaguru\n",
      "Headquarters: Chennai\n",
      "Stage: Series A\n",
      "What it does: It is conducting IIT JEE Coach for Physics, Math and Chemistry easily.\n",
      "---\n",
      "Company Brand: Brighteye Ventures\n",
      "Headquarters: Paris, Ile-De-France, France\n",
      "Stage: Series A\n",
      "What it does: Education technology venture capital firm.\n",
      "---\n",
      "Company Brand: Genius Teacher\n",
      "Headquarters: Mumbai\n",
      "Stage: Pre series A\n",
      "What it does: Genius Teacher creates engaging educational content, delivers fun learning experience to the students\n",
      "---\n",
      "Company Brand: Tiliter\n",
      "Headquarters: Sydney\n",
      "Stage: Pre series A\n",
      "What it does: Software that uses computer vision to recognise products without barcodes\n",
      "---\n",
      "Company Brand: Hobspace\n",
      "Headquarters: Mumbai\n",
      "Stage: Seed\n",
      "What it does: India's Activity Hub for Kids\n",
      "---\n",
      "Company Brand: Shopup\n",
      "Headquarters: Bangaldesh\n",
      "Stage: Series A\n",
      "What it does: ShopUp provides easy access to B2B sourcing, last-mile logistics, digital credit, and business management solutions to small businesses.\n",
      "---\n",
      "Company Brand: Zomato\n",
      "Headquarters: Gurugram\n",
      "Stage: Series B\n",
      "What it does: Zomato is a food delivery and restaurant discovery site that provides information and reviews about restaurants.\n",
      "---\n",
      "Company Brand: Anveshan\n",
      "Headquarters: Bangalore\n",
      "Stage: Pre-seed\n",
      "What it does: Provide quality and healthy food products\n",
      "---\n",
      "Company Brand: Cover Genius\n",
      "Headquarters: Sydney, New South Wales, Australia\n",
      "Stage: Series C\n",
      "What it does: Cover Genius provides an insurance distribution platform designed to protect the customers of e-commerce companies\n",
      "---\n",
      "Company Brand: Clair\n",
      "Headquarters: New York, United States\n",
      "Stage: Seed\n",
      "What it does: Clair is a social fintech that provides Instant Pay Access as a Service for human capital management and gig platforms.\n",
      "---\n",
      "Company Brand: Razorpay\n",
      "Headquarters: Bangalore\n",
      "Stage: Series D\n",
      "What it does: Razorpay is a platform that enables businesses to accept, process, and disburse payments.\n",
      "---\n",
      "Company Brand: Antaios\n",
      "Headquarters: France\n",
      "Stage: Series B\n",
      "What it does: Developer of memory-based technology intended to solve issues of advanced computing.\n",
      "---\n",
      "Company Brand: Disprz\n",
      "Headquarters: Chennai\n",
      "Stage: Pre-series B\n",
      "What it does: Disprz is a one-of-its-kind “knowledge-tech” start-up that strives to make people knowledgeable, productive and smarter at what they do.\n",
      "---\n",
      "Company Brand: Uni\n",
      "Headquarters: Mumbai\n",
      "Stage: Seed\n",
      "What it does: The team aims to bridge the gap for credit cards and make them more accessible for people across different regions.\n",
      "---\n",
      "Company Brand: Credit Wise Capital\n",
      "Headquarters: Mumbai\n",
      "Stage: Seed\n",
      "What it does: CreditWise Capital is a consumer finance company.\n",
      "---\n",
      "Company Brand: Reliance Retail Ventures Ltd\n",
      "Headquarters: Mumbai\n",
      "Stage: Series A\n",
      "What it does: Reliance Retail offers online shopping and a chain of neighborhood stores, supermarkets, and wholesale/specialty stores.\n",
      "---\n",
      "Company Brand: Winuall\n",
      "Headquarters: Bangalore\n",
      "Stage: Seed Round\n",
      "What it does: Winuall specializes in the fields of E-learning, online quizzes, and tests, study material for competitive exams.\n",
      "---\n",
      "Company Brand: Unocoin\n",
      "Headquarters: Tumkur, Karnataka\n",
      "Stage: Series A\n",
      "What it does: Unocoin is an Indian bitcoin processor that enables users to buy, sell, store, use, and accept bitcoins.\n",
      "---\n",
      "Company Brand: Pesto\n",
      "Headquarters: New Delhi\n",
      "Stage: Series C\n",
      "What it does: Pesto is a career accelerator for software engineers with the mission to take opportunities to places where talent exists.\n",
      "---\n",
      "Company Brand: Equiwatt\n",
      "Headquarters: Newcastle Upon Tyne, Newcastle Upon Tyne, United Kingdom\n",
      "Stage: Series C\n",
      "What it does: Equiwatt is a digital platform enabling households to get paid for saving energy at peak times.\n",
      "---\n",
      "Company Brand: Reliance Retail Ventures\n",
      "Headquarters: Mumbai\n",
      "Stage: Series C\n",
      "What it does: Reliance Retail offers online shopping and a chain of neighborhood stores, supermarkets, and wholesale/specialty stores.\n",
      "---\n",
      "Company Brand: Zhangmen\n",
      "Headquarters: Shanghai, China\n",
      "Stage: Seed Round\n",
      "What it does: Zhangmen is an online tutoring platform provides tutoring courses to students.\n",
      "---\n",
      "Company Brand: Sapio Analytics\n",
      "Headquarters: Mumbai\n",
      "Stage: Seed\n",
      "What it does: Sapio Analytics provides AI-powered policymaking solutions for government institutions.\n",
      "---\n",
      "Company Brand: Avanse Financial Services\n",
      "Headquarters: Mumbai\n",
      "Stage: Series A\n",
      "What it does: Avanse, regulated by the Reserve Bank of India, is an education finance company that operates as a non-banking finance company (NBFC).\n",
      "---\n",
      "Company Brand: Industry Buying\n",
      "Headquarters: New Delhi\n",
      "Stage: Seed\n",
      "What it does: India's largest industrial ecommerce platform\n",
      "---\n",
      "Company Brand: Hopscotch\n",
      "Headquarters: Mumbai\n",
      "Stage: Series B\n",
      "What it does: Hopscotch provides an insider access to international brands for babies, kids, and moms.\n",
      "---\n",
      "Company Brand: Analytiqsports'S Supercric\n",
      "Headquarters: Bangalore\n",
      "Stage: Series C\n",
      "What it does: SuperCric is India's first strategy Cricket Manager simulation game\n",
      "---\n",
      "Company Brand: Snowflake\n",
      "Headquarters: California\n",
      "Stage: Seed Round\n",
      "What it does: Snowflake is a cloud data platform that provides a data warehouse-as-a-service designed for the cloud.\n",
      "---\n",
      "Company Brand: Genietalk\n",
      "Headquarters: Indore\n",
      "Stage: Seed\n",
      "What it does: GenieTalk as a virtual assistant uses AI to bring conversation commerce with a personalised experience on the app.\n",
      "---\n",
      "Company Brand: Classplus\n",
      "Headquarters: Noida\n",
      "Stage: Series C\n",
      "What it does: Classplus offers a mobile-first SaaS platform for 3000+ tutors to offer their curriculum and operations completely online.\n",
      "---\n",
      "Company Brand: Mobile Premier League\n",
      "Headquarters: Bangalore\n",
      "Stage: Pre series A\n",
      "What it does: Mobile Premier League(MPL) is a skill based E-Sports platform where you can play your favourite mobile games\n",
      "---\n",
      "Company Brand: Flipkart\n",
      "Headquarters: Bangalore\n",
      "Stage: Series C\n",
      "What it does: Flipkart is an e-commerce marketplace that offers over 30 million products cross 70+ categories.\n",
      "---\n",
      "Company Brand: Vivriti Capital\n",
      "Headquarters: Chennai\n",
      "Stage: Seed Round\n",
      "What it does: Vivriti Capital is a marketplace for small enterprises and individuals that lack efficient access to financial services.\n",
      "---\n",
      "Company Brand: Insurancedekho\n",
      "Headquarters: Ludhiana\n",
      "Stage: Pre series A\n",
      "What it does: The funding for branding and marketing activities as well as strengthening the product and technology teams\n",
      "---\n",
      "Company Brand: Byju’S\n",
      "Headquarters: Bangalore\n",
      "Stage: Seed\n",
      "What it does: An Indian educational technology and online tutoring firm\n",
      "---\n",
      "Company Brand: Reliance\n",
      "Headquarters: Mumbai\n",
      "Stage: Seed Round\n",
      "What it does: Reliance owns businesses across India engaged in energy, petrochemicals, textiles, natural resources\n",
      "---\n",
      "Company Brand: Inflexor Ventures\n",
      "Headquarters: Mumbai\n",
      "Stage: Seed Round\n",
      "What it does: Experienced Venture Capital-General Partner focused on Technology investments.\n",
      "---\n",
      "Company Brand: Dream11\n",
      "Headquarters: Mumbai\n",
      "Stage: Series B\n",
      "What it does: Dream11 is India’s Biggest Sports Game with 30 million+ users playing Fantasy Cricket\n",
      "---\n",
      "Company Brand: Unacademy\n",
      "Headquarters: Bangalore\n",
      "Stage: Series B\n",
      "What it does: Unacademy is an Indian online education technology company\n",
      "---\n",
      "Company Brand: Gaana\n",
      "Headquarters: Gurugram\n",
      "Stage: Pre series A\n",
      "What it does: Gaana is a commercial music streaming service providing free and licensed music.\n",
      "---\n",
      "Company Brand: Reliance Retail\n",
      "Headquarters: Mumbai\n",
      "Stage: Series C\n",
      "What it does: Retailer delivering superior value to its customers, suppliers and shareholders.\n",
      "---\n",
      "Company Brand: Qshala\n",
      "Headquarters: Bangalore\n",
      "Stage: Pre series A\n",
      "What it does: A platform that helps kids learn about life skills\n",
      "---\n",
      "Company Brand: Shipskart\n",
      "Headquarters: New Delhi\n",
      "Stage: Pre-series A\n",
      "What it does: ShipsKart platform that streamlines the way marine stores are ordered, approved and received on board with the help of technology.\n",
      "---\n",
      "Company Brand: Squadstack\n",
      "Headquarters: San Francisco\n",
      "Stage: Series A\n",
      "What it does: Empowering consumer businesses to improve their sales conversions and funnel efficiency, using Artificial Intelligence & Data Science.\n",
      "---\n",
      "Company Brand: Financepeer\n",
      "Headquarters: Mumbai\n",
      "Stage: Pre-series A\n",
      "What it does: Financepeer is an AI based peer to peer lending platform.\n",
      "---\n",
      "Company Brand: Cashify\n",
      "Headquarters: Gurugram\n",
      "Stage: Debt\n",
      "What it does: Cashify.in is an e-commerce platform for reselling used electronic gadgets.\n",
      "---\n",
      "Company Brand: Codeyoung\n",
      "Headquarters: Bangalore\n",
      "Stage: Seed\n",
      "What it does: Codeyoung provides live online coding classes for kids between the age of 5 - 17.\n",
      "---\n",
      "Company Brand: Stayqrious\n",
      "Headquarters: Bangalore\n",
      "Stage: Seed\n",
      "What it does: Live online coding courses with social learning. Build coding skills, confident communication and leadership skills with your very own coach.\n",
      "---\n",
      "Company Brand: Sunstone Eduversity\n",
      "Headquarters: Gurugram\n",
      "Stage: Series A\n",
      "What it does: India's Only Business School That Offers MBA & PGDM Programs With 100% Placement Assurance.\n",
      "---\n",
      "Company Brand: Mobigarage\n",
      "Headquarters: New Delhi\n",
      "Stage: Pre-series A\n",
      "What it does: An ecommerce platform for refurbished electronics.\n",
      "---\n",
      "Company Brand: Smallcase\n",
      "Headquarters: Bangalore\n",
      "Stage: Series B\n",
      "What it does: Smallcases are portfolios of stocks or ETFs created by India's top financial experts.\n",
      "---\n",
      "Company Brand: Assiduus\n",
      "Headquarters: Bangalore\n",
      "Stage: Series A\n",
      "What it does: Assiduus leverages its eCommerce experience to help build, grow and scale your brand on various eCommerce platforms\n",
      "---\n",
      "Company Brand: Afk Gaming\n",
      "Headquarters: Mumbai\n",
      "Stage: Pre-series A\n",
      "What it does: AFK Gaming is a media and entertainment and gaming company located in Mumbai.\n",
      "---\n",
      "Company Brand: Origa\n",
      "Headquarters: Andheri\n",
      "Stage: Debt\n",
      "What it does: The charioteer of your growth at all times.\n",
      "---\n",
      "Company Brand: Recordent\n",
      "Headquarters: Hyderabad\n",
      "Stage: Seed\n",
      "What it does: A technology-enabled platform that helps MSMEs to increase their business efficiency through collection of dues\n",
      "---\n",
      "Company Brand: Mpl\n",
      "Headquarters: Bangalore\n",
      "Stage: Series C\n",
      "What it does: Mobile Premier League is the mobile e-Sports platform based in India.\n",
      "---\n",
      "Company Brand: Fpl Technologies\n",
      "Headquarters: Pune\n",
      "Stage: Series A\n",
      "What it does: FPL is on a mission to re-imagine credit and payments from first principles and is building a mobile-first credit card\n",
      "---\n",
      "Company Brand: Cashkaro\n",
      "Headquarters: Gurgaon\n",
      "Stage: Series B\n",
      "What it does: Cashkaro is a coupons and cashback site rewarding customers for visiting online retailers through their site.\n",
      "---\n",
      "Company Brand: Toppr\n",
      "Headquarters: Mumbai\n",
      "Stage: Series D\n",
      "What it does: Toppr is an Indian educational technology and online tutoring firm\n",
      "---\n",
      "Company Brand: Lido Learning\n",
      "Headquarters: Mumbai\n",
      "Stage: Series B\n",
      "What it does: Online classes for Std 4-9 in Math, Science, Coding, English & Leadership with top 1% tutors ?\n",
      "---\n",
      "Company Brand: Mpl\n",
      "Headquarters: Bangalore\n",
      "Stage: Series B\n",
      "What it does: Mobile Premier League (also known as MPL) is the mobile e-Sports platform\n",
      "---\n",
      "Company Brand: Pulse\n",
      "Headquarters: Mumbai\n",
      "Stage: Pre-series A\n",
      "What it does: Helps people navigate through and profit off financial markets\n",
      "---\n",
      "Company Brand: Groww\n",
      "Headquarters: Bangalore\n",
      "Stage: Series C\n",
      "What it does: Leading Investment and Trading Platform\n",
      "---\n",
      "Company Brand: Soal\n",
      "Headquarters: Mumbai\n",
      "Stage: Series A-1\n",
      "What it does: A skill-tank nurturing students into disruptive, tech-empowered creators and future leaders\n",
      "---\n",
      "Company Brand: Ockypocky\n",
      "Headquarters: Gurugram\n",
      "Stage: Seed\n",
      "What it does: Ockypocky helps kids in learning spoken english\n",
      "---\n",
      "Company Brand: Qapita\n",
      "Headquarters: Singapore\n",
      "Stage: Seed\n",
      "What it does: Qapita provides digital equity management tools for private companies and startups.\n",
      "---\n",
      "Company Brand: Sunday\n",
      "Headquarters: Bangkok\n",
      "Stage: Pre-Series B\n",
      "What it does: An end-to-end insurance products and services provider that uses AI to offer personalized packages.\n",
      "---\n",
      "Company Brand: Max Wholesale\n",
      "Headquarters: New Delhi\n",
      "Stage: Seed\n",
      "What it does: MaxWholesale is an online distributor that provides authentic FMCG goods\n",
      "---\n",
      "Company Brand: Craftsvilla\n",
      "Headquarters: Mumbai\n",
      "Stage: Series C\n",
      "What it does: Sells ethnic apparel, footwear, fashion accessories, beauty products, handcrafted home accessories\n",
      "---\n",
      "Company Brand: Mechmocha\n",
      "Headquarters: Bangalore\n",
      "Stage: Series A\n",
      "What it does: India's first vernacular social gaming platform\n",
      "---\n",
      "Company Brand: Fanspole\n",
      "Headquarters: Thane\n",
      "Stage: Pre-Seed\n",
      "What it does: India's only social fantasy gaming platform\n",
      "---\n",
      "Company Brand: Univ.Ai\n",
      "Headquarters: Bangalore\n",
      "Stage: Pre series A\n",
      "What it does: A distributed, global educational powerhouse that draws on technology\n",
      "---\n",
      "Company Brand: Bikayi\n",
      "Headquarters: Hyderabad\n",
      "Stage: Seed round\n",
      "What it does: Provides free whatsapp integrated E-Commerce Store\n",
      "---\n",
      "Company Brand: Byju'S\n",
      "Headquarters: Bangalore\n",
      "Stage: Seed\n",
      "What it does: Provides online learning classes\n",
      "---\n",
      "Company Brand: Avail Finance\n",
      "Headquarters: Bangalore\n",
      "Stage: Series B\n",
      "What it does: Instant online loan app\n",
      "---\n",
      "Company Brand: Lead School\n",
      "Headquarters: Mumbai\n",
      "Stage: Series C\n",
      "What it does: Offers an integrated system for schools by helping them digitize the entire curriculum\n",
      "---\n",
      "Company Brand: Teachmint\n",
      "Headquarters: Bangalore\n",
      "Stage: Seed\n",
      "What it does: Empowers tutors with tools to deliver effective learning outcomes for students and parents\n",
      "---\n",
      "Company Brand: Stack Finance\n",
      "Headquarters: Bangalore\n",
      "Stage: Seed round\n",
      "What it does: It automates invesments, expenses, borrowing under a single platform\n",
      "---\n",
      "Company Brand: Fpl Technologies\n",
      "Headquarters: Pune\n",
      "Stage: Series A\n",
      "What it does: OneScore app is built by FPL - Free credit scoring and monitoring\n",
      "---\n",
      "Company Brand: Masai School\n",
      "Headquarters: Bangalore\n",
      "Stage: Series A\n",
      "What it does: It trains tech aspirants in full stack wed and android development\n",
      "---\n",
      "Company Brand: Lendingkart\n",
      "Headquarters: Ahmedabad\n",
      "Stage: Series D\n",
      "What it does: Provides working capital loans and business loans to MSMEs\n",
      "---\n",
      "Company Brand: Grayquest\n",
      "Headquarters: Mumbai\n",
      "Stage: Pre Series A\n",
      "What it does: Enables parents to pay their annual education fees in up to 12 monthly installments\n",
      "---\n",
      "Company Brand: Citycash\n",
      "Headquarters: Mumbai\n",
      "Stage: Seed round\n",
      "What it does: Focusses on creating a transit led micro-payments ecosystem\n",
      "---\n",
      "Company Brand: Hungerbox\n",
      "Headquarters: Bangalore\n",
      "Stage: Series C\n",
      "What it does: Offers B2B tech platform to corporates, aimed at improving the operations of their cafeterias\n",
      "---\n",
      "Company Brand: Eduvanz\n",
      "Headquarters: Mumbai\n",
      "Stage: Series A\n",
      "What it does: Digital finance NBFC that provides affordable education loans\n",
      "---\n",
      "Company Brand: Ziploan\n",
      "Headquarters: Delhi\n",
      "Stage: Seed\n",
      "What it does: Provides loans to MSMEs\n",
      "---\n",
      "Company Brand: Bigspoon Foods\n",
      "Headquarters: Ahmedabad\n",
      "Stage: Pre series A\n",
      "What it does: Cloud kitchen startup\n",
      "---\n",
      "Company Brand: Toppr\n",
      "Headquarters: Mumbai\n",
      "Stage: Series D\n",
      "What it does: It provides AI-based after school learning app for K12\n",
      "---\n",
      "Company Brand: Pickright Technologies\n",
      "Headquarters: Bangalore\n",
      "Stage: Seed Round\n",
      "What it does: Marketplace for stock market investors and advisors\n",
      "---\n",
      "Company Brand: Satya Microcapital\n",
      "Headquarters: Delhi\n",
      "Stage: Pre series A\n",
      "What it does: Microfinance company that offers collateral-free credit to micro enterprises\n",
      "---\n",
      "Company Brand: Entri\n",
      "Headquarters: Kochi\n",
      "Stage: Pre series A\n",
      "What it does: Local language learning startup\n",
      "---\n",
      "Company Brand: Snack Amor\n",
      "Headquarters: Mumbai\n",
      "Stage: Seed Round\n",
      "What it does: Healthy snack startup\n",
      "---\n",
      "Company Brand: Mpowered\n",
      "Headquarters: Gurugram\n",
      "Stage: Pre series A\n",
      "What it does: Asset Management Solutions\n",
      "---\n",
      "Company Brand: Finn\n",
      "Headquarters: Bangalore\n",
      "Stage: Pre series A\n",
      "What it does: Neobanking startup that digitises all banking transactions\n",
      "---\n",
      "Company Brand: Inurture\n",
      "Headquarters: Bangalore\n",
      "Stage: Series B\n",
      "What it does: It provides a conducive and healthy teaching, learning environment\n",
      "---\n",
      "Company Brand: Vedantu\n",
      "Headquarters: Bangalore\n",
      "Stage: Series D\n",
      "What it does: Onine learning platform\n",
      "---\n",
      "Company Brand: Crio\n",
      "Headquarters: Bangalore\n",
      "Stage: Seed\n",
      "What it does: A learning platform for developers\n",
      "---\n",
      "Company Brand: Ufony Services Pvt Ltd\n",
      "Headquarters: Pune\n",
      "Stage: Series A\n",
      "What it does: School Diary, a platform that brings education to smartphones\n",
      "---\n",
      "Company Brand: Uable\n",
      "Headquarters: Bangalore\n",
      "Stage: Seed Round\n",
      "What it does: Online life skills development platform for children\n",
      "---\n",
      "Company Brand: Piggy Ride\n",
      "Headquarters: Bangalore\n",
      "Stage: Pre series A\n",
      "What it does: Offers parents and kids, a platform to browse and book extracurricular interest-based activities\n",
      "---\n",
      "Company Brand: Cuemath\n",
      "Headquarters: Bangalore\n",
      "Stage: Series B\n",
      "What it does: It helps students to learn math online\n",
      "---\n",
      "Company Brand: Edhusk\n",
      "Headquarters: Jaipur\n",
      "Stage: Seed Round\n",
      "What it does: Provieds personalised learning to students by leveraging technology-driven models\n",
      "---\n",
      "Company Brand: Decentro\n",
      "Headquarters: Bangalore\n",
      "Stage: Series A\n",
      "What it does: Automated API-based platform that enables financial integrations.\n",
      "---\n",
      "Company Brand: Aye Finance\n",
      "Headquarters: Gurugram\n",
      "Stage: Series E\n",
      "What it does: A finance lender to SMEs\n",
      "---\n",
      "Company Brand: Ken42\n",
      "Headquarters: Bangalore\n",
      "Stage: Pre series A\n",
      "What it does: A platform that caters to evolving needs of institutions\n",
      "---\n",
      "Company Brand: Flinto\n",
      "Headquarters: Chennai\n",
      "Stage: Pre series B\n",
      "What it does: It is an educational subscription-box focussed at activity-based learning for the ages 2-12\n",
      "---\n",
      "Company Brand: Chitmonks\n",
      "Headquarters: Hyderabad\n",
      "Stage: Pre series A\n",
      "What it does: Offers enterprise private platform for chit fund firms\n",
      "---\n",
      "Company Brand: Walrus\n",
      "Headquarters: Bangalore\n",
      "Stage: Pre-Seed\n",
      "What it does: It provides banking solutions for teens and young adults\n",
      "---\n",
      "Company Brand: Godutch\n",
      "Headquarters: Mumbai\n",
      "Stage: Seed Round\n",
      "What it does: Group Payments platform\n",
      "---\n",
      "Company Brand: Byju'S\n",
      "Headquarters: Bangalore\n",
      "Stage: Seed\n",
      "What it does: Provides online learning classes\n",
      "---\n",
      "Company Brand: Slice\n",
      "Headquarters: Bangalore\n",
      "Stage: Pre series B\n",
      "What it does: A financial platform for youngsters\n",
      "---\n",
      "Company Brand: Aye Finance\n",
      "Headquarters: Gurugram\n",
      "Stage: Series E\n",
      "What it does: A finance lender to SMEs\n",
      "---\n",
      "Company Brand: Instasolv\n",
      "Headquarters: Noida\n",
      "Stage: Pre series A\n",
      "What it does: It is a doubt-solving app for students from Class 6 to 12\n",
      "---\n",
      "Company Brand: Goldenpi\n",
      "Headquarters: Bangalore\n",
      "Stage: Series A\n",
      "What it does: An online aggregator of bonds and debentures available in the secondary market\n",
      "---\n",
      "Company Brand: Jai Kisan\n",
      "Headquarters: Mumbai\n",
      "Stage: Pre series A\n",
      "What it does: A platform that caters the need of customers in rural areas\n",
      "---\n",
      "Company Brand: Edvizo\n",
      "Headquarters: Bangalore\n",
      "Stage: Seed Round\n",
      "What it does: Online marketplace to search, compare and enrol in the best institutes for competitive exam preparation\n",
      "---\n",
      "Company Brand: Servify\n",
      "Headquarters: Mumbai\n",
      "Stage: Series C\n",
      "What it does: Operates device management and support platform\n",
      "---\n",
      "Company Brand: Innoviti\n",
      "Headquarters: Bangalore\n",
      "Stage: Series C\n",
      "What it does: Digital payments solutions company\n",
      "---\n",
      "Company Brand: Inurture Education\n",
      "Headquarters: Noida\n",
      "Stage: Series A\n",
      "What it does: It provides a conducive and healthy teaching, learning environment\n",
      "---\n",
      "Company Brand: Timios\n",
      "Headquarters: Bangalore\n",
      "Stage: Pre series A\n",
      "What it does: Provides healthy snacks for kids\n",
      "---\n",
      "Company Brand: Bankbazaar\n",
      "Headquarters: Chennai\n",
      "Stage: Series D1\n",
      "What it does: Online marketplace that gives customers instant customised offers on loans and credit cards\n",
      "---\n",
      "Company Brand: Cube Wealth\n",
      "Headquarters: Mumbai\n",
      "Stage: Mid series\n",
      "What it does: A digital wealth management services\n",
      "---\n",
      "Company Brand: Hoi Foods\n",
      "Headquarters: Delhi\n",
      "Stage: Pre series A\n",
      "What it does: Quality food solution\n",
      "---\n",
      "Company Brand: Ola Financial Services\n",
      "Headquarters: Bangalore\n",
      "Stage: Series A\n",
      "What it does: It operates Ola Money\n",
      "---\n",
      "Company Brand: Swiflearn\n",
      "Headquarters: Gurugram\n",
      "Stage: Seed Round\n",
      "What it does: Learning platform for K-10 students looking for personalised learning\n",
      "---\n",
      "Company Brand: Homecapital\n",
      "Headquarters: Mumbai\n",
      "Stage: Series C\n",
      "What it does: Home Down Payment Assistance Program\n",
      "---\n",
      "Company Brand: Credit Mantri\n",
      "Headquarters: Chennai\n",
      "Stage: Series B\n",
      "What it does: Offers free credit score and a detailed credit analysis report\n",
      "---\n",
      "Company Brand: Xtracap\n",
      "Headquarters: Gurugram\n",
      "Stage: Seed\n",
      "What it does: Offers online payment solution,schemes, order management, insurance etc.,\n",
      "---\n",
      "Company Brand: Khatabook\n",
      "Headquarters: Bangalore\n",
      "Stage: Series B\n",
      "What it does: It helps SMEs to maintain their accounts and ledger online.\n",
      "---\n",
      "Company Brand: Lendingkart\n",
      "Headquarters: Ahmedabad\n",
      "Stage: Series D\n",
      "What it does: Provides working capital loans and business loans to MSMEs\n",
      "---\n",
      "Company Brand: Illumnus\n",
      "Headquarters: Hyderabad\n",
      "Stage: Seed Round\n",
      "What it does: Offers Collaborative learning management system for educational institutions\n",
      "---\n",
      "Company Brand: Winuall\n",
      "Headquarters: Bangalore\n",
      "Stage: Series C\n",
      "What it does: It helps coaching institutes in digitization\n",
      "---\n",
      "Company Brand: Indian School Finance Company\n",
      "Headquarters: Hyderabad\n",
      "Stage: Seed Round\n",
      "What it does: NBFC that provides funding to education system\n",
      "---\n",
      "Company Brand: Juicy Chemistry\n",
      "Headquarters: Indore\n",
      "Stage: Series A\n",
      "What it does: It focuses on organic based skincare products\n",
      "---\n",
      "Company Brand: Sindhuja Microcredit\n",
      "Headquarters: Noida\n",
      "Stage: Series C\n",
      "What it does: It provides financial services to self employed women entrepreneurs\n",
      "---\n",
      "Company Brand: Sirionlabs\n",
      "Headquarters: Gurugram\n",
      "Stage: Series C\n",
      "What it does: Provides procurement, outsourcing services & contract management software\n",
      "---\n",
      "Company Brand: Refrens\n",
      "Headquarters: Bangalore\n",
      "Stage: Seed Round\n",
      "What it does: Offers a free invoicing, payments and expense management system\n",
      "---\n",
      "Company Brand: Nium\n",
      "Headquarters: Thane\n",
      "Stage: Series A\n",
      "What it does: Open global money platform\n",
      "---\n",
      "Company Brand: Mintoak\n",
      "Headquarters: Mumbai\n",
      "Stage: Pre series A\n",
      "What it does: Merchant payment solutions startup\n",
      "---\n",
      "Company Brand: Varthana\n",
      "Headquarters: Bangalore\n",
      "Stage: Series D\n",
      "What it does: Offers secured and unsecured loans\n",
      "---\n",
      "Company Brand: Codeninja\n",
      "Headquarters: Bangalore\n",
      "Stage: Seed Round\n",
      "What it does: AI-powered 'no-code' platform which can generate application development code\n",
      "---\n",
      "Company Brand: Servify\n",
      "Headquarters: Mumbai\n",
      "Stage: Series A\n",
      "What it does: It is a technology company which serves as a platform for brands to offer end-to-end solutions to their users\n",
      "---\n",
      "Company Brand: Pedagogy\n",
      "Headquarters: Gurgaon\n",
      "Stage: Series B\n",
      "What it does: It has a single subscription model that allows users to access books and digital courses.\n",
      "---\n",
      "Company Brand: Classplus\n",
      "Headquarters: Delhi\n",
      "Stage: Series B\n",
      "What it does: It provides mobile-first software for coaching institutes, tuition centres and private tutors\n",
      "---\n",
      "Company Brand: Qin1\n",
      "Headquarters: Noida\n",
      "Stage: Pre series A\n",
      "What it does: It is alearning platform for kids in the age group 5 to 14 yrs\n",
      "---\n",
      "Company Brand: Nira\n",
      "Headquarters: Pune\n",
      "Stage: Pre series A\n",
      "What it does: It offers access and credit to working Indians\n",
      "---\n",
      "Company Brand: Finaureus Technologies\n",
      "Headquarters: Pune\n",
      "Stage: Pre series A\n",
      "What it does: Provides investment management solutions\n",
      "---\n",
      "Company Brand: Guvi Geek Network Pvt Ltd\n",
      "Headquarters: Chennai\n",
      "Stage: Pre series A\n",
      "What it does: Operates vernacular-language based education\n",
      "---\n",
      "Company Brand: Vedantu\n",
      "Headquarters: Bangalore\n",
      "Stage: Series C\n",
      "What it does: Onine learning platform\n",
      "---\n",
      "Company Brand: Yap\n",
      "Headquarters: Chennai\n",
      "Stage: Series A\n",
      "What it does: Banking and payment products-focused API platform\n",
      "---\n",
      "Company Brand: Pariksha\n",
      "Headquarters: Pune\n",
      "Stage: Pre series A\n",
      "What it does: Platform for vernacular test-preparation\n",
      "---\n",
      "Company Brand: Box8\n",
      "Headquarters: Mumbai\n",
      "Stage: Series A\n",
      "What it does: Enables to order food online\n",
      "---\n",
      "Company Brand: Capital Float\n",
      "Headquarters: Bangalore\n",
      "Stage: Pre series A\n",
      "What it does: Online platform that provides working capital finance to SMEs\n",
      "---\n",
      "Company Brand: Aavenir\n",
      "Headquarters: Ahmedabad\n",
      "Stage: Seed Round\n",
      "What it does: Source-to-Pay Software\n",
      "---\n",
      "Company Brand: Setu\n",
      "Headquarters: Thane\n",
      "Stage: Series A\n",
      "What it does: Offers open APIs across four categories: bills, savings, credit, and payments.\n",
      "---\n",
      "Company Brand: Bankbazaar\n",
      "Headquarters: Chennai\n",
      "Stage: Series D\n",
      "What it does: Online marketplace that gives customers instant customised offers on loans and credit cards\n",
      "---\n",
      "Company Brand: Capital Float\n",
      "Headquarters: Bangalore\n",
      "Stage: Series F\n",
      "What it does: Online platform that provides working capital finance to SMEs\n",
      "---\n",
      "Company Brand: Amica\n",
      "Headquarters: Gujarat\n",
      "Stage: Series C\n",
      "What it does: Neobanking startup\n",
      "---\n",
      "Company Brand: Vedantu\n",
      "Headquarters: Bangalore\n",
      "Stage: Series C\n",
      "What it does: Onine learning platform\n",
      "---\n",
      "Company Brand: Lido Learning\n",
      "Headquarters: Mumbai\n",
      "Stage: Series B\n",
      "What it does: Online teaching service\n",
      "---\n",
      "Company Brand: Aye Finance\n",
      "Headquarters: Gurugram\n",
      "Stage: Series C\n",
      "What it does: A finance lender to SMEs\n",
      "---\n",
      "Company Brand: Swiggy\n",
      "Headquarters: Bangalore\n",
      "Stage: Series A\n",
      "What it does: Platform to order food online from restaurants and getting it delievered\n",
      "---\n",
      "Company Brand: Zomato\n",
      "Headquarters: Gurugram\n",
      "Stage: Pre series A\n",
      "What it does: Online food delivery and restaurant discovery platform\n",
      "---\n",
      "Company Brand: Juspay\n",
      "Headquarters: Bangalore\n",
      "Stage: Series B\n",
      "What it does: Online payment solutions\n",
      "---\n",
      "Company Brand: Fingpay\n",
      "Headquarters: Mumbai\n",
      "Stage: Series A\n",
      "What it does: Provides payment solutions\n",
      "---\n",
      "Company Brand: Recko\n",
      "Headquarters: Bangalore\n",
      "Stage: Series A\n",
      "What it does: The platform enables AI-powered reconciliation of digital transactions\n",
      "---\n",
      "Company Brand: Mera Cashier\n",
      "Headquarters: Noida\n",
      "Stage: Series A\n",
      "What it does: App meant for small and micro businessmen to manage their transactions digitally\n",
      "---\n",
      "Company Brand: Camp K12\n",
      "Headquarters: Gurugram\n",
      "Stage: Seed Round\n",
      "What it does: It connects students with tutors online\n",
      "---\n",
      "Company Brand: Lido Learning\n",
      "Headquarters: Mumbai\n",
      "Stage: Seed\n",
      "What it does: Online teaching service\n",
      "---\n",
      "Company Brand: Nimesa\n",
      "Headquarters: Bangalore\n",
      "Stage: Series C\n",
      "What it does: Cloud data managemnt solutions enterprise\n",
      "---\n",
      "Company Brand: Rupifi\n",
      "Headquarters: Bangalore\n",
      "Stage: Pre seed round\n",
      "What it does: Offers financial products for SMEs\n",
      "---\n",
      "Company Brand: Coindcx\n",
      "Headquarters: Kochi\n",
      "Stage: Series A\n",
      "What it does: A cryptocurrency trading platform\n",
      "---\n",
      "Company Brand: Univariety\n",
      "Headquarters: Hyderabad\n",
      "Stage: Seed Round\n",
      "What it does: Online marketplace that provides career counselling and college guidance\n",
      "---\n",
      "Company Brand: Peel Works\n",
      "Headquarters: Mumbai\n",
      "Stage: Series C, D\n",
      "What it does: E-commerce for corner/retail stores.\n",
      "---\n",
      "Company Brand: Vivriti Capital\n",
      "Headquarters: Chennai\n",
      "Stage: Series B\n",
      "What it does: Digital lending startup\n",
      "---\n",
      "Company Brand: Fintso\n",
      "Headquarters: California\n",
      "Stage: Series C\n",
      "What it does: Wealth management platform\n",
      "---\n",
      "Company Brand: Khatabook\n",
      "Headquarters: Bangalore\n",
      "Stage: Seed Round\n",
      "What it does: It helps SMEs to maintain their accounts and ledger online.\n",
      "---\n",
      "Company Brand: Smart Coin\n",
      "Headquarters: Haryana\n",
      "Stage: Series A\n",
      "What it does: Consumer lending startup\n",
      "---\n",
      "Company Brand: Collegekhabri\n",
      "Headquarters: Bhopal\n",
      "Stage: Seed Round\n",
      "What it does: Platform is an end-to-end college and career counselling platform for students\n",
      "---\n",
      "Company Brand: Fampay\n",
      "Headquarters: Bangalore\n",
      "Stage: Seed Round\n",
      "What it does: It allows parents to send money to their kids below the age of 18, which they can spend securely under parent supervision.\n",
      "---\n",
      "Company Brand: Karbon Card\n",
      "Headquarters: Bangalore\n",
      "Stage: Seed Round\n",
      "What it does: Specialisde corporate cards for startups\n",
      "---\n",
      "Company Brand: Innerchef\n",
      "Headquarters: Gurgaon\n",
      "Stage: Pre series A\n",
      "What it does: Cloud kitchen platform\n",
      "---\n",
      "Company Brand: Callido Learning\n",
      "Headquarters: Mumbai\n",
      "Stage: Seed\n",
      "What it does: Provides a structured educational approach to critical thinking and problem solving skills\n",
      "---\n",
      "Company Brand: Leap Finance\n",
      "Headquarters: Bangalore\n",
      "Stage: Seed Round\n",
      "What it does: Provides education loans to students based on the student’s future income\n",
      "---\n",
      "Company Brand: Chqbook\n",
      "Headquarters: Gurugram\n",
      "Stage: Series A\n",
      "What it does: Marketplace for small business owners, offering them products around lending, credit cards etc\n",
      "---\n",
      "Company Brand: Smecorner\n",
      "Headquarters: Mumbai\n",
      "Stage: Series B\n",
      "What it does: Financial lending firm to SMEs\n",
      "---\n",
      "Company Brand: Oda Class\n",
      "Headquarters: Bangalore\n",
      "Stage: Pre series A\n",
      "What it does: It offers content and material via video, adopting a dual-teacher model with IIT and NIT alumni\n",
      "---\n",
      "Company Brand: Umeed Housing\n",
      "Headquarters: Haryana\n",
      "Stage: Series D\n",
      "What it does: Housing finance company\n",
      "---\n",
      "Company Brand: Phoneparloan\n",
      "Headquarters: Delhi\n",
      "Stage: Series C\n",
      "What it does: Provides easy loans\n",
      "---\n",
      "Company Brand: Rupeek\n",
      "Headquarters: Bangalore\n",
      "Stage: Pre series A\n",
      "What it does: An asset backed online lending platform\n",
      "---\n",
      "Company Brand: Bharatpe\n",
      "Headquarters: Delhi\n",
      "Stage: Series C\n",
      "What it does: Digital payments platform\n",
      "---\n",
      "Company Brand: Avalonmeta\n",
      "Headquarters: Mumbai\n",
      "Stage: Series C\n",
      "What it does: It combines higher education and competitive gaming\n",
      "---\n",
      "Company Brand: Prayaan Capital\n",
      "Headquarters: Chennai\n",
      "Stage: Seed Round\n",
      "What it does: NBFC that lends to micro, small, and medium-sized enterprises (MSMEs)\n",
      "---\n",
      "Company Brand: Go Desi\n",
      "Headquarters: Delhi\n",
      "Stage: Seed Round\n",
      "What it does: Provides traditional delicacies\n",
      "---\n",
      "Company Brand: Swiggy\n",
      "Headquarters: Bangalore\n",
      "Stage: Series A\n",
      "What it does: Platform to order food online from restaurants and getting it delievered\n",
      "---\n",
      "Company Brand: Whatfix\n",
      "Headquarters: Banglore\n",
      "Stage: Series C\n",
      "What it does: Digital adoption platform that helps companies provide intuitive onboarding, training and support\n",
      "---\n",
      "Company Brand: Unacademy\n",
      "Headquarters: Bangalore\n",
      "Stage: Series E\n",
      "What it does: Platform that offers online education in India\n",
      "---\n",
      "Company Brand: Genius Corner\n",
      "Headquarters: Noida\n",
      "Stage: Seed\n",
      "What it does: Framework to enable personalised learning using artificial intelligence (AI) and machine learning (ML).\n",
      "---\n",
      "Company Brand: Planetspark\n",
      "Headquarters: Gurugram\n",
      "Stage: Series C\n",
      "What it does: Provides neighbourhood learning zones where children learn and develop 'new-age' skills under one roof\n",
      "---\n",
      "Company Brand: Classmonitor\n",
      "Headquarters: Indore\n",
      "Stage: Seed\n",
      "What it does: The learning platform that blends curriculum-based activities for children\n",
      "---\n",
      "Company Brand: Cyfirma\n",
      "Headquarters: Bangalore\n",
      "Stage: Series A\n",
      "What it does: Offer cybersecurity services\n",
      "---\n",
      "Company Brand: Innoviti\n",
      "Headquarters: Bangalore\n",
      "Stage: Series B\n",
      "What it does: Digital payments solutions company\n",
      "---\n",
      "Company Brand: Paytm Money\n",
      "Headquarters: Bangalore\n",
      "Stage: Series C\n",
      "What it does: Wealth Management\n",
      "---\n",
      "Company Brand: Vedantu\n",
      "Headquarters: Bangalore\n",
      "Stage: Series C\n",
      "What it does: Onine learning platform\n",
      "---\n",
      "Company Brand: Yap\n",
      "Headquarters: Chennai\n",
      "Stage: Seed\n",
      "What it does: Banking and payment products-focused API platform\n",
      "---\n",
      "Company Brand: Nova Credit\n",
      "Headquarters: Singapore\n",
      "Stage: Series B\n",
      "What it does: Cross-border consumer credit startup\n",
      "---\n",
      "Company Brand: Codingninjas\n",
      "Headquarters: Delhi\n",
      "Stage: Series A\n",
      "What it does: Online learning platform\n",
      "---\n",
      "Company Brand: Classplus\n",
      "Headquarters: Noida\n",
      "Stage: Pre series A\n",
      "What it does: It allows coaching centres to take their brick-and-mortar setup online\n",
      "---\n",
      "Company Brand: Petpooja\n",
      "Headquarters: Ahmedabad\n",
      "Stage: Seed\n",
      "What it does: Restaurant management software provider\n",
      "---\n",
      "Company Brand: Byju\n",
      "Headquarters: Chennai\n",
      "Stage: Seed\n",
      "What it does: Provides online learning classes\n",
      "---\n",
      "Company Brand: Neetprep\n",
      "Headquarters: Delhi\n",
      "Stage: Series B\n",
      "What it does: Provides crash course for NEET preparation\n",
      "---\n",
      "Company Brand: Dot Pvt. Ltd\n",
      "Headquarters: Gurugram\n",
      "Stage: Seed Round\n",
      "What it does: It provides digital transformation and commerce solutions to brick and mortar outlets\n",
      "---\n",
      "Company Brand: Supermoney\n",
      "Headquarters: Mumbai\n",
      "Stage: Pre series A\n",
      "What it does: Provides financial tools for effective business making\n",
      "---\n",
      "Company Brand: Fox Capital\n",
      "Headquarters: Jaipur\n",
      "Stage: Series A\n",
      "What it does: Digital lending startup\n",
      "---\n",
      "Company Brand: Fleetx\n",
      "Headquarters: Hyderabad\n",
      "Stage: Series A\n",
      "What it does: Fleet management and predictive analytics platform\n",
      "---\n",
      "Company Brand: Embibe\n",
      "Headquarters: Mumbai\n",
      "Stage: Pre series A\n",
      "What it does: It provides AI-based data analytics to personalise learning outcomes\n",
      "---\n",
      "Company Brand: Entri\n",
      "Headquarters: Kochi\n",
      "Stage: Seed Round\n",
      "What it does: It is a app that provides different types of learning content in local languages\n",
      "---\n",
      "Company Brand: Seal Professional\n",
      "Headquarters: Bangalore\n",
      "Stage: Pre series A\n",
      "What it does: Trains students in managemnt and leadership skills and also helps in placement\n",
      "---\n",
      "Company Brand: Aagey\n",
      "Headquarters: Bangalore\n",
      "Stage: Seed\n",
      "What it does: Provides financial assistance to MSMEs\n",
      "---\n",
      "Company Brand: Doubtnut\n",
      "Headquarters: Gurugram\n",
      "Stage: Series A\n",
      "What it does: Multi-lingual digital solutions platform for students\n",
      "---\n",
      "Company Brand: Bharatpe\n",
      "Headquarters: Delhi\n",
      "Stage: Series A\n",
      "What it does: Digital payments platform\n",
      "---\n",
      "Company Brand: Unotech\n",
      "Headquarters: Mumbai\n",
      "Stage: Pre series A\n",
      "What it does: It develops fully-customisable open source software\n",
      "---\n",
      "Company Brand: Wizklub\n",
      "Headquarters: Bangalore\n",
      "Stage: Seed Funding\n",
      "What it does: Helps students solve problems at complex level\n",
      "---\n",
      "Company Brand: Interviewbit\n",
      "Headquarters: Pune\n",
      "Stage: Series A\n",
      "What it does: Platform that provides coding and interview preparation course by industry professionals from tech companies\n",
      "---\n",
      "Company Brand: Moneytap\n",
      "Headquarters: Singapore\n",
      "Stage: Series B\n",
      "What it does: App-based consumer credit line that gives customers access to credit on tap.\n",
      "---\n",
      "Company Brand: Uniplatform Tech\n",
      "Headquarters: Delhi\n",
      "Stage: Pre series A\n",
      "What it does: Runs real estate SaaS platform MultiplyMyLeads.com.\n",
      "---\n",
      "Company Brand: Indwealth\n",
      "Headquarters: Gurugram\n",
      "Stage: Series C\n",
      "What it does: An Artificial Intelligence and Machine learning based wealth management platform\n",
      "---\n",
      "Company Brand: Appsflyer\n",
      "Headquarters: Bangalore\n",
      "Stage: Series D\n",
      "What it does: Mobile marketing analytics and attribution platform\n",
      "---\n",
      "Company Brand: Getvantage\n",
      "Headquarters: Mumbai\n",
      "Stage: Seed Round\n",
      "What it does: Revenue based finance provider\n",
      "---\n",
      "Company Brand: Konfinity\n",
      "Headquarters: Noida\n",
      "Stage: Series A\n",
      "What it does: Provides online coding courses\n",
      "---\n",
      "Company Brand: Pine Labs\n",
      "Headquarters: Noida\n",
      "Stage: Series C\n",
      "What it does: Retail payment and hardware company\n",
      "---\n",
      "Company Brand: Instoried\n",
      "Headquarters: Delhi\n",
      "Stage: Series C\n",
      "What it does: Augmented writing platform which improves customer interest and engagement.\n",
      "---\n",
      "Company Brand: Eupheus Learning\n",
      "Headquarters: New Delhi\n",
      "Stage: Series A\n",
      "What it does: Provides technology-led, subscription-based learning solutions to schools\n",
      "---\n",
      "Company Brand: Smartkarrot\n",
      "Headquarters: Noida\n",
      "Stage: Seed\n",
      "What it does: It tracks customers’ real-time digital behaviour\n",
      "---\n",
      "Company Brand: Mera Cashier\n",
      "Headquarters: Noida\n",
      "Stage: Seed Round\n",
      "What it does: App meant for small and micro businessmen to manage their transactions digitally\n",
      "---\n",
      "Company Brand: Samya Ai\n",
      "Headquarters: Pune\n",
      "Stage: Seed Round\n",
      "What it does: Revenue growth AI startup in the consumer packed goods (CPG) space\n",
      "---\n",
      "Company Brand: Monech\n",
      "Headquarters: Mumbai\n",
      "Stage: Seed Round\n",
      "What it does: Automated platform which will help users to take their financial decisions\n",
      "---\n",
      "Company Brand: Teach Us\n",
      "Headquarters: Chennai\n",
      "Stage: Seed Round\n",
      "What it does: Educational portal which enables the students to access information related to education at one common platform\n",
      "---\n",
      "Company Brand: Extra Edge\n",
      "Headquarters: Pune\n",
      "Stage: Pre Series A\n",
      "What it does: Admission Marketing Automation software for the education industry\n",
      "---\n",
      "Company Brand: Capital Quotient\n",
      "Headquarters: Bangalore\n",
      "Stage: Seed\n",
      "What it does: Investment advisor\n",
      "---\n",
      "Company Brand: Toddle\n",
      "Headquarters: Bengaluru\n",
      "Stage: Series B\n",
      "What it does: Collaboration and productivity platform for teachers across the world\n",
      "---\n",
      "Company Brand: Capital Float\n",
      "Headquarters: Bangalore\n",
      "Stage: Pre series A\n",
      "What it does: Digital lending\n",
      "---\n",
      "Company Brand: Klub\n",
      "Headquarters: Haryana\n",
      "Stage: Pre seed round\n",
      "What it does: Provides growth financing to high-affinity brands\n",
      "---\n",
      "Company Brand: Harappa Education\n",
      "Headquarters: New Delhi\n",
      "Stage: Series A\n",
      "What it does: Provides online courses on foundational skills\n",
      "---\n",
      "Company Brand: Rheo\n",
      "Headquarters: Pune\n",
      "Stage: Series B\n",
      "What it does: Online e-sports streaming and community platform\n",
      "---\n",
      "Company Brand: Paymart\n",
      "Headquarters: Chandigarh\n",
      "Stage: Pre series A\n",
      "What it does: Provides cardless cash withdrawals through small merchants shops\n",
      "---\n",
      "Company Brand: Testbook\n",
      "Headquarters: Singapore\n",
      "Stage: Series B\n",
      "What it does: Helps students prepare online for competitive exams\n",
      "---\n",
      "Company Brand: Zomato\n",
      "Headquarters: Gurgaon\n",
      "Stage: Series B\n",
      "What it does: Online food delivery and restaurant discovery platform\n",
      "---\n",
      "Company Brand: Byju\n",
      "Headquarters: Indore\n",
      "Stage: Seed\n",
      "What it does: Provides online learning classes\n",
      "---\n",
      "Company Brand: Highradius\n",
      "Headquarters: Hyderabad\n",
      "Stage: Series B\n",
      "What it does: An AI-based platform, to automate accounts receivables and treasury processes.\n",
      "---\n",
      "Company Brand: Buildpan\n",
      "Headquarters: Indore\n",
      "Stage: Seed Round\n",
      "What it does: It helps developers to test, integrate and deploy apps\n",
      "---\n",
      "Company Brand: Shiksha\n",
      "Headquarters: Indore\n",
      "Stage: Seed Round\n",
      "What it does: It makes college selection easy for students looking to pursue UG and PG courses in India and abroad\n",
      "---\n",
      "Company Brand: Satin Creditcare\n",
      "Headquarters: Gurgaon\n",
      "Stage: Series C\n",
      "What it does: A micro finance company\n",
      "---\n",
      "Company Brand: Wealth Bucket\n",
      "Headquarters: Delhi\n",
      "Stage: Pre series A\n",
      "What it does: An online platform for mutual fund investments\n",
      "---\n",
      "Company Brand: Leverage Edu\n",
      "Headquarters: Delhi\n",
      "Stage: Seed\n",
      "What it does: AI enabled marketplace that provides career guidance\n",
      "---\n",
      "Company Brand: Epifi\n",
      "Headquarters: Kochi\n",
      "Stage: Seed Round\n",
      "What it does: It offers customers with a single interface for all their financial and banking mandates\n",
      "---\n"
     ]
    }
   ],
   "source": [
    "#  Calculate total funding amount for each sector\n",
    "total_funding_by_sector = df_combined.groupby('Sector')['Amount'].sum().reset_index()\n",
    "\n",
    "# Sort the sectors by total funding amount in descending order\n",
    "total_funding_by_sector = total_funding_by_sector.sort_values('Amount', ascending=False)\n",
    "\n",
    "# Select the top 10 highest-funded sectors\n",
    "top_10_sectors = total_funding_by_sector.head(10)['Sector'].tolist()\n",
    "\n",
    "# Filter the data for the top 10 highest-funded sectors\n",
    "top_funded_startups = df_combined[df_combined['Sector'].isin(top_10_sectors)]\n",
    "\n",
    "# Print the company brand, location, founders, and what they do for the top-funded startups\n",
    "for _, row in top_funded_startups.iterrows():\n",
    "    print(f\"Company Brand: {row['Company_Brand']}\")\n",
    "    print(f\"Headquarters: {row['HeadQuarter']}\")\n",
    "    print(f\"Stage: {row['Stage']}\")\n",
    "    print(f\"What it does: {row['What_it_does']}\")\n",
    "    print(\"---\")"
   ]
  },
  {
   "cell_type": "markdown",
   "metadata": {},
   "source": [
    "8.Which Business is more viable to set - The best performing business(s) ? The determinants for our best performing will be determined from the sector that recieved the highest funding Amount and not in debt and exsists in the Stage: Series D onwads."
   ]
  },
  {
   "cell_type": "code",
   "execution_count": 125,
   "metadata": {},
   "outputs": [
    {
     "name": "stdout",
     "output_type": "stream",
     "text": [
      "Best Performing Sector:\n",
      "Sector: E-Market\n",
      "Total Funding Amount: 336000000.0\n",
      "---\n",
      "Sector: Edtech\n",
      "Total Funding Amount: 291761000.0\n",
      "---\n",
      "Sector: Fintech\n",
      "Total Funding Amount: 218492000.0\n",
      "---\n",
      "Sector: Saas\n",
      "Total Funding Amount: 210000000.0\n",
      "---\n",
      "Sector: Automotive And Rentals\n",
      "Total Funding Amount: 202500000.0\n",
      "---\n"
     ]
    }
   ],
   "source": [
    "# Filter out companies that are in debt\n",
    "not_in_debt = df_combined[df_combined['Stage'] != 'Debt']\n",
    "\n",
    "# Filter out companies that are in Series D or later stages\n",
    "series_d_or_later = not_in_debt[not_in_debt['Stage'].isin(['Series D', 'Series E', 'Series F', 'Series G', 'Series H', 'Series I'])]\n",
    "\n",
    "# Calculate total funding amount for each sector\n",
    "total_funding_by_sector = series_d_or_later.groupby('Sector')['Amount'].sum().reset_index()\n",
    "\n",
    "# Sort the sector by total funding amount in descending order\n",
    "total_funding_by_sector = total_funding_by_sector.sort_values('Amount', ascending=False)\n",
    "\n",
    "# Select the top company (or companies) with the highest funding amount\n",
    "top_funded_sector = total_funding_by_sector.head()\n",
    "\n",
    "# Print the top funded sector \n",
    "print(\"Best Performing Sector:\")\n",
    "for _, row in top_funded_sector.iterrows():\n",
    "    print(f\"Sector: {row['Sector']}\")\n",
    "    print(f\"Total Funding Amount: {row['Amount']}\")\n",
    "    print(\"---\")"
   ]
  },
  {
   "cell_type": "code",
   "execution_count": null,
   "metadata": {},
   "outputs": [],
   "source": []
  },
  {
   "cell_type": "code",
   "execution_count": 126,
   "metadata": {},
   "outputs": [],
   "source": [
    "# Load the csv into a dataframe\n",
    "\n",
    "df_combined.to_csv('clean_combined_LP1dataset.csv', index= False)"
   ]
  }
 ],
 "metadata": {
  "kernelspec": {
   "display_name": "Python 3",
   "language": "python",
   "name": "python3"
  },
  "language_info": {
   "codemirror_mode": {
    "name": "ipython",
    "version": 3
   },
   "file_extension": ".py",
   "mimetype": "text/x-python",
   "name": "python",
   "nbconvert_exporter": "python",
   "pygments_lexer": "ipython3",
   "version": "3.10.11"
  }
 },
 "nbformat": 4,
 "nbformat_minor": 2
}
