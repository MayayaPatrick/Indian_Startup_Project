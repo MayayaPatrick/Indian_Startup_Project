{
 "cells": [
  {
   "cell_type": "markdown",
   "metadata": {},
   "source": [
    "BUSINESS UNDERSTANDING Our team is exploring the indian startup ecosystem to understand trends and identify promising opportunities. the goal is to analyze fundig data from 2018 to 2021, focusing on key factors such as the amount of funding received, sectors, stages of investiment, and geographic location\n",
    "\n",
    "HYPOTHESIS TESTING \n",
    "\n",
    "Null Hypothesis(H0): There is no significant difference in the amount of funding received by startups accross different sectors and stages.\n",
    "\n",
    "Alternative Hypothesis(H1): There is a significant difference in the amount of funding received by startups accross different sectors and stages.\n",
    "\n",
    "DATA UNDERSTANDING COLUMNS \n",
    "\n",
    "Campany_Brand: Name of the startup.\n",
    "\n",
    "founded: year the startup was founded.\n",
    "\n",
    "HeadQuarter:city where the startup is headquarted.Sector, industry sector of the startup . \n",
    "\n",
    "What it does: Brief description of the startup's business.\n",
    "\n",
    "Founders: Names of the founders.\n",
    "\n",
    "Investors: investors or invest firls that funded the startup.\n",
    "\n",
    "Amount: Amount of funding received (in dollars).\n",
    "\n",
    "Stage: Stage of investment(eg., Pre-seed,Seed, SeriesA)\n"
   ]
  },
  {
   "cell_type": "markdown",
   "metadata": {},
   "source": [
    "ANALYTICAL QUESTIONS\n",
    "   \n",
    "1.Funding Trends: How has the total  funding amount changed over the year from 2018 to 2021?\n",
    "   How has the average funding amount ineach sector changed over the years(2018-2021)\n",
    "\n",
    "2.Sector Analysis: Which Sectors have received the most funding, and how does the funding distribution vary across Sectors?\n",
    "\n",
    "3.Stage Analysis: What is the distribution of funding accross different investment stages(e.g., Pre_Sees, Seed, Series A)?\n",
    "\n",
    "4.Geographical Analysis: Which cities or regions have the highest concetration of funded startup?\n",
    "\n",
    "5.Investor influence: Who are the top investors in the indian startup ecosystem, and what is their funding pattern?\n",
    "\n",
    "6.Founder impact: Is there a correlation between number of funders and the amount of funding Received?\n",
    "\n",
    "7.What are the characteristics of startup in the heighest funded sectors(e.g., number of funders, location)?\n",
    "\n",
    "8.Which Business is more vaible to set_ The best performing business? \n"
   ]
  },
  {
   "cell_type": "markdown",
   "metadata": {},
   "source": [
    "INSTALLING ALL PACKAGES NECESSARY"
   ]
  },
  {
   "cell_type": "code",
   "execution_count": 24,
   "metadata": {},
   "outputs": [],
   "source": [
    "# # install packages that would help to pass through the project\n",
    "# %pip install pandas\n",
    "# %pip install pyodbc \n",
    "# %pip install python-dotenv \n",
    "# %pip install openpyxl\n",
    "# %pip install seaborn\n",
    "# %pip install statsmodels\n",
    "# %pip install fuzzywuzzy\n",
    "# %pip install python-Levenshtein\n",
    "# %pip install scikit-learn"
   ]
  },
  {
   "cell_type": "markdown",
   "metadata": {},
   "source": [
    "LOADING PACKAGES"
   ]
  },
  {
   "cell_type": "code",
   "execution_count": 25,
   "metadata": {},
   "outputs": [],
   "source": [
    "import pyodbc #just installed with pip\n",
    "from dotenv import dotenv_values #import the dotenv_values function from the dotenv package\n",
    "import pandas as pd\n",
    "import warnings\n",
    "warnings.filterwarnings('ignore')\n",
    "import numpy as np\n",
    "import statsmodels.api as sm\n",
    "from fuzzywuzzy import process"
   ]
  },
  {
   "cell_type": "markdown",
   "metadata": {},
   "source": [
    "CONNECTING DATABASE AND DIRECTORY"
   ]
  },
  {
   "cell_type": "code",
   "execution_count": 26,
   "metadata": {},
   "outputs": [],
   "source": [
    "# Load environment variables from .env file into a dictionary\n",
    "environment_variables = dotenv_values(r\"G:\\python\\python project\\project\\Indian_Startup_Project\\.env\")\n",
    "\n",
    "# Get the values for the credentials you set in the '.env' file\n",
    "server = environment_variables.get(\"server\")\n",
    "database = environment_variables.get(\"database\")\n",
    "username = environment_variables.get(\"username\")\n",
    "password = environment_variables.get(\"password\")"
   ]
  },
  {
   "cell_type": "code",
   "execution_count": 27,
   "metadata": {},
   "outputs": [],
   "source": [
    "# Create a connection string\n",
    "connection_string = f\"DRIVER={{SQL Server}};SERVER={server};DATABASE={database};UID={username};PWD={password};MARS_Connection=yes;MinProtocolVersion=TLSv1.2;\""
   ]
  },
  {
   "cell_type": "code",
   "execution_count": 28,
   "metadata": {},
   "outputs": [
    {
     "ename": "OperationalError",
     "evalue": "('08001', '[08001] [Microsoft][ODBC SQL Server Driver][DBNETLIB]SQL Server does not exist or access denied. (17) (SQLDriverConnect); [08001] [Microsoft][ODBC SQL Server Driver][DBNETLIB]ConnectionOpen (Connect()). (53); [08001] [Microsoft][ODBC SQL Server Driver]Invalid connection string attribute (0)')",
     "output_type": "error",
     "traceback": [
      "\u001b[1;31m---------------------------------------------------------------------------\u001b[0m",
      "\u001b[1;31mOperationalError\u001b[0m                          Traceback (most recent call last)",
      "Cell \u001b[1;32mIn[28], line 5\u001b[0m\n\u001b[0;32m      1\u001b[0m \u001b[38;5;66;03m# Use the connect method of the pyodbc library and pass in the connection string.\u001b[39;00m\n\u001b[0;32m      2\u001b[0m \u001b[38;5;66;03m# This will connect to the server and might take a few seconds to be complete. \u001b[39;00m\n\u001b[0;32m      3\u001b[0m \u001b[38;5;66;03m# Check your internet connection if it takes more time than necessary\u001b[39;00m\n\u001b[1;32m----> 5\u001b[0m connection \u001b[38;5;241m=\u001b[39m \u001b[43mpyodbc\u001b[49m\u001b[38;5;241;43m.\u001b[39;49m\u001b[43mconnect\u001b[49m\u001b[43m(\u001b[49m\u001b[43mconnection_string\u001b[49m\u001b[43m)\u001b[49m\n",
      "\u001b[1;31mOperationalError\u001b[0m: ('08001', '[08001] [Microsoft][ODBC SQL Server Driver][DBNETLIB]SQL Server does not exist or access denied. (17) (SQLDriverConnect); [08001] [Microsoft][ODBC SQL Server Driver][DBNETLIB]ConnectionOpen (Connect()). (53); [08001] [Microsoft][ODBC SQL Server Driver]Invalid connection string attribute (0)')"
     ]
    }
   ],
   "source": [
    "# Use the connect method of the pyodbc library and pass in the connection string.\n",
    "# This will connect to the server and might take a few seconds to be complete. \n",
    "# Check your internet connection if it takes more time than necessary\n",
    "\n",
    "connection = pyodbc.connect(connection_string)"
   ]
  }
 ],
 "metadata": {
  "kernelspec": {
   "display_name": "Python 3",
   "language": "python",
   "name": "python3"
  },
  "language_info": {
   "codemirror_mode": {
    "name": "ipython",
    "version": 3
   },
   "file_extension": ".py",
   "mimetype": "text/x-python",
   "name": "python",
   "nbconvert_exporter": "python",
   "pygments_lexer": "ipython3",
   "version": "3.10.11"
  }
 },
 "nbformat": 4,
 "nbformat_minor": 2
}
